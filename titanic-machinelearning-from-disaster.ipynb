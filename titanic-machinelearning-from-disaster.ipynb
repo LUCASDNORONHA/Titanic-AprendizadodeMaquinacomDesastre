{
 "cells": [
  {
   "cell_type": "markdown",
   "id": "400602ee",
   "metadata": {
    "papermill": {
     "duration": 0.023577,
     "end_time": "2023-11-03T23:39:13.691849",
     "exception": false,
     "start_time": "2023-11-03T23:39:13.668272",
     "status": "completed"
    },
    "tags": []
   },
   "source": [
    "![Titanic](https://urbanian.mundodeportivo.com/p/943f/11817_este_video_de_3_horas_muestra_en_tiempo_real_el_hundimiento_del_titanic__thumb_fb.jpg?cb=8859627)\n",
    "\n",
    "# Titanic - Aprendizado de Máquina com Desastre\n",
    "\n",
    "O famosa desafio do Titanic do Kaggle, nós propoêm criação de um model de algoritmo de machine learning para prever com alta taxa de acerto, quais passageiros sobreviverão ao naufrágio do Titanic.\n",
    "\n",
    "### História do Titanic:\n",
    "\n",
    "O RMS Titanic foi um dos navios mais famosos e luxuosos já construídos na época. Ele foi projetado como um navio de passageiros de classe mundial e foi construído no início do século 20. O Titanic foi operado pela White Star Line e era aclamado como \"inafundável\" devido ao seu design inovador e tecnologia de segurança.\n",
    "\n",
    "Em sua viagem inaugural, o Titanic partiu de Southampton, Inglaterra, em 10 de abril de 1912, com destino a Nova York. No entanto, em 14 de abril de 1912, o navio colidiu com um iceberg no Atlântico Norte, a cerca de 600 km ao sul da Terra Nova. A colisão danificou seriamente o casco do navio, resultando em seu naufrágio.\n",
    "\n",
    "O naufrágio do Titanic é um dos desastres mais conhecidos da história. Devido à falta de botes salva-vidas suficientes e à má preparação para uma evacuação de emergência, mais de 1.500 pessoas perderam a vida. O navio afundou na madrugada de 15 de abril de 1912, e apenas cerca de 700 sobreviventes foram resgatados por navios que vieram em seu socorro.\n",
    "\n",
    "### Sobre os dados:\n",
    "\n",
    "Nesta competição, teremos acesso a dois conjuntos de dados semelhantes que incluem informações sobre os passageiros, como nome, idade, sexo, classe socioeconômica etc. Um conjunto de dados é intitulado train.csv e o outro é intitulado test.csv.\n",
    "\n",
    "O train.csv conterá os detalhes de um subconjunto dos passageiros a bordo (891, para ser exato) e, o que é mais importante, revelará se eles sobreviveram ou não, também conhecido como \"verdade básica\".\n",
    "\n",
    "O conjunto de dados test.csv contém informações semelhantes, mas não revela a \"verdade básica\" de cada passageiro. Sua tarefa é prever esses resultados.\n",
    "\n",
    "### Objetivo: \n",
    "\n",
    "Usando os padrões encontrados nos dados train.csv, devemos prever se os outros 418 passageiros a bordo (encontrados em test.csv) sobreviveram.\n",
    "\n",
    "\n",
    "Fonte desafio: [Titanic - Machine Learning from Disaster](https://www.kaggle.com/code/startupsci/titanic-data-science-solutions)"
   ]
  },
  {
   "cell_type": "code",
   "execution_count": 1,
   "id": "a1702b81",
   "metadata": {
    "execution": {
     "iopub.execute_input": "2023-11-03T23:39:13.738804Z",
     "iopub.status.busy": "2023-11-03T23:39:13.738390Z",
     "iopub.status.idle": "2023-11-03T23:39:17.245391Z",
     "shell.execute_reply": "2023-11-03T23:39:17.244073Z"
    },
    "papermill": {
     "duration": 3.533954,
     "end_time": "2023-11-03T23:39:17.248229",
     "exception": false,
     "start_time": "2023-11-03T23:39:13.714275",
     "status": "completed"
    },
    "tags": []
   },
   "outputs": [],
   "source": [
    "# Para engenharia de recursos com expressões regulares.\n",
    "import re\n",
    "\n",
    "# Para leitura, manipulação e análise dos dados.\n",
    "import numpy as np\n",
    "import pandas as pd\n",
    "\n",
    "# Para visualização e análise dos dados.\n",
    "import seaborn as sns\n",
    "import matplotlib.pyplot as plt\n",
    "import plotly.express as px\n",
    "import plotly.offline as pyo\n",
    "\n",
    "# Para padronização dos dados.\n",
    "from sklearn.preprocessing import StandardScaler\n",
    "\n",
    "# Para o treinando dos modelos\n",
    "from sklearn.naive_bayes import GaussianNB\n",
    "from sklearn.tree import DecisionTreeClassifier\n",
    "from sklearn.ensemble import RandomForestClassifier\n",
    "from sklearn.neighbors import KNeighborsClassifier\n",
    "from sklearn.linear_model import LogisticRegression\n",
    "from sklearn.svm import SVC\n",
    "from sklearn.neural_network import MLPClassifier\n",
    "\n",
    "\n",
    "from sklearn.model_selection import learning_curve, LearningCurveDisplay, ShuffleSplit, cross_val_score\n",
    "from sklearn.model_selection import GridSearchCV\n"
   ]
  },
  {
   "cell_type": "markdown",
   "id": "097a421f",
   "metadata": {
    "papermill": {
     "duration": 0.021548,
     "end_time": "2023-11-03T23:39:17.291602",
     "exception": false,
     "start_time": "2023-11-03T23:39:17.270054",
     "status": "completed"
    },
    "tags": []
   },
   "source": [
    "# Coleta dos Dados"
   ]
  },
  {
   "cell_type": "code",
   "execution_count": 2,
   "id": "c2f58092",
   "metadata": {
    "execution": {
     "iopub.execute_input": "2023-11-03T23:39:17.337722Z",
     "iopub.status.busy": "2023-11-03T23:39:17.336576Z",
     "iopub.status.idle": "2023-11-03T23:39:17.374005Z",
     "shell.execute_reply": "2023-11-03T23:39:17.372621Z"
    },
    "papermill": {
     "duration": 0.063428,
     "end_time": "2023-11-03T23:39:17.376810",
     "exception": false,
     "start_time": "2023-11-03T23:39:17.313382",
     "status": "completed"
    },
    "tags": []
   },
   "outputs": [],
   "source": [
    "# Carregandos os dados.\n",
    "dftest = pd.read_csv('/kaggle/input/titanic/test.csv')\n",
    "dftrain = pd.read_csv('/kaggle/input/titanic/train.csv')\n",
    "dfgendersubmission = pd.read_csv('/kaggle/input/titanic/gender_submission.csv')"
   ]
  },
  {
   "cell_type": "markdown",
   "id": "b1f10eb9",
   "metadata": {
    "papermill": {
     "duration": 0.021112,
     "end_time": "2023-11-03T23:39:17.420080",
     "exception": false,
     "start_time": "2023-11-03T23:39:17.398968",
     "status": "completed"
    },
    "tags": []
   },
   "source": [
    "# 1. Pré-Processamento"
   ]
  },
  {
   "cell_type": "markdown",
   "id": "df109424",
   "metadata": {
    "papermill": {
     "duration": 0.021078,
     "end_time": "2023-11-03T23:39:17.462648",
     "exception": false,
     "start_time": "2023-11-03T23:39:17.441570",
     "status": "completed"
    },
    "tags": []
   },
   "source": [
    "### **Limpeza e Preparação do Dados**"
   ]
  },
  {
   "cell_type": "markdown",
   "id": "62f3d609",
   "metadata": {
    "papermill": {
     "duration": 0.020973,
     "end_time": "2023-11-03T23:39:17.505899",
     "exception": false,
     "start_time": "2023-11-03T23:39:17.484926",
     "status": "completed"
    },
    "tags": []
   },
   "source": [
    "### **Sobre os dados:**\n",
    "\n",
    "**PassengerId**: Um identificador único para cada passageiro.\n",
    "\n",
    "**Survived**: Indica se o passageiro sobreviveu (1) ou não (0) ao naufrágio. Esta é geralmente a variável alvo que deseja-se prever.\n",
    "\n",
    "**Pclass (Classe):** A classe da passagem do passageiro (1ª, 2ª ou 3ª classe).\n",
    "\n",
    "**Name**: O nome do passageiro.\n",
    "\n",
    "**Sex**: O sexo do passageiro.\n",
    "\n",
    "**Age**: A idade do passageiro.\n",
    "\n",
    "**SibSp**: Número de irmãos/cônjuges a bordo.\n",
    "\n",
    "**Parch**: Número de pais/filhos a bordo.\n",
    "\n",
    "**Ticket**: O número do bilhete.\n",
    "\n",
    "**Fare**: A tarifa paga pelo passageiro.\n",
    "\n",
    "**Cabin**: O número da cabine do passageiro.\n",
    "\n",
    "**Embarked**: O porto de embarque do passageiro (C = Cherbourg, Q = Queenstown, S = Southampton)."
   ]
  },
  {
   "cell_type": "code",
   "execution_count": 3,
   "id": "00c5b854",
   "metadata": {
    "execution": {
     "iopub.execute_input": "2023-11-03T23:39:17.550495Z",
     "iopub.status.busy": "2023-11-03T23:39:17.550035Z",
     "iopub.status.idle": "2023-11-03T23:39:17.591630Z",
     "shell.execute_reply": "2023-11-03T23:39:17.590242Z"
    },
    "papermill": {
     "duration": 0.066835,
     "end_time": "2023-11-03T23:39:17.594206",
     "exception": false,
     "start_time": "2023-11-03T23:39:17.527371",
     "status": "completed"
    },
    "tags": []
   },
   "outputs": [
    {
     "data": {
      "text/html": [
       "<div>\n",
       "<style scoped>\n",
       "    .dataframe tbody tr th:only-of-type {\n",
       "        vertical-align: middle;\n",
       "    }\n",
       "\n",
       "    .dataframe tbody tr th {\n",
       "        vertical-align: top;\n",
       "    }\n",
       "\n",
       "    .dataframe thead th {\n",
       "        text-align: right;\n",
       "    }\n",
       "</style>\n",
       "<table border=\"1\" class=\"dataframe\">\n",
       "  <thead>\n",
       "    <tr style=\"text-align: right;\">\n",
       "      <th></th>\n",
       "      <th>PassengerId</th>\n",
       "      <th>Survived</th>\n",
       "      <th>Pclass</th>\n",
       "      <th>Name</th>\n",
       "      <th>Sex</th>\n",
       "      <th>Age</th>\n",
       "      <th>SibSp</th>\n",
       "      <th>Parch</th>\n",
       "      <th>Ticket</th>\n",
       "      <th>Fare</th>\n",
       "      <th>Cabin</th>\n",
       "      <th>Embarked</th>\n",
       "    </tr>\n",
       "  </thead>\n",
       "  <tbody>\n",
       "    <tr>\n",
       "      <th>0</th>\n",
       "      <td>1</td>\n",
       "      <td>0</td>\n",
       "      <td>3</td>\n",
       "      <td>Braund, Mr. Owen Harris</td>\n",
       "      <td>male</td>\n",
       "      <td>22.0</td>\n",
       "      <td>1</td>\n",
       "      <td>0</td>\n",
       "      <td>A/5 21171</td>\n",
       "      <td>7.2500</td>\n",
       "      <td>NaN</td>\n",
       "      <td>S</td>\n",
       "    </tr>\n",
       "    <tr>\n",
       "      <th>1</th>\n",
       "      <td>2</td>\n",
       "      <td>1</td>\n",
       "      <td>1</td>\n",
       "      <td>Cumings, Mrs. John Bradley (Florence Briggs Th...</td>\n",
       "      <td>female</td>\n",
       "      <td>38.0</td>\n",
       "      <td>1</td>\n",
       "      <td>0</td>\n",
       "      <td>PC 17599</td>\n",
       "      <td>71.2833</td>\n",
       "      <td>C85</td>\n",
       "      <td>C</td>\n",
       "    </tr>\n",
       "    <tr>\n",
       "      <th>2</th>\n",
       "      <td>3</td>\n",
       "      <td>1</td>\n",
       "      <td>3</td>\n",
       "      <td>Heikkinen, Miss. Laina</td>\n",
       "      <td>female</td>\n",
       "      <td>26.0</td>\n",
       "      <td>0</td>\n",
       "      <td>0</td>\n",
       "      <td>STON/O2. 3101282</td>\n",
       "      <td>7.9250</td>\n",
       "      <td>NaN</td>\n",
       "      <td>S</td>\n",
       "    </tr>\n",
       "    <tr>\n",
       "      <th>3</th>\n",
       "      <td>4</td>\n",
       "      <td>1</td>\n",
       "      <td>1</td>\n",
       "      <td>Futrelle, Mrs. Jacques Heath (Lily May Peel)</td>\n",
       "      <td>female</td>\n",
       "      <td>35.0</td>\n",
       "      <td>1</td>\n",
       "      <td>0</td>\n",
       "      <td>113803</td>\n",
       "      <td>53.1000</td>\n",
       "      <td>C123</td>\n",
       "      <td>S</td>\n",
       "    </tr>\n",
       "    <tr>\n",
       "      <th>4</th>\n",
       "      <td>5</td>\n",
       "      <td>0</td>\n",
       "      <td>3</td>\n",
       "      <td>Allen, Mr. William Henry</td>\n",
       "      <td>male</td>\n",
       "      <td>35.0</td>\n",
       "      <td>0</td>\n",
       "      <td>0</td>\n",
       "      <td>373450</td>\n",
       "      <td>8.0500</td>\n",
       "      <td>NaN</td>\n",
       "      <td>S</td>\n",
       "    </tr>\n",
       "    <tr>\n",
       "      <th>...</th>\n",
       "      <td>...</td>\n",
       "      <td>...</td>\n",
       "      <td>...</td>\n",
       "      <td>...</td>\n",
       "      <td>...</td>\n",
       "      <td>...</td>\n",
       "      <td>...</td>\n",
       "      <td>...</td>\n",
       "      <td>...</td>\n",
       "      <td>...</td>\n",
       "      <td>...</td>\n",
       "      <td>...</td>\n",
       "    </tr>\n",
       "    <tr>\n",
       "      <th>886</th>\n",
       "      <td>887</td>\n",
       "      <td>0</td>\n",
       "      <td>2</td>\n",
       "      <td>Montvila, Rev. Juozas</td>\n",
       "      <td>male</td>\n",
       "      <td>27.0</td>\n",
       "      <td>0</td>\n",
       "      <td>0</td>\n",
       "      <td>211536</td>\n",
       "      <td>13.0000</td>\n",
       "      <td>NaN</td>\n",
       "      <td>S</td>\n",
       "    </tr>\n",
       "    <tr>\n",
       "      <th>887</th>\n",
       "      <td>888</td>\n",
       "      <td>1</td>\n",
       "      <td>1</td>\n",
       "      <td>Graham, Miss. Margaret Edith</td>\n",
       "      <td>female</td>\n",
       "      <td>19.0</td>\n",
       "      <td>0</td>\n",
       "      <td>0</td>\n",
       "      <td>112053</td>\n",
       "      <td>30.0000</td>\n",
       "      <td>B42</td>\n",
       "      <td>S</td>\n",
       "    </tr>\n",
       "    <tr>\n",
       "      <th>888</th>\n",
       "      <td>889</td>\n",
       "      <td>0</td>\n",
       "      <td>3</td>\n",
       "      <td>Johnston, Miss. Catherine Helen \"Carrie\"</td>\n",
       "      <td>female</td>\n",
       "      <td>NaN</td>\n",
       "      <td>1</td>\n",
       "      <td>2</td>\n",
       "      <td>W./C. 6607</td>\n",
       "      <td>23.4500</td>\n",
       "      <td>NaN</td>\n",
       "      <td>S</td>\n",
       "    </tr>\n",
       "    <tr>\n",
       "      <th>889</th>\n",
       "      <td>890</td>\n",
       "      <td>1</td>\n",
       "      <td>1</td>\n",
       "      <td>Behr, Mr. Karl Howell</td>\n",
       "      <td>male</td>\n",
       "      <td>26.0</td>\n",
       "      <td>0</td>\n",
       "      <td>0</td>\n",
       "      <td>111369</td>\n",
       "      <td>30.0000</td>\n",
       "      <td>C148</td>\n",
       "      <td>C</td>\n",
       "    </tr>\n",
       "    <tr>\n",
       "      <th>890</th>\n",
       "      <td>891</td>\n",
       "      <td>0</td>\n",
       "      <td>3</td>\n",
       "      <td>Dooley, Mr. Patrick</td>\n",
       "      <td>male</td>\n",
       "      <td>32.0</td>\n",
       "      <td>0</td>\n",
       "      <td>0</td>\n",
       "      <td>370376</td>\n",
       "      <td>7.7500</td>\n",
       "      <td>NaN</td>\n",
       "      <td>Q</td>\n",
       "    </tr>\n",
       "  </tbody>\n",
       "</table>\n",
       "<p>891 rows × 12 columns</p>\n",
       "</div>"
      ],
      "text/plain": [
       "     PassengerId  Survived  Pclass  \\\n",
       "0              1         0       3   \n",
       "1              2         1       1   \n",
       "2              3         1       3   \n",
       "3              4         1       1   \n",
       "4              5         0       3   \n",
       "..           ...       ...     ...   \n",
       "886          887         0       2   \n",
       "887          888         1       1   \n",
       "888          889         0       3   \n",
       "889          890         1       1   \n",
       "890          891         0       3   \n",
       "\n",
       "                                                  Name     Sex   Age  SibSp  \\\n",
       "0                              Braund, Mr. Owen Harris    male  22.0      1   \n",
       "1    Cumings, Mrs. John Bradley (Florence Briggs Th...  female  38.0      1   \n",
       "2                               Heikkinen, Miss. Laina  female  26.0      0   \n",
       "3         Futrelle, Mrs. Jacques Heath (Lily May Peel)  female  35.0      1   \n",
       "4                             Allen, Mr. William Henry    male  35.0      0   \n",
       "..                                                 ...     ...   ...    ...   \n",
       "886                              Montvila, Rev. Juozas    male  27.0      0   \n",
       "887                       Graham, Miss. Margaret Edith  female  19.0      0   \n",
       "888           Johnston, Miss. Catherine Helen \"Carrie\"  female   NaN      1   \n",
       "889                              Behr, Mr. Karl Howell    male  26.0      0   \n",
       "890                                Dooley, Mr. Patrick    male  32.0      0   \n",
       "\n",
       "     Parch            Ticket     Fare Cabin Embarked  \n",
       "0        0         A/5 21171   7.2500   NaN        S  \n",
       "1        0          PC 17599  71.2833   C85        C  \n",
       "2        0  STON/O2. 3101282   7.9250   NaN        S  \n",
       "3        0            113803  53.1000  C123        S  \n",
       "4        0            373450   8.0500   NaN        S  \n",
       "..     ...               ...      ...   ...      ...  \n",
       "886      0            211536  13.0000   NaN        S  \n",
       "887      0            112053  30.0000   B42        S  \n",
       "888      2        W./C. 6607  23.4500   NaN        S  \n",
       "889      0            111369  30.0000  C148        C  \n",
       "890      0            370376   7.7500   NaN        Q  \n",
       "\n",
       "[891 rows x 12 columns]"
      ]
     },
     "execution_count": 3,
     "metadata": {},
     "output_type": "execute_result"
    }
   ],
   "source": [
    "dftrain"
   ]
  },
  {
   "cell_type": "code",
   "execution_count": 4,
   "id": "5111d458",
   "metadata": {
    "execution": {
     "iopub.execute_input": "2023-11-03T23:39:17.640580Z",
     "iopub.status.busy": "2023-11-03T23:39:17.639878Z",
     "iopub.status.idle": "2023-11-03T23:39:17.662777Z",
     "shell.execute_reply": "2023-11-03T23:39:17.661945Z"
    },
    "papermill": {
     "duration": 0.048682,
     "end_time": "2023-11-03T23:39:17.664968",
     "exception": false,
     "start_time": "2023-11-03T23:39:17.616286",
     "status": "completed"
    },
    "tags": []
   },
   "outputs": [
    {
     "data": {
      "text/html": [
       "<div>\n",
       "<style scoped>\n",
       "    .dataframe tbody tr th:only-of-type {\n",
       "        vertical-align: middle;\n",
       "    }\n",
       "\n",
       "    .dataframe tbody tr th {\n",
       "        vertical-align: top;\n",
       "    }\n",
       "\n",
       "    .dataframe thead th {\n",
       "        text-align: right;\n",
       "    }\n",
       "</style>\n",
       "<table border=\"1\" class=\"dataframe\">\n",
       "  <thead>\n",
       "    <tr style=\"text-align: right;\">\n",
       "      <th></th>\n",
       "      <th>PassengerId</th>\n",
       "      <th>Pclass</th>\n",
       "      <th>Name</th>\n",
       "      <th>Sex</th>\n",
       "      <th>Age</th>\n",
       "      <th>SibSp</th>\n",
       "      <th>Parch</th>\n",
       "      <th>Ticket</th>\n",
       "      <th>Fare</th>\n",
       "      <th>Cabin</th>\n",
       "      <th>Embarked</th>\n",
       "    </tr>\n",
       "  </thead>\n",
       "  <tbody>\n",
       "    <tr>\n",
       "      <th>0</th>\n",
       "      <td>892</td>\n",
       "      <td>3</td>\n",
       "      <td>Kelly, Mr. James</td>\n",
       "      <td>male</td>\n",
       "      <td>34.5</td>\n",
       "      <td>0</td>\n",
       "      <td>0</td>\n",
       "      <td>330911</td>\n",
       "      <td>7.8292</td>\n",
       "      <td>NaN</td>\n",
       "      <td>Q</td>\n",
       "    </tr>\n",
       "    <tr>\n",
       "      <th>1</th>\n",
       "      <td>893</td>\n",
       "      <td>3</td>\n",
       "      <td>Wilkes, Mrs. James (Ellen Needs)</td>\n",
       "      <td>female</td>\n",
       "      <td>47.0</td>\n",
       "      <td>1</td>\n",
       "      <td>0</td>\n",
       "      <td>363272</td>\n",
       "      <td>7.0000</td>\n",
       "      <td>NaN</td>\n",
       "      <td>S</td>\n",
       "    </tr>\n",
       "    <tr>\n",
       "      <th>2</th>\n",
       "      <td>894</td>\n",
       "      <td>2</td>\n",
       "      <td>Myles, Mr. Thomas Francis</td>\n",
       "      <td>male</td>\n",
       "      <td>62.0</td>\n",
       "      <td>0</td>\n",
       "      <td>0</td>\n",
       "      <td>240276</td>\n",
       "      <td>9.6875</td>\n",
       "      <td>NaN</td>\n",
       "      <td>Q</td>\n",
       "    </tr>\n",
       "    <tr>\n",
       "      <th>3</th>\n",
       "      <td>895</td>\n",
       "      <td>3</td>\n",
       "      <td>Wirz, Mr. Albert</td>\n",
       "      <td>male</td>\n",
       "      <td>27.0</td>\n",
       "      <td>0</td>\n",
       "      <td>0</td>\n",
       "      <td>315154</td>\n",
       "      <td>8.6625</td>\n",
       "      <td>NaN</td>\n",
       "      <td>S</td>\n",
       "    </tr>\n",
       "    <tr>\n",
       "      <th>4</th>\n",
       "      <td>896</td>\n",
       "      <td>3</td>\n",
       "      <td>Hirvonen, Mrs. Alexander (Helga E Lindqvist)</td>\n",
       "      <td>female</td>\n",
       "      <td>22.0</td>\n",
       "      <td>1</td>\n",
       "      <td>1</td>\n",
       "      <td>3101298</td>\n",
       "      <td>12.2875</td>\n",
       "      <td>NaN</td>\n",
       "      <td>S</td>\n",
       "    </tr>\n",
       "    <tr>\n",
       "      <th>...</th>\n",
       "      <td>...</td>\n",
       "      <td>...</td>\n",
       "      <td>...</td>\n",
       "      <td>...</td>\n",
       "      <td>...</td>\n",
       "      <td>...</td>\n",
       "      <td>...</td>\n",
       "      <td>...</td>\n",
       "      <td>...</td>\n",
       "      <td>...</td>\n",
       "      <td>...</td>\n",
       "    </tr>\n",
       "    <tr>\n",
       "      <th>413</th>\n",
       "      <td>1305</td>\n",
       "      <td>3</td>\n",
       "      <td>Spector, Mr. Woolf</td>\n",
       "      <td>male</td>\n",
       "      <td>NaN</td>\n",
       "      <td>0</td>\n",
       "      <td>0</td>\n",
       "      <td>A.5. 3236</td>\n",
       "      <td>8.0500</td>\n",
       "      <td>NaN</td>\n",
       "      <td>S</td>\n",
       "    </tr>\n",
       "    <tr>\n",
       "      <th>414</th>\n",
       "      <td>1306</td>\n",
       "      <td>1</td>\n",
       "      <td>Oliva y Ocana, Dona. Fermina</td>\n",
       "      <td>female</td>\n",
       "      <td>39.0</td>\n",
       "      <td>0</td>\n",
       "      <td>0</td>\n",
       "      <td>PC 17758</td>\n",
       "      <td>108.9000</td>\n",
       "      <td>C105</td>\n",
       "      <td>C</td>\n",
       "    </tr>\n",
       "    <tr>\n",
       "      <th>415</th>\n",
       "      <td>1307</td>\n",
       "      <td>3</td>\n",
       "      <td>Saether, Mr. Simon Sivertsen</td>\n",
       "      <td>male</td>\n",
       "      <td>38.5</td>\n",
       "      <td>0</td>\n",
       "      <td>0</td>\n",
       "      <td>SOTON/O.Q. 3101262</td>\n",
       "      <td>7.2500</td>\n",
       "      <td>NaN</td>\n",
       "      <td>S</td>\n",
       "    </tr>\n",
       "    <tr>\n",
       "      <th>416</th>\n",
       "      <td>1308</td>\n",
       "      <td>3</td>\n",
       "      <td>Ware, Mr. Frederick</td>\n",
       "      <td>male</td>\n",
       "      <td>NaN</td>\n",
       "      <td>0</td>\n",
       "      <td>0</td>\n",
       "      <td>359309</td>\n",
       "      <td>8.0500</td>\n",
       "      <td>NaN</td>\n",
       "      <td>S</td>\n",
       "    </tr>\n",
       "    <tr>\n",
       "      <th>417</th>\n",
       "      <td>1309</td>\n",
       "      <td>3</td>\n",
       "      <td>Peter, Master. Michael J</td>\n",
       "      <td>male</td>\n",
       "      <td>NaN</td>\n",
       "      <td>1</td>\n",
       "      <td>1</td>\n",
       "      <td>2668</td>\n",
       "      <td>22.3583</td>\n",
       "      <td>NaN</td>\n",
       "      <td>C</td>\n",
       "    </tr>\n",
       "  </tbody>\n",
       "</table>\n",
       "<p>418 rows × 11 columns</p>\n",
       "</div>"
      ],
      "text/plain": [
       "     PassengerId  Pclass                                          Name  \\\n",
       "0            892       3                              Kelly, Mr. James   \n",
       "1            893       3              Wilkes, Mrs. James (Ellen Needs)   \n",
       "2            894       2                     Myles, Mr. Thomas Francis   \n",
       "3            895       3                              Wirz, Mr. Albert   \n",
       "4            896       3  Hirvonen, Mrs. Alexander (Helga E Lindqvist)   \n",
       "..           ...     ...                                           ...   \n",
       "413         1305       3                            Spector, Mr. Woolf   \n",
       "414         1306       1                  Oliva y Ocana, Dona. Fermina   \n",
       "415         1307       3                  Saether, Mr. Simon Sivertsen   \n",
       "416         1308       3                           Ware, Mr. Frederick   \n",
       "417         1309       3                      Peter, Master. Michael J   \n",
       "\n",
       "        Sex   Age  SibSp  Parch              Ticket      Fare Cabin Embarked  \n",
       "0      male  34.5      0      0              330911    7.8292   NaN        Q  \n",
       "1    female  47.0      1      0              363272    7.0000   NaN        S  \n",
       "2      male  62.0      0      0              240276    9.6875   NaN        Q  \n",
       "3      male  27.0      0      0              315154    8.6625   NaN        S  \n",
       "4    female  22.0      1      1             3101298   12.2875   NaN        S  \n",
       "..      ...   ...    ...    ...                 ...       ...   ...      ...  \n",
       "413    male   NaN      0      0           A.5. 3236    8.0500   NaN        S  \n",
       "414  female  39.0      0      0            PC 17758  108.9000  C105        C  \n",
       "415    male  38.5      0      0  SOTON/O.Q. 3101262    7.2500   NaN        S  \n",
       "416    male   NaN      0      0              359309    8.0500   NaN        S  \n",
       "417    male   NaN      1      1                2668   22.3583   NaN        C  \n",
       "\n",
       "[418 rows x 11 columns]"
      ]
     },
     "execution_count": 4,
     "metadata": {},
     "output_type": "execute_result"
    }
   ],
   "source": [
    "dftest"
   ]
  },
  {
   "cell_type": "code",
   "execution_count": 5,
   "id": "781a4ea7",
   "metadata": {
    "execution": {
     "iopub.execute_input": "2023-11-03T23:39:17.711974Z",
     "iopub.status.busy": "2023-11-03T23:39:17.711307Z",
     "iopub.status.idle": "2023-11-03T23:39:17.724024Z",
     "shell.execute_reply": "2023-11-03T23:39:17.722781Z"
    },
    "papermill": {
     "duration": 0.038757,
     "end_time": "2023-11-03T23:39:17.726128",
     "exception": false,
     "start_time": "2023-11-03T23:39:17.687371",
     "status": "completed"
    },
    "tags": []
   },
   "outputs": [
    {
     "data": {
      "text/html": [
       "<div>\n",
       "<style scoped>\n",
       "    .dataframe tbody tr th:only-of-type {\n",
       "        vertical-align: middle;\n",
       "    }\n",
       "\n",
       "    .dataframe tbody tr th {\n",
       "        vertical-align: top;\n",
       "    }\n",
       "\n",
       "    .dataframe thead th {\n",
       "        text-align: right;\n",
       "    }\n",
       "</style>\n",
       "<table border=\"1\" class=\"dataframe\">\n",
       "  <thead>\n",
       "    <tr style=\"text-align: right;\">\n",
       "      <th></th>\n",
       "      <th>PassengerId</th>\n",
       "      <th>Survived</th>\n",
       "    </tr>\n",
       "  </thead>\n",
       "  <tbody>\n",
       "    <tr>\n",
       "      <th>0</th>\n",
       "      <td>892</td>\n",
       "      <td>0</td>\n",
       "    </tr>\n",
       "    <tr>\n",
       "      <th>1</th>\n",
       "      <td>893</td>\n",
       "      <td>1</td>\n",
       "    </tr>\n",
       "    <tr>\n",
       "      <th>2</th>\n",
       "      <td>894</td>\n",
       "      <td>0</td>\n",
       "    </tr>\n",
       "    <tr>\n",
       "      <th>3</th>\n",
       "      <td>895</td>\n",
       "      <td>0</td>\n",
       "    </tr>\n",
       "    <tr>\n",
       "      <th>4</th>\n",
       "      <td>896</td>\n",
       "      <td>1</td>\n",
       "    </tr>\n",
       "    <tr>\n",
       "      <th>...</th>\n",
       "      <td>...</td>\n",
       "      <td>...</td>\n",
       "    </tr>\n",
       "    <tr>\n",
       "      <th>413</th>\n",
       "      <td>1305</td>\n",
       "      <td>0</td>\n",
       "    </tr>\n",
       "    <tr>\n",
       "      <th>414</th>\n",
       "      <td>1306</td>\n",
       "      <td>1</td>\n",
       "    </tr>\n",
       "    <tr>\n",
       "      <th>415</th>\n",
       "      <td>1307</td>\n",
       "      <td>0</td>\n",
       "    </tr>\n",
       "    <tr>\n",
       "      <th>416</th>\n",
       "      <td>1308</td>\n",
       "      <td>0</td>\n",
       "    </tr>\n",
       "    <tr>\n",
       "      <th>417</th>\n",
       "      <td>1309</td>\n",
       "      <td>0</td>\n",
       "    </tr>\n",
       "  </tbody>\n",
       "</table>\n",
       "<p>418 rows × 2 columns</p>\n",
       "</div>"
      ],
      "text/plain": [
       "     PassengerId  Survived\n",
       "0            892         0\n",
       "1            893         1\n",
       "2            894         0\n",
       "3            895         0\n",
       "4            896         1\n",
       "..           ...       ...\n",
       "413         1305         0\n",
       "414         1306         1\n",
       "415         1307         0\n",
       "416         1308         0\n",
       "417         1309         0\n",
       "\n",
       "[418 rows x 2 columns]"
      ]
     },
     "execution_count": 5,
     "metadata": {},
     "output_type": "execute_result"
    }
   ],
   "source": [
    "dfgendersubmission"
   ]
  },
  {
   "cell_type": "code",
   "execution_count": 6,
   "id": "602f9290",
   "metadata": {
    "execution": {
     "iopub.execute_input": "2023-11-03T23:39:17.838373Z",
     "iopub.status.busy": "2023-11-03T23:39:17.837910Z",
     "iopub.status.idle": "2023-11-03T23:39:17.844659Z",
     "shell.execute_reply": "2023-11-03T23:39:17.843701Z"
    },
    "papermill": {
     "duration": 0.034844,
     "end_time": "2023-11-03T23:39:17.847702",
     "exception": false,
     "start_time": "2023-11-03T23:39:17.812858",
     "status": "completed"
    },
    "tags": []
   },
   "outputs": [
    {
     "name": "stdout",
     "output_type": "stream",
     "text": [
      "Número total de linhas nos dados de treinamento  891\n",
      "Número total de colunas nos dados de treinamento  12\n",
      "Número total de linhas nos dados de teste  418\n",
      "Número total de colunas nos dados de teste  11\n"
     ]
    }
   ],
   "source": [
    "print(\"Número total de linhas nos dados de treinamento \", dftrain.shape[0])\n",
    "print(\"Número total de colunas nos dados de treinamento \", dftrain.shape[1])\n",
    "print(\"Número total de linhas nos dados de teste \", dftest.shape[0])\n",
    "print(\"Número total de colunas nos dados de teste \", dftest.shape[1])"
   ]
  },
  {
   "cell_type": "code",
   "execution_count": 7,
   "id": "30bc692a",
   "metadata": {
    "execution": {
     "iopub.execute_input": "2023-11-03T23:39:17.897095Z",
     "iopub.status.busy": "2023-11-03T23:39:17.896405Z",
     "iopub.status.idle": "2023-11-03T23:39:18.019672Z",
     "shell.execute_reply": "2023-11-03T23:39:18.018063Z"
    },
    "papermill": {
     "duration": 0.151212,
     "end_time": "2023-11-03T23:39:18.022634",
     "exception": false,
     "start_time": "2023-11-03T23:39:17.871422",
     "status": "completed"
    },
    "tags": []
   },
   "outputs": [
    {
     "name": "stdout",
     "output_type": "stream",
     "text": [
      "<class 'pandas.core.frame.DataFrame'>\n",
      "RangeIndex: 891 entries, 0 to 890\n",
      "Data columns (total 12 columns):\n",
      " #   Column       Non-Null Count  Dtype  \n",
      "---  ------       --------------  -----  \n",
      " 0   PassengerId  891 non-null    int64  \n",
      " 1   Survived     891 non-null    int64  \n",
      " 2   Pclass       891 non-null    int64  \n",
      " 3   Name         891 non-null    object \n",
      " 4   Sex          891 non-null    object \n",
      " 5   Age          714 non-null    float64\n",
      " 6   SibSp        891 non-null    int64  \n",
      " 7   Parch        891 non-null    int64  \n",
      " 8   Ticket       891 non-null    object \n",
      " 9   Fare         891 non-null    float64\n",
      " 10  Cabin        204 non-null    object \n",
      " 11  Embarked     889 non-null    object \n",
      "dtypes: float64(2), int64(5), object(5)\n",
      "memory usage: 83.7+ KB\n"
     ]
    }
   ],
   "source": [
    "dftrain.info()"
   ]
  },
  {
   "cell_type": "code",
   "execution_count": 8,
   "id": "83fdcd35",
   "metadata": {
    "execution": {
     "iopub.execute_input": "2023-11-03T23:39:18.073139Z",
     "iopub.status.busy": "2023-11-03T23:39:18.072736Z",
     "iopub.status.idle": "2023-11-03T23:39:18.086093Z",
     "shell.execute_reply": "2023-11-03T23:39:18.084922Z"
    },
    "papermill": {
     "duration": 0.04226,
     "end_time": "2023-11-03T23:39:18.089102",
     "exception": false,
     "start_time": "2023-11-03T23:39:18.046842",
     "status": "completed"
    },
    "tags": []
   },
   "outputs": [
    {
     "name": "stdout",
     "output_type": "stream",
     "text": [
      "<class 'pandas.core.frame.DataFrame'>\n",
      "RangeIndex: 418 entries, 0 to 417\n",
      "Data columns (total 11 columns):\n",
      " #   Column       Non-Null Count  Dtype  \n",
      "---  ------       --------------  -----  \n",
      " 0   PassengerId  418 non-null    int64  \n",
      " 1   Pclass       418 non-null    int64  \n",
      " 2   Name         418 non-null    object \n",
      " 3   Sex          418 non-null    object \n",
      " 4   Age          332 non-null    float64\n",
      " 5   SibSp        418 non-null    int64  \n",
      " 6   Parch        418 non-null    int64  \n",
      " 7   Ticket       418 non-null    object \n",
      " 8   Fare         417 non-null    float64\n",
      " 9   Cabin        91 non-null     object \n",
      " 10  Embarked     418 non-null    object \n",
      "dtypes: float64(2), int64(4), object(5)\n",
      "memory usage: 36.0+ KB\n"
     ]
    }
   ],
   "source": [
    "dftest.info()"
   ]
  },
  {
   "cell_type": "markdown",
   "id": "9377c097",
   "metadata": {
    "papermill": {
     "duration": 0.022952,
     "end_time": "2023-11-03T23:39:18.135462",
     "exception": false,
     "start_time": "2023-11-03T23:39:18.112510",
     "status": "completed"
    },
    "tags": []
   },
   "source": [
    "### **Trantandos valores nulos (dados de teste):**"
   ]
  },
  {
   "cell_type": "code",
   "execution_count": 9,
   "id": "11f4feec",
   "metadata": {
    "execution": {
     "iopub.execute_input": "2023-11-03T23:39:18.184069Z",
     "iopub.status.busy": "2023-11-03T23:39:18.183659Z",
     "iopub.status.idle": "2023-11-03T23:39:18.192614Z",
     "shell.execute_reply": "2023-11-03T23:39:18.191728Z"
    },
    "papermill": {
     "duration": 0.035876,
     "end_time": "2023-11-03T23:39:18.194747",
     "exception": false,
     "start_time": "2023-11-03T23:39:18.158871",
     "status": "completed"
    },
    "tags": []
   },
   "outputs": [
    {
     "data": {
      "text/plain": [
       "PassengerId      0\n",
       "Pclass           0\n",
       "Name             0\n",
       "Sex              0\n",
       "Age             86\n",
       "SibSp            0\n",
       "Parch            0\n",
       "Ticket           0\n",
       "Fare             1\n",
       "Cabin          327\n",
       "Embarked         0\n",
       "dtype: int64"
      ]
     },
     "execution_count": 9,
     "metadata": {},
     "output_type": "execute_result"
    }
   ],
   "source": [
    "dftest.isnull().sum()"
   ]
  },
  {
   "cell_type": "code",
   "execution_count": 10,
   "id": "66668dd0",
   "metadata": {
    "execution": {
     "iopub.execute_input": "2023-11-03T23:39:18.244014Z",
     "iopub.status.busy": "2023-11-03T23:39:18.243582Z",
     "iopub.status.idle": "2023-11-03T23:39:18.252605Z",
     "shell.execute_reply": "2023-11-03T23:39:18.251638Z"
    },
    "papermill": {
     "duration": 0.036778,
     "end_time": "2023-11-03T23:39:18.255212",
     "exception": false,
     "start_time": "2023-11-03T23:39:18.218434",
     "status": "completed"
    },
    "tags": []
   },
   "outputs": [],
   "source": [
    "dftest['Cabin'].fillna('Missing', inplace=True)\n",
    "\n",
    "dftest['Fare'].fillna(dftest['Fare'].mean(), inplace = True)\n",
    "\n",
    "dftest['Age'].fillna(dftest['Age'].mean(), inplace=True)\n",
    "\n",
    "dftest.rename(columns={'Parch': 'ParCh'}, inplace=True)"
   ]
  },
  {
   "cell_type": "code",
   "execution_count": 11,
   "id": "da61040a",
   "metadata": {
    "execution": {
     "iopub.execute_input": "2023-11-03T23:39:18.305504Z",
     "iopub.status.busy": "2023-11-03T23:39:18.305012Z",
     "iopub.status.idle": "2023-11-03T23:39:18.314929Z",
     "shell.execute_reply": "2023-11-03T23:39:18.313564Z"
    },
    "papermill": {
     "duration": 0.038136,
     "end_time": "2023-11-03T23:39:18.317430",
     "exception": false,
     "start_time": "2023-11-03T23:39:18.279294",
     "status": "completed"
    },
    "tags": []
   },
   "outputs": [
    {
     "data": {
      "text/plain": [
       "PassengerId    0\n",
       "Pclass         0\n",
       "Name           0\n",
       "Sex            0\n",
       "Age            0\n",
       "SibSp          0\n",
       "ParCh          0\n",
       "Ticket         0\n",
       "Fare           0\n",
       "Cabin          0\n",
       "Embarked       0\n",
       "dtype: int64"
      ]
     },
     "execution_count": 11,
     "metadata": {},
     "output_type": "execute_result"
    }
   ],
   "source": [
    "dftest.isnull().sum()"
   ]
  },
  {
   "cell_type": "markdown",
   "id": "72d15859",
   "metadata": {
    "papermill": {
     "duration": 0.023981,
     "end_time": "2023-11-03T23:39:18.365737",
     "exception": false,
     "start_time": "2023-11-03T23:39:18.341756",
     "status": "completed"
    },
    "tags": []
   },
   "source": [
    "### **Tratandos valores nulos (dados de treinamento):**"
   ]
  },
  {
   "cell_type": "code",
   "execution_count": 12,
   "id": "47f18aba",
   "metadata": {
    "execution": {
     "iopub.execute_input": "2023-11-03T23:39:18.415658Z",
     "iopub.status.busy": "2023-11-03T23:39:18.414961Z",
     "iopub.status.idle": "2023-11-03T23:39:18.425744Z",
     "shell.execute_reply": "2023-11-03T23:39:18.424656Z"
    },
    "papermill": {
     "duration": 0.038543,
     "end_time": "2023-11-03T23:39:18.428164",
     "exception": false,
     "start_time": "2023-11-03T23:39:18.389621",
     "status": "completed"
    },
    "tags": []
   },
   "outputs": [
    {
     "data": {
      "text/plain": [
       "PassengerId      0\n",
       "Survived         0\n",
       "Pclass           0\n",
       "Name             0\n",
       "Sex              0\n",
       "Age            177\n",
       "SibSp            0\n",
       "Parch            0\n",
       "Ticket           0\n",
       "Fare             0\n",
       "Cabin          687\n",
       "Embarked         2\n",
       "dtype: int64"
      ]
     },
     "execution_count": 12,
     "metadata": {},
     "output_type": "execute_result"
    }
   ],
   "source": [
    "dftrain.isnull().sum()"
   ]
  },
  {
   "cell_type": "code",
   "execution_count": 13,
   "id": "b6d0a1b3",
   "metadata": {
    "execution": {
     "iopub.execute_input": "2023-11-03T23:39:18.478720Z",
     "iopub.status.busy": "2023-11-03T23:39:18.478326Z",
     "iopub.status.idle": "2023-11-03T23:39:18.491936Z",
     "shell.execute_reply": "2023-11-03T23:39:18.490524Z"
    },
    "papermill": {
     "duration": 0.042513,
     "end_time": "2023-11-03T23:39:18.494590",
     "exception": false,
     "start_time": "2023-11-03T23:39:18.452077",
     "status": "completed"
    },
    "tags": []
   },
   "outputs": [
    {
     "data": {
      "text/plain": [
       "PassengerId    0\n",
       "Survived       0\n",
       "Pclass         0\n",
       "Name           0\n",
       "Sex            0\n",
       "Age            0\n",
       "SibSp          0\n",
       "ParCh          0\n",
       "Ticket         0\n",
       "Fare           0\n",
       "Cabin          0\n",
       "Embarked       0\n",
       "dtype: int64"
      ]
     },
     "execution_count": 13,
     "metadata": {},
     "output_type": "execute_result"
    }
   ],
   "source": [
    "dftrain['Age'].fillna(dftrain['Age'].mean(), inplace=True)\n",
    "\n",
    "dftrain['Cabin'].fillna('missing', inplace=True)\n",
    "\n",
    "dftrain['Embarked'].fillna('S', inplace=True)\n",
    "\n",
    "dftrain.rename(columns={'Parch': 'ParCh'}, inplace=True)\n",
    "\n",
    "dftrain.isnull().sum()"
   ]
  },
  {
   "cell_type": "markdown",
   "id": "7de6ab24",
   "metadata": {
    "papermill": {
     "duration": 0.025738,
     "end_time": "2023-11-03T23:39:18.545238",
     "exception": false,
     "start_time": "2023-11-03T23:39:18.519500",
     "status": "completed"
    },
    "tags": []
   },
   "source": [
    "### Análise Descritiva e Visualização"
   ]
  },
  {
   "cell_type": "code",
   "execution_count": 14,
   "id": "70b05266",
   "metadata": {
    "execution": {
     "iopub.execute_input": "2023-11-03T23:39:18.595584Z",
     "iopub.status.busy": "2023-11-03T23:39:18.595133Z",
     "iopub.status.idle": "2023-11-03T23:39:18.631495Z",
     "shell.execute_reply": "2023-11-03T23:39:18.630089Z"
    },
    "papermill": {
     "duration": 0.064387,
     "end_time": "2023-11-03T23:39:18.634212",
     "exception": false,
     "start_time": "2023-11-03T23:39:18.569825",
     "status": "completed"
    },
    "tags": []
   },
   "outputs": [
    {
     "data": {
      "text/html": [
       "<div>\n",
       "<style scoped>\n",
       "    .dataframe tbody tr th:only-of-type {\n",
       "        vertical-align: middle;\n",
       "    }\n",
       "\n",
       "    .dataframe tbody tr th {\n",
       "        vertical-align: top;\n",
       "    }\n",
       "\n",
       "    .dataframe thead th {\n",
       "        text-align: right;\n",
       "    }\n",
       "</style>\n",
       "<table border=\"1\" class=\"dataframe\">\n",
       "  <thead>\n",
       "    <tr style=\"text-align: right;\">\n",
       "      <th></th>\n",
       "      <th>PassengerId</th>\n",
       "      <th>Survived</th>\n",
       "      <th>Pclass</th>\n",
       "      <th>Age</th>\n",
       "      <th>SibSp</th>\n",
       "      <th>ParCh</th>\n",
       "      <th>Fare</th>\n",
       "    </tr>\n",
       "  </thead>\n",
       "  <tbody>\n",
       "    <tr>\n",
       "      <th>count</th>\n",
       "      <td>891.000000</td>\n",
       "      <td>891.000000</td>\n",
       "      <td>891.000000</td>\n",
       "      <td>891.000000</td>\n",
       "      <td>891.000000</td>\n",
       "      <td>891.000000</td>\n",
       "      <td>891.000000</td>\n",
       "    </tr>\n",
       "    <tr>\n",
       "      <th>mean</th>\n",
       "      <td>446.000000</td>\n",
       "      <td>0.383838</td>\n",
       "      <td>2.308642</td>\n",
       "      <td>29.699118</td>\n",
       "      <td>0.523008</td>\n",
       "      <td>0.381594</td>\n",
       "      <td>32.204208</td>\n",
       "    </tr>\n",
       "    <tr>\n",
       "      <th>std</th>\n",
       "      <td>257.353842</td>\n",
       "      <td>0.486592</td>\n",
       "      <td>0.836071</td>\n",
       "      <td>13.002015</td>\n",
       "      <td>1.102743</td>\n",
       "      <td>0.806057</td>\n",
       "      <td>49.693429</td>\n",
       "    </tr>\n",
       "    <tr>\n",
       "      <th>min</th>\n",
       "      <td>1.000000</td>\n",
       "      <td>0.000000</td>\n",
       "      <td>1.000000</td>\n",
       "      <td>0.420000</td>\n",
       "      <td>0.000000</td>\n",
       "      <td>0.000000</td>\n",
       "      <td>0.000000</td>\n",
       "    </tr>\n",
       "    <tr>\n",
       "      <th>25%</th>\n",
       "      <td>223.500000</td>\n",
       "      <td>0.000000</td>\n",
       "      <td>2.000000</td>\n",
       "      <td>22.000000</td>\n",
       "      <td>0.000000</td>\n",
       "      <td>0.000000</td>\n",
       "      <td>7.910400</td>\n",
       "    </tr>\n",
       "    <tr>\n",
       "      <th>50%</th>\n",
       "      <td>446.000000</td>\n",
       "      <td>0.000000</td>\n",
       "      <td>3.000000</td>\n",
       "      <td>29.699118</td>\n",
       "      <td>0.000000</td>\n",
       "      <td>0.000000</td>\n",
       "      <td>14.454200</td>\n",
       "    </tr>\n",
       "    <tr>\n",
       "      <th>75%</th>\n",
       "      <td>668.500000</td>\n",
       "      <td>1.000000</td>\n",
       "      <td>3.000000</td>\n",
       "      <td>35.000000</td>\n",
       "      <td>1.000000</td>\n",
       "      <td>0.000000</td>\n",
       "      <td>31.000000</td>\n",
       "    </tr>\n",
       "    <tr>\n",
       "      <th>max</th>\n",
       "      <td>891.000000</td>\n",
       "      <td>1.000000</td>\n",
       "      <td>3.000000</td>\n",
       "      <td>80.000000</td>\n",
       "      <td>8.000000</td>\n",
       "      <td>6.000000</td>\n",
       "      <td>512.329200</td>\n",
       "    </tr>\n",
       "  </tbody>\n",
       "</table>\n",
       "</div>"
      ],
      "text/plain": [
       "       PassengerId    Survived      Pclass         Age       SibSp  \\\n",
       "count   891.000000  891.000000  891.000000  891.000000  891.000000   \n",
       "mean    446.000000    0.383838    2.308642   29.699118    0.523008   \n",
       "std     257.353842    0.486592    0.836071   13.002015    1.102743   \n",
       "min       1.000000    0.000000    1.000000    0.420000    0.000000   \n",
       "25%     223.500000    0.000000    2.000000   22.000000    0.000000   \n",
       "50%     446.000000    0.000000    3.000000   29.699118    0.000000   \n",
       "75%     668.500000    1.000000    3.000000   35.000000    1.000000   \n",
       "max     891.000000    1.000000    3.000000   80.000000    8.000000   \n",
       "\n",
       "            ParCh        Fare  \n",
       "count  891.000000  891.000000  \n",
       "mean     0.381594   32.204208  \n",
       "std      0.806057   49.693429  \n",
       "min      0.000000    0.000000  \n",
       "25%      0.000000    7.910400  \n",
       "50%      0.000000   14.454200  \n",
       "75%      0.000000   31.000000  \n",
       "max      6.000000  512.329200  "
      ]
     },
     "execution_count": 14,
     "metadata": {},
     "output_type": "execute_result"
    }
   ],
   "source": [
    "dftrain.describe()"
   ]
  },
  {
   "cell_type": "code",
   "execution_count": 15,
   "id": "4d3e1741",
   "metadata": {
    "execution": {
     "iopub.execute_input": "2023-11-03T23:39:18.687201Z",
     "iopub.status.busy": "2023-11-03T23:39:18.686740Z",
     "iopub.status.idle": "2023-11-03T23:39:20.274676Z",
     "shell.execute_reply": "2023-11-03T23:39:20.273528Z"
    },
    "papermill": {
     "duration": 1.617057,
     "end_time": "2023-11-03T23:39:20.277133",
     "exception": false,
     "start_time": "2023-11-03T23:39:18.660076",
     "status": "completed"
    },
    "tags": []
   },
   "outputs": [
    {
     "data": {
      "text/html": [
       "        <script type=\"text/javascript\">\n",
       "        window.PlotlyConfig = {MathJaxConfig: 'local'};\n",
       "        if (window.MathJax && window.MathJax.Hub && window.MathJax.Hub.Config) {window.MathJax.Hub.Config({SVG: {font: \"STIX-Web\"}});}\n",
       "        if (typeof require !== 'undefined') {\n",
       "        require.undef(\"plotly\");\n",
       "        requirejs.config({\n",
       "            paths: {\n",
       "                'plotly': ['https://cdn.plot.ly/plotly-2.24.1.min']\n",
       "            }\n",
       "        });\n",
       "        require(['plotly'], function(Plotly) {\n",
       "            window._Plotly = Plotly;\n",
       "        });\n",
       "        }\n",
       "        </script>\n",
       "        "
      ]
     },
     "metadata": {},
     "output_type": "display_data"
    },
    {
     "data": {
      "text/html": [
       "<div>                            <div id=\"49eb1541-15d4-489c-8534-6cebfcd2b34f\" class=\"plotly-graph-div\" style=\"height:525px; width:100%;\"></div>            <script type=\"text/javascript\">                require([\"plotly\"], function(Plotly) {                    window.PLOTLYENV=window.PLOTLYENV || {};                                    if (document.getElementById(\"49eb1541-15d4-489c-8534-6cebfcd2b34f\")) {                    Plotly.newPlot(                        \"49eb1541-15d4-489c-8534-6cebfcd2b34f\",                        [{\"name\":\"Age\",\"x\":[22.0,38.0,26.0,35.0,35.0,29.69911764705882,54.0,2.0,27.0,14.0,4.0,58.0,20.0,39.0,14.0,55.0,2.0,29.69911764705882,31.0,29.69911764705882,35.0,34.0,15.0,28.0,8.0,38.0,29.69911764705882,19.0,29.69911764705882,29.69911764705882,40.0,29.69911764705882,29.69911764705882,66.0,28.0,42.0,29.69911764705882,21.0,18.0,14.0,40.0,27.0,29.69911764705882,3.0,19.0,29.69911764705882,29.69911764705882,29.69911764705882,29.69911764705882,18.0,7.0,21.0,49.0,29.0,65.0,29.69911764705882,21.0,28.5,5.0,11.0,22.0,38.0,45.0,4.0,29.69911764705882,29.69911764705882,29.0,19.0,17.0,26.0,32.0,16.0,21.0,26.0,32.0,25.0,29.69911764705882,29.69911764705882,0.83,30.0,22.0,29.0,29.69911764705882,28.0,17.0,33.0,16.0,29.69911764705882,23.0,24.0,29.0,20.0,46.0,26.0,59.0,29.69911764705882,71.0,23.0,34.0,34.0,28.0,29.69911764705882,21.0,33.0,37.0,28.0,21.0,29.69911764705882,38.0,29.69911764705882,47.0,14.5,22.0,20.0,17.0,21.0,70.5,29.0,24.0,2.0,21.0,29.69911764705882,32.5,32.5,54.0,12.0,29.69911764705882,24.0,29.69911764705882,45.0,33.0,20.0,47.0,29.0,25.0,23.0,19.0,37.0,16.0,24.0,29.69911764705882,22.0,24.0,19.0,18.0,19.0,27.0,9.0,36.5,42.0,51.0,22.0,55.5,40.5,29.69911764705882,51.0,16.0,30.0,29.69911764705882,29.69911764705882,44.0,40.0,26.0,17.0,1.0,9.0,29.69911764705882,45.0,29.69911764705882,28.0,61.0,4.0,1.0,21.0,56.0,18.0,29.69911764705882,50.0,30.0,36.0,29.69911764705882,29.69911764705882,9.0,1.0,4.0,29.69911764705882,29.69911764705882,45.0,40.0,36.0,32.0,19.0,19.0,3.0,44.0,58.0,29.69911764705882,42.0,29.69911764705882,24.0,28.0,29.69911764705882,34.0,45.5,18.0,2.0,32.0,26.0,16.0,40.0,24.0,35.0,22.0,30.0,29.69911764705882,31.0,27.0,42.0,32.0,30.0,16.0,27.0,51.0,29.69911764705882,38.0,22.0,19.0,20.5,18.0,29.69911764705882,35.0,29.0,59.0,5.0,24.0,29.69911764705882,44.0,8.0,19.0,33.0,29.69911764705882,29.69911764705882,29.0,22.0,30.0,44.0,25.0,24.0,37.0,54.0,29.69911764705882,29.0,62.0,30.0,41.0,29.0,29.69911764705882,30.0,35.0,50.0,29.69911764705882,3.0,52.0,40.0,29.69911764705882,36.0,16.0,25.0,58.0,35.0,29.69911764705882,25.0,41.0,37.0,29.69911764705882,63.0,45.0,29.69911764705882,7.0,35.0,65.0,28.0,16.0,19.0,29.69911764705882,33.0,30.0,22.0,42.0,22.0,26.0,19.0,36.0,24.0,24.0,29.69911764705882,23.5,2.0,29.69911764705882,50.0,29.69911764705882,29.69911764705882,19.0,29.69911764705882,29.69911764705882,0.92,29.69911764705882,17.0,30.0,30.0,24.0,18.0,26.0,28.0,43.0,26.0,24.0,54.0,31.0,40.0,22.0,27.0,30.0,22.0,29.69911764705882,36.0,61.0,36.0,31.0,16.0,29.69911764705882,45.5,38.0,16.0,29.69911764705882,29.69911764705882,29.0,41.0,45.0,45.0,2.0,24.0,28.0,25.0,36.0,24.0,40.0,29.69911764705882,3.0,42.0,23.0,29.69911764705882,15.0,25.0,29.69911764705882,28.0,22.0,38.0,29.69911764705882,29.69911764705882,40.0,29.0,45.0,35.0,29.69911764705882,30.0,60.0,29.69911764705882,29.69911764705882,24.0,25.0,18.0,19.0,22.0,3.0,29.69911764705882,22.0,27.0,20.0,19.0,42.0,1.0,32.0,35.0,29.69911764705882,18.0,1.0,36.0,29.69911764705882,17.0,36.0,21.0,28.0,23.0,24.0,22.0,31.0,46.0,23.0,28.0,39.0,26.0,21.0,28.0,20.0,34.0,51.0,3.0,21.0,29.69911764705882,29.69911764705882,29.69911764705882,33.0,29.69911764705882,44.0,29.69911764705882,34.0,18.0,30.0,10.0,29.69911764705882,21.0,29.0,28.0,18.0,29.69911764705882,28.0,19.0,29.69911764705882,32.0,28.0,29.69911764705882,42.0,17.0,50.0,14.0,21.0,24.0,64.0,31.0,45.0,20.0,25.0,28.0,29.69911764705882,4.0,13.0,34.0,5.0,52.0,36.0,29.69911764705882,30.0,49.0,29.69911764705882,29.0,65.0,29.69911764705882,50.0,29.69911764705882,48.0,34.0,47.0,48.0,29.69911764705882,38.0,29.69911764705882,56.0,29.69911764705882,0.75,29.69911764705882,38.0,33.0,23.0,22.0,29.69911764705882,34.0,29.0,22.0,2.0,9.0,29.69911764705882,50.0,63.0,25.0,29.69911764705882,35.0,58.0,30.0,9.0,29.69911764705882,21.0,55.0,71.0,21.0,29.69911764705882,54.0,29.69911764705882,25.0,24.0,17.0,21.0,29.69911764705882,37.0,16.0,18.0,33.0,29.69911764705882,28.0,26.0,29.0,29.69911764705882,36.0,54.0,24.0,47.0,34.0,29.69911764705882,36.0,32.0,30.0,22.0,29.69911764705882,44.0,29.69911764705882,40.5,50.0,29.69911764705882,39.0,23.0,2.0,29.69911764705882,17.0,29.69911764705882,30.0,7.0,45.0,30.0,29.69911764705882,22.0,36.0,9.0,11.0,32.0,50.0,64.0,19.0,29.69911764705882,33.0,8.0,17.0,27.0,29.69911764705882,22.0,22.0,62.0,48.0,29.69911764705882,39.0,36.0,29.69911764705882,40.0,28.0,29.69911764705882,29.69911764705882,24.0,19.0,29.0,29.69911764705882,32.0,62.0,53.0,36.0,29.69911764705882,16.0,19.0,34.0,39.0,29.69911764705882,32.0,25.0,39.0,54.0,36.0,29.69911764705882,18.0,47.0,60.0,22.0,29.69911764705882,35.0,52.0,47.0,29.69911764705882,37.0,36.0,29.69911764705882,49.0,29.69911764705882,49.0,24.0,29.69911764705882,29.69911764705882,44.0,35.0,36.0,30.0,27.0,22.0,40.0,39.0,29.69911764705882,29.69911764705882,29.69911764705882,35.0,24.0,34.0,26.0,4.0,26.0,27.0,42.0,20.0,21.0,21.0,61.0,57.0,21.0,26.0,29.69911764705882,80.0,51.0,32.0,29.69911764705882,9.0,28.0,32.0,31.0,41.0,29.69911764705882,20.0,24.0,2.0,29.69911764705882,0.75,48.0,19.0,56.0,29.69911764705882,23.0,29.69911764705882,18.0,21.0,29.69911764705882,18.0,24.0,29.69911764705882,32.0,23.0,58.0,50.0,40.0,47.0,36.0,20.0,32.0,25.0,29.69911764705882,43.0,29.69911764705882,40.0,31.0,70.0,31.0,29.69911764705882,18.0,24.5,18.0,43.0,36.0,29.69911764705882,27.0,20.0,14.0,60.0,25.0,14.0,19.0,18.0,15.0,31.0,4.0,29.69911764705882,25.0,60.0,52.0,44.0,29.69911764705882,49.0,42.0,18.0,35.0,18.0,25.0,26.0,39.0,45.0,42.0,22.0,29.69911764705882,24.0,29.69911764705882,48.0,29.0,52.0,19.0,38.0,27.0,29.69911764705882,33.0,6.0,17.0,34.0,50.0,27.0,20.0,30.0,29.69911764705882,25.0,25.0,29.0,11.0,29.69911764705882,23.0,23.0,28.5,48.0,35.0,29.69911764705882,29.69911764705882,29.69911764705882,36.0,21.0,24.0,31.0,70.0,16.0,30.0,19.0,31.0,4.0,6.0,33.0,23.0,48.0,0.67,28.0,18.0,34.0,33.0,29.69911764705882,41.0,20.0,36.0,16.0,51.0,29.69911764705882,30.5,29.69911764705882,32.0,24.0,48.0,57.0,29.69911764705882,54.0,18.0,29.69911764705882,5.0,29.69911764705882,43.0,13.0,17.0,29.0,29.69911764705882,25.0,25.0,18.0,8.0,1.0,46.0,29.69911764705882,16.0,29.69911764705882,29.69911764705882,25.0,39.0,49.0,31.0,30.0,30.0,34.0,31.0,11.0,0.42,27.0,31.0,39.0,18.0,39.0,33.0,26.0,39.0,35.0,6.0,30.5,29.69911764705882,23.0,31.0,43.0,10.0,52.0,27.0,38.0,27.0,2.0,29.69911764705882,29.69911764705882,1.0,29.69911764705882,62.0,15.0,0.83,29.69911764705882,23.0,18.0,39.0,21.0,29.69911764705882,32.0,29.69911764705882,20.0,16.0,30.0,34.5,17.0,42.0,29.69911764705882,35.0,28.0,29.69911764705882,4.0,74.0,9.0,16.0,44.0,18.0,45.0,51.0,24.0,29.69911764705882,41.0,21.0,48.0,29.69911764705882,24.0,42.0,27.0,31.0,29.69911764705882,4.0,26.0,47.0,33.0,47.0,28.0,15.0,20.0,19.0,29.69911764705882,56.0,25.0,33.0,22.0,28.0,25.0,39.0,27.0,19.0,29.69911764705882,26.0,32.0],\"type\":\"histogram\"}],                        {\"template\":{\"data\":{\"barpolar\":[{\"marker\":{\"line\":{\"color\":\"#E5ECF6\",\"width\":0.5},\"pattern\":{\"fillmode\":\"overlay\",\"size\":10,\"solidity\":0.2}},\"type\":\"barpolar\"}],\"bar\":[{\"error_x\":{\"color\":\"#2a3f5f\"},\"error_y\":{\"color\":\"#2a3f5f\"},\"marker\":{\"line\":{\"color\":\"#E5ECF6\",\"width\":0.5},\"pattern\":{\"fillmode\":\"overlay\",\"size\":10,\"solidity\":0.2}},\"type\":\"bar\"}],\"carpet\":[{\"aaxis\":{\"endlinecolor\":\"#2a3f5f\",\"gridcolor\":\"white\",\"linecolor\":\"white\",\"minorgridcolor\":\"white\",\"startlinecolor\":\"#2a3f5f\"},\"baxis\":{\"endlinecolor\":\"#2a3f5f\",\"gridcolor\":\"white\",\"linecolor\":\"white\",\"minorgridcolor\":\"white\",\"startlinecolor\":\"#2a3f5f\"},\"type\":\"carpet\"}],\"choropleth\":[{\"colorbar\":{\"outlinewidth\":0,\"ticks\":\"\"},\"type\":\"choropleth\"}],\"contourcarpet\":[{\"colorbar\":{\"outlinewidth\":0,\"ticks\":\"\"},\"type\":\"contourcarpet\"}],\"contour\":[{\"colorbar\":{\"outlinewidth\":0,\"ticks\":\"\"},\"colorscale\":[[0.0,\"#0d0887\"],[0.1111111111111111,\"#46039f\"],[0.2222222222222222,\"#7201a8\"],[0.3333333333333333,\"#9c179e\"],[0.4444444444444444,\"#bd3786\"],[0.5555555555555556,\"#d8576b\"],[0.6666666666666666,\"#ed7953\"],[0.7777777777777778,\"#fb9f3a\"],[0.8888888888888888,\"#fdca26\"],[1.0,\"#f0f921\"]],\"type\":\"contour\"}],\"heatmapgl\":[{\"colorbar\":{\"outlinewidth\":0,\"ticks\":\"\"},\"colorscale\":[[0.0,\"#0d0887\"],[0.1111111111111111,\"#46039f\"],[0.2222222222222222,\"#7201a8\"],[0.3333333333333333,\"#9c179e\"],[0.4444444444444444,\"#bd3786\"],[0.5555555555555556,\"#d8576b\"],[0.6666666666666666,\"#ed7953\"],[0.7777777777777778,\"#fb9f3a\"],[0.8888888888888888,\"#fdca26\"],[1.0,\"#f0f921\"]],\"type\":\"heatmapgl\"}],\"heatmap\":[{\"colorbar\":{\"outlinewidth\":0,\"ticks\":\"\"},\"colorscale\":[[0.0,\"#0d0887\"],[0.1111111111111111,\"#46039f\"],[0.2222222222222222,\"#7201a8\"],[0.3333333333333333,\"#9c179e\"],[0.4444444444444444,\"#bd3786\"],[0.5555555555555556,\"#d8576b\"],[0.6666666666666666,\"#ed7953\"],[0.7777777777777778,\"#fb9f3a\"],[0.8888888888888888,\"#fdca26\"],[1.0,\"#f0f921\"]],\"type\":\"heatmap\"}],\"histogram2dcontour\":[{\"colorbar\":{\"outlinewidth\":0,\"ticks\":\"\"},\"colorscale\":[[0.0,\"#0d0887\"],[0.1111111111111111,\"#46039f\"],[0.2222222222222222,\"#7201a8\"],[0.3333333333333333,\"#9c179e\"],[0.4444444444444444,\"#bd3786\"],[0.5555555555555556,\"#d8576b\"],[0.6666666666666666,\"#ed7953\"],[0.7777777777777778,\"#fb9f3a\"],[0.8888888888888888,\"#fdca26\"],[1.0,\"#f0f921\"]],\"type\":\"histogram2dcontour\"}],\"histogram2d\":[{\"colorbar\":{\"outlinewidth\":0,\"ticks\":\"\"},\"colorscale\":[[0.0,\"#0d0887\"],[0.1111111111111111,\"#46039f\"],[0.2222222222222222,\"#7201a8\"],[0.3333333333333333,\"#9c179e\"],[0.4444444444444444,\"#bd3786\"],[0.5555555555555556,\"#d8576b\"],[0.6666666666666666,\"#ed7953\"],[0.7777777777777778,\"#fb9f3a\"],[0.8888888888888888,\"#fdca26\"],[1.0,\"#f0f921\"]],\"type\":\"histogram2d\"}],\"histogram\":[{\"marker\":{\"pattern\":{\"fillmode\":\"overlay\",\"size\":10,\"solidity\":0.2}},\"type\":\"histogram\"}],\"mesh3d\":[{\"colorbar\":{\"outlinewidth\":0,\"ticks\":\"\"},\"type\":\"mesh3d\"}],\"parcoords\":[{\"line\":{\"colorbar\":{\"outlinewidth\":0,\"ticks\":\"\"}},\"type\":\"parcoords\"}],\"pie\":[{\"automargin\":true,\"type\":\"pie\"}],\"scatter3d\":[{\"line\":{\"colorbar\":{\"outlinewidth\":0,\"ticks\":\"\"}},\"marker\":{\"colorbar\":{\"outlinewidth\":0,\"ticks\":\"\"}},\"type\":\"scatter3d\"}],\"scattercarpet\":[{\"marker\":{\"colorbar\":{\"outlinewidth\":0,\"ticks\":\"\"}},\"type\":\"scattercarpet\"}],\"scattergeo\":[{\"marker\":{\"colorbar\":{\"outlinewidth\":0,\"ticks\":\"\"}},\"type\":\"scattergeo\"}],\"scattergl\":[{\"marker\":{\"colorbar\":{\"outlinewidth\":0,\"ticks\":\"\"}},\"type\":\"scattergl\"}],\"scattermapbox\":[{\"marker\":{\"colorbar\":{\"outlinewidth\":0,\"ticks\":\"\"}},\"type\":\"scattermapbox\"}],\"scatterpolargl\":[{\"marker\":{\"colorbar\":{\"outlinewidth\":0,\"ticks\":\"\"}},\"type\":\"scatterpolargl\"}],\"scatterpolar\":[{\"marker\":{\"colorbar\":{\"outlinewidth\":0,\"ticks\":\"\"}},\"type\":\"scatterpolar\"}],\"scatter\":[{\"fillpattern\":{\"fillmode\":\"overlay\",\"size\":10,\"solidity\":0.2},\"type\":\"scatter\"}],\"scatterternary\":[{\"marker\":{\"colorbar\":{\"outlinewidth\":0,\"ticks\":\"\"}},\"type\":\"scatterternary\"}],\"surface\":[{\"colorbar\":{\"outlinewidth\":0,\"ticks\":\"\"},\"colorscale\":[[0.0,\"#0d0887\"],[0.1111111111111111,\"#46039f\"],[0.2222222222222222,\"#7201a8\"],[0.3333333333333333,\"#9c179e\"],[0.4444444444444444,\"#bd3786\"],[0.5555555555555556,\"#d8576b\"],[0.6666666666666666,\"#ed7953\"],[0.7777777777777778,\"#fb9f3a\"],[0.8888888888888888,\"#fdca26\"],[1.0,\"#f0f921\"]],\"type\":\"surface\"}],\"table\":[{\"cells\":{\"fill\":{\"color\":\"#EBF0F8\"},\"line\":{\"color\":\"white\"}},\"header\":{\"fill\":{\"color\":\"#C8D4E3\"},\"line\":{\"color\":\"white\"}},\"type\":\"table\"}]},\"layout\":{\"annotationdefaults\":{\"arrowcolor\":\"#2a3f5f\",\"arrowhead\":0,\"arrowwidth\":1},\"autotypenumbers\":\"strict\",\"coloraxis\":{\"colorbar\":{\"outlinewidth\":0,\"ticks\":\"\"}},\"colorscale\":{\"diverging\":[[0,\"#8e0152\"],[0.1,\"#c51b7d\"],[0.2,\"#de77ae\"],[0.3,\"#f1b6da\"],[0.4,\"#fde0ef\"],[0.5,\"#f7f7f7\"],[0.6,\"#e6f5d0\"],[0.7,\"#b8e186\"],[0.8,\"#7fbc41\"],[0.9,\"#4d9221\"],[1,\"#276419\"]],\"sequential\":[[0.0,\"#0d0887\"],[0.1111111111111111,\"#46039f\"],[0.2222222222222222,\"#7201a8\"],[0.3333333333333333,\"#9c179e\"],[0.4444444444444444,\"#bd3786\"],[0.5555555555555556,\"#d8576b\"],[0.6666666666666666,\"#ed7953\"],[0.7777777777777778,\"#fb9f3a\"],[0.8888888888888888,\"#fdca26\"],[1.0,\"#f0f921\"]],\"sequentialminus\":[[0.0,\"#0d0887\"],[0.1111111111111111,\"#46039f\"],[0.2222222222222222,\"#7201a8\"],[0.3333333333333333,\"#9c179e\"],[0.4444444444444444,\"#bd3786\"],[0.5555555555555556,\"#d8576b\"],[0.6666666666666666,\"#ed7953\"],[0.7777777777777778,\"#fb9f3a\"],[0.8888888888888888,\"#fdca26\"],[1.0,\"#f0f921\"]]},\"colorway\":[\"#636efa\",\"#EF553B\",\"#00cc96\",\"#ab63fa\",\"#FFA15A\",\"#19d3f3\",\"#FF6692\",\"#B6E880\",\"#FF97FF\",\"#FECB52\"],\"font\":{\"color\":\"#2a3f5f\"},\"geo\":{\"bgcolor\":\"white\",\"lakecolor\":\"white\",\"landcolor\":\"#E5ECF6\",\"showlakes\":true,\"showland\":true,\"subunitcolor\":\"white\"},\"hoverlabel\":{\"align\":\"left\"},\"hovermode\":\"closest\",\"mapbox\":{\"style\":\"light\"},\"paper_bgcolor\":\"white\",\"plot_bgcolor\":\"#E5ECF6\",\"polar\":{\"angularaxis\":{\"gridcolor\":\"white\",\"linecolor\":\"white\",\"ticks\":\"\"},\"bgcolor\":\"#E5ECF6\",\"radialaxis\":{\"gridcolor\":\"white\",\"linecolor\":\"white\",\"ticks\":\"\"}},\"scene\":{\"xaxis\":{\"backgroundcolor\":\"#E5ECF6\",\"gridcolor\":\"white\",\"gridwidth\":2,\"linecolor\":\"white\",\"showbackground\":true,\"ticks\":\"\",\"zerolinecolor\":\"white\"},\"yaxis\":{\"backgroundcolor\":\"#E5ECF6\",\"gridcolor\":\"white\",\"gridwidth\":2,\"linecolor\":\"white\",\"showbackground\":true,\"ticks\":\"\",\"zerolinecolor\":\"white\"},\"zaxis\":{\"backgroundcolor\":\"#E5ECF6\",\"gridcolor\":\"white\",\"gridwidth\":2,\"linecolor\":\"white\",\"showbackground\":true,\"ticks\":\"\",\"zerolinecolor\":\"white\"}},\"shapedefaults\":{\"line\":{\"color\":\"#2a3f5f\"}},\"ternary\":{\"aaxis\":{\"gridcolor\":\"white\",\"linecolor\":\"white\",\"ticks\":\"\"},\"baxis\":{\"gridcolor\":\"white\",\"linecolor\":\"white\",\"ticks\":\"\"},\"bgcolor\":\"#E5ECF6\",\"caxis\":{\"gridcolor\":\"white\",\"linecolor\":\"white\",\"ticks\":\"\"}},\"title\":{\"x\":0.05},\"xaxis\":{\"automargin\":true,\"gridcolor\":\"white\",\"linecolor\":\"white\",\"ticks\":\"\",\"title\":{\"standoff\":15},\"zerolinecolor\":\"white\",\"zerolinewidth\":2},\"yaxis\":{\"automargin\":true,\"gridcolor\":\"white\",\"linecolor\":\"white\",\"ticks\":\"\",\"title\":{\"standoff\":15},\"zerolinecolor\":\"white\",\"zerolinewidth\":2}}},\"title\":{\"text\":\"Frequency in the Training Set\"},\"xaxis\":{\"title\":{\"text\":\"Values\"}},\"yaxis\":{\"title\":{\"text\":\"Frequency\"}}},                        {\"responsive\": true}                    ).then(function(){\n",
       "                            \n",
       "var gd = document.getElementById('49eb1541-15d4-489c-8534-6cebfcd2b34f');\n",
       "var x = new MutationObserver(function (mutations, observer) {{\n",
       "        var display = window.getComputedStyle(gd).display;\n",
       "        if (!display || display === 'none') {{\n",
       "            console.log([gd, 'removed!']);\n",
       "            Plotly.purge(gd);\n",
       "            observer.disconnect();\n",
       "        }}\n",
       "}});\n",
       "\n",
       "// Listen for the removal of the full notebook cells\n",
       "var notebookContainer = gd.closest('#notebook-container');\n",
       "if (notebookContainer) {{\n",
       "    x.observe(notebookContainer, {childList: true});\n",
       "}}\n",
       "\n",
       "// Listen for the clearing of the current output cell\n",
       "var outputEl = gd.closest('.output');\n",
       "if (outputEl) {{\n",
       "    x.observe(outputEl, {childList: true});\n",
       "}}\n",
       "\n",
       "                        })                };                });            </script>        </div>"
      ]
     },
     "metadata": {},
     "output_type": "display_data"
    }
   ],
   "source": [
    "import plotly.graph_objs as go\n",
    "\n",
    "hist = go.Histogram(x=dftrain['Age'], name='Age')\n",
    "\n",
    "layout = go.Layout(\n",
    "    title=\"Frequency in the Training Set\",\n",
    "    xaxis=dict(title=\"Values\"),\n",
    "    yaxis=dict(title=\"Frequency\"),\n",
    ")\n",
    "\n",
    "fig = go.Figure(data=[hist], layout=layout)\n",
    "\n",
    "pyo.iplot(fig)"
   ]
  },
  {
   "cell_type": "code",
   "execution_count": 16,
   "id": "197f7d6c",
   "metadata": {
    "execution": {
     "iopub.execute_input": "2023-11-03T23:39:20.332712Z",
     "iopub.status.busy": "2023-11-03T23:39:20.331509Z",
     "iopub.status.idle": "2023-11-03T23:39:20.371850Z",
     "shell.execute_reply": "2023-11-03T23:39:20.370666Z"
    },
    "papermill": {
     "duration": 0.069175,
     "end_time": "2023-11-03T23:39:20.374425",
     "exception": false,
     "start_time": "2023-11-03T23:39:20.305250",
     "status": "completed"
    },
    "tags": []
   },
   "outputs": [
    {
     "data": {
      "text/html": [
       "<div>                            <div id=\"6e53f1e4-cc01-4382-9555-c50e9159245a\" class=\"plotly-graph-div\" style=\"height:525px; width:100%;\"></div>            <script type=\"text/javascript\">                require([\"plotly\"], function(Plotly) {                    window.PLOTLYENV=window.PLOTLYENV || {};                                    if (document.getElementById(\"6e53f1e4-cc01-4382-9555-c50e9159245a\")) {                    Plotly.newPlot(                        \"6e53f1e4-cc01-4382-9555-c50e9159245a\",                        [{\"name\":\"Fare\",\"x\":[7.25,71.2833,7.925,53.1,8.05,8.4583,51.8625,21.075,11.1333,30.0708,16.7,26.55,8.05,31.275,7.8542,16.0,29.125,13.0,18.0,7.225,26.0,13.0,8.0292,35.5,21.075,31.3875,7.225,263.0,7.8792,7.8958,27.7208,146.5208,7.75,10.5,82.1708,52.0,7.2292,8.05,18.0,11.2417,9.475,21.0,7.8958,41.5792,7.8792,8.05,15.5,7.75,21.6792,17.8,39.6875,7.8,76.7292,26.0,61.9792,35.5,10.5,7.2292,27.75,46.9,7.2292,80.0,83.475,27.9,27.7208,15.2458,10.5,8.1583,7.925,8.6625,10.5,46.9,73.5,14.4542,56.4958,7.65,7.8958,8.05,29.0,12.475,9.0,9.5,7.7875,47.1,10.5,15.85,34.375,8.05,263.0,8.05,8.05,7.8542,61.175,20.575,7.25,8.05,34.6542,63.3583,23.0,26.0,7.8958,7.8958,77.2875,8.6542,7.925,7.8958,7.65,7.775,7.8958,24.15,52.0,14.4542,8.05,9.825,14.4583,7.925,7.75,21.0,247.5208,31.275,73.5,8.05,30.0708,13.0,77.2875,11.2417,7.75,7.1417,22.3583,6.975,7.8958,7.05,14.5,26.0,13.0,15.0458,26.2833,53.1,9.2167,79.2,15.2458,7.75,15.85,6.75,11.5,36.75,7.7958,34.375,26.0,13.0,12.525,66.6,8.05,14.5,7.3125,61.3792,7.7333,8.05,8.6625,69.55,16.1,15.75,7.775,8.6625,39.6875,20.525,55.0,27.9,25.925,56.4958,33.5,29.125,11.1333,7.925,30.6958,7.8542,25.4667,28.7125,13.0,0.0,69.55,15.05,31.3875,39.0,22.025,50.0,15.5,26.55,15.5,7.8958,13.0,13.0,7.8542,26.0,27.7208,146.5208,7.75,8.4042,7.75,13.0,9.5,69.55,6.4958,7.225,8.05,10.4625,15.85,18.7875,7.75,31.0,7.05,21.0,7.25,13.0,7.75,113.275,7.925,27.0,76.2917,10.5,8.05,13.0,8.05,7.8958,90.0,9.35,10.5,7.25,13.0,25.4667,83.475,7.775,13.5,31.3875,10.5,7.55,26.0,26.25,10.5,12.275,14.4542,15.5,10.5,7.125,7.225,90.0,7.775,14.5,52.5542,26.0,7.25,10.4625,26.55,16.1,20.2125,15.2458,79.2,86.5,512.3292,26.0,7.75,31.3875,79.65,0.0,7.75,10.5,39.6875,7.775,153.4625,135.6333,31.0,0.0,19.5,29.7,7.75,77.9583,7.75,0.0,29.125,20.25,7.75,7.8542,9.5,8.05,26.0,8.6625,9.5,7.8958,13.0,7.75,78.85,91.0792,12.875,8.85,7.8958,27.7208,7.2292,151.55,30.5,247.5208,7.75,23.25,0.0,12.35,8.05,151.55,110.8833,108.9,24.0,56.9292,83.1583,262.375,26.0,7.8958,26.25,7.8542,26.0,14.0,164.8667,134.5,7.25,7.8958,12.35,29.0,69.55,135.6333,6.2375,13.0,20.525,57.9792,23.25,28.5,153.4625,18.0,133.65,7.8958,66.6,134.5,8.05,35.5,26.0,263.0,13.0,13.0,13.0,13.0,13.0,16.1,15.9,8.6625,9.225,35.0,7.2292,17.8,7.225,9.5,55.0,13.0,7.8792,7.8792,27.9,27.7208,14.4542,7.05,15.5,7.25,75.25,7.2292,7.75,69.3,55.4417,6.4958,8.05,135.6333,21.075,82.1708,7.25,211.5,4.0125,7.775,227.525,15.7417,7.925,52.0,7.8958,73.5,46.9,13.0,7.7292,12.0,120.0,7.7958,7.925,113.275,16.7,7.7958,7.8542,26.0,10.5,12.65,7.925,8.05,9.825,15.85,8.6625,21.0,7.75,18.75,7.775,25.4667,7.8958,6.8583,90.0,0.0,7.925,8.05,32.5,13.0,13.0,24.15,7.8958,7.7333,7.875,14.4,20.2125,7.25,26.0,26.0,7.75,8.05,26.55,16.1,26.0,7.125,55.9,120.0,34.375,18.75,263.0,10.5,26.25,9.5,7.775,13.0,8.1125,81.8583,19.5,26.55,19.2583,30.5,27.75,19.9667,27.75,89.1042,8.05,7.8958,26.55,51.8625,10.5,7.75,26.55,8.05,38.5,13.0,8.05,7.05,0.0,26.55,7.725,19.2583,7.25,8.6625,27.75,13.7917,9.8375,52.0,21.0,7.0458,7.5208,12.2875,46.9,0.0,8.05,9.5875,91.0792,25.4667,90.0,29.7,8.05,15.9,19.9667,7.25,30.5,49.5042,8.05,14.4583,78.2667,15.1,151.55,7.7958,8.6625,7.75,7.6292,9.5875,86.5,108.9,26.0,26.55,22.525,56.4958,7.75,8.05,26.2875,59.4,7.4958,34.0208,10.5,24.15,26.0,7.8958,93.5,7.8958,7.225,57.9792,7.2292,7.75,10.5,221.7792,7.925,11.5,26.0,7.2292,7.2292,22.3583,8.6625,26.25,26.55,106.425,14.5,49.5,71.0,31.275,31.275,26.0,106.425,26.0,26.0,13.8625,20.525,36.75,110.8833,26.0,7.8292,7.225,7.775,26.55,39.6,227.525,79.65,17.4,7.75,7.8958,13.5,8.05,8.05,24.15,7.8958,21.075,7.2292,7.8542,10.5,51.4792,26.3875,7.75,8.05,14.5,13.0,55.9,14.4583,7.925,30.0,110.8833,26.0,40.125,8.7125,79.65,15.0,79.2,8.05,8.05,7.125,78.2667,7.25,7.75,26.0,24.15,33.0,0.0,7.225,56.9292,27.0,7.8958,42.4,8.05,26.55,15.55,7.8958,30.5,41.5792,153.4625,31.275,7.05,15.5,7.75,8.05,65.0,14.4,16.1,39.0,10.5,14.4542,52.5542,15.7417,7.8542,16.1,32.3208,12.35,77.9583,7.8958,7.7333,30.0,7.0542,30.5,0.0,27.9,13.0,7.925,26.25,39.6875,16.1,7.8542,69.3,27.9,56.4958,19.2583,76.7292,7.8958,35.5,7.55,7.55,7.8958,23.0,8.4333,7.8292,6.75,73.5,7.8958,15.5,13.0,113.275,133.65,7.225,25.5875,7.4958,7.925,73.5,13.0,7.775,8.05,52.0,39.0,52.0,10.5,13.0,0.0,7.775,8.05,9.8417,46.9,512.3292,8.1375,76.7292,9.225,46.9,39.0,41.5792,39.6875,10.1708,7.7958,211.3375,57.0,13.4167,56.4958,7.225,26.55,13.5,8.05,7.7333,110.8833,7.65,227.525,26.2875,14.4542,7.7417,7.8542,26.0,13.5,26.2875,151.55,15.2458,49.5042,26.55,52.0,9.4833,13.0,7.65,227.525,10.5,15.5,7.775,33.0,7.0542,13.0,13.0,53.1,8.6625,21.0,7.7375,26.0,7.925,211.3375,18.7875,0.0,13.0,13.0,16.1,34.375,512.3292,7.8958,7.8958,30.0,78.85,262.375,16.1,7.925,71.0,20.25,13.0,53.1,7.75,23.0,12.475,9.5,7.8958,65.0,14.5,7.7958,11.5,8.05,86.5,14.5,7.125,7.2292,120.0,7.775,77.9583,39.6,7.75,24.15,8.3625,9.5,7.8542,10.5,7.225,23.0,7.75,7.75,12.475,7.7375,211.3375,7.2292,57.0,30.0,23.45,7.05,7.25,7.4958,29.125,20.575,79.2,7.75,26.0,69.55,30.6958,7.8958,13.0,25.9292,8.6833,7.2292,24.15,13.0,26.25,120.0,8.5167,6.975,7.775,0.0,7.775,13.0,53.1,7.8875,24.15,10.5,31.275,8.05,0.0,7.925,37.0042,6.45,27.9,93.5,8.6625,0.0,12.475,39.6875,6.95,56.4958,37.0042,7.75,80.0,14.4542,18.75,7.2292,7.8542,8.3,83.1583,8.6625,8.05,56.4958,29.7,7.925,10.5,31.0,6.4375,8.6625,7.55,69.55,7.8958,33.0,89.1042,31.275,7.775,15.2458,39.4,26.0,9.35,164.8667,26.55,19.2583,7.2292,14.1083,11.5,25.9292,69.55,13.0,13.0,13.8583,50.4958,9.5,11.1333,7.8958,52.5542,5.0,9.0,24.0,7.225,9.8458,7.8958,7.8958,83.1583,26.0,7.8958,10.5167,10.5,7.05,29.125,13.0,30.0,23.45,30.0,7.75],\"type\":\"histogram\"}],                        {\"template\":{\"data\":{\"barpolar\":[{\"marker\":{\"line\":{\"color\":\"#E5ECF6\",\"width\":0.5},\"pattern\":{\"fillmode\":\"overlay\",\"size\":10,\"solidity\":0.2}},\"type\":\"barpolar\"}],\"bar\":[{\"error_x\":{\"color\":\"#2a3f5f\"},\"error_y\":{\"color\":\"#2a3f5f\"},\"marker\":{\"line\":{\"color\":\"#E5ECF6\",\"width\":0.5},\"pattern\":{\"fillmode\":\"overlay\",\"size\":10,\"solidity\":0.2}},\"type\":\"bar\"}],\"carpet\":[{\"aaxis\":{\"endlinecolor\":\"#2a3f5f\",\"gridcolor\":\"white\",\"linecolor\":\"white\",\"minorgridcolor\":\"white\",\"startlinecolor\":\"#2a3f5f\"},\"baxis\":{\"endlinecolor\":\"#2a3f5f\",\"gridcolor\":\"white\",\"linecolor\":\"white\",\"minorgridcolor\":\"white\",\"startlinecolor\":\"#2a3f5f\"},\"type\":\"carpet\"}],\"choropleth\":[{\"colorbar\":{\"outlinewidth\":0,\"ticks\":\"\"},\"type\":\"choropleth\"}],\"contourcarpet\":[{\"colorbar\":{\"outlinewidth\":0,\"ticks\":\"\"},\"type\":\"contourcarpet\"}],\"contour\":[{\"colorbar\":{\"outlinewidth\":0,\"ticks\":\"\"},\"colorscale\":[[0.0,\"#0d0887\"],[0.1111111111111111,\"#46039f\"],[0.2222222222222222,\"#7201a8\"],[0.3333333333333333,\"#9c179e\"],[0.4444444444444444,\"#bd3786\"],[0.5555555555555556,\"#d8576b\"],[0.6666666666666666,\"#ed7953\"],[0.7777777777777778,\"#fb9f3a\"],[0.8888888888888888,\"#fdca26\"],[1.0,\"#f0f921\"]],\"type\":\"contour\"}],\"heatmapgl\":[{\"colorbar\":{\"outlinewidth\":0,\"ticks\":\"\"},\"colorscale\":[[0.0,\"#0d0887\"],[0.1111111111111111,\"#46039f\"],[0.2222222222222222,\"#7201a8\"],[0.3333333333333333,\"#9c179e\"],[0.4444444444444444,\"#bd3786\"],[0.5555555555555556,\"#d8576b\"],[0.6666666666666666,\"#ed7953\"],[0.7777777777777778,\"#fb9f3a\"],[0.8888888888888888,\"#fdca26\"],[1.0,\"#f0f921\"]],\"type\":\"heatmapgl\"}],\"heatmap\":[{\"colorbar\":{\"outlinewidth\":0,\"ticks\":\"\"},\"colorscale\":[[0.0,\"#0d0887\"],[0.1111111111111111,\"#46039f\"],[0.2222222222222222,\"#7201a8\"],[0.3333333333333333,\"#9c179e\"],[0.4444444444444444,\"#bd3786\"],[0.5555555555555556,\"#d8576b\"],[0.6666666666666666,\"#ed7953\"],[0.7777777777777778,\"#fb9f3a\"],[0.8888888888888888,\"#fdca26\"],[1.0,\"#f0f921\"]],\"type\":\"heatmap\"}],\"histogram2dcontour\":[{\"colorbar\":{\"outlinewidth\":0,\"ticks\":\"\"},\"colorscale\":[[0.0,\"#0d0887\"],[0.1111111111111111,\"#46039f\"],[0.2222222222222222,\"#7201a8\"],[0.3333333333333333,\"#9c179e\"],[0.4444444444444444,\"#bd3786\"],[0.5555555555555556,\"#d8576b\"],[0.6666666666666666,\"#ed7953\"],[0.7777777777777778,\"#fb9f3a\"],[0.8888888888888888,\"#fdca26\"],[1.0,\"#f0f921\"]],\"type\":\"histogram2dcontour\"}],\"histogram2d\":[{\"colorbar\":{\"outlinewidth\":0,\"ticks\":\"\"},\"colorscale\":[[0.0,\"#0d0887\"],[0.1111111111111111,\"#46039f\"],[0.2222222222222222,\"#7201a8\"],[0.3333333333333333,\"#9c179e\"],[0.4444444444444444,\"#bd3786\"],[0.5555555555555556,\"#d8576b\"],[0.6666666666666666,\"#ed7953\"],[0.7777777777777778,\"#fb9f3a\"],[0.8888888888888888,\"#fdca26\"],[1.0,\"#f0f921\"]],\"type\":\"histogram2d\"}],\"histogram\":[{\"marker\":{\"pattern\":{\"fillmode\":\"overlay\",\"size\":10,\"solidity\":0.2}},\"type\":\"histogram\"}],\"mesh3d\":[{\"colorbar\":{\"outlinewidth\":0,\"ticks\":\"\"},\"type\":\"mesh3d\"}],\"parcoords\":[{\"line\":{\"colorbar\":{\"outlinewidth\":0,\"ticks\":\"\"}},\"type\":\"parcoords\"}],\"pie\":[{\"automargin\":true,\"type\":\"pie\"}],\"scatter3d\":[{\"line\":{\"colorbar\":{\"outlinewidth\":0,\"ticks\":\"\"}},\"marker\":{\"colorbar\":{\"outlinewidth\":0,\"ticks\":\"\"}},\"type\":\"scatter3d\"}],\"scattercarpet\":[{\"marker\":{\"colorbar\":{\"outlinewidth\":0,\"ticks\":\"\"}},\"type\":\"scattercarpet\"}],\"scattergeo\":[{\"marker\":{\"colorbar\":{\"outlinewidth\":0,\"ticks\":\"\"}},\"type\":\"scattergeo\"}],\"scattergl\":[{\"marker\":{\"colorbar\":{\"outlinewidth\":0,\"ticks\":\"\"}},\"type\":\"scattergl\"}],\"scattermapbox\":[{\"marker\":{\"colorbar\":{\"outlinewidth\":0,\"ticks\":\"\"}},\"type\":\"scattermapbox\"}],\"scatterpolargl\":[{\"marker\":{\"colorbar\":{\"outlinewidth\":0,\"ticks\":\"\"}},\"type\":\"scatterpolargl\"}],\"scatterpolar\":[{\"marker\":{\"colorbar\":{\"outlinewidth\":0,\"ticks\":\"\"}},\"type\":\"scatterpolar\"}],\"scatter\":[{\"fillpattern\":{\"fillmode\":\"overlay\",\"size\":10,\"solidity\":0.2},\"type\":\"scatter\"}],\"scatterternary\":[{\"marker\":{\"colorbar\":{\"outlinewidth\":0,\"ticks\":\"\"}},\"type\":\"scatterternary\"}],\"surface\":[{\"colorbar\":{\"outlinewidth\":0,\"ticks\":\"\"},\"colorscale\":[[0.0,\"#0d0887\"],[0.1111111111111111,\"#46039f\"],[0.2222222222222222,\"#7201a8\"],[0.3333333333333333,\"#9c179e\"],[0.4444444444444444,\"#bd3786\"],[0.5555555555555556,\"#d8576b\"],[0.6666666666666666,\"#ed7953\"],[0.7777777777777778,\"#fb9f3a\"],[0.8888888888888888,\"#fdca26\"],[1.0,\"#f0f921\"]],\"type\":\"surface\"}],\"table\":[{\"cells\":{\"fill\":{\"color\":\"#EBF0F8\"},\"line\":{\"color\":\"white\"}},\"header\":{\"fill\":{\"color\":\"#C8D4E3\"},\"line\":{\"color\":\"white\"}},\"type\":\"table\"}]},\"layout\":{\"annotationdefaults\":{\"arrowcolor\":\"#2a3f5f\",\"arrowhead\":0,\"arrowwidth\":1},\"autotypenumbers\":\"strict\",\"coloraxis\":{\"colorbar\":{\"outlinewidth\":0,\"ticks\":\"\"}},\"colorscale\":{\"diverging\":[[0,\"#8e0152\"],[0.1,\"#c51b7d\"],[0.2,\"#de77ae\"],[0.3,\"#f1b6da\"],[0.4,\"#fde0ef\"],[0.5,\"#f7f7f7\"],[0.6,\"#e6f5d0\"],[0.7,\"#b8e186\"],[0.8,\"#7fbc41\"],[0.9,\"#4d9221\"],[1,\"#276419\"]],\"sequential\":[[0.0,\"#0d0887\"],[0.1111111111111111,\"#46039f\"],[0.2222222222222222,\"#7201a8\"],[0.3333333333333333,\"#9c179e\"],[0.4444444444444444,\"#bd3786\"],[0.5555555555555556,\"#d8576b\"],[0.6666666666666666,\"#ed7953\"],[0.7777777777777778,\"#fb9f3a\"],[0.8888888888888888,\"#fdca26\"],[1.0,\"#f0f921\"]],\"sequentialminus\":[[0.0,\"#0d0887\"],[0.1111111111111111,\"#46039f\"],[0.2222222222222222,\"#7201a8\"],[0.3333333333333333,\"#9c179e\"],[0.4444444444444444,\"#bd3786\"],[0.5555555555555556,\"#d8576b\"],[0.6666666666666666,\"#ed7953\"],[0.7777777777777778,\"#fb9f3a\"],[0.8888888888888888,\"#fdca26\"],[1.0,\"#f0f921\"]]},\"colorway\":[\"#636efa\",\"#EF553B\",\"#00cc96\",\"#ab63fa\",\"#FFA15A\",\"#19d3f3\",\"#FF6692\",\"#B6E880\",\"#FF97FF\",\"#FECB52\"],\"font\":{\"color\":\"#2a3f5f\"},\"geo\":{\"bgcolor\":\"white\",\"lakecolor\":\"white\",\"landcolor\":\"#E5ECF6\",\"showlakes\":true,\"showland\":true,\"subunitcolor\":\"white\"},\"hoverlabel\":{\"align\":\"left\"},\"hovermode\":\"closest\",\"mapbox\":{\"style\":\"light\"},\"paper_bgcolor\":\"white\",\"plot_bgcolor\":\"#E5ECF6\",\"polar\":{\"angularaxis\":{\"gridcolor\":\"white\",\"linecolor\":\"white\",\"ticks\":\"\"},\"bgcolor\":\"#E5ECF6\",\"radialaxis\":{\"gridcolor\":\"white\",\"linecolor\":\"white\",\"ticks\":\"\"}},\"scene\":{\"xaxis\":{\"backgroundcolor\":\"#E5ECF6\",\"gridcolor\":\"white\",\"gridwidth\":2,\"linecolor\":\"white\",\"showbackground\":true,\"ticks\":\"\",\"zerolinecolor\":\"white\"},\"yaxis\":{\"backgroundcolor\":\"#E5ECF6\",\"gridcolor\":\"white\",\"gridwidth\":2,\"linecolor\":\"white\",\"showbackground\":true,\"ticks\":\"\",\"zerolinecolor\":\"white\"},\"zaxis\":{\"backgroundcolor\":\"#E5ECF6\",\"gridcolor\":\"white\",\"gridwidth\":2,\"linecolor\":\"white\",\"showbackground\":true,\"ticks\":\"\",\"zerolinecolor\":\"white\"}},\"shapedefaults\":{\"line\":{\"color\":\"#2a3f5f\"}},\"ternary\":{\"aaxis\":{\"gridcolor\":\"white\",\"linecolor\":\"white\",\"ticks\":\"\"},\"baxis\":{\"gridcolor\":\"white\",\"linecolor\":\"white\",\"ticks\":\"\"},\"bgcolor\":\"#E5ECF6\",\"caxis\":{\"gridcolor\":\"white\",\"linecolor\":\"white\",\"ticks\":\"\"}},\"title\":{\"x\":0.05},\"xaxis\":{\"automargin\":true,\"gridcolor\":\"white\",\"linecolor\":\"white\",\"ticks\":\"\",\"title\":{\"standoff\":15},\"zerolinecolor\":\"white\",\"zerolinewidth\":2},\"yaxis\":{\"automargin\":true,\"gridcolor\":\"white\",\"linecolor\":\"white\",\"ticks\":\"\",\"title\":{\"standoff\":15},\"zerolinecolor\":\"white\",\"zerolinewidth\":2}}},\"title\":{\"text\":\"Frequency in the Training Set\"},\"xaxis\":{\"title\":{\"text\":\"Values\"}},\"yaxis\":{\"title\":{\"text\":\"Frequency\"}}},                        {\"responsive\": true}                    ).then(function(){\n",
       "                            \n",
       "var gd = document.getElementById('6e53f1e4-cc01-4382-9555-c50e9159245a');\n",
       "var x = new MutationObserver(function (mutations, observer) {{\n",
       "        var display = window.getComputedStyle(gd).display;\n",
       "        if (!display || display === 'none') {{\n",
       "            console.log([gd, 'removed!']);\n",
       "            Plotly.purge(gd);\n",
       "            observer.disconnect();\n",
       "        }}\n",
       "}});\n",
       "\n",
       "// Listen for the removal of the full notebook cells\n",
       "var notebookContainer = gd.closest('#notebook-container');\n",
       "if (notebookContainer) {{\n",
       "    x.observe(notebookContainer, {childList: true});\n",
       "}}\n",
       "\n",
       "// Listen for the clearing of the current output cell\n",
       "var outputEl = gd.closest('.output');\n",
       "if (outputEl) {{\n",
       "    x.observe(outputEl, {childList: true});\n",
       "}}\n",
       "\n",
       "                        })                };                });            </script>        </div>"
      ]
     },
     "metadata": {},
     "output_type": "display_data"
    }
   ],
   "source": [
    "hist = go.Histogram(x=dftrain['Fare'], name='Fare')\n",
    "\n",
    "layout = go.Layout(\n",
    "    title=\"Frequency in the Training Set\",\n",
    "    xaxis=dict(title=\"Values\"),\n",
    "    yaxis=dict(title=\"Frequency\"),\n",
    ")\n",
    "\n",
    "fig = go.Figure(data=[hist], layout=layout)\n",
    "\n",
    "pyo.iplot(fig)"
   ]
  },
  {
   "cell_type": "code",
   "execution_count": 17,
   "id": "f1ebe67d",
   "metadata": {
    "execution": {
     "iopub.execute_input": "2023-11-03T23:39:20.427379Z",
     "iopub.status.busy": "2023-11-03T23:39:20.426434Z",
     "iopub.status.idle": "2023-11-03T23:39:20.464617Z",
     "shell.execute_reply": "2023-11-03T23:39:20.463324Z"
    },
    "papermill": {
     "duration": 0.066929,
     "end_time": "2023-11-03T23:39:20.467094",
     "exception": false,
     "start_time": "2023-11-03T23:39:20.400165",
     "status": "completed"
    },
    "tags": []
   },
   "outputs": [
    {
     "data": {
      "text/html": [
       "<div>                            <div id=\"a02906ab-4be3-423e-99f3-21d0be3f6369\" class=\"plotly-graph-div\" style=\"height:525px; width:100%;\"></div>            <script type=\"text/javascript\">                require([\"plotly\"], function(Plotly) {                    window.PLOTLYENV=window.PLOTLYENV || {};                                    if (document.getElementById(\"a02906ab-4be3-423e-99f3-21d0be3f6369\")) {                    Plotly.newPlot(                        \"a02906ab-4be3-423e-99f3-21d0be3f6369\",                        [{\"name\":\"Pclass\",\"x\":[3,1,3,1,3,3,1,3,3,2,3,1,3,3,3,2,3,2,3,3,2,2,3,1,3,3,3,1,3,3,1,1,3,2,1,1,3,3,3,3,3,2,3,2,3,3,3,3,3,3,3,3,1,2,1,1,2,3,2,3,3,1,1,3,1,3,2,3,3,3,2,3,2,3,3,3,3,3,2,3,3,3,3,1,2,3,3,3,1,3,3,3,1,3,3,3,1,1,2,2,3,3,1,3,3,3,3,3,3,3,1,3,3,3,3,3,3,2,1,3,2,3,2,2,1,3,3,3,3,3,3,3,3,2,2,2,1,1,3,1,3,3,3,3,2,2,3,3,2,2,2,1,3,3,3,1,3,3,3,3,3,2,3,3,3,3,1,3,1,3,1,3,3,3,1,3,3,1,2,3,3,2,3,2,3,1,3,1,3,3,2,2,3,2,1,1,3,3,3,2,3,3,3,3,3,3,3,3,3,1,3,2,3,2,3,1,3,2,1,2,3,2,3,3,1,3,2,3,2,3,1,3,2,3,2,3,2,2,2,2,3,3,2,3,3,1,3,2,1,2,3,3,1,3,3,3,1,1,1,2,3,3,1,1,3,2,3,3,1,1,1,3,2,1,3,1,3,2,3,3,3,3,3,3,1,3,3,3,2,3,1,1,2,3,3,1,3,1,1,1,3,3,3,2,3,1,1,1,2,1,1,1,2,3,2,3,2,2,1,1,3,3,2,2,3,1,3,2,3,1,3,1,1,3,1,3,1,1,3,1,2,1,2,2,2,2,2,3,3,3,3,1,3,3,3,3,1,2,3,3,3,2,3,3,3,3,1,3,3,1,1,3,3,1,3,1,3,1,3,3,1,3,3,1,3,2,3,2,3,2,1,3,3,1,3,3,3,2,2,2,3,3,3,3,3,2,3,2,3,3,3,3,1,2,3,3,2,2,2,3,3,3,3,3,3,3,2,2,3,3,1,3,2,3,1,1,3,2,1,2,2,3,3,2,3,1,2,1,3,1,2,3,1,1,3,3,1,1,2,3,1,3,1,2,3,3,2,1,3,3,3,3,2,2,3,1,2,3,3,3,3,2,3,3,1,3,1,1,3,3,3,3,1,1,3,3,1,3,1,3,3,3,3,3,1,1,2,1,3,3,3,3,1,1,3,1,2,3,2,3,1,3,3,1,3,3,2,1,3,2,2,3,3,3,3,2,1,1,3,1,1,3,3,2,1,1,2,2,3,2,1,2,3,3,3,1,1,1,1,3,3,3,2,3,3,3,3,3,3,3,2,1,1,3,3,3,2,1,3,3,2,1,2,1,3,1,2,1,3,3,3,1,3,3,2,3,2,3,3,1,2,3,1,3,1,3,3,1,2,1,3,3,3,3,3,2,3,3,2,2,3,1,3,3,3,1,2,1,3,3,1,3,1,1,3,2,3,2,3,3,3,1,3,3,3,1,3,1,3,3,3,2,3,3,3,2,3,3,2,1,1,3,1,3,3,2,2,3,3,1,2,1,2,2,2,3,3,3,3,1,3,1,3,3,2,2,3,3,3,1,1,3,3,3,1,2,3,3,1,3,1,1,3,3,3,2,2,1,1,3,1,1,1,3,2,3,1,2,3,3,2,3,2,2,1,3,2,3,2,3,1,3,2,2,2,3,3,1,3,3,1,1,1,3,3,1,3,2,1,3,2,3,3,3,2,2,3,2,3,1,3,3,3,1,3,1,1,3,3,3,3,3,2,3,2,3,3,3,3,1,3,1,1,3,3,3,3,3,3,1,3,2,3,1,3,2,1,3,3,3,2,2,1,3,3,3,1,3,2,1,3,3,2,3,3,1,3,2,3,3,1,3,1,3,3,3,3,2,3,1,3,2,3,3,3,1,3,3,3,1,3,2,1,3,3,3,3,3,2,1,3,3,3,1,2,3,1,1,3,3,3,2,1,3,2,2,2,1,3,3,3,1,1,3,2,3,3,3,3,1,2,3,3,2,3,3,2,1,3,1,3],\"type\":\"histogram\"}],                        {\"template\":{\"data\":{\"barpolar\":[{\"marker\":{\"line\":{\"color\":\"#E5ECF6\",\"width\":0.5},\"pattern\":{\"fillmode\":\"overlay\",\"size\":10,\"solidity\":0.2}},\"type\":\"barpolar\"}],\"bar\":[{\"error_x\":{\"color\":\"#2a3f5f\"},\"error_y\":{\"color\":\"#2a3f5f\"},\"marker\":{\"line\":{\"color\":\"#E5ECF6\",\"width\":0.5},\"pattern\":{\"fillmode\":\"overlay\",\"size\":10,\"solidity\":0.2}},\"type\":\"bar\"}],\"carpet\":[{\"aaxis\":{\"endlinecolor\":\"#2a3f5f\",\"gridcolor\":\"white\",\"linecolor\":\"white\",\"minorgridcolor\":\"white\",\"startlinecolor\":\"#2a3f5f\"},\"baxis\":{\"endlinecolor\":\"#2a3f5f\",\"gridcolor\":\"white\",\"linecolor\":\"white\",\"minorgridcolor\":\"white\",\"startlinecolor\":\"#2a3f5f\"},\"type\":\"carpet\"}],\"choropleth\":[{\"colorbar\":{\"outlinewidth\":0,\"ticks\":\"\"},\"type\":\"choropleth\"}],\"contourcarpet\":[{\"colorbar\":{\"outlinewidth\":0,\"ticks\":\"\"},\"type\":\"contourcarpet\"}],\"contour\":[{\"colorbar\":{\"outlinewidth\":0,\"ticks\":\"\"},\"colorscale\":[[0.0,\"#0d0887\"],[0.1111111111111111,\"#46039f\"],[0.2222222222222222,\"#7201a8\"],[0.3333333333333333,\"#9c179e\"],[0.4444444444444444,\"#bd3786\"],[0.5555555555555556,\"#d8576b\"],[0.6666666666666666,\"#ed7953\"],[0.7777777777777778,\"#fb9f3a\"],[0.8888888888888888,\"#fdca26\"],[1.0,\"#f0f921\"]],\"type\":\"contour\"}],\"heatmapgl\":[{\"colorbar\":{\"outlinewidth\":0,\"ticks\":\"\"},\"colorscale\":[[0.0,\"#0d0887\"],[0.1111111111111111,\"#46039f\"],[0.2222222222222222,\"#7201a8\"],[0.3333333333333333,\"#9c179e\"],[0.4444444444444444,\"#bd3786\"],[0.5555555555555556,\"#d8576b\"],[0.6666666666666666,\"#ed7953\"],[0.7777777777777778,\"#fb9f3a\"],[0.8888888888888888,\"#fdca26\"],[1.0,\"#f0f921\"]],\"type\":\"heatmapgl\"}],\"heatmap\":[{\"colorbar\":{\"outlinewidth\":0,\"ticks\":\"\"},\"colorscale\":[[0.0,\"#0d0887\"],[0.1111111111111111,\"#46039f\"],[0.2222222222222222,\"#7201a8\"],[0.3333333333333333,\"#9c179e\"],[0.4444444444444444,\"#bd3786\"],[0.5555555555555556,\"#d8576b\"],[0.6666666666666666,\"#ed7953\"],[0.7777777777777778,\"#fb9f3a\"],[0.8888888888888888,\"#fdca26\"],[1.0,\"#f0f921\"]],\"type\":\"heatmap\"}],\"histogram2dcontour\":[{\"colorbar\":{\"outlinewidth\":0,\"ticks\":\"\"},\"colorscale\":[[0.0,\"#0d0887\"],[0.1111111111111111,\"#46039f\"],[0.2222222222222222,\"#7201a8\"],[0.3333333333333333,\"#9c179e\"],[0.4444444444444444,\"#bd3786\"],[0.5555555555555556,\"#d8576b\"],[0.6666666666666666,\"#ed7953\"],[0.7777777777777778,\"#fb9f3a\"],[0.8888888888888888,\"#fdca26\"],[1.0,\"#f0f921\"]],\"type\":\"histogram2dcontour\"}],\"histogram2d\":[{\"colorbar\":{\"outlinewidth\":0,\"ticks\":\"\"},\"colorscale\":[[0.0,\"#0d0887\"],[0.1111111111111111,\"#46039f\"],[0.2222222222222222,\"#7201a8\"],[0.3333333333333333,\"#9c179e\"],[0.4444444444444444,\"#bd3786\"],[0.5555555555555556,\"#d8576b\"],[0.6666666666666666,\"#ed7953\"],[0.7777777777777778,\"#fb9f3a\"],[0.8888888888888888,\"#fdca26\"],[1.0,\"#f0f921\"]],\"type\":\"histogram2d\"}],\"histogram\":[{\"marker\":{\"pattern\":{\"fillmode\":\"overlay\",\"size\":10,\"solidity\":0.2}},\"type\":\"histogram\"}],\"mesh3d\":[{\"colorbar\":{\"outlinewidth\":0,\"ticks\":\"\"},\"type\":\"mesh3d\"}],\"parcoords\":[{\"line\":{\"colorbar\":{\"outlinewidth\":0,\"ticks\":\"\"}},\"type\":\"parcoords\"}],\"pie\":[{\"automargin\":true,\"type\":\"pie\"}],\"scatter3d\":[{\"line\":{\"colorbar\":{\"outlinewidth\":0,\"ticks\":\"\"}},\"marker\":{\"colorbar\":{\"outlinewidth\":0,\"ticks\":\"\"}},\"type\":\"scatter3d\"}],\"scattercarpet\":[{\"marker\":{\"colorbar\":{\"outlinewidth\":0,\"ticks\":\"\"}},\"type\":\"scattercarpet\"}],\"scattergeo\":[{\"marker\":{\"colorbar\":{\"outlinewidth\":0,\"ticks\":\"\"}},\"type\":\"scattergeo\"}],\"scattergl\":[{\"marker\":{\"colorbar\":{\"outlinewidth\":0,\"ticks\":\"\"}},\"type\":\"scattergl\"}],\"scattermapbox\":[{\"marker\":{\"colorbar\":{\"outlinewidth\":0,\"ticks\":\"\"}},\"type\":\"scattermapbox\"}],\"scatterpolargl\":[{\"marker\":{\"colorbar\":{\"outlinewidth\":0,\"ticks\":\"\"}},\"type\":\"scatterpolargl\"}],\"scatterpolar\":[{\"marker\":{\"colorbar\":{\"outlinewidth\":0,\"ticks\":\"\"}},\"type\":\"scatterpolar\"}],\"scatter\":[{\"fillpattern\":{\"fillmode\":\"overlay\",\"size\":10,\"solidity\":0.2},\"type\":\"scatter\"}],\"scatterternary\":[{\"marker\":{\"colorbar\":{\"outlinewidth\":0,\"ticks\":\"\"}},\"type\":\"scatterternary\"}],\"surface\":[{\"colorbar\":{\"outlinewidth\":0,\"ticks\":\"\"},\"colorscale\":[[0.0,\"#0d0887\"],[0.1111111111111111,\"#46039f\"],[0.2222222222222222,\"#7201a8\"],[0.3333333333333333,\"#9c179e\"],[0.4444444444444444,\"#bd3786\"],[0.5555555555555556,\"#d8576b\"],[0.6666666666666666,\"#ed7953\"],[0.7777777777777778,\"#fb9f3a\"],[0.8888888888888888,\"#fdca26\"],[1.0,\"#f0f921\"]],\"type\":\"surface\"}],\"table\":[{\"cells\":{\"fill\":{\"color\":\"#EBF0F8\"},\"line\":{\"color\":\"white\"}},\"header\":{\"fill\":{\"color\":\"#C8D4E3\"},\"line\":{\"color\":\"white\"}},\"type\":\"table\"}]},\"layout\":{\"annotationdefaults\":{\"arrowcolor\":\"#2a3f5f\",\"arrowhead\":0,\"arrowwidth\":1},\"autotypenumbers\":\"strict\",\"coloraxis\":{\"colorbar\":{\"outlinewidth\":0,\"ticks\":\"\"}},\"colorscale\":{\"diverging\":[[0,\"#8e0152\"],[0.1,\"#c51b7d\"],[0.2,\"#de77ae\"],[0.3,\"#f1b6da\"],[0.4,\"#fde0ef\"],[0.5,\"#f7f7f7\"],[0.6,\"#e6f5d0\"],[0.7,\"#b8e186\"],[0.8,\"#7fbc41\"],[0.9,\"#4d9221\"],[1,\"#276419\"]],\"sequential\":[[0.0,\"#0d0887\"],[0.1111111111111111,\"#46039f\"],[0.2222222222222222,\"#7201a8\"],[0.3333333333333333,\"#9c179e\"],[0.4444444444444444,\"#bd3786\"],[0.5555555555555556,\"#d8576b\"],[0.6666666666666666,\"#ed7953\"],[0.7777777777777778,\"#fb9f3a\"],[0.8888888888888888,\"#fdca26\"],[1.0,\"#f0f921\"]],\"sequentialminus\":[[0.0,\"#0d0887\"],[0.1111111111111111,\"#46039f\"],[0.2222222222222222,\"#7201a8\"],[0.3333333333333333,\"#9c179e\"],[0.4444444444444444,\"#bd3786\"],[0.5555555555555556,\"#d8576b\"],[0.6666666666666666,\"#ed7953\"],[0.7777777777777778,\"#fb9f3a\"],[0.8888888888888888,\"#fdca26\"],[1.0,\"#f0f921\"]]},\"colorway\":[\"#636efa\",\"#EF553B\",\"#00cc96\",\"#ab63fa\",\"#FFA15A\",\"#19d3f3\",\"#FF6692\",\"#B6E880\",\"#FF97FF\",\"#FECB52\"],\"font\":{\"color\":\"#2a3f5f\"},\"geo\":{\"bgcolor\":\"white\",\"lakecolor\":\"white\",\"landcolor\":\"#E5ECF6\",\"showlakes\":true,\"showland\":true,\"subunitcolor\":\"white\"},\"hoverlabel\":{\"align\":\"left\"},\"hovermode\":\"closest\",\"mapbox\":{\"style\":\"light\"},\"paper_bgcolor\":\"white\",\"plot_bgcolor\":\"#E5ECF6\",\"polar\":{\"angularaxis\":{\"gridcolor\":\"white\",\"linecolor\":\"white\",\"ticks\":\"\"},\"bgcolor\":\"#E5ECF6\",\"radialaxis\":{\"gridcolor\":\"white\",\"linecolor\":\"white\",\"ticks\":\"\"}},\"scene\":{\"xaxis\":{\"backgroundcolor\":\"#E5ECF6\",\"gridcolor\":\"white\",\"gridwidth\":2,\"linecolor\":\"white\",\"showbackground\":true,\"ticks\":\"\",\"zerolinecolor\":\"white\"},\"yaxis\":{\"backgroundcolor\":\"#E5ECF6\",\"gridcolor\":\"white\",\"gridwidth\":2,\"linecolor\":\"white\",\"showbackground\":true,\"ticks\":\"\",\"zerolinecolor\":\"white\"},\"zaxis\":{\"backgroundcolor\":\"#E5ECF6\",\"gridcolor\":\"white\",\"gridwidth\":2,\"linecolor\":\"white\",\"showbackground\":true,\"ticks\":\"\",\"zerolinecolor\":\"white\"}},\"shapedefaults\":{\"line\":{\"color\":\"#2a3f5f\"}},\"ternary\":{\"aaxis\":{\"gridcolor\":\"white\",\"linecolor\":\"white\",\"ticks\":\"\"},\"baxis\":{\"gridcolor\":\"white\",\"linecolor\":\"white\",\"ticks\":\"\"},\"bgcolor\":\"#E5ECF6\",\"caxis\":{\"gridcolor\":\"white\",\"linecolor\":\"white\",\"ticks\":\"\"}},\"title\":{\"x\":0.05},\"xaxis\":{\"automargin\":true,\"gridcolor\":\"white\",\"linecolor\":\"white\",\"ticks\":\"\",\"title\":{\"standoff\":15},\"zerolinecolor\":\"white\",\"zerolinewidth\":2},\"yaxis\":{\"automargin\":true,\"gridcolor\":\"white\",\"linecolor\":\"white\",\"ticks\":\"\",\"title\":{\"standoff\":15},\"zerolinecolor\":\"white\",\"zerolinewidth\":2}}},\"title\":{\"text\":\"Frequency in the Training Set\"},\"xaxis\":{\"title\":{\"text\":\"Values\"}},\"yaxis\":{\"title\":{\"text\":\"Frequency\"}}},                        {\"responsive\": true}                    ).then(function(){\n",
       "                            \n",
       "var gd = document.getElementById('a02906ab-4be3-423e-99f3-21d0be3f6369');\n",
       "var x = new MutationObserver(function (mutations, observer) {{\n",
       "        var display = window.getComputedStyle(gd).display;\n",
       "        if (!display || display === 'none') {{\n",
       "            console.log([gd, 'removed!']);\n",
       "            Plotly.purge(gd);\n",
       "            observer.disconnect();\n",
       "        }}\n",
       "}});\n",
       "\n",
       "// Listen for the removal of the full notebook cells\n",
       "var notebookContainer = gd.closest('#notebook-container');\n",
       "if (notebookContainer) {{\n",
       "    x.observe(notebookContainer, {childList: true});\n",
       "}}\n",
       "\n",
       "// Listen for the clearing of the current output cell\n",
       "var outputEl = gd.closest('.output');\n",
       "if (outputEl) {{\n",
       "    x.observe(outputEl, {childList: true});\n",
       "}}\n",
       "\n",
       "                        })                };                });            </script>        </div>"
      ]
     },
     "metadata": {},
     "output_type": "display_data"
    }
   ],
   "source": [
    "hist = go.Histogram(x=dftrain['Pclass'], name='Pclass')\n",
    "\n",
    "layout = go.Layout(\n",
    "    title=\"Frequency in the Training Set\",\n",
    "    xaxis=dict(title=\"Values\"),\n",
    "    yaxis=dict(title=\"Frequency\"),\n",
    ")\n",
    "\n",
    "fig = go.Figure(data=[hist], layout=layout)\n",
    "\n",
    "pyo.iplot(fig)"
   ]
  },
  {
   "cell_type": "code",
   "execution_count": 18,
   "id": "859d6189",
   "metadata": {
    "execution": {
     "iopub.execute_input": "2023-11-03T23:39:20.523424Z",
     "iopub.status.busy": "2023-11-03T23:39:20.522634Z",
     "iopub.status.idle": "2023-11-03T23:39:20.562464Z",
     "shell.execute_reply": "2023-11-03T23:39:20.561210Z"
    },
    "papermill": {
     "duration": 0.070615,
     "end_time": "2023-11-03T23:39:20.565142",
     "exception": false,
     "start_time": "2023-11-03T23:39:20.494527",
     "status": "completed"
    },
    "tags": []
   },
   "outputs": [
    {
     "data": {
      "text/html": [
       "<div>                            <div id=\"d2d0c937-0681-4b88-89de-f90ca8f8e499\" class=\"plotly-graph-div\" style=\"height:525px; width:100%;\"></div>            <script type=\"text/javascript\">                require([\"plotly\"], function(Plotly) {                    window.PLOTLYENV=window.PLOTLYENV || {};                                    if (document.getElementById(\"d2d0c937-0681-4b88-89de-f90ca8f8e499\")) {                    Plotly.newPlot(                        \"d2d0c937-0681-4b88-89de-f90ca8f8e499\",                        [{\"name\":\"SibSp\",\"x\":[1,1,0,1,0,0,0,3,0,1,1,0,0,1,0,0,4,0,1,0,0,0,0,0,3,1,0,3,0,0,0,1,0,0,1,1,0,0,2,1,1,1,0,1,0,0,1,0,2,1,4,0,1,1,0,0,0,0,1,5,0,0,1,3,0,1,0,0,4,2,0,5,0,1,0,0,0,0,0,0,0,0,0,0,0,3,1,0,3,0,0,0,1,1,0,0,0,0,0,1,0,0,0,0,2,0,0,0,0,1,0,1,0,1,0,0,0,1,0,4,2,0,1,0,0,1,0,0,1,0,0,0,1,1,0,0,0,1,0,0,0,0,1,0,0,1,0,2,0,0,0,1,0,0,0,0,0,0,0,8,0,0,0,0,4,0,0,1,0,0,0,4,1,0,0,1,3,0,0,0,8,0,4,2,0,0,1,0,1,0,0,0,1,1,0,0,0,0,0,0,0,8,0,0,0,0,1,0,0,0,0,0,0,0,1,1,0,1,0,0,0,0,0,0,1,0,0,0,0,3,1,0,0,4,0,0,1,0,0,0,1,1,0,0,0,2,0,0,1,1,0,1,0,1,0,0,0,0,0,0,0,4,1,0,0,0,4,1,0,0,0,0,0,0,0,1,0,0,4,1,0,0,0,0,0,0,0,0,0,0,0,1,0,0,0,0,0,1,0,0,0,2,0,0,0,1,0,1,1,0,0,2,1,0,1,0,1,0,0,1,0,0,0,1,8,0,0,0,1,0,2,0,0,2,1,0,1,0,0,0,1,3,0,0,0,0,0,1,1,0,0,0,1,1,0,0,0,0,0,0,1,1,0,0,1,0,1,0,0,0,1,1,0,0,3,1,0,0,0,0,0,0,0,1,0,0,5,0,0,0,1,0,2,1,0,0,0,0,0,0,0,0,1,1,0,1,0,1,0,3,0,0,1,0,0,0,1,0,0,0,0,0,0,1,1,0,1,0,0,0,0,1,1,0,1,1,2,2,1,0,1,0,1,0,0,0,0,0,2,0,1,1,0,1,0,0,0,1,0,0,0,0,0,0,0,0,0,0,0,2,0,0,1,0,0,0,1,1,0,0,5,0,0,0,1,3,1,0,0,1,1,0,0,0,0,0,1,0,1,0,0,0,0,0,0,1,0,0,0,0,0,0,0,1,0,0,0,0,1,0,0,0,0,0,0,0,0,0,0,2,1,0,1,0,0,0,0,0,0,0,0,4,4,1,1,0,1,0,1,1,0,0,0,0,0,0,1,0,1,1,0,0,0,0,0,2,0,0,0,0,0,2,0,0,0,0,0,1,1,0,1,1,0,0,0,0,0,1,0,0,0,1,0,0,1,1,0,0,0,1,2,0,0,0,0,1,0,0,1,0,1,0,1,0,0,1,1,1,2,0,1,1,1,0,0,0,0,0,0,0,0,0,0,0,3,0,0,1,0,1,0,0,3,0,2,1,0,0,0,0,0,0,0,0,0,2,0,1,0,0,2,0,0,0,1,2,0,0,0,1,1,1,0,0,0,0,0,0,1,0,0,0,0,5,1,1,4,0,0,0,1,0,0,0,0,0,0,0,1,0,1,0,0,0,1,0,0,0,0,1,0,0,1,0,0,0,0,0,0,0,0,1,0,0,1,0,3,0,1,1,0,0,0,0,0,0,1,0,0,0,0,1,2,1,0,1,1,0,1,0,1,0,0,0,1,1,0,0,0,0,0,0,0,1,0,1,0,0,1,0,0,0,0,0,1,0,0,0,0,0,0,1,0,1,0,0,0,4,1,0,0,0,8,0,0,0,0,0,0,1,0,1,1,0,0,0,0,0,0,1,0,0,0,4,0,0,0,1,0,3,1,0,0,0,4,0,0,0,0,0,1,1,0,0,0,1,0,0,0,0,0,0,0,0,0,0,8,0,0,1,4,0,1,0,1,0,1,0,0,0,2,1,0,8,0,0,1,0,0,1,0,1,0,0,1,0,0,0,0,0,0,0,0,0,0,0,0,0,1,0,0],\"type\":\"histogram\"}],                        {\"template\":{\"data\":{\"barpolar\":[{\"marker\":{\"line\":{\"color\":\"#E5ECF6\",\"width\":0.5},\"pattern\":{\"fillmode\":\"overlay\",\"size\":10,\"solidity\":0.2}},\"type\":\"barpolar\"}],\"bar\":[{\"error_x\":{\"color\":\"#2a3f5f\"},\"error_y\":{\"color\":\"#2a3f5f\"},\"marker\":{\"line\":{\"color\":\"#E5ECF6\",\"width\":0.5},\"pattern\":{\"fillmode\":\"overlay\",\"size\":10,\"solidity\":0.2}},\"type\":\"bar\"}],\"carpet\":[{\"aaxis\":{\"endlinecolor\":\"#2a3f5f\",\"gridcolor\":\"white\",\"linecolor\":\"white\",\"minorgridcolor\":\"white\",\"startlinecolor\":\"#2a3f5f\"},\"baxis\":{\"endlinecolor\":\"#2a3f5f\",\"gridcolor\":\"white\",\"linecolor\":\"white\",\"minorgridcolor\":\"white\",\"startlinecolor\":\"#2a3f5f\"},\"type\":\"carpet\"}],\"choropleth\":[{\"colorbar\":{\"outlinewidth\":0,\"ticks\":\"\"},\"type\":\"choropleth\"}],\"contourcarpet\":[{\"colorbar\":{\"outlinewidth\":0,\"ticks\":\"\"},\"type\":\"contourcarpet\"}],\"contour\":[{\"colorbar\":{\"outlinewidth\":0,\"ticks\":\"\"},\"colorscale\":[[0.0,\"#0d0887\"],[0.1111111111111111,\"#46039f\"],[0.2222222222222222,\"#7201a8\"],[0.3333333333333333,\"#9c179e\"],[0.4444444444444444,\"#bd3786\"],[0.5555555555555556,\"#d8576b\"],[0.6666666666666666,\"#ed7953\"],[0.7777777777777778,\"#fb9f3a\"],[0.8888888888888888,\"#fdca26\"],[1.0,\"#f0f921\"]],\"type\":\"contour\"}],\"heatmapgl\":[{\"colorbar\":{\"outlinewidth\":0,\"ticks\":\"\"},\"colorscale\":[[0.0,\"#0d0887\"],[0.1111111111111111,\"#46039f\"],[0.2222222222222222,\"#7201a8\"],[0.3333333333333333,\"#9c179e\"],[0.4444444444444444,\"#bd3786\"],[0.5555555555555556,\"#d8576b\"],[0.6666666666666666,\"#ed7953\"],[0.7777777777777778,\"#fb9f3a\"],[0.8888888888888888,\"#fdca26\"],[1.0,\"#f0f921\"]],\"type\":\"heatmapgl\"}],\"heatmap\":[{\"colorbar\":{\"outlinewidth\":0,\"ticks\":\"\"},\"colorscale\":[[0.0,\"#0d0887\"],[0.1111111111111111,\"#46039f\"],[0.2222222222222222,\"#7201a8\"],[0.3333333333333333,\"#9c179e\"],[0.4444444444444444,\"#bd3786\"],[0.5555555555555556,\"#d8576b\"],[0.6666666666666666,\"#ed7953\"],[0.7777777777777778,\"#fb9f3a\"],[0.8888888888888888,\"#fdca26\"],[1.0,\"#f0f921\"]],\"type\":\"heatmap\"}],\"histogram2dcontour\":[{\"colorbar\":{\"outlinewidth\":0,\"ticks\":\"\"},\"colorscale\":[[0.0,\"#0d0887\"],[0.1111111111111111,\"#46039f\"],[0.2222222222222222,\"#7201a8\"],[0.3333333333333333,\"#9c179e\"],[0.4444444444444444,\"#bd3786\"],[0.5555555555555556,\"#d8576b\"],[0.6666666666666666,\"#ed7953\"],[0.7777777777777778,\"#fb9f3a\"],[0.8888888888888888,\"#fdca26\"],[1.0,\"#f0f921\"]],\"type\":\"histogram2dcontour\"}],\"histogram2d\":[{\"colorbar\":{\"outlinewidth\":0,\"ticks\":\"\"},\"colorscale\":[[0.0,\"#0d0887\"],[0.1111111111111111,\"#46039f\"],[0.2222222222222222,\"#7201a8\"],[0.3333333333333333,\"#9c179e\"],[0.4444444444444444,\"#bd3786\"],[0.5555555555555556,\"#d8576b\"],[0.6666666666666666,\"#ed7953\"],[0.7777777777777778,\"#fb9f3a\"],[0.8888888888888888,\"#fdca26\"],[1.0,\"#f0f921\"]],\"type\":\"histogram2d\"}],\"histogram\":[{\"marker\":{\"pattern\":{\"fillmode\":\"overlay\",\"size\":10,\"solidity\":0.2}},\"type\":\"histogram\"}],\"mesh3d\":[{\"colorbar\":{\"outlinewidth\":0,\"ticks\":\"\"},\"type\":\"mesh3d\"}],\"parcoords\":[{\"line\":{\"colorbar\":{\"outlinewidth\":0,\"ticks\":\"\"}},\"type\":\"parcoords\"}],\"pie\":[{\"automargin\":true,\"type\":\"pie\"}],\"scatter3d\":[{\"line\":{\"colorbar\":{\"outlinewidth\":0,\"ticks\":\"\"}},\"marker\":{\"colorbar\":{\"outlinewidth\":0,\"ticks\":\"\"}},\"type\":\"scatter3d\"}],\"scattercarpet\":[{\"marker\":{\"colorbar\":{\"outlinewidth\":0,\"ticks\":\"\"}},\"type\":\"scattercarpet\"}],\"scattergeo\":[{\"marker\":{\"colorbar\":{\"outlinewidth\":0,\"ticks\":\"\"}},\"type\":\"scattergeo\"}],\"scattergl\":[{\"marker\":{\"colorbar\":{\"outlinewidth\":0,\"ticks\":\"\"}},\"type\":\"scattergl\"}],\"scattermapbox\":[{\"marker\":{\"colorbar\":{\"outlinewidth\":0,\"ticks\":\"\"}},\"type\":\"scattermapbox\"}],\"scatterpolargl\":[{\"marker\":{\"colorbar\":{\"outlinewidth\":0,\"ticks\":\"\"}},\"type\":\"scatterpolargl\"}],\"scatterpolar\":[{\"marker\":{\"colorbar\":{\"outlinewidth\":0,\"ticks\":\"\"}},\"type\":\"scatterpolar\"}],\"scatter\":[{\"fillpattern\":{\"fillmode\":\"overlay\",\"size\":10,\"solidity\":0.2},\"type\":\"scatter\"}],\"scatterternary\":[{\"marker\":{\"colorbar\":{\"outlinewidth\":0,\"ticks\":\"\"}},\"type\":\"scatterternary\"}],\"surface\":[{\"colorbar\":{\"outlinewidth\":0,\"ticks\":\"\"},\"colorscale\":[[0.0,\"#0d0887\"],[0.1111111111111111,\"#46039f\"],[0.2222222222222222,\"#7201a8\"],[0.3333333333333333,\"#9c179e\"],[0.4444444444444444,\"#bd3786\"],[0.5555555555555556,\"#d8576b\"],[0.6666666666666666,\"#ed7953\"],[0.7777777777777778,\"#fb9f3a\"],[0.8888888888888888,\"#fdca26\"],[1.0,\"#f0f921\"]],\"type\":\"surface\"}],\"table\":[{\"cells\":{\"fill\":{\"color\":\"#EBF0F8\"},\"line\":{\"color\":\"white\"}},\"header\":{\"fill\":{\"color\":\"#C8D4E3\"},\"line\":{\"color\":\"white\"}},\"type\":\"table\"}]},\"layout\":{\"annotationdefaults\":{\"arrowcolor\":\"#2a3f5f\",\"arrowhead\":0,\"arrowwidth\":1},\"autotypenumbers\":\"strict\",\"coloraxis\":{\"colorbar\":{\"outlinewidth\":0,\"ticks\":\"\"}},\"colorscale\":{\"diverging\":[[0,\"#8e0152\"],[0.1,\"#c51b7d\"],[0.2,\"#de77ae\"],[0.3,\"#f1b6da\"],[0.4,\"#fde0ef\"],[0.5,\"#f7f7f7\"],[0.6,\"#e6f5d0\"],[0.7,\"#b8e186\"],[0.8,\"#7fbc41\"],[0.9,\"#4d9221\"],[1,\"#276419\"]],\"sequential\":[[0.0,\"#0d0887\"],[0.1111111111111111,\"#46039f\"],[0.2222222222222222,\"#7201a8\"],[0.3333333333333333,\"#9c179e\"],[0.4444444444444444,\"#bd3786\"],[0.5555555555555556,\"#d8576b\"],[0.6666666666666666,\"#ed7953\"],[0.7777777777777778,\"#fb9f3a\"],[0.8888888888888888,\"#fdca26\"],[1.0,\"#f0f921\"]],\"sequentialminus\":[[0.0,\"#0d0887\"],[0.1111111111111111,\"#46039f\"],[0.2222222222222222,\"#7201a8\"],[0.3333333333333333,\"#9c179e\"],[0.4444444444444444,\"#bd3786\"],[0.5555555555555556,\"#d8576b\"],[0.6666666666666666,\"#ed7953\"],[0.7777777777777778,\"#fb9f3a\"],[0.8888888888888888,\"#fdca26\"],[1.0,\"#f0f921\"]]},\"colorway\":[\"#636efa\",\"#EF553B\",\"#00cc96\",\"#ab63fa\",\"#FFA15A\",\"#19d3f3\",\"#FF6692\",\"#B6E880\",\"#FF97FF\",\"#FECB52\"],\"font\":{\"color\":\"#2a3f5f\"},\"geo\":{\"bgcolor\":\"white\",\"lakecolor\":\"white\",\"landcolor\":\"#E5ECF6\",\"showlakes\":true,\"showland\":true,\"subunitcolor\":\"white\"},\"hoverlabel\":{\"align\":\"left\"},\"hovermode\":\"closest\",\"mapbox\":{\"style\":\"light\"},\"paper_bgcolor\":\"white\",\"plot_bgcolor\":\"#E5ECF6\",\"polar\":{\"angularaxis\":{\"gridcolor\":\"white\",\"linecolor\":\"white\",\"ticks\":\"\"},\"bgcolor\":\"#E5ECF6\",\"radialaxis\":{\"gridcolor\":\"white\",\"linecolor\":\"white\",\"ticks\":\"\"}},\"scene\":{\"xaxis\":{\"backgroundcolor\":\"#E5ECF6\",\"gridcolor\":\"white\",\"gridwidth\":2,\"linecolor\":\"white\",\"showbackground\":true,\"ticks\":\"\",\"zerolinecolor\":\"white\"},\"yaxis\":{\"backgroundcolor\":\"#E5ECF6\",\"gridcolor\":\"white\",\"gridwidth\":2,\"linecolor\":\"white\",\"showbackground\":true,\"ticks\":\"\",\"zerolinecolor\":\"white\"},\"zaxis\":{\"backgroundcolor\":\"#E5ECF6\",\"gridcolor\":\"white\",\"gridwidth\":2,\"linecolor\":\"white\",\"showbackground\":true,\"ticks\":\"\",\"zerolinecolor\":\"white\"}},\"shapedefaults\":{\"line\":{\"color\":\"#2a3f5f\"}},\"ternary\":{\"aaxis\":{\"gridcolor\":\"white\",\"linecolor\":\"white\",\"ticks\":\"\"},\"baxis\":{\"gridcolor\":\"white\",\"linecolor\":\"white\",\"ticks\":\"\"},\"bgcolor\":\"#E5ECF6\",\"caxis\":{\"gridcolor\":\"white\",\"linecolor\":\"white\",\"ticks\":\"\"}},\"title\":{\"x\":0.05},\"xaxis\":{\"automargin\":true,\"gridcolor\":\"white\",\"linecolor\":\"white\",\"ticks\":\"\",\"title\":{\"standoff\":15},\"zerolinecolor\":\"white\",\"zerolinewidth\":2},\"yaxis\":{\"automargin\":true,\"gridcolor\":\"white\",\"linecolor\":\"white\",\"ticks\":\"\",\"title\":{\"standoff\":15},\"zerolinecolor\":\"white\",\"zerolinewidth\":2}}},\"title\":{\"text\":\"Frequency in the Training Set\"},\"xaxis\":{\"title\":{\"text\":\"Values\"}},\"yaxis\":{\"title\":{\"text\":\"Frequency\"}}},                        {\"responsive\": true}                    ).then(function(){\n",
       "                            \n",
       "var gd = document.getElementById('d2d0c937-0681-4b88-89de-f90ca8f8e499');\n",
       "var x = new MutationObserver(function (mutations, observer) {{\n",
       "        var display = window.getComputedStyle(gd).display;\n",
       "        if (!display || display === 'none') {{\n",
       "            console.log([gd, 'removed!']);\n",
       "            Plotly.purge(gd);\n",
       "            observer.disconnect();\n",
       "        }}\n",
       "}});\n",
       "\n",
       "// Listen for the removal of the full notebook cells\n",
       "var notebookContainer = gd.closest('#notebook-container');\n",
       "if (notebookContainer) {{\n",
       "    x.observe(notebookContainer, {childList: true});\n",
       "}}\n",
       "\n",
       "// Listen for the clearing of the current output cell\n",
       "var outputEl = gd.closest('.output');\n",
       "if (outputEl) {{\n",
       "    x.observe(outputEl, {childList: true});\n",
       "}}\n",
       "\n",
       "                        })                };                });            </script>        </div>"
      ]
     },
     "metadata": {},
     "output_type": "display_data"
    }
   ],
   "source": [
    "hist = go.Histogram(x=dftrain['SibSp'], name='SibSp')\n",
    "\n",
    "layout = go.Layout(\n",
    "    title=\"Frequency in the Training Set\",\n",
    "    xaxis=dict(title=\"Values\"),\n",
    "    yaxis=dict(title=\"Frequency\"),\n",
    ")\n",
    "\n",
    "fig = go.Figure(data=[hist], layout=layout)\n",
    "\n",
    "pyo.iplot(fig)"
   ]
  },
  {
   "cell_type": "code",
   "execution_count": 19,
   "id": "18d61a37",
   "metadata": {
    "execution": {
     "iopub.execute_input": "2023-11-03T23:39:20.619366Z",
     "iopub.status.busy": "2023-11-03T23:39:20.618438Z",
     "iopub.status.idle": "2023-11-03T23:39:20.660966Z",
     "shell.execute_reply": "2023-11-03T23:39:20.659340Z"
    },
    "papermill": {
     "duration": 0.072684,
     "end_time": "2023-11-03T23:39:20.664140",
     "exception": false,
     "start_time": "2023-11-03T23:39:20.591456",
     "status": "completed"
    },
    "tags": []
   },
   "outputs": [
    {
     "data": {
      "text/html": [
       "<div>                            <div id=\"84a9868b-b8f4-40b6-a953-ac87687649ad\" class=\"plotly-graph-div\" style=\"height:525px; width:100%;\"></div>            <script type=\"text/javascript\">                require([\"plotly\"], function(Plotly) {                    window.PLOTLYENV=window.PLOTLYENV || {};                                    if (document.getElementById(\"84a9868b-b8f4-40b6-a953-ac87687649ad\")) {                    Plotly.newPlot(                        \"84a9868b-b8f4-40b6-a953-ac87687649ad\",                        [{\"name\":\"ParCh\",\"x\":[0,0,0,0,0,0,0,1,2,0,1,0,0,5,0,0,1,0,0,0,0,0,0,0,1,5,0,2,0,0,0,0,0,0,0,0,0,0,0,0,0,0,0,2,0,0,0,0,0,0,1,0,0,0,1,0,0,0,2,2,0,0,0,2,0,1,0,0,2,0,0,2,0,0,0,0,0,0,2,0,0,0,0,0,0,0,3,0,2,0,0,0,0,2,0,0,0,1,1,0,0,0,1,0,0,0,0,0,0,0,0,0,0,0,0,0,0,0,1,2,0,0,0,0,1,0,0,0,1,0,0,0,0,0,0,0,2,0,0,0,2,0,0,0,0,1,0,2,2,0,0,0,0,2,0,1,0,0,0,2,1,0,0,0,1,2,1,4,0,0,0,1,1,0,0,1,1,0,0,0,2,0,2,1,2,0,0,0,1,0,0,0,0,1,0,0,0,1,0,0,0,2,0,0,0,1,0,0,0,0,0,0,0,0,0,0,0,0,0,0,0,0,0,0,0,0,0,0,0,1,0,0,0,2,0,0,0,2,0,0,0,0,0,0,0,0,0,2,1,0,0,1,0,0,2,2,0,0,0,1,0,2,1,0,0,0,1,0,1,0,0,0,1,1,0,0,0,0,1,1,0,0,0,0,0,0,0,0,0,0,0,0,0,0,0,0,0,2,0,1,0,0,0,0,0,2,0,0,0,0,0,2,1,0,1,0,0,0,2,1,0,0,0,1,2,0,0,0,1,1,0,0,1,0,0,0,0,0,0,0,1,2,0,0,0,0,0,0,1,0,0,0,1,0,0,0,1,0,0,0,4,0,1,0,0,0,0,0,0,0,0,0,0,0,1,0,0,2,0,0,0,2,0,0,0,0,2,0,0,0,2,0,0,0,2,0,0,0,0,0,0,0,0,0,0,0,0,1,0,1,0,0,0,0,0,0,1,2,0,2,0,0,0,1,1,0,0,0,0,0,0,0,0,0,0,2,2,3,4,0,1,0,0,0,0,2,1,0,1,0,2,0,0,0,0,0,0,0,0,0,0,0,0,0,0,0,0,0,0,1,0,0,2,0,0,0,0,0,0,1,2,0,0,0,0,1,0,0,0,1,0,0,0,0,0,0,0,0,2,0,0,0,0,0,0,0,2,0,0,0,0,0,0,0,0,0,0,0,0,0,0,0,0,1,0,0,0,0,0,1,1,0,1,2,0,2,0,0,0,2,2,2,2,0,0,0,0,0,1,1,2,0,0,0,0,0,0,0,1,0,0,0,0,0,0,0,0,4,0,0,0,0,0,0,0,0,0,0,0,0,1,1,0,0,0,2,0,1,0,0,0,0,0,2,0,1,0,0,0,0,1,0,0,0,0,0,0,0,2,0,5,0,0,0,0,2,1,0,1,0,0,0,1,0,0,0,0,0,0,0,0,0,0,0,2,0,0,1,5,0,0,0,2,0,1,0,0,0,0,0,0,1,0,0,0,0,0,1,0,2,0,0,0,0,0,0,0,0,0,0,1,0,0,0,0,0,0,0,6,1,0,0,0,2,1,2,1,0,0,1,0,1,0,0,0,0,0,0,1,0,0,0,1,0,0,0,0,0,0,1,0,0,0,0,0,0,0,0,0,0,1,0,0,0,0,0,0,0,0,0,0,0,0,0,0,0,3,0,0,0,0,0,2,0,0,1,1,0,0,0,1,1,0,0,2,1,0,0,0,0,0,0,0,2,0,0,0,0,0,0,0,0,0,0,3,0,0,0,0,1,0,0,0,2,0,0,0,1,2,0,0,0,2,0,0,0,0,0,0,1,0,1,2,1,0,0,0,0,0,0,0,0,0,2,0,0,0,1,0,2,1,0,0,1,1,0,0,2,0,0,0,1,0,0,0,1,0,0,0,0,0,0,0,0,0,0,2,0,1,0,2,0,1,1,0,1,1,0,3,0,0,0,0,2,0,0,0,0,0,1,0,1,0,0,0,0,0,0,0,1,1,0,0,0,0,5,0,0,2,0,0],\"type\":\"histogram\"}],                        {\"template\":{\"data\":{\"barpolar\":[{\"marker\":{\"line\":{\"color\":\"#E5ECF6\",\"width\":0.5},\"pattern\":{\"fillmode\":\"overlay\",\"size\":10,\"solidity\":0.2}},\"type\":\"barpolar\"}],\"bar\":[{\"error_x\":{\"color\":\"#2a3f5f\"},\"error_y\":{\"color\":\"#2a3f5f\"},\"marker\":{\"line\":{\"color\":\"#E5ECF6\",\"width\":0.5},\"pattern\":{\"fillmode\":\"overlay\",\"size\":10,\"solidity\":0.2}},\"type\":\"bar\"}],\"carpet\":[{\"aaxis\":{\"endlinecolor\":\"#2a3f5f\",\"gridcolor\":\"white\",\"linecolor\":\"white\",\"minorgridcolor\":\"white\",\"startlinecolor\":\"#2a3f5f\"},\"baxis\":{\"endlinecolor\":\"#2a3f5f\",\"gridcolor\":\"white\",\"linecolor\":\"white\",\"minorgridcolor\":\"white\",\"startlinecolor\":\"#2a3f5f\"},\"type\":\"carpet\"}],\"choropleth\":[{\"colorbar\":{\"outlinewidth\":0,\"ticks\":\"\"},\"type\":\"choropleth\"}],\"contourcarpet\":[{\"colorbar\":{\"outlinewidth\":0,\"ticks\":\"\"},\"type\":\"contourcarpet\"}],\"contour\":[{\"colorbar\":{\"outlinewidth\":0,\"ticks\":\"\"},\"colorscale\":[[0.0,\"#0d0887\"],[0.1111111111111111,\"#46039f\"],[0.2222222222222222,\"#7201a8\"],[0.3333333333333333,\"#9c179e\"],[0.4444444444444444,\"#bd3786\"],[0.5555555555555556,\"#d8576b\"],[0.6666666666666666,\"#ed7953\"],[0.7777777777777778,\"#fb9f3a\"],[0.8888888888888888,\"#fdca26\"],[1.0,\"#f0f921\"]],\"type\":\"contour\"}],\"heatmapgl\":[{\"colorbar\":{\"outlinewidth\":0,\"ticks\":\"\"},\"colorscale\":[[0.0,\"#0d0887\"],[0.1111111111111111,\"#46039f\"],[0.2222222222222222,\"#7201a8\"],[0.3333333333333333,\"#9c179e\"],[0.4444444444444444,\"#bd3786\"],[0.5555555555555556,\"#d8576b\"],[0.6666666666666666,\"#ed7953\"],[0.7777777777777778,\"#fb9f3a\"],[0.8888888888888888,\"#fdca26\"],[1.0,\"#f0f921\"]],\"type\":\"heatmapgl\"}],\"heatmap\":[{\"colorbar\":{\"outlinewidth\":0,\"ticks\":\"\"},\"colorscale\":[[0.0,\"#0d0887\"],[0.1111111111111111,\"#46039f\"],[0.2222222222222222,\"#7201a8\"],[0.3333333333333333,\"#9c179e\"],[0.4444444444444444,\"#bd3786\"],[0.5555555555555556,\"#d8576b\"],[0.6666666666666666,\"#ed7953\"],[0.7777777777777778,\"#fb9f3a\"],[0.8888888888888888,\"#fdca26\"],[1.0,\"#f0f921\"]],\"type\":\"heatmap\"}],\"histogram2dcontour\":[{\"colorbar\":{\"outlinewidth\":0,\"ticks\":\"\"},\"colorscale\":[[0.0,\"#0d0887\"],[0.1111111111111111,\"#46039f\"],[0.2222222222222222,\"#7201a8\"],[0.3333333333333333,\"#9c179e\"],[0.4444444444444444,\"#bd3786\"],[0.5555555555555556,\"#d8576b\"],[0.6666666666666666,\"#ed7953\"],[0.7777777777777778,\"#fb9f3a\"],[0.8888888888888888,\"#fdca26\"],[1.0,\"#f0f921\"]],\"type\":\"histogram2dcontour\"}],\"histogram2d\":[{\"colorbar\":{\"outlinewidth\":0,\"ticks\":\"\"},\"colorscale\":[[0.0,\"#0d0887\"],[0.1111111111111111,\"#46039f\"],[0.2222222222222222,\"#7201a8\"],[0.3333333333333333,\"#9c179e\"],[0.4444444444444444,\"#bd3786\"],[0.5555555555555556,\"#d8576b\"],[0.6666666666666666,\"#ed7953\"],[0.7777777777777778,\"#fb9f3a\"],[0.8888888888888888,\"#fdca26\"],[1.0,\"#f0f921\"]],\"type\":\"histogram2d\"}],\"histogram\":[{\"marker\":{\"pattern\":{\"fillmode\":\"overlay\",\"size\":10,\"solidity\":0.2}},\"type\":\"histogram\"}],\"mesh3d\":[{\"colorbar\":{\"outlinewidth\":0,\"ticks\":\"\"},\"type\":\"mesh3d\"}],\"parcoords\":[{\"line\":{\"colorbar\":{\"outlinewidth\":0,\"ticks\":\"\"}},\"type\":\"parcoords\"}],\"pie\":[{\"automargin\":true,\"type\":\"pie\"}],\"scatter3d\":[{\"line\":{\"colorbar\":{\"outlinewidth\":0,\"ticks\":\"\"}},\"marker\":{\"colorbar\":{\"outlinewidth\":0,\"ticks\":\"\"}},\"type\":\"scatter3d\"}],\"scattercarpet\":[{\"marker\":{\"colorbar\":{\"outlinewidth\":0,\"ticks\":\"\"}},\"type\":\"scattercarpet\"}],\"scattergeo\":[{\"marker\":{\"colorbar\":{\"outlinewidth\":0,\"ticks\":\"\"}},\"type\":\"scattergeo\"}],\"scattergl\":[{\"marker\":{\"colorbar\":{\"outlinewidth\":0,\"ticks\":\"\"}},\"type\":\"scattergl\"}],\"scattermapbox\":[{\"marker\":{\"colorbar\":{\"outlinewidth\":0,\"ticks\":\"\"}},\"type\":\"scattermapbox\"}],\"scatterpolargl\":[{\"marker\":{\"colorbar\":{\"outlinewidth\":0,\"ticks\":\"\"}},\"type\":\"scatterpolargl\"}],\"scatterpolar\":[{\"marker\":{\"colorbar\":{\"outlinewidth\":0,\"ticks\":\"\"}},\"type\":\"scatterpolar\"}],\"scatter\":[{\"fillpattern\":{\"fillmode\":\"overlay\",\"size\":10,\"solidity\":0.2},\"type\":\"scatter\"}],\"scatterternary\":[{\"marker\":{\"colorbar\":{\"outlinewidth\":0,\"ticks\":\"\"}},\"type\":\"scatterternary\"}],\"surface\":[{\"colorbar\":{\"outlinewidth\":0,\"ticks\":\"\"},\"colorscale\":[[0.0,\"#0d0887\"],[0.1111111111111111,\"#46039f\"],[0.2222222222222222,\"#7201a8\"],[0.3333333333333333,\"#9c179e\"],[0.4444444444444444,\"#bd3786\"],[0.5555555555555556,\"#d8576b\"],[0.6666666666666666,\"#ed7953\"],[0.7777777777777778,\"#fb9f3a\"],[0.8888888888888888,\"#fdca26\"],[1.0,\"#f0f921\"]],\"type\":\"surface\"}],\"table\":[{\"cells\":{\"fill\":{\"color\":\"#EBF0F8\"},\"line\":{\"color\":\"white\"}},\"header\":{\"fill\":{\"color\":\"#C8D4E3\"},\"line\":{\"color\":\"white\"}},\"type\":\"table\"}]},\"layout\":{\"annotationdefaults\":{\"arrowcolor\":\"#2a3f5f\",\"arrowhead\":0,\"arrowwidth\":1},\"autotypenumbers\":\"strict\",\"coloraxis\":{\"colorbar\":{\"outlinewidth\":0,\"ticks\":\"\"}},\"colorscale\":{\"diverging\":[[0,\"#8e0152\"],[0.1,\"#c51b7d\"],[0.2,\"#de77ae\"],[0.3,\"#f1b6da\"],[0.4,\"#fde0ef\"],[0.5,\"#f7f7f7\"],[0.6,\"#e6f5d0\"],[0.7,\"#b8e186\"],[0.8,\"#7fbc41\"],[0.9,\"#4d9221\"],[1,\"#276419\"]],\"sequential\":[[0.0,\"#0d0887\"],[0.1111111111111111,\"#46039f\"],[0.2222222222222222,\"#7201a8\"],[0.3333333333333333,\"#9c179e\"],[0.4444444444444444,\"#bd3786\"],[0.5555555555555556,\"#d8576b\"],[0.6666666666666666,\"#ed7953\"],[0.7777777777777778,\"#fb9f3a\"],[0.8888888888888888,\"#fdca26\"],[1.0,\"#f0f921\"]],\"sequentialminus\":[[0.0,\"#0d0887\"],[0.1111111111111111,\"#46039f\"],[0.2222222222222222,\"#7201a8\"],[0.3333333333333333,\"#9c179e\"],[0.4444444444444444,\"#bd3786\"],[0.5555555555555556,\"#d8576b\"],[0.6666666666666666,\"#ed7953\"],[0.7777777777777778,\"#fb9f3a\"],[0.8888888888888888,\"#fdca26\"],[1.0,\"#f0f921\"]]},\"colorway\":[\"#636efa\",\"#EF553B\",\"#00cc96\",\"#ab63fa\",\"#FFA15A\",\"#19d3f3\",\"#FF6692\",\"#B6E880\",\"#FF97FF\",\"#FECB52\"],\"font\":{\"color\":\"#2a3f5f\"},\"geo\":{\"bgcolor\":\"white\",\"lakecolor\":\"white\",\"landcolor\":\"#E5ECF6\",\"showlakes\":true,\"showland\":true,\"subunitcolor\":\"white\"},\"hoverlabel\":{\"align\":\"left\"},\"hovermode\":\"closest\",\"mapbox\":{\"style\":\"light\"},\"paper_bgcolor\":\"white\",\"plot_bgcolor\":\"#E5ECF6\",\"polar\":{\"angularaxis\":{\"gridcolor\":\"white\",\"linecolor\":\"white\",\"ticks\":\"\"},\"bgcolor\":\"#E5ECF6\",\"radialaxis\":{\"gridcolor\":\"white\",\"linecolor\":\"white\",\"ticks\":\"\"}},\"scene\":{\"xaxis\":{\"backgroundcolor\":\"#E5ECF6\",\"gridcolor\":\"white\",\"gridwidth\":2,\"linecolor\":\"white\",\"showbackground\":true,\"ticks\":\"\",\"zerolinecolor\":\"white\"},\"yaxis\":{\"backgroundcolor\":\"#E5ECF6\",\"gridcolor\":\"white\",\"gridwidth\":2,\"linecolor\":\"white\",\"showbackground\":true,\"ticks\":\"\",\"zerolinecolor\":\"white\"},\"zaxis\":{\"backgroundcolor\":\"#E5ECF6\",\"gridcolor\":\"white\",\"gridwidth\":2,\"linecolor\":\"white\",\"showbackground\":true,\"ticks\":\"\",\"zerolinecolor\":\"white\"}},\"shapedefaults\":{\"line\":{\"color\":\"#2a3f5f\"}},\"ternary\":{\"aaxis\":{\"gridcolor\":\"white\",\"linecolor\":\"white\",\"ticks\":\"\"},\"baxis\":{\"gridcolor\":\"white\",\"linecolor\":\"white\",\"ticks\":\"\"},\"bgcolor\":\"#E5ECF6\",\"caxis\":{\"gridcolor\":\"white\",\"linecolor\":\"white\",\"ticks\":\"\"}},\"title\":{\"x\":0.05},\"xaxis\":{\"automargin\":true,\"gridcolor\":\"white\",\"linecolor\":\"white\",\"ticks\":\"\",\"title\":{\"standoff\":15},\"zerolinecolor\":\"white\",\"zerolinewidth\":2},\"yaxis\":{\"automargin\":true,\"gridcolor\":\"white\",\"linecolor\":\"white\",\"ticks\":\"\",\"title\":{\"standoff\":15},\"zerolinecolor\":\"white\",\"zerolinewidth\":2}}},\"title\":{\"text\":\"Frequency in the Training Set\"},\"xaxis\":{\"title\":{\"text\":\"Values\"}},\"yaxis\":{\"title\":{\"text\":\"Frequency\"}}},                        {\"responsive\": true}                    ).then(function(){\n",
       "                            \n",
       "var gd = document.getElementById('84a9868b-b8f4-40b6-a953-ac87687649ad');\n",
       "var x = new MutationObserver(function (mutations, observer) {{\n",
       "        var display = window.getComputedStyle(gd).display;\n",
       "        if (!display || display === 'none') {{\n",
       "            console.log([gd, 'removed!']);\n",
       "            Plotly.purge(gd);\n",
       "            observer.disconnect();\n",
       "        }}\n",
       "}});\n",
       "\n",
       "// Listen for the removal of the full notebook cells\n",
       "var notebookContainer = gd.closest('#notebook-container');\n",
       "if (notebookContainer) {{\n",
       "    x.observe(notebookContainer, {childList: true});\n",
       "}}\n",
       "\n",
       "// Listen for the clearing of the current output cell\n",
       "var outputEl = gd.closest('.output');\n",
       "if (outputEl) {{\n",
       "    x.observe(outputEl, {childList: true});\n",
       "}}\n",
       "\n",
       "                        })                };                });            </script>        </div>"
      ]
     },
     "metadata": {},
     "output_type": "display_data"
    }
   ],
   "source": [
    "hist = go.Histogram(x=dftrain['ParCh'], name='ParCh')\n",
    "\n",
    "layout = go.Layout(\n",
    "    title=\"Frequency in the Training Set\",\n",
    "    xaxis=dict(title=\"Values\"),\n",
    "    yaxis=dict(title=\"Frequency\"),\n",
    ")\n",
    "\n",
    "fig = go.Figure(data=[hist], layout=layout)\n",
    "\n",
    "pyo.iplot(fig)"
   ]
  },
  {
   "cell_type": "code",
   "execution_count": 20,
   "id": "55a7ff78",
   "metadata": {
    "execution": {
     "iopub.execute_input": "2023-11-03T23:39:20.725371Z",
     "iopub.status.busy": "2023-11-03T23:39:20.724025Z",
     "iopub.status.idle": "2023-11-03T23:39:21.244954Z",
     "shell.execute_reply": "2023-11-03T23:39:21.243553Z"
    },
    "papermill": {
     "duration": 0.554922,
     "end_time": "2023-11-03T23:39:21.247686",
     "exception": false,
     "start_time": "2023-11-03T23:39:20.692764",
     "status": "completed"
    },
    "tags": []
   },
   "outputs": [
    {
     "data": {
      "text/html": [
       "<div>                            <div id=\"56d0aef8-3236-4596-ac73-28468fb2e9c8\" class=\"plotly-graph-div\" style=\"height:525px; width:100%;\"></div>            <script type=\"text/javascript\">                require([\"plotly\"], function(Plotly) {                    window.PLOTLYENV=window.PLOTLYENV || {};                                    if (document.getElementById(\"56d0aef8-3236-4596-ac73-28468fb2e9c8\")) {                    Plotly.newPlot(                        \"56d0aef8-3236-4596-ac73-28468fb2e9c8\",                        [{\"branchvalues\":\"total\",\"customdata\":[[\"male\"],[\"male\"],[\"male\"],[\"(?)\"],[\"male\"],[\"(?)\"],[\"(?)\"],[\"male\"],[\"male\"],[\"(?)\"],[\"male\"],[\"male\"],[\"male\"],[\"female\"],[\"male\"],[\"(?)\"],[\"(?)\"],[\"(?)\"],[\"male\"],[\"male\"],[\"(?)\"],[\"male\"],[\"male\"],[\"male\"],[\"male\"],[\"male\"],[\"male\"],[\"male\"],[\"male\"],[\"(?)\"],[\"male\"],[\"male\"],[\"(?)\"],[\"male\"],[\"male\"],[\"male\"],[\"male\"],[\"male\"],[\"male\"],[\"male\"],[\"male\"],[\"male\"],[\"male\"],[\"male\"],[\"(?)\"],[\"male\"],[\"male\"],[\"male\"],[\"male\"],[\"male\"],[\"male\"],[\"(?)\"],[\"male\"],[\"male\"],[\"(?)\"],[\"male\"],[\"(?)\"],[\"male\"],[\"(?)\"],[\"male\"],[\"(?)\"],[\"male\"],[\"male\"],[\"(?)\"],[\"male\"],[\"male\"],[\"(?)\"],[\"(?)\"],[\"(?)\"],[\"male\"],[\"(?)\"],[\"(?)\"],[\"(?)\"],[\"(?)\"],[\"(?)\"],[\"(?)\"],[\"(?)\"],[\"male\"],[\"(?)\"],[\"(?)\"],[\"male\"],[\"female\"],[\"(?)\"],[\"female\"],[\"male\"],[\"female\"],[\"(?)\"],[\"(?)\"],[\"(?)\"],[\"(?)\"],[\"(?)\"],[\"(?)\"],[\"(?)\"],[\"female\"],[\"male\"],[\"(?)\"],[\"male\"],[\"(?)\"],[\"(?)\"],[\"male\"],[\"male\"],[\"male\"],[\"male\"],[\"male\"],[\"male\"],[\"(?)\"],[\"(?)\"],[\"male\"],[\"(?)\"],[\"male\"],[\"male\"],[\"(?)\"],[\"male\"],[\"male\"],[\"male\"],[\"male\"],[\"female\"],[\"male\"],[\"male\"],[\"(?)\"],[\"(?)\"],[\"(?)\"],[\"(?)\"],[\"male\"],[\"female\"],[\"male\"],[\"female\"],[\"(?)\"],[\"(?)\"],[\"male\"],[\"male\"],[\"female\"],[\"female\"],[\"(?)\"],[\"female\"],[\"female\"],[\"female\"],[\"female\"],[\"female\"],[\"(?)\"],[\"(?)\"],[\"male\"],[\"male\"],[\"(?)\"],[\"(?)\"],[\"(?)\"],[\"(?)\"],[\"female\"],[\"female\"],[\"female\"],[\"male\"],[\"(?)\"],[\"(?)\"],[\"female\"],[\"female\"],[\"(?)\"],[\"female\"],[\"female\"],[\"female\"],[\"(?)\"],[\"(?)\"],[\"female\"],[\"(?)\"],[\"female\"],[\"female\"],[\"(?)\"],[\"female\"],[\"female\"],[\"(?)\"],[\"male\"],[\"(?)\"],[\"female\"],[\"(?)\"],[\"(?)\"],[\"female\"],[\"(?)\"],[\"female\"],[\"(?)\"],[\"female\"],[\"female\"],[\"female\"],[\"female\"],[\"female\"],[\"female\"],[\"female\"],[\"(?)\"],[\"female\"],[\"female\"],[\"female\"],[\"female\"],[\"(?)\"],[\"male\"],[\"female\"],[\"female\"],[\"female\"],[\"female\"],[\"male\"],[\"female\"],[\"female\"],[\"female\"],[\"female\"],[\"female\"],[\"female\"],[\"female\"],[\"female\"],[\"female\"],[\"female\"],[\"female\"],[\"male\"],[\"female\"],[\"male\"],[\"female\"],[\"(?)\"],[\"female\"],[\"(?)\"],[\"male\"],[\"(?)\"],[\"female\"],[\"male\"],[\"female\"],[\"male\"],[\"(?)\"],[\"female\"],[\"male\"],[\"male\"],[\"female\"],[\"male\"],[\"(?)\"],[\"(?)\"],[\"(?)\"],[\"(?)\"],[\"female\"],[\"male\"],[\"(?)\"],[\"(?)\"],[\"(?)\"],[\"male\"],[\"(?)\"],[\"(?)\"],[\"(?)\"],[\"(?)\"],[\"female\"],[\"(?)\"],[\"(?)\"],[\"(?)\"],[\"female\"],[\"(?)\"],[\"(?)\"],[\"(?)\"],[\"male\"],[\"(?)\"],[\"male\"],[\"male\"],[\"male\"],[\"female\"],[\"male\"],[\"male\"],[\"male\"],[\"female\"],[\"(?)\"],[\"male\"],[\"(?)\"],[\"(?)\"],[\"(?)\"],[\"(?)\"],[\"(?)\"],[\"male\"],[\"(?)\"],[\"female\"],[\"male\"],[\"(?)\"],[\"(?)\"],[\"(?)\"],[\"(?)\"],[\"(?)\"],[\"(?)\"],[\"(?)\"],[\"male\"],[\"(?)\"],[\"male\"],[\"(?)\"],[\"male\"],[\"female\"],[\"(?)\"],[\"male\"],[\"(?)\"],[\"(?)\"],[\"male\"],[\"female\"],[\"(?)\"],[\"male\"],[\"male\"],[\"male\"],[\"(?)\"],[\"male\"],[\"male\"],[\"(?)\"],[\"(?)\"],[\"(?)\"],[\"(?)\"],[\"male\"],[\"male\"],[\"(?)\"],[\"female\"],[\"(?)\"],[\"(?)\"],[\"(?)\"],[\"(?)\"],[\"(?)\"],[\"male\"],[\"female\"],[\"male\"],[\"(?)\"],[\"male\"],[\"male\"],[\"male\"],[\"(?)\"],[\"female\"],[\"(?)\"],[\"(?)\"],[\"(?)\"],[\"male\"],[\"(?)\"],[\"(?)\"],[\"(?)\"],[\"male\"],[\"male\"],[\"(?)\"],[\"(?)\"],[\"(?)\"],[\"(?)\"],[\"(?)\"],[\"male\"],[\"(?)\"],[\"(?)\"],[\"(?)\"],[\"(?)\"],[\"(?)\"],[\"male\"],[\"(?)\"],[\"(?)\"],[\"female\"],[\"(?)\"],[\"male\"],[\"(?)\"],[\"female\"],[\"male\"],[\"male\"],[\"female\"],[\"female\"],[\"female\"],[\"female\"],[\"female\"],[\"female\"],[\"female\"],[\"female\"],[\"female\"],[\"female\"],[\"female\"],[\"female\"],[\"female\"],[\"female\"],[\"female\"],[\"female\"],[\"female\"],[\"female\"],[\"female\"],[\"female\"],[\"female\"],[\"female\"],[\"female\"],[\"female\"],[\"female\"],[\"female\"],[\"female\"],[\"male\"],[\"male\"],[\"male\"],[\"male\"],[\"male\"],[\"male\"],[\"male\"],[\"male\"],[\"male\"],[\"male\"],[\"male\"],[\"male\"],[\"male\"],[\"male\"],[\"male\"],[\"male\"],[\"male\"],[\"male\"],[\"male\"],[\"male\"],[\"male\"],[\"male\"],[\"male\"],[\"female\"],[\"male\"],[\"female\"],[\"female\"],[\"female\"],[\"female\"],[\"female\"],[\"female\"],[\"female\"],[\"female\"],[\"female\"],[\"female\"],[\"female\"],[\"female\"],[\"female\"],[\"female\"],[\"female\"],[\"female\"],[\"female\"],[\"female\"],[\"female\"],[\"female\"],[\"female\"],[\"female\"],[\"female\"],[\"female\"],[\"female\"],[\"female\"],[\"female\"],[\"female\"],[\"female\"],[\"female\"],[\"female\"],[\"female\"],[\"female\"],[\"female\"],[\"female\"],[\"female\"],[\"female\"],[\"female\"],[\"female\"],[\"female\"],[\"female\"],[\"female\"],[\"female\"],[\"female\"],[\"female\"],[\"female\"],[\"female\"],[\"female\"],[\"female\"],[\"female\"],[\"female\"],[\"female\"],[\"female\"],[\"male\"],[\"male\"],[\"male\"],[\"male\"],[\"male\"],[\"male\"],[\"male\"],[\"male\"],[\"male\"],[\"male\"],[\"male\"],[\"male\"],[\"male\"],[\"male\"],[\"male\"],[\"male\"],[\"male\"],[\"male\"],[\"male\"],[\"male\"],[\"male\"],[\"male\"],[\"male\"],[\"male\"],[\"male\"],[\"male\"],[\"male\"],[\"male\"],[\"male\"],[\"female\"],[\"male\"],[\"(?)\"],[\"male\"],[\"(?)\"],[\"(?)\"],[\"male\"],[\"female\"],[\"(?)\"],[\"(?)\"],[\"male\"],[\"(?)\"],[\"(?)\"],[\"female\"],[\"(?)\"],[\"(?)\"],[\"male\"],[\"(?)\"],[\"male\"],[\"(?)\"],[\"(?)\"],[\"(?)\"],[\"(?)\"],[\"(?)\"],[\"female\"],[\"male\"],[\"male\"],[\"male\"],[\"male\"],[\"male\"],[\"male\"],[\"male\"],[\"male\"],[\"male\"],[\"male\"],[\"male\"],[\"male\"],[\"male\"],[\"male\"],[\"male\"],[\"male\"],[\"male\"],[\"male\"],[\"male\"],[\"male\"],[\"male\"],[\"male\"],[\"male\"],[\"male\"],[\"male\"],[\"male\"],[\"male\"],[\"male\"],[\"male\"],[\"male\"],[\"male\"],[\"male\"],[\"male\"],[\"male\"],[\"male\"],[\"male\"],[\"male\"],[\"male\"],[\"male\"],[\"male\"],[\"male\"],[\"male\"],[\"male\"],[\"male\"],[\"male\"],[\"male\"],[\"male\"],[\"male\"],[\"male\"],[\"male\"],[\"male\"],[\"male\"],[\"male\"],[\"male\"],[\"male\"],[\"male\"]],\"domain\":{\"x\":[0.0,1.0],\"y\":[0.0,1.0]},\"hovertemplate\":\"labels=%{label}\\u003cbr\\u003ecount=%{value}\\u003cbr\\u003eparent=%{parent}\\u003cbr\\u003eid=%{id}\\u003cbr\\u003eGender=%{customdata[0]}\\u003cextra\\u003e\\u003c\\u002fextra\\u003e\",\"ids\":[\"60.0\\u002f1\\u002fmale\",\"31.0\\u002f2\\u002fmale\",\"23.5\\u002f3\",\"23.0\\u002f3\",\"36.0\\u002f2\\u002fmale\",\"20.0\\u002f3\",\"19.0\\u002f3\",\"39.0\\u002f2\\u002fmale\",\"44.0\\u002f2\\u002fmale\",\"16.0\\u002f3\",\"50.0\\u002f2\\u002fmale\",\"51.0\\u002f2\\u002fmale\",\"54.0\\u002f2\\u002fmale\",\"13.0\\u002f3\",\"30.0\\u002f2\\u002fmale\",\"11.0\\u002f3\",\"9.0\\u002f3\",\"6.0\\u002f3\",\"4.0\\u002f3\\u002fmale\",\"6.0\\u002f3\\u002fmale\",\"3.0\\u002f3\",\"9.0\\u002f3\\u002fmale\",\"11.0\\u002f3\\u002fmale\",\"14.0\\u002f3\\u002fmale\",\"70.0\\u002f2\",\"17.0\\u002f3\\u002fmale\",\"18.0\\u002f3\\u002fmale\",\"62.0\\u002f2\",\"22.0\\u002f3\\u002fmale\",\"10.0\\u002f3\",\"28.0\\u002f2\\u002fmale\",\"27.0\\u002f2\\u002fmale\",\"25.0\\u002f3\",\"21.0\\u002f1\\u002fmale\",\"0.42\",\"74.0\\u002f3\",\"25.0\\u002f1\\u002fmale\",\"26.0\\u002f1\\u002fmale\",\"27.0\\u002f1\\u002fmale\",\"70.5\\u002f3\",\"61.0\\u002f3\",\"31.0\\u002f1\\u002fmale\",\"35.0\\u002f1\\u002fmale\",\"40.0\\u002f1\\u002fmale\",\"43.0\\u002f3\",\"46.0\\u002f1\\u002fmale\",\"42.0\\u002f3\",\"51.0\\u002f1\\u002fmale\",\"52.0\\u002f1\\u002fmale\",\"80.0\\u002f1\",\"34.5\\u002f3\",\"33.0\\u002f3\",\"70.0\\u002f1\\u002fmale\",\"0.67\\u002f2\\u002fmale\",\"30.5\\u002f3\",\"3.0\\u002f2\\u002fmale\",\"29.0\\u002f3\",\"16.0\\u002f2\\u002fmale\",\"27.0\\u002f3\",\"23.0\\u002f2\\u002fmale\",\"26.0\\u002f3\",\"25.0\\u002f2\\u002fmale\",\"23.0\\u002f3\\u002fmale\",\"57.0\\u002f2\",\"25.0\\u002f3\\u002fmale\",\"52.0\\u002f2\",\"25.0\\u002f2\",\"25.0\\u002f1\",\"24.0\\u002f2\",\"28.0\\u002f1\",\"29.0\\u002f1\",\"30.0\\u002f1\",\"31.0\\u002f1\",\"32.0\\u002f1\",\"33.0\\u002f1\",\"19.0\\u002f2\",\"36.0\\u002f1\",\"37.0\\u002f1\",\"39.0\\u002f1\",\"40.0\\u002f1\",\"16.0\\u002f2\",\"43.0\\u002f1\",\"44.0\\u002f1\",\"14.0\\u002f2\",\"45.5\\u002f1\",\"13.0\\u002f2\",\"47.0\\u002f1\",\"48.0\\u002f1\",\"49.0\\u002f1\",\"50.0\\u002f1\",\"8.0\\u002f2\",\"54.0\\u002f1\",\"58.0\\u002f1\",\"63.0\\u002f1\",\"0.67\\u002f2\",\"26.0\\u002f2\",\"17.0\\u002f1\\u002fmale\",\"22.0\\u002f1\",\"27.0\\u002f2\",\"28.0\\u002f3\\u002fmale\",\"28.5\\u002f3\\u002fmale\",\"29.0\\u002f3\\u002fmale\",\"29.69911764705882\\u002f3\\u002fmale\",\"30.0\\u002f3\\u002fmale\",\"30.5\\u002f3\\u002fmale\",\"50.0\\u002f2\",\"48.0\\u002f2\",\"34.5\\u002f3\\u002fmale\",\"44.0\\u002f2\",\"38.0\\u002f3\\u002fmale\",\"39.0\\u002f3\\u002fmale\",\"42.0\\u002f2\",\"41.0\\u002f3\\u002fmale\",\"43.0\\u002f3\\u002fmale\",\"44.0\\u002f3\\u002fmale\",\"45.0\\u002f3\\u002fmale\",\"38.0\\u002f2\",\"48.0\\u002f3\\u002fmale\",\"36.5\\u002f2\",\"36.0\\u002f2\",\"32.5\\u002f2\",\"32.0\\u002f2\",\"31.0\\u002f2\",\"0.92\\u002f1\",\"2.0\\u002f1\",\"4.0\\u002f1\",\"14.0\\u002f1\",\"18.0\\u002f1\",\"21.0\\u002f1\",\"11.0\\u002f1\\u002fmale\",\"71.0\\u002f1\",\"16.0\\u002f3\\u002ffemale\",\"2.0\\u002f3\\u002ffemale\",\"50.0\",\"63.0\\u002f1\\u002ffemale\",\"62.0\\u002f1\\u002ffemale\",\"5.0\\u002f3\\u002ffemale\",\"60.0\\u002f1\\u002ffemale\",\"58.0\\u002f1\\u002ffemale\",\"51.0\",\"52.0\",\"24.5\",\"23.5\",\"23.0\",\"22.0\",\"41.0\",\"21.0\",\"18.0\\u002f3\\u002ffemale\",\"50.0\\u002f1\\u002ffemale\",\"49.0\\u002f1\\u002ffemale\",\"55.5\",\"19.0\",\"17.0\",\"1.0\\u002f3\\u002ffemale\",\"3.0\\u002f2\\u002ffemale\",\"29.69911764705882\",\"57.0\\u002f2\\u002ffemale\",\"25.0\\u002f2\\u002ffemale\",\"23.0\\u002f2\\u002ffemale\",\"44.0\",\"38.0\",\"32.0\\u002f2\\u002ffemale\",\"45.0\",\"33.0\\u002f2\\u002ffemale\",\"19.0\\u002f2\\u002ffemale\",\"36.0\",\"36.0\\u002f2\\u002ffemale\",\"45.0\\u002f1\\u002ffemale\",\"1.0\",\"45.5\",\"34.0\",\"13.0\\u002f2\\u002ffemale\",\"32.5\",\"47.0\",\"7.0\\u002f2\\u002ffemale\",\"31.0\",\"50.0\\u002f2\\u002ffemale\",\"49.0\",\"4.0\\u002f2\\u002ffemale\",\"18.0\\u002f2\\u002ffemale\",\"24.0\\u002f3\\u002ffemale\",\"28.0\\u002f2\\u002ffemale\",\"24.0\\u002f1\\u002ffemale\",\"16.0\\u002f1\\u002ffemale\",\"40.0\\u002f3\\u002ffemale\",\"7.0\",\"63.0\",\"30.5\\u002f3\\u002ffemale\",\"30.0\\u002f1\\u002ffemale\",\"5.0\",\"8.0\",\"65.0\",\"25.0\\u002f1\\u002ffemale\",\"23.0\\u002f1\\u002ffemale\",\"22.0\\u002f1\\u002ffemale\",\"36.0\\u002f3\\u002ffemale\",\"70.0\",\"29.69911764705882\\u002f1\\u002ffemale\",\"33.0\\u002f1\\u002ffemale\",\"30.0\\u002f3\\u002ffemale\",\"35.0\\u002f1\\u002ffemale\",\"42.0\\u002f1\\u002ffemale\",\"14.0\\u002f1\\u002ffemale\",\"27.0\\u002f3\\u002ffemale\",\"41.0\\u002f1\\u002ffemale\",\"48.0\\u002f3\\u002ffemale\",\"39.0\\u002f1\\u002ffemale\",\"29.0\\u002f3\\u002ffemale\",\"70.5\",\"15.0\\u002f1\\u002ffemale\",\"43.0\\u002f2\",\"40.0\\u002f2\",\"42.0\",\"45.0\\u002f2\",\"2.0\\u002f2\",\"71.0\",\"43.0\",\"41.0\\u002f2\",\"46.0\\u002f2\",\"5.0\\u002f2\",\"47.0\\u002f2\",\"3.0\\u002f2\",\"4.0\\u002f2\",\"0.83\\u002f2\",\"1.0\\u002f2\",\"6.0\\u002f2\",\"46.0\",\"57.0\",\"48.0\",\"58.0\",\"56.0\",\"22.0\\u002f2\",\"59.0\",\"55.0\",\"60.0\",\"21.0\\u002f2\",\"61.0\",\"54.0\",\"28.0\\u002f2\",\"29.0\\u002f2\",\"29.69911764705882\\u002f2\",\"53.0\",\"30.0\\u002f2\",\"18.0\\u002f2\",\"62.0\",\"17.0\\u002f2\",\"33.0\\u002f2\",\"34.0\\u002f2\",\"35.0\\u002f2\",\"64.0\",\"23.0\\u002f2\",\"37.0\\u002f2\",\"66.0\",\"39.0\\u002f2\",\"7.0\\u002f2\",\"0.92\",\"0.42\\u002f3\",\"51.0\\u002f2\",\"13.0\",\"41.0\\u002f3\",\"40.5\\u002f3\",\"40.0\\u002f3\",\"14.0\",\"39.0\\u002f3\",\"38.0\\u002f3\",\"37.0\\u002f3\",\"12.0\",\"36.0\\u002f3\",\"14.5\",\"34.0\\u002f3\",\"15.0\",\"32.0\\u002f3\",\"31.0\\u002f3\",\"16.0\",\"30.0\\u002f3\",\"29.69911764705882\\u002f3\",\"35.0\\u002f3\",\"44.0\\u002f3\",\"45.0\\u002f3\",\"45.5\\u002f3\",\"2.0\",\"0.83\",\"0.75\",\"3.0\",\"0.67\",\"4.0\",\"6.0\",\"65.0\\u002f3\",\"63.0\\u002f3\",\"9.0\",\"59.0\\u002f3\",\"55.5\\u002f3\",\"51.0\\u002f3\",\"10.0\",\"50.0\\u002f3\",\"49.0\\u002f3\",\"48.0\\u002f3\",\"47.0\\u002f3\",\"11.0\",\"18.0\",\"40.5\",\"28.5\\u002f3\",\"20.0\",\"5.0\\u002f3\",\"4.0\\u002f3\",\"32.0\",\"33.0\",\"2.0\\u002f3\",\"1.0\\u002f3\",\"34.5\",\"0.75\\u002f3\",\"7.0\\u002f3\",\"35.0\",\"66.0\\u002f2\",\"60.0\\u002f2\",\"59.0\\u002f2\",\"37.0\",\"55.0\\u002f2\",\"54.0\\u002f2\",\"39.0\",\"40.0\",\"36.5\",\"8.0\\u002f3\",\"30.5\",\"30.0\",\"20.5\",\"24.5\\u002f3\",\"24.0\\u002f3\",\"24.0\",\"25.0\",\"22.0\\u002f3\",\"21.0\\u002f3\",\"20.5\\u002f3\",\"26.0\",\"27.0\",\"28.0\",\"18.0\\u002f3\",\"17.0\\u002f3\",\"28.5\",\"29.0\",\"15.0\\u002f3\",\"14.5\\u002f3\",\"14.0\\u002f3\",\"12.0\\u002f3\",\"28.0\\u002f3\",\"2.0\\u002f1\\u002ffemale\",\"50.0\\u002f3\\u002fmale\",\"65.0\\u002f1\",\"41.0\\u002f3\\u002ffemale\",\"39.0\\u002f3\\u002ffemale\",\"38.0\\u002f3\\u002ffemale\",\"37.0\\u002f3\\u002ffemale\",\"35.0\\u002f3\\u002ffemale\",\"33.0\\u002f3\\u002ffemale\",\"32.0\\u002f3\\u002ffemale\",\"31.0\\u002f3\\u002ffemale\",\"29.69911764705882\\u002f3\\u002ffemale\",\"28.0\\u002f3\\u002ffemale\",\"26.0\\u002f3\\u002ffemale\",\"25.0\\u002f3\\u002ffemale\",\"23.0\\u002f3\\u002ffemale\",\"22.0\\u002f3\\u002ffemale\",\"21.0\\u002f3\\u002ffemale\",\"20.0\\u002f3\\u002ffemale\",\"19.0\\u002f3\\u002ffemale\",\"17.0\\u002f3\\u002ffemale\",\"15.0\\u002f3\\u002ffemale\",\"14.5\\u002f3\\u002ffemale\",\"14.0\\u002f3\\u002ffemale\",\"13.0\\u002f3\\u002ffemale\",\"11.0\\u002f3\\u002ffemale\",\"43.0\\u002f3\\u002ffemale\",\"10.0\\u002f3\\u002ffemale\",\"45.0\\u002f3\\u002ffemale\",\"63.0\\u002f3\\u002ffemale\",\"47.0\\u002f1\\u002fmale\",\"45.5\\u002f1\\u002fmale\",\"45.0\\u002f1\\u002fmale\",\"44.0\\u002f1\\u002fmale\",\"42.0\\u002f1\\u002fmale\",\"39.0\\u002f1\\u002fmale\",\"38.0\\u002f1\\u002fmale\",\"37.0\\u002f1\\u002fmale\",\"36.0\\u002f1\\u002fmale\",\"34.0\\u002f1\\u002fmale\",\"33.0\\u002f1\\u002fmale\",\"32.0\\u002f1\\u002fmale\",\"30.0\\u002f1\\u002fmale\",\"29.69911764705882\\u002f1\\u002fmale\",\"29.0\\u002f1\\u002fmale\",\"28.0\\u002f1\\u002fmale\",\"24.0\\u002f1\\u002fmale\",\"23.0\\u002f1\\u002fmale\",\"22.0\\u002f1\\u002fmale\",\"19.0\\u002f1\\u002fmale\",\"18.0\\u002f1\\u002fmale\",\"4.0\\u002f1\\u002fmale\",\"0.92\\u002f1\\u002fmale\",\"47.0\\u002f3\\u002ffemale\",\"48.0\\u002f1\\u002fmale\",\"9.0\\u002f3\\u002ffemale\",\"6.0\\u002f3\\u002ffemale\",\"6.0\\u002f2\\u002ffemale\",\"5.0\\u002f2\\u002ffemale\",\"2.0\\u002f2\\u002ffemale\",\"56.0\\u002f1\\u002ffemale\",\"54.0\\u002f1\\u002ffemale\",\"53.0\\u002f1\\u002ffemale\",\"52.0\\u002f1\\u002ffemale\",\"51.0\\u002f1\\u002ffemale\",\"48.0\\u002f1\\u002ffemale\",\"47.0\\u002f1\\u002ffemale\",\"44.0\\u002f1\\u002ffemale\",\"43.0\\u002f1\\u002ffemale\",\"40.0\\u002f1\\u002ffemale\",\"38.0\\u002f1\\u002ffemale\",\"36.0\\u002f1\\u002ffemale\",\"32.0\\u002f1\\u002ffemale\",\"31.0\\u002f1\\u002ffemale\",\"29.0\\u002f1\\u002ffemale\",\"26.0\\u002f1\\u002ffemale\",\"21.0\\u002f1\\u002ffemale\",\"19.0\\u002f1\\u002ffemale\",\"18.0\\u002f1\\u002ffemale\",\"17.0\\u002f1\\u002ffemale\",\"8.0\\u002f2\\u002ffemale\",\"8.0\\u002f3\\u002ffemale\",\"14.0\\u002f2\\u002ffemale\",\"21.0\\u002f2\\u002ffemale\",\"4.0\\u002f3\\u002ffemale\",\"3.0\\u002f3\\u002ffemale\",\"0.75\\u002f3\\u002ffemale\",\"55.0\\u002f2\\u002ffemale\",\"54.0\\u002f2\\u002ffemale\",\"48.0\\u002f2\\u002ffemale\",\"45.0\\u002f2\\u002ffemale\",\"44.0\\u002f2\\u002ffemale\",\"42.0\\u002f2\\u002ffemale\",\"41.0\\u002f2\\u002ffemale\",\"40.0\\u002f2\\u002ffemale\",\"38.0\\u002f2\\u002ffemale\",\"35.0\\u002f2\\u002ffemale\",\"34.0\\u002f2\\u002ffemale\",\"32.5\\u002f2\\u002ffemale\",\"31.0\\u002f2\\u002ffemale\",\"30.0\\u002f2\\u002ffemale\",\"29.69911764705882\\u002f2\\u002ffemale\",\"29.0\\u002f2\\u002ffemale\",\"27.0\\u002f2\\u002ffemale\",\"26.0\\u002f2\\u002ffemale\",\"24.0\\u002f2\\u002ffemale\",\"22.0\\u002f2\\u002ffemale\",\"17.0\\u002f2\\u002ffemale\",\"49.0\\u002f1\\u002fmale\",\"50.0\\u002f1\\u002fmale\",\"54.0\\u002f1\\u002fmale\",\"70.5\\u002f3\\u002fmale\",\"65.0\\u002f3\\u002fmale\",\"61.0\\u002f3\\u002fmale\",\"59.0\\u002f3\\u002fmale\",\"55.5\\u002f3\\u002fmale\",\"51.0\\u002f3\\u002fmale\",\"74.0\",\"49.0\\u002f3\\u002fmale\",\"47.0\\u002f3\\u002fmale\",\"45.5\\u002f3\\u002fmale\",\"42.0\\u002f3\\u002fmale\",\"40.5\\u002f3\\u002fmale\",\"40.0\\u002f3\\u002fmale\",\"37.0\\u002f3\\u002fmale\",\"36.0\\u002f3\\u002fmale\",\"35.0\\u002f3\\u002fmale\",\"34.0\\u002f3\\u002fmale\",\"33.0\\u002f3\\u002fmale\",\"32.0\\u002f3\\u002fmale\",\"31.0\\u002f3\\u002fmale\",\"27.0\\u002f3\\u002fmale\",\"26.0\\u002f3\\u002fmale\",\"24.5\\u002f3\\u002fmale\",\"74.0\\u002f3\\u002fmale\",\"24.0\\u002f3\\u002fmale\",\"11.0\\u002f1\",\"16.0\\u002f1\",\"64.0\\u002f1\",\"62.0\\u002f1\",\"61.0\\u002f1\",\"60.0\\u002f1\",\"56.0\\u002f1\",\"55.0\\u002f1\",\"53.0\\u002f1\",\"52.0\\u002f1\",\"51.0\\u002f1\",\"46.0\\u002f1\",\"45.0\\u002f1\",\"42.0\\u002f1\",\"41.0\\u002f1\",\"38.0\\u002f1\",\"35.0\\u002f1\",\"34.0\\u002f1\",\"29.69911764705882\\u002f1\",\"27.0\\u002f1\",\"26.0\\u002f1\",\"24.0\\u002f1\",\"23.0\\u002f1\",\"19.0\\u002f1\",\"17.0\\u002f1\",\"15.0\\u002f1\",\"23.5\\u002f3\\u002fmale\",\"21.0\\u002f3\\u002fmale\",\"20.5\\u002f3\\u002fmale\",\"33.0\\u002f2\\u002fmale\",\"32.5\\u002f2\\u002fmale\",\"32.0\\u002f2\\u002fmale\",\"29.69911764705882\\u002f2\\u002fmale\",\"29.0\\u002f2\\u002fmale\",\"26.0\\u002f2\\u002fmale\",\"24.0\\u002f2\\u002fmale\",\"21.0\\u002f2\\u002fmale\",\"19.0\\u002f2\\u002fmale\",\"18.0\\u002f2\\u002fmale\",\"8.0\\u002f2\\u002fmale\",\"2.0\\u002f2\\u002fmale\",\"1.0\\u002f2\\u002fmale\",\"0.83\\u002f2\\u002fmale\",\"80.0\\u002f1\\u002fmale\",\"71.0\\u002f1\\u002fmale\",\"65.0\\u002f1\\u002fmale\",\"64.0\\u002f1\\u002fmale\",\"62.0\\u002f1\\u002fmale\",\"61.0\\u002f1\\u002fmale\",\"58.0\\u002f1\\u002fmale\",\"56.0\\u002f1\\u002fmale\",\"55.0\\u002f1\\u002fmale\",\"34.0\\u002f2\\u002fmale\",\"35.0\\u002f2\\u002fmale\",\"36.5\\u002f2\\u002fmale\",\"37.0\\u002f2\\u002fmale\",\"20.0\\u002f3\\u002fmale\",\"19.0\\u002f3\\u002fmale\",\"16.0\\u002f3\\u002fmale\",\"15.0\\u002f3\\u002fmale\",\"12.0\\u002f3\\u002fmale\",\"10.0\\u002f3\\u002fmale\",\"8.0\\u002f3\\u002fmale\",\"7.0\\u002f3\\u002fmale\",\"3.0\\u002f3\\u002fmale\",\"2.0\\u002f3\\u002fmale\",\"1.0\\u002f3\\u002fmale\",\"70.0\\u002f1\",\"0.42\\u002f3\\u002fmale\",\"66.0\\u002f2\\u002fmale\",\"62.0\\u002f2\\u002fmale\",\"60.0\\u002f2\\u002fmale\",\"59.0\\u002f2\\u002fmale\",\"57.0\\u002f2\\u002fmale\",\"52.0\\u002f2\\u002fmale\",\"48.0\\u002f2\\u002fmale\",\"47.0\\u002f2\\u002fmale\",\"46.0\\u002f2\\u002fmale\",\"43.0\\u002f2\\u002fmale\",\"42.0\\u002f2\\u002fmale\",\"70.0\\u002f2\\u002fmale\",\"80.0\"],\"labels\":[\"male\",\"male\",\"3\",\"3\",\"male\",\"3\",\"3\",\"male\",\"male\",\"3\",\"male\",\"male\",\"male\",\"3\",\"male\",\"3\",\"3\",\"3\",\"male\",\"male\",\"3\",\"male\",\"male\",\"male\",\"2\",\"male\",\"male\",\"2\",\"male\",\"3\",\"male\",\"male\",\"3\",\"male\",\"0.42\",\"3\",\"male\",\"male\",\"male\",\"3\",\"3\",\"male\",\"male\",\"male\",\"3\",\"male\",\"3\",\"male\",\"male\",\"1\",\"3\",\"3\",\"male\",\"male\",\"3\",\"male\",\"3\",\"male\",\"3\",\"male\",\"3\",\"male\",\"male\",\"2\",\"male\",\"2\",\"2\",\"1\",\"2\",\"1\",\"1\",\"1\",\"1\",\"1\",\"1\",\"2\",\"1\",\"1\",\"1\",\"1\",\"2\",\"1\",\"1\",\"2\",\"1\",\"2\",\"1\",\"1\",\"1\",\"1\",\"2\",\"1\",\"1\",\"1\",\"2\",\"2\",\"male\",\"1\",\"2\",\"male\",\"male\",\"male\",\"male\",\"male\",\"male\",\"2\",\"2\",\"male\",\"2\",\"male\",\"male\",\"2\",\"male\",\"male\",\"male\",\"male\",\"2\",\"male\",\"2\",\"2\",\"2\",\"2\",\"2\",\"1\",\"1\",\"1\",\"1\",\"1\",\"1\",\"male\",\"1\",\"female\",\"female\",\"50.0\",\"female\",\"female\",\"female\",\"female\",\"female\",\"51.0\",\"52.0\",\"24.5\",\"23.5\",\"23.0\",\"22.0\",\"41.0\",\"21.0\",\"female\",\"female\",\"female\",\"55.5\",\"19.0\",\"17.0\",\"female\",\"female\",\"29.69911764705882\",\"female\",\"female\",\"female\",\"44.0\",\"38.0\",\"female\",\"45.0\",\"female\",\"female\",\"36.0\",\"female\",\"female\",\"1.0\",\"45.5\",\"34.0\",\"female\",\"32.5\",\"47.0\",\"female\",\"31.0\",\"female\",\"49.0\",\"female\",\"female\",\"female\",\"female\",\"female\",\"female\",\"female\",\"7.0\",\"63.0\",\"female\",\"female\",\"5.0\",\"8.0\",\"65.0\",\"female\",\"female\",\"female\",\"female\",\"70.0\",\"female\",\"female\",\"female\",\"female\",\"female\",\"female\",\"female\",\"female\",\"female\",\"female\",\"female\",\"70.5\",\"female\",\"2\",\"2\",\"42.0\",\"2\",\"2\",\"71.0\",\"43.0\",\"2\",\"2\",\"2\",\"2\",\"2\",\"2\",\"2\",\"2\",\"2\",\"46.0\",\"57.0\",\"48.0\",\"58.0\",\"56.0\",\"2\",\"59.0\",\"55.0\",\"60.0\",\"2\",\"61.0\",\"54.0\",\"2\",\"2\",\"2\",\"53.0\",\"2\",\"2\",\"62.0\",\"2\",\"2\",\"2\",\"2\",\"64.0\",\"2\",\"2\",\"66.0\",\"2\",\"2\",\"0.92\",\"3\",\"2\",\"13.0\",\"3\",\"3\",\"3\",\"14.0\",\"3\",\"3\",\"3\",\"12.0\",\"3\",\"14.5\",\"3\",\"15.0\",\"3\",\"3\",\"16.0\",\"3\",\"3\",\"3\",\"3\",\"3\",\"3\",\"2.0\",\"0.83\",\"0.75\",\"3.0\",\"0.67\",\"4.0\",\"6.0\",\"3\",\"3\",\"9.0\",\"3\",\"3\",\"3\",\"10.0\",\"3\",\"3\",\"3\",\"3\",\"11.0\",\"18.0\",\"40.5\",\"3\",\"20.0\",\"3\",\"3\",\"32.0\",\"33.0\",\"3\",\"3\",\"34.5\",\"3\",\"3\",\"35.0\",\"2\",\"2\",\"2\",\"37.0\",\"2\",\"2\",\"39.0\",\"40.0\",\"36.5\",\"3\",\"30.5\",\"30.0\",\"20.5\",\"3\",\"3\",\"24.0\",\"25.0\",\"3\",\"3\",\"3\",\"26.0\",\"27.0\",\"28.0\",\"3\",\"3\",\"28.5\",\"29.0\",\"3\",\"3\",\"3\",\"3\",\"3\",\"female\",\"male\",\"1\",\"female\",\"female\",\"female\",\"female\",\"female\",\"female\",\"female\",\"female\",\"female\",\"female\",\"female\",\"female\",\"female\",\"female\",\"female\",\"female\",\"female\",\"female\",\"female\",\"female\",\"female\",\"female\",\"female\",\"female\",\"female\",\"female\",\"female\",\"male\",\"male\",\"male\",\"male\",\"male\",\"male\",\"male\",\"male\",\"male\",\"male\",\"male\",\"male\",\"male\",\"male\",\"male\",\"male\",\"male\",\"male\",\"male\",\"male\",\"male\",\"male\",\"male\",\"female\",\"male\",\"female\",\"female\",\"female\",\"female\",\"female\",\"female\",\"female\",\"female\",\"female\",\"female\",\"female\",\"female\",\"female\",\"female\",\"female\",\"female\",\"female\",\"female\",\"female\",\"female\",\"female\",\"female\",\"female\",\"female\",\"female\",\"female\",\"female\",\"female\",\"female\",\"female\",\"female\",\"female\",\"female\",\"female\",\"female\",\"female\",\"female\",\"female\",\"female\",\"female\",\"female\",\"female\",\"female\",\"female\",\"female\",\"female\",\"female\",\"female\",\"female\",\"female\",\"female\",\"female\",\"female\",\"male\",\"male\",\"male\",\"male\",\"male\",\"male\",\"male\",\"male\",\"male\",\"74.0\",\"male\",\"male\",\"male\",\"male\",\"male\",\"male\",\"male\",\"male\",\"male\",\"male\",\"male\",\"male\",\"male\",\"male\",\"male\",\"male\",\"male\",\"male\",\"1\",\"1\",\"1\",\"1\",\"1\",\"1\",\"1\",\"1\",\"1\",\"1\",\"1\",\"1\",\"1\",\"1\",\"1\",\"1\",\"1\",\"1\",\"1\",\"1\",\"1\",\"1\",\"1\",\"1\",\"1\",\"1\",\"male\",\"male\",\"male\",\"male\",\"male\",\"male\",\"male\",\"male\",\"male\",\"male\",\"male\",\"male\",\"male\",\"male\",\"male\",\"male\",\"male\",\"male\",\"male\",\"male\",\"male\",\"male\",\"male\",\"male\",\"male\",\"male\",\"male\",\"male\",\"male\",\"male\",\"male\",\"male\",\"male\",\"male\",\"male\",\"male\",\"male\",\"male\",\"male\",\"male\",\"male\",\"1\",\"male\",\"male\",\"male\",\"male\",\"male\",\"male\",\"male\",\"male\",\"male\",\"male\",\"male\",\"male\",\"male\",\"80.0\"],\"marker\":{\"colors\":[\"blue\",\"blue\",\"blue\",\"#00cc96\",\"blue\",\"#00cc96\",\"#00cc96\",\"blue\",\"blue\",\"#00cc96\",\"blue\",\"blue\",\"blue\",\"pink\",\"blue\",\"#00cc96\",\"#00cc96\",\"#00cc96\",\"blue\",\"blue\",\"#00cc96\",\"blue\",\"blue\",\"blue\",\"blue\",\"blue\",\"blue\",\"blue\",\"blue\",\"#00cc96\",\"blue\",\"blue\",\"#00cc96\",\"blue\",\"blue\",\"blue\",\"blue\",\"blue\",\"blue\",\"blue\",\"blue\",\"blue\",\"blue\",\"blue\",\"#00cc96\",\"blue\",\"blue\",\"blue\",\"blue\",\"blue\",\"blue\",\"#00cc96\",\"blue\",\"blue\",\"#00cc96\",\"blue\",\"#00cc96\",\"blue\",\"#00cc96\",\"blue\",\"#00cc96\",\"blue\",\"blue\",\"#00cc96\",\"blue\",\"blue\",\"#00cc96\",\"#00cc96\",\"#00cc96\",\"blue\",\"#00cc96\",\"#00cc96\",\"#00cc96\",\"#00cc96\",\"#00cc96\",\"#00cc96\",\"#00cc96\",\"blue\",\"#00cc96\",\"#00cc96\",\"blue\",\"pink\",\"#00cc96\",\"pink\",\"blue\",\"pink\",\"#00cc96\",\"#00cc96\",\"#00cc96\",\"#00cc96\",\"#00cc96\",\"#00cc96\",\"#00cc96\",\"pink\",\"blue\",\"#00cc96\",\"blue\",\"#00cc96\",\"#00cc96\",\"blue\",\"blue\",\"blue\",\"blue\",\"blue\",\"blue\",\"#00cc96\",\"#00cc96\",\"blue\",\"#00cc96\",\"blue\",\"blue\",\"#00cc96\",\"blue\",\"blue\",\"blue\",\"blue\",\"pink\",\"blue\",\"blue\",\"#00cc96\",\"#00cc96\",\"#00cc96\",\"#00cc96\",\"blue\",\"pink\",\"blue\",\"pink\",\"#00cc96\",\"#00cc96\",\"blue\",\"blue\",\"pink\",\"pink\",\"#00cc96\",\"pink\",\"pink\",\"pink\",\"pink\",\"pink\",\"#00cc96\",\"#00cc96\",\"blue\",\"blue\",\"#00cc96\",\"#00cc96\",\"#00cc96\",\"#00cc96\",\"pink\",\"pink\",\"pink\",\"blue\",\"#00cc96\",\"#00cc96\",\"pink\",\"pink\",\"#00cc96\",\"pink\",\"pink\",\"pink\",\"#00cc96\",\"#00cc96\",\"pink\",\"#00cc96\",\"pink\",\"pink\",\"#00cc96\",\"pink\",\"pink\",\"#00cc96\",\"blue\",\"#00cc96\",\"pink\",\"#00cc96\",\"#00cc96\",\"pink\",\"#00cc96\",\"pink\",\"#00cc96\",\"pink\",\"pink\",\"pink\",\"pink\",\"pink\",\"pink\",\"pink\",\"#00cc96\",\"pink\",\"pink\",\"pink\",\"pink\",\"#00cc96\",\"blue\",\"pink\",\"pink\",\"pink\",\"pink\",\"blue\",\"pink\",\"pink\",\"pink\",\"pink\",\"pink\",\"pink\",\"pink\",\"pink\",\"pink\",\"pink\",\"pink\",\"blue\",\"pink\",\"blue\",\"pink\",\"#00cc96\",\"pink\",\"#00cc96\",\"blue\",\"#00cc96\",\"pink\",\"blue\",\"pink\",\"blue\",\"#00cc96\",\"pink\",\"blue\",\"blue\",\"pink\",\"blue\",\"#00cc96\",\"#00cc96\",\"#00cc96\",\"#00cc96\",\"pink\",\"blue\",\"#00cc96\",\"#00cc96\",\"#00cc96\",\"blue\",\"#00cc96\",\"#00cc96\",\"#00cc96\",\"#00cc96\",\"pink\",\"#00cc96\",\"#00cc96\",\"#00cc96\",\"pink\",\"#00cc96\",\"#00cc96\",\"#00cc96\",\"blue\",\"#00cc96\",\"blue\",\"blue\",\"blue\",\"pink\",\"blue\",\"blue\",\"blue\",\"pink\",\"#00cc96\",\"blue\",\"#00cc96\",\"#00cc96\",\"#00cc96\",\"#00cc96\",\"#00cc96\",\"blue\",\"#00cc96\",\"pink\",\"blue\",\"#00cc96\",\"#00cc96\",\"#00cc96\",\"#00cc96\",\"#00cc96\",\"#00cc96\",\"#00cc96\",\"blue\",\"#00cc96\",\"blue\",\"#00cc96\",\"blue\",\"pink\",\"#00cc96\",\"blue\",\"#00cc96\",\"#00cc96\",\"blue\",\"pink\",\"#00cc96\",\"blue\",\"blue\",\"blue\",\"#00cc96\",\"blue\",\"blue\",\"#00cc96\",\"#00cc96\",\"#00cc96\",\"#00cc96\",\"blue\",\"blue\",\"#00cc96\",\"pink\",\"#00cc96\",\"#00cc96\",\"#00cc96\",\"#00cc96\",\"#00cc96\",\"blue\",\"pink\",\"blue\",\"#00cc96\",\"blue\",\"blue\",\"blue\",\"#00cc96\",\"pink\",\"#00cc96\",\"#00cc96\",\"#00cc96\",\"blue\",\"#00cc96\",\"#00cc96\",\"#00cc96\",\"blue\",\"blue\",\"#00cc96\",\"#00cc96\",\"#00cc96\",\"#00cc96\",\"#00cc96\",\"blue\",\"#00cc96\",\"#00cc96\",\"#00cc96\",\"#00cc96\",\"#00cc96\",\"blue\",\"#00cc96\",\"#00cc96\",\"pink\",\"#00cc96\",\"blue\",\"#00cc96\",\"pink\",\"blue\",\"blue\",\"pink\",\"pink\",\"pink\",\"pink\",\"pink\",\"pink\",\"pink\",\"pink\",\"pink\",\"pink\",\"pink\",\"pink\",\"pink\",\"pink\",\"pink\",\"pink\",\"pink\",\"pink\",\"pink\",\"pink\",\"pink\",\"pink\",\"pink\",\"pink\",\"pink\",\"pink\",\"pink\",\"blue\",\"blue\",\"blue\",\"blue\",\"blue\",\"blue\",\"blue\",\"blue\",\"blue\",\"blue\",\"blue\",\"blue\",\"blue\",\"blue\",\"blue\",\"blue\",\"blue\",\"blue\",\"blue\",\"blue\",\"blue\",\"blue\",\"blue\",\"pink\",\"blue\",\"pink\",\"pink\",\"pink\",\"pink\",\"pink\",\"pink\",\"pink\",\"pink\",\"pink\",\"pink\",\"pink\",\"pink\",\"pink\",\"pink\",\"pink\",\"pink\",\"pink\",\"pink\",\"pink\",\"pink\",\"pink\",\"pink\",\"pink\",\"pink\",\"pink\",\"pink\",\"pink\",\"pink\",\"pink\",\"pink\",\"pink\",\"pink\",\"pink\",\"pink\",\"pink\",\"pink\",\"pink\",\"pink\",\"pink\",\"pink\",\"pink\",\"pink\",\"pink\",\"pink\",\"pink\",\"pink\",\"pink\",\"pink\",\"pink\",\"pink\",\"pink\",\"pink\",\"pink\",\"blue\",\"blue\",\"blue\",\"blue\",\"blue\",\"blue\",\"blue\",\"blue\",\"blue\",\"blue\",\"blue\",\"blue\",\"blue\",\"blue\",\"blue\",\"blue\",\"blue\",\"blue\",\"blue\",\"blue\",\"blue\",\"blue\",\"blue\",\"blue\",\"blue\",\"blue\",\"blue\",\"blue\",\"blue\",\"pink\",\"blue\",\"#00cc96\",\"blue\",\"#00cc96\",\"#00cc96\",\"blue\",\"pink\",\"#00cc96\",\"#00cc96\",\"blue\",\"#00cc96\",\"#00cc96\",\"pink\",\"#00cc96\",\"#00cc96\",\"blue\",\"#00cc96\",\"blue\",\"#00cc96\",\"#00cc96\",\"#00cc96\",\"#00cc96\",\"#00cc96\",\"pink\",\"blue\",\"blue\",\"blue\",\"blue\",\"blue\",\"blue\",\"blue\",\"blue\",\"blue\",\"blue\",\"blue\",\"blue\",\"blue\",\"blue\",\"blue\",\"blue\",\"blue\",\"blue\",\"blue\",\"blue\",\"blue\",\"blue\",\"blue\",\"blue\",\"blue\",\"blue\",\"blue\",\"blue\",\"blue\",\"blue\",\"blue\",\"blue\",\"blue\",\"blue\",\"blue\",\"blue\",\"blue\",\"blue\",\"blue\",\"blue\",\"blue\",\"blue\",\"blue\",\"blue\",\"blue\",\"blue\",\"blue\",\"blue\",\"blue\",\"blue\",\"blue\",\"blue\",\"blue\",\"blue\",\"blue\",\"blue\"]},\"name\":\"\",\"parents\":[\"60.0\\u002f1\",\"31.0\\u002f2\",\"23.5\",\"23.0\",\"36.0\\u002f2\",\"20.0\",\"19.0\",\"39.0\\u002f2\",\"44.0\\u002f2\",\"16.0\",\"50.0\\u002f2\",\"51.0\\u002f2\",\"54.0\\u002f2\",\"13.0\",\"30.0\\u002f2\",\"11.0\",\"9.0\",\"6.0\",\"4.0\\u002f3\",\"6.0\\u002f3\",\"3.0\",\"9.0\\u002f3\",\"11.0\\u002f3\",\"14.0\\u002f3\",\"70.0\",\"17.0\\u002f3\",\"18.0\\u002f3\",\"62.0\",\"22.0\\u002f3\",\"10.0\",\"28.0\\u002f2\",\"27.0\\u002f2\",\"25.0\",\"21.0\\u002f1\",\"\",\"74.0\",\"25.0\\u002f1\",\"26.0\\u002f1\",\"27.0\\u002f1\",\"70.5\",\"61.0\",\"31.0\\u002f1\",\"35.0\\u002f1\",\"40.0\\u002f1\",\"43.0\",\"46.0\\u002f1\",\"42.0\",\"51.0\\u002f1\",\"52.0\\u002f1\",\"80.0\",\"34.5\",\"33.0\",\"70.0\\u002f1\",\"0.67\\u002f2\",\"30.5\",\"3.0\\u002f2\",\"29.0\",\"16.0\\u002f2\",\"27.0\",\"23.0\\u002f2\",\"26.0\",\"25.0\\u002f2\",\"23.0\\u002f3\",\"57.0\",\"25.0\\u002f3\",\"52.0\",\"25.0\",\"25.0\",\"24.0\",\"28.0\",\"29.0\",\"30.0\",\"31.0\",\"32.0\",\"33.0\",\"19.0\",\"36.0\",\"37.0\",\"39.0\",\"40.0\",\"16.0\",\"43.0\",\"44.0\",\"14.0\",\"45.5\",\"13.0\",\"47.0\",\"48.0\",\"49.0\",\"50.0\",\"8.0\",\"54.0\",\"58.0\",\"63.0\",\"0.67\",\"26.0\",\"17.0\\u002f1\",\"22.0\",\"27.0\",\"28.0\\u002f3\",\"28.5\\u002f3\",\"29.0\\u002f3\",\"29.69911764705882\\u002f3\",\"30.0\\u002f3\",\"30.5\\u002f3\",\"50.0\",\"48.0\",\"34.5\\u002f3\",\"44.0\",\"38.0\\u002f3\",\"39.0\\u002f3\",\"42.0\",\"41.0\\u002f3\",\"43.0\\u002f3\",\"44.0\\u002f3\",\"45.0\\u002f3\",\"38.0\",\"48.0\\u002f3\",\"36.5\",\"36.0\",\"32.5\",\"32.0\",\"31.0\",\"0.92\",\"2.0\",\"4.0\",\"14.0\",\"18.0\",\"21.0\",\"11.0\\u002f1\",\"71.0\",\"16.0\\u002f3\",\"2.0\\u002f3\",\"\",\"63.0\\u002f1\",\"62.0\\u002f1\",\"5.0\\u002f3\",\"60.0\\u002f1\",\"58.0\\u002f1\",\"\",\"\",\"\",\"\",\"\",\"\",\"\",\"\",\"18.0\\u002f3\",\"50.0\\u002f1\",\"49.0\\u002f1\",\"\",\"\",\"\",\"1.0\\u002f3\",\"3.0\\u002f2\",\"\",\"57.0\\u002f2\",\"25.0\\u002f2\",\"23.0\\u002f2\",\"\",\"\",\"32.0\\u002f2\",\"\",\"33.0\\u002f2\",\"19.0\\u002f2\",\"\",\"36.0\\u002f2\",\"45.0\\u002f1\",\"\",\"\",\"\",\"13.0\\u002f2\",\"\",\"\",\"7.0\\u002f2\",\"\",\"50.0\\u002f2\",\"\",\"4.0\\u002f2\",\"18.0\\u002f2\",\"24.0\\u002f3\",\"28.0\\u002f2\",\"24.0\\u002f1\",\"16.0\\u002f1\",\"40.0\\u002f3\",\"\",\"\",\"30.5\\u002f3\",\"30.0\\u002f1\",\"\",\"\",\"\",\"25.0\\u002f1\",\"23.0\\u002f1\",\"22.0\\u002f1\",\"36.0\\u002f3\",\"\",\"29.69911764705882\\u002f1\",\"33.0\\u002f1\",\"30.0\\u002f3\",\"35.0\\u002f1\",\"42.0\\u002f1\",\"14.0\\u002f1\",\"27.0\\u002f3\",\"41.0\\u002f1\",\"48.0\\u002f3\",\"39.0\\u002f1\",\"29.0\\u002f3\",\"\",\"15.0\\u002f1\",\"43.0\",\"40.0\",\"\",\"45.0\",\"2.0\",\"\",\"\",\"41.0\",\"46.0\",\"5.0\",\"47.0\",\"3.0\",\"4.0\",\"0.83\",\"1.0\",\"6.0\",\"\",\"\",\"\",\"\",\"\",\"22.0\",\"\",\"\",\"\",\"21.0\",\"\",\"\",\"28.0\",\"29.0\",\"29.69911764705882\",\"\",\"30.0\",\"18.0\",\"\",\"17.0\",\"33.0\",\"34.0\",\"35.0\",\"\",\"23.0\",\"37.0\",\"\",\"39.0\",\"7.0\",\"\",\"0.42\",\"51.0\",\"\",\"41.0\",\"40.5\",\"40.0\",\"\",\"39.0\",\"38.0\",\"37.0\",\"\",\"36.0\",\"\",\"34.0\",\"\",\"32.0\",\"31.0\",\"\",\"30.0\",\"29.69911764705882\",\"35.0\",\"44.0\",\"45.0\",\"45.5\",\"\",\"\",\"\",\"\",\"\",\"\",\"\",\"65.0\",\"63.0\",\"\",\"59.0\",\"55.5\",\"51.0\",\"\",\"50.0\",\"49.0\",\"48.0\",\"47.0\",\"\",\"\",\"\",\"28.5\",\"\",\"5.0\",\"4.0\",\"\",\"\",\"2.0\",\"1.0\",\"\",\"0.75\",\"7.0\",\"\",\"66.0\",\"60.0\",\"59.0\",\"\",\"55.0\",\"54.0\",\"\",\"\",\"\",\"8.0\",\"\",\"\",\"\",\"24.5\",\"24.0\",\"\",\"\",\"22.0\",\"21.0\",\"20.5\",\"\",\"\",\"\",\"18.0\",\"17.0\",\"\",\"\",\"15.0\",\"14.5\",\"14.0\",\"12.0\",\"28.0\",\"2.0\\u002f1\",\"50.0\\u002f3\",\"65.0\",\"41.0\\u002f3\",\"39.0\\u002f3\",\"38.0\\u002f3\",\"37.0\\u002f3\",\"35.0\\u002f3\",\"33.0\\u002f3\",\"32.0\\u002f3\",\"31.0\\u002f3\",\"29.69911764705882\\u002f3\",\"28.0\\u002f3\",\"26.0\\u002f3\",\"25.0\\u002f3\",\"23.0\\u002f3\",\"22.0\\u002f3\",\"21.0\\u002f3\",\"20.0\\u002f3\",\"19.0\\u002f3\",\"17.0\\u002f3\",\"15.0\\u002f3\",\"14.5\\u002f3\",\"14.0\\u002f3\",\"13.0\\u002f3\",\"11.0\\u002f3\",\"43.0\\u002f3\",\"10.0\\u002f3\",\"45.0\\u002f3\",\"63.0\\u002f3\",\"47.0\\u002f1\",\"45.5\\u002f1\",\"45.0\\u002f1\",\"44.0\\u002f1\",\"42.0\\u002f1\",\"39.0\\u002f1\",\"38.0\\u002f1\",\"37.0\\u002f1\",\"36.0\\u002f1\",\"34.0\\u002f1\",\"33.0\\u002f1\",\"32.0\\u002f1\",\"30.0\\u002f1\",\"29.69911764705882\\u002f1\",\"29.0\\u002f1\",\"28.0\\u002f1\",\"24.0\\u002f1\",\"23.0\\u002f1\",\"22.0\\u002f1\",\"19.0\\u002f1\",\"18.0\\u002f1\",\"4.0\\u002f1\",\"0.92\\u002f1\",\"47.0\\u002f3\",\"48.0\\u002f1\",\"9.0\\u002f3\",\"6.0\\u002f3\",\"6.0\\u002f2\",\"5.0\\u002f2\",\"2.0\\u002f2\",\"56.0\\u002f1\",\"54.0\\u002f1\",\"53.0\\u002f1\",\"52.0\\u002f1\",\"51.0\\u002f1\",\"48.0\\u002f1\",\"47.0\\u002f1\",\"44.0\\u002f1\",\"43.0\\u002f1\",\"40.0\\u002f1\",\"38.0\\u002f1\",\"36.0\\u002f1\",\"32.0\\u002f1\",\"31.0\\u002f1\",\"29.0\\u002f1\",\"26.0\\u002f1\",\"21.0\\u002f1\",\"19.0\\u002f1\",\"18.0\\u002f1\",\"17.0\\u002f1\",\"8.0\\u002f2\",\"8.0\\u002f3\",\"14.0\\u002f2\",\"21.0\\u002f2\",\"4.0\\u002f3\",\"3.0\\u002f3\",\"0.75\\u002f3\",\"55.0\\u002f2\",\"54.0\\u002f2\",\"48.0\\u002f2\",\"45.0\\u002f2\",\"44.0\\u002f2\",\"42.0\\u002f2\",\"41.0\\u002f2\",\"40.0\\u002f2\",\"38.0\\u002f2\",\"35.0\\u002f2\",\"34.0\\u002f2\",\"32.5\\u002f2\",\"31.0\\u002f2\",\"30.0\\u002f2\",\"29.69911764705882\\u002f2\",\"29.0\\u002f2\",\"27.0\\u002f2\",\"26.0\\u002f2\",\"24.0\\u002f2\",\"22.0\\u002f2\",\"17.0\\u002f2\",\"49.0\\u002f1\",\"50.0\\u002f1\",\"54.0\\u002f1\",\"70.5\\u002f3\",\"65.0\\u002f3\",\"61.0\\u002f3\",\"59.0\\u002f3\",\"55.5\\u002f3\",\"51.0\\u002f3\",\"\",\"49.0\\u002f3\",\"47.0\\u002f3\",\"45.5\\u002f3\",\"42.0\\u002f3\",\"40.5\\u002f3\",\"40.0\\u002f3\",\"37.0\\u002f3\",\"36.0\\u002f3\",\"35.0\\u002f3\",\"34.0\\u002f3\",\"33.0\\u002f3\",\"32.0\\u002f3\",\"31.0\\u002f3\",\"27.0\\u002f3\",\"26.0\\u002f3\",\"24.5\\u002f3\",\"74.0\\u002f3\",\"24.0\\u002f3\",\"11.0\",\"16.0\",\"64.0\",\"62.0\",\"61.0\",\"60.0\",\"56.0\",\"55.0\",\"53.0\",\"52.0\",\"51.0\",\"46.0\",\"45.0\",\"42.0\",\"41.0\",\"38.0\",\"35.0\",\"34.0\",\"29.69911764705882\",\"27.0\",\"26.0\",\"24.0\",\"23.0\",\"19.0\",\"17.0\",\"15.0\",\"23.5\\u002f3\",\"21.0\\u002f3\",\"20.5\\u002f3\",\"33.0\\u002f2\",\"32.5\\u002f2\",\"32.0\\u002f2\",\"29.69911764705882\\u002f2\",\"29.0\\u002f2\",\"26.0\\u002f2\",\"24.0\\u002f2\",\"21.0\\u002f2\",\"19.0\\u002f2\",\"18.0\\u002f2\",\"8.0\\u002f2\",\"2.0\\u002f2\",\"1.0\\u002f2\",\"0.83\\u002f2\",\"80.0\\u002f1\",\"71.0\\u002f1\",\"65.0\\u002f1\",\"64.0\\u002f1\",\"62.0\\u002f1\",\"61.0\\u002f1\",\"58.0\\u002f1\",\"56.0\\u002f1\",\"55.0\\u002f1\",\"34.0\\u002f2\",\"35.0\\u002f2\",\"36.5\\u002f2\",\"37.0\\u002f2\",\"20.0\\u002f3\",\"19.0\\u002f3\",\"16.0\\u002f3\",\"15.0\\u002f3\",\"12.0\\u002f3\",\"10.0\\u002f3\",\"8.0\\u002f3\",\"7.0\\u002f3\",\"3.0\\u002f3\",\"2.0\\u002f3\",\"1.0\\u002f3\",\"70.0\",\"0.42\\u002f3\",\"66.0\\u002f2\",\"62.0\\u002f2\",\"60.0\\u002f2\",\"59.0\\u002f2\",\"57.0\\u002f2\",\"52.0\\u002f2\",\"48.0\\u002f2\",\"47.0\\u002f2\",\"46.0\\u002f2\",\"43.0\\u002f2\",\"42.0\\u002f2\",\"70.0\\u002f2\",\"\"],\"values\":[2,4,1,5,4,15,14,3,1,12,1,1,3,1,5,3,8,2,4,1,3,4,2,2,1,6,8,1,14,2,4,3,13,1,1,1,2,1,4,1,1,3,3,3,3,2,4,2,2,1,1,8,1,1,2,2,11,2,8,6,14,5,3,2,11,2,7,3,10,4,3,6,5,2,4,6,9,3,5,5,2,1,3,1,1,1,5,5,5,5,2,4,5,1,1,2,1,5,6,10,2,8,94,8,1,4,2,1,2,3,4,5,2,2,4,2,1,1,1,7,2,4,5,1,1,1,1,4,3,1,2,3,4,10,1,1,3,1,3,7,6,1,1,15,27,6,24,8,2,2,1,25,13,2,1,177,1,2,1,9,11,1,12,2,2,22,3,1,7,2,15,1,2,9,1,17,3,6,2,2,4,5,5,3,1,3,2,1,5,4,4,3,1,2,4,1,2,9,3,3,6,1,1,3,1,1,4,3,1,1,1,3,13,2,2,2,5,1,1,1,1,3,2,2,2,1,3,2,9,5,4,2,2,2,4,4,3,8,9,6,11,1,8,6,4,2,3,10,3,2,7,1,1,3,1,1,1,1,2,4,2,5,6,6,4,2,1,6,1,4,5,12,7,17,11,136,6,4,5,1,10,2,2,6,1,10,3,1,1,8,1,1,3,2,1,1,2,3,4,26,2,2,15,3,7,18,15,7,5,1,2,2,18,1,1,1,6,1,4,14,13,1,2,2,25,1,1,13,30,23,20,17,1,18,18,25,16,8,2,20,4,1,4,1,12,1,1,2,2,2,1,1,1,1,1,4,42,2,3,2,2,6,4,2,2,2,3,1,2,1,1,1,1,3,1,4,1,4,1,3,1,3,3,6,1,1,1,1,21,2,4,2,1,1,2,1,1,1,1,3,4,1,1,1,1,1,2,1,2,1,2,1,2,1,2,3,3,1,2,1,1,2,3,3,2,1,1,1,1,3,1,2,1,1,1,2,1,2,1,3,1,1,4,1,1,3,2,3,3,1,7,2,2,3,3,2,1,1,1,1,1,3,1,1,2,1,4,2,4,1,5,5,4,7,11,3,5,11,1,1,9,1,3,2,3,2,3,4,1,1,4,3,2,5,4,1,6,9,1,30,4,2,7,3,5,3,1,1,13,1,1,1,3,9,3,1,3,3,4,4,1,1,2,2,1,2,2,2,2,2,2,3,1,6,2,1,1,13,12,9,1,1,1,1,2,2,3,3,1,1,1,1,1,1,1,2,1,1,1,1,3,1,1],\"type\":\"treemap\",\"textfont\":{\"family\":\"Arial\",\"size\":12},\"textinfo\":\"label+value\"}],                        {\"template\":{\"data\":{\"histogram2dcontour\":[{\"type\":\"histogram2dcontour\",\"colorbar\":{\"outlinewidth\":0,\"ticks\":\"\"},\"colorscale\":[[0.0,\"#0d0887\"],[0.1111111111111111,\"#46039f\"],[0.2222222222222222,\"#7201a8\"],[0.3333333333333333,\"#9c179e\"],[0.4444444444444444,\"#bd3786\"],[0.5555555555555556,\"#d8576b\"],[0.6666666666666666,\"#ed7953\"],[0.7777777777777778,\"#fb9f3a\"],[0.8888888888888888,\"#fdca26\"],[1.0,\"#f0f921\"]]}],\"choropleth\":[{\"type\":\"choropleth\",\"colorbar\":{\"outlinewidth\":0,\"ticks\":\"\"}}],\"histogram2d\":[{\"type\":\"histogram2d\",\"colorbar\":{\"outlinewidth\":0,\"ticks\":\"\"},\"colorscale\":[[0.0,\"#0d0887\"],[0.1111111111111111,\"#46039f\"],[0.2222222222222222,\"#7201a8\"],[0.3333333333333333,\"#9c179e\"],[0.4444444444444444,\"#bd3786\"],[0.5555555555555556,\"#d8576b\"],[0.6666666666666666,\"#ed7953\"],[0.7777777777777778,\"#fb9f3a\"],[0.8888888888888888,\"#fdca26\"],[1.0,\"#f0f921\"]]}],\"heatmap\":[{\"type\":\"heatmap\",\"colorbar\":{\"outlinewidth\":0,\"ticks\":\"\"},\"colorscale\":[[0.0,\"#0d0887\"],[0.1111111111111111,\"#46039f\"],[0.2222222222222222,\"#7201a8\"],[0.3333333333333333,\"#9c179e\"],[0.4444444444444444,\"#bd3786\"],[0.5555555555555556,\"#d8576b\"],[0.6666666666666666,\"#ed7953\"],[0.7777777777777778,\"#fb9f3a\"],[0.8888888888888888,\"#fdca26\"],[1.0,\"#f0f921\"]]}],\"heatmapgl\":[{\"type\":\"heatmapgl\",\"colorbar\":{\"outlinewidth\":0,\"ticks\":\"\"},\"colorscale\":[[0.0,\"#0d0887\"],[0.1111111111111111,\"#46039f\"],[0.2222222222222222,\"#7201a8\"],[0.3333333333333333,\"#9c179e\"],[0.4444444444444444,\"#bd3786\"],[0.5555555555555556,\"#d8576b\"],[0.6666666666666666,\"#ed7953\"],[0.7777777777777778,\"#fb9f3a\"],[0.8888888888888888,\"#fdca26\"],[1.0,\"#f0f921\"]]}],\"contourcarpet\":[{\"type\":\"contourcarpet\",\"colorbar\":{\"outlinewidth\":0,\"ticks\":\"\"}}],\"contour\":[{\"type\":\"contour\",\"colorbar\":{\"outlinewidth\":0,\"ticks\":\"\"},\"colorscale\":[[0.0,\"#0d0887\"],[0.1111111111111111,\"#46039f\"],[0.2222222222222222,\"#7201a8\"],[0.3333333333333333,\"#9c179e\"],[0.4444444444444444,\"#bd3786\"],[0.5555555555555556,\"#d8576b\"],[0.6666666666666666,\"#ed7953\"],[0.7777777777777778,\"#fb9f3a\"],[0.8888888888888888,\"#fdca26\"],[1.0,\"#f0f921\"]]}],\"surface\":[{\"type\":\"surface\",\"colorbar\":{\"outlinewidth\":0,\"ticks\":\"\"},\"colorscale\":[[0.0,\"#0d0887\"],[0.1111111111111111,\"#46039f\"],[0.2222222222222222,\"#7201a8\"],[0.3333333333333333,\"#9c179e\"],[0.4444444444444444,\"#bd3786\"],[0.5555555555555556,\"#d8576b\"],[0.6666666666666666,\"#ed7953\"],[0.7777777777777778,\"#fb9f3a\"],[0.8888888888888888,\"#fdca26\"],[1.0,\"#f0f921\"]]}],\"mesh3d\":[{\"type\":\"mesh3d\",\"colorbar\":{\"outlinewidth\":0,\"ticks\":\"\"}}],\"scatter\":[{\"fillpattern\":{\"fillmode\":\"overlay\",\"size\":10,\"solidity\":0.2},\"type\":\"scatter\"}],\"parcoords\":[{\"type\":\"parcoords\",\"line\":{\"colorbar\":{\"outlinewidth\":0,\"ticks\":\"\"}}}],\"scatterpolargl\":[{\"type\":\"scatterpolargl\",\"marker\":{\"colorbar\":{\"outlinewidth\":0,\"ticks\":\"\"}}}],\"bar\":[{\"error_x\":{\"color\":\"#2a3f5f\"},\"error_y\":{\"color\":\"#2a3f5f\"},\"marker\":{\"line\":{\"color\":\"#E5ECF6\",\"width\":0.5},\"pattern\":{\"fillmode\":\"overlay\",\"size\":10,\"solidity\":0.2}},\"type\":\"bar\"}],\"scattergeo\":[{\"type\":\"scattergeo\",\"marker\":{\"colorbar\":{\"outlinewidth\":0,\"ticks\":\"\"}}}],\"scatterpolar\":[{\"type\":\"scatterpolar\",\"marker\":{\"colorbar\":{\"outlinewidth\":0,\"ticks\":\"\"}}}],\"histogram\":[{\"marker\":{\"pattern\":{\"fillmode\":\"overlay\",\"size\":10,\"solidity\":0.2}},\"type\":\"histogram\"}],\"scattergl\":[{\"type\":\"scattergl\",\"marker\":{\"colorbar\":{\"outlinewidth\":0,\"ticks\":\"\"}}}],\"scatter3d\":[{\"type\":\"scatter3d\",\"line\":{\"colorbar\":{\"outlinewidth\":0,\"ticks\":\"\"}},\"marker\":{\"colorbar\":{\"outlinewidth\":0,\"ticks\":\"\"}}}],\"scattermapbox\":[{\"type\":\"scattermapbox\",\"marker\":{\"colorbar\":{\"outlinewidth\":0,\"ticks\":\"\"}}}],\"scatterternary\":[{\"type\":\"scatterternary\",\"marker\":{\"colorbar\":{\"outlinewidth\":0,\"ticks\":\"\"}}}],\"scattercarpet\":[{\"type\":\"scattercarpet\",\"marker\":{\"colorbar\":{\"outlinewidth\":0,\"ticks\":\"\"}}}],\"carpet\":[{\"aaxis\":{\"endlinecolor\":\"#2a3f5f\",\"gridcolor\":\"white\",\"linecolor\":\"white\",\"minorgridcolor\":\"white\",\"startlinecolor\":\"#2a3f5f\"},\"baxis\":{\"endlinecolor\":\"#2a3f5f\",\"gridcolor\":\"white\",\"linecolor\":\"white\",\"minorgridcolor\":\"white\",\"startlinecolor\":\"#2a3f5f\"},\"type\":\"carpet\"}],\"table\":[{\"cells\":{\"fill\":{\"color\":\"#EBF0F8\"},\"line\":{\"color\":\"white\"}},\"header\":{\"fill\":{\"color\":\"#C8D4E3\"},\"line\":{\"color\":\"white\"}},\"type\":\"table\"}],\"barpolar\":[{\"marker\":{\"line\":{\"color\":\"#E5ECF6\",\"width\":0.5},\"pattern\":{\"fillmode\":\"overlay\",\"size\":10,\"solidity\":0.2}},\"type\":\"barpolar\"}],\"pie\":[{\"automargin\":true,\"type\":\"pie\"}]},\"layout\":{\"autotypenumbers\":\"strict\",\"colorway\":[\"#636efa\",\"#EF553B\",\"#00cc96\",\"#ab63fa\",\"#FFA15A\",\"#19d3f3\",\"#FF6692\",\"#B6E880\",\"#FF97FF\",\"#FECB52\"],\"font\":{\"color\":\"#2a3f5f\"},\"hovermode\":\"closest\",\"hoverlabel\":{\"align\":\"left\"},\"paper_bgcolor\":\"white\",\"plot_bgcolor\":\"#E5ECF6\",\"polar\":{\"bgcolor\":\"#E5ECF6\",\"angularaxis\":{\"gridcolor\":\"white\",\"linecolor\":\"white\",\"ticks\":\"\"},\"radialaxis\":{\"gridcolor\":\"white\",\"linecolor\":\"white\",\"ticks\":\"\"}},\"ternary\":{\"bgcolor\":\"#E5ECF6\",\"aaxis\":{\"gridcolor\":\"white\",\"linecolor\":\"white\",\"ticks\":\"\"},\"baxis\":{\"gridcolor\":\"white\",\"linecolor\":\"white\",\"ticks\":\"\"},\"caxis\":{\"gridcolor\":\"white\",\"linecolor\":\"white\",\"ticks\":\"\"}},\"coloraxis\":{\"colorbar\":{\"outlinewidth\":0,\"ticks\":\"\"}},\"colorscale\":{\"sequential\":[[0.0,\"#0d0887\"],[0.1111111111111111,\"#46039f\"],[0.2222222222222222,\"#7201a8\"],[0.3333333333333333,\"#9c179e\"],[0.4444444444444444,\"#bd3786\"],[0.5555555555555556,\"#d8576b\"],[0.6666666666666666,\"#ed7953\"],[0.7777777777777778,\"#fb9f3a\"],[0.8888888888888888,\"#fdca26\"],[1.0,\"#f0f921\"]],\"sequentialminus\":[[0.0,\"#0d0887\"],[0.1111111111111111,\"#46039f\"],[0.2222222222222222,\"#7201a8\"],[0.3333333333333333,\"#9c179e\"],[0.4444444444444444,\"#bd3786\"],[0.5555555555555556,\"#d8576b\"],[0.6666666666666666,\"#ed7953\"],[0.7777777777777778,\"#fb9f3a\"],[0.8888888888888888,\"#fdca26\"],[1.0,\"#f0f921\"]],\"diverging\":[[0,\"#8e0152\"],[0.1,\"#c51b7d\"],[0.2,\"#de77ae\"],[0.3,\"#f1b6da\"],[0.4,\"#fde0ef\"],[0.5,\"#f7f7f7\"],[0.6,\"#e6f5d0\"],[0.7,\"#b8e186\"],[0.8,\"#7fbc41\"],[0.9,\"#4d9221\"],[1,\"#276419\"]]},\"xaxis\":{\"gridcolor\":\"white\",\"linecolor\":\"white\",\"ticks\":\"\",\"title\":{\"standoff\":15},\"zerolinecolor\":\"white\",\"automargin\":true,\"zerolinewidth\":2},\"yaxis\":{\"gridcolor\":\"white\",\"linecolor\":\"white\",\"ticks\":\"\",\"title\":{\"standoff\":15},\"zerolinecolor\":\"white\",\"automargin\":true,\"zerolinewidth\":2},\"scene\":{\"xaxis\":{\"backgroundcolor\":\"#E5ECF6\",\"gridcolor\":\"white\",\"linecolor\":\"white\",\"showbackground\":true,\"ticks\":\"\",\"zerolinecolor\":\"white\",\"gridwidth\":2},\"yaxis\":{\"backgroundcolor\":\"#E5ECF6\",\"gridcolor\":\"white\",\"linecolor\":\"white\",\"showbackground\":true,\"ticks\":\"\",\"zerolinecolor\":\"white\",\"gridwidth\":2},\"zaxis\":{\"backgroundcolor\":\"#E5ECF6\",\"gridcolor\":\"white\",\"linecolor\":\"white\",\"showbackground\":true,\"ticks\":\"\",\"zerolinecolor\":\"white\",\"gridwidth\":2}},\"shapedefaults\":{\"line\":{\"color\":\"#2a3f5f\"}},\"annotationdefaults\":{\"arrowcolor\":\"#2a3f5f\",\"arrowhead\":0,\"arrowwidth\":1},\"geo\":{\"bgcolor\":\"white\",\"landcolor\":\"#E5ECF6\",\"subunitcolor\":\"white\",\"showland\":true,\"showlakes\":true,\"lakecolor\":\"white\"},\"title\":{\"x\":0.05},\"mapbox\":{\"style\":\"light\"}}},\"legend\":{\"tracegroupgap\":0},\"margin\":{\"t\":60,\"l\":10,\"r\":10,\"b\":10},\"title\":{\"text\":\"Age, Class and Gender Distribution Treemap\"}},                        {\"responsive\": true}                    ).then(function(){\n",
       "                            \n",
       "var gd = document.getElementById('56d0aef8-3236-4596-ac73-28468fb2e9c8');\n",
       "var x = new MutationObserver(function (mutations, observer) {{\n",
       "        var display = window.getComputedStyle(gd).display;\n",
       "        if (!display || display === 'none') {{\n",
       "            console.log([gd, 'removed!']);\n",
       "            Plotly.purge(gd);\n",
       "            observer.disconnect();\n",
       "        }}\n",
       "}});\n",
       "\n",
       "// Listen for the removal of the full notebook cells\n",
       "var notebookContainer = gd.closest('#notebook-container');\n",
       "if (notebookContainer) {{\n",
       "    x.observe(notebookContainer, {childList: true});\n",
       "}}\n",
       "\n",
       "// Listen for the clearing of the current output cell\n",
       "var outputEl = gd.closest('.output');\n",
       "if (outputEl) {{\n",
       "    x.observe(outputEl, {childList: true});\n",
       "}}\n",
       "\n",
       "                        })                };                });            </script>        </div>"
      ]
     },
     "metadata": {},
     "output_type": "display_data"
    }
   ],
   "source": [
    "tree_map = px.treemap(dftrain, path=[\"Age\", \"Pclass\", 'Sex'], color='Sex', \n",
    "                      color_discrete_map={'male': 'blue', 'female': 'pink'},\n",
    "                      labels={'Age': 'Age', 'Pclass': 'Classe', 'Sex': 'Gender'}\n",
    "                    )\n",
    "\n",
    "tree_map.update_layout(title='Age, Class and Gender Distribution Treemap')\n",
    "\n",
    "tree_map.update_traces(textinfo=\"label+value\", \n",
    "                       textfont=dict(size=12, family=\"Arial\"))\n",
    "\n",
    "tree_map.update_layout(margin=dict(l=10, r=10, t=60, b=10))\n",
    "\n",
    "tree_map.show()"
   ]
  },
  {
   "cell_type": "code",
   "execution_count": 21,
   "id": "28507280",
   "metadata": {
    "execution": {
     "iopub.execute_input": "2023-11-03T23:39:21.303673Z",
     "iopub.status.busy": "2023-11-03T23:39:21.302862Z",
     "iopub.status.idle": "2023-11-03T23:39:21.389213Z",
     "shell.execute_reply": "2023-11-03T23:39:21.388114Z"
    },
    "papermill": {
     "duration": 0.117375,
     "end_time": "2023-11-03T23:39:21.391814",
     "exception": false,
     "start_time": "2023-11-03T23:39:21.274439",
     "status": "completed"
    },
    "tags": []
   },
   "outputs": [
    {
     "data": {
      "text/html": [
       "<div>                            <div id=\"fcf64f27-0ae1-4bda-ace4-1e922f211de2\" class=\"plotly-graph-div\" style=\"height:525px; width:100%;\"></div>            <script type=\"text/javascript\">                require([\"plotly\"], function(Plotly) {                    window.PLOTLYENV=window.PLOTLYENV || {};                                    if (document.getElementById(\"fcf64f27-0ae1-4bda-ace4-1e922f211de2\")) {                    Plotly.newPlot(                        \"fcf64f27-0ae1-4bda-ace4-1e922f211de2\",                        [{\"dimensions\":[{\"label\":\"Pclass\",\"values\":[3,1,3,1,3,3,1,3,3,2,3,1,3,3,3,2,3,2,3,3,2,2,3,1,3,3,3,1,3,3,1,1,3,2,1,1,3,3,3,3,3,2,3,2,3,3,3,3,3,3,3,3,1,2,1,1,2,3,2,3,3,1,1,3,1,3,2,3,3,3,2,3,2,3,3,3,3,3,2,3,3,3,3,1,2,3,3,3,1,3,3,3,1,3,3,3,1,1,2,2,3,3,1,3,3,3,3,3,3,3,1,3,3,3,3,3,3,2,1,3,2,3,2,2,1,3,3,3,3,3,3,3,3,2,2,2,1,1,3,1,3,3,3,3,2,2,3,3,2,2,2,1,3,3,3,1,3,3,3,3,3,2,3,3,3,3,1,3,1,3,1,3,3,3,1,3,3,1,2,3,3,2,3,2,3,1,3,1,3,3,2,2,3,2,1,1,3,3,3,2,3,3,3,3,3,3,3,3,3,1,3,2,3,2,3,1,3,2,1,2,3,2,3,3,1,3,2,3,2,3,1,3,2,3,2,3,2,2,2,2,3,3,2,3,3,1,3,2,1,2,3,3,1,3,3,3,1,1,1,2,3,3,1,1,3,2,3,3,1,1,1,3,2,1,3,1,3,2,3,3,3,3,3,3,1,3,3,3,2,3,1,1,2,3,3,1,3,1,1,1,3,3,3,2,3,1,1,1,2,1,1,1,2,3,2,3,2,2,1,1,3,3,2,2,3,1,3,2,3,1,3,1,1,3,1,3,1,1,3,1,2,1,2,2,2,2,2,3,3,3,3,1,3,3,3,3,1,2,3,3,3,2,3,3,3,3,1,3,3,1,1,3,3,1,3,1,3,1,3,3,1,3,3,1,3,2,3,2,3,2,1,3,3,1,3,3,3,2,2,2,3,3,3,3,3,2,3,2,3,3,3,3,1,2,3,3,2,2,2,3,3,3,3,3,3,3,2,2,3,3,1,3,2,3,1,1,3,2,1,2,2,3,3,2,3,1,2,1,3,1,2,3,1,1,3,3,1,1,2,3,1,3,1,2,3,3,2,1,3,3,3,3,2,2,3,1,2,3,3,3,3,2,3,3,1,3,1,1,3,3,3,3,1,1,3,3,1,3,1,3,3,3,3,3,1,1,2,1,3,3,3,3,1,1,3,1,2,3,2,3,1,3,3,1,3,3,2,1,3,2,2,3,3,3,3,2,1,1,3,1,1,3,3,2,1,1,2,2,3,2,1,2,3,3,3,1,1,1,1,3,3,3,2,3,3,3,3,3,3,3,2,1,1,3,3,3,2,1,3,3,2,1,2,1,3,1,2,1,3,3,3,1,3,3,2,3,2,3,3,1,2,3,1,3,1,3,3,1,2,1,3,3,3,3,3,2,3,3,2,2,3,1,3,3,3,1,2,1,3,3,1,3,1,1,3,2,3,2,3,3,3,1,3,3,3,1,3,1,3,3,3,2,3,3,3,2,3,3,2,1,1,3,1,3,3,2,2,3,3,1,2,1,2,2,2,3,3,3,3,1,3,1,3,3,2,2,3,3,3,1,1,3,3,3,1,2,3,3,1,3,1,1,3,3,3,2,2,1,1,3,1,1,1,3,2,3,1,2,3,3,2,3,2,2,1,3,2,3,2,3,1,3,2,2,2,3,3,1,3,3,1,1,1,3,3,1,3,2,1,3,2,3,3,3,2,2,3,2,3,1,3,3,3,1,3,1,1,3,3,3,3,3,2,3,2,3,3,3,3,1,3,1,1,3,3,3,3,3,3,1,3,2,3,1,3,2,1,3,3,3,2,2,1,3,3,3,1,3,2,1,3,3,2,3,3,1,3,2,3,3,1,3,1,3,3,3,3,2,3,1,3,2,3,3,3,1,3,3,3,1,3,2,1,3,3,3,3,3,2,1,3,3,3,1,2,3,1,1,3,3,3,2,1,3,2,2,2,1,3,3,3,1,1,3,2,3,3,3,3,1,2,3,3,2,3,3,2,1,3,1,3]},{\"label\":\"Sex\",\"values\":[\"male\",\"female\",\"female\",\"female\",\"male\",\"male\",\"male\",\"male\",\"female\",\"female\",\"female\",\"female\",\"male\",\"male\",\"female\",\"female\",\"male\",\"male\",\"female\",\"female\",\"male\",\"male\",\"female\",\"male\",\"female\",\"female\",\"male\",\"male\",\"female\",\"male\",\"male\",\"female\",\"female\",\"male\",\"male\",\"male\",\"male\",\"male\",\"female\",\"female\",\"female\",\"female\",\"male\",\"female\",\"female\",\"male\",\"male\",\"female\",\"male\",\"female\",\"male\",\"male\",\"female\",\"female\",\"male\",\"male\",\"female\",\"male\",\"female\",\"male\",\"male\",\"female\",\"male\",\"male\",\"male\",\"male\",\"female\",\"male\",\"female\",\"male\",\"male\",\"female\",\"male\",\"male\",\"male\",\"male\",\"male\",\"male\",\"male\",\"female\",\"male\",\"male\",\"female\",\"male\",\"female\",\"female\",\"male\",\"male\",\"female\",\"male\",\"male\",\"male\",\"male\",\"male\",\"male\",\"male\",\"male\",\"male\",\"female\",\"male\",\"female\",\"male\",\"male\",\"male\",\"male\",\"male\",\"female\",\"male\",\"male\",\"female\",\"male\",\"female\",\"male\",\"female\",\"female\",\"male\",\"male\",\"male\",\"male\",\"female\",\"male\",\"male\",\"male\",\"female\",\"male\",\"male\",\"male\",\"male\",\"female\",\"male\",\"male\",\"male\",\"female\",\"female\",\"male\",\"male\",\"female\",\"male\",\"male\",\"male\",\"female\",\"female\",\"female\",\"male\",\"male\",\"male\",\"male\",\"female\",\"male\",\"male\",\"male\",\"female\",\"male\",\"male\",\"male\",\"male\",\"female\",\"male\",\"male\",\"male\",\"male\",\"female\",\"male\",\"male\",\"male\",\"male\",\"female\",\"female\",\"male\",\"male\",\"male\",\"male\",\"female\",\"male\",\"male\",\"male\",\"male\",\"female\",\"male\",\"male\",\"female\",\"male\",\"male\",\"male\",\"female\",\"male\",\"female\",\"male\",\"male\",\"male\",\"female\",\"male\",\"female\",\"male\",\"female\",\"female\",\"male\",\"male\",\"female\",\"female\",\"male\",\"male\",\"male\",\"male\",\"male\",\"female\",\"male\",\"male\",\"female\",\"male\",\"male\",\"female\",\"male\",\"male\",\"male\",\"female\",\"female\",\"male\",\"female\",\"male\",\"male\",\"male\",\"male\",\"male\",\"male\",\"male\",\"male\",\"male\",\"male\",\"female\",\"female\",\"male\",\"male\",\"female\",\"male\",\"female\",\"male\",\"female\",\"male\",\"male\",\"female\",\"female\",\"male\",\"male\",\"male\",\"male\",\"female\",\"female\",\"male\",\"male\",\"male\",\"female\",\"male\",\"male\",\"female\",\"female\",\"female\",\"female\",\"female\",\"female\",\"male\",\"male\",\"male\",\"male\",\"female\",\"male\",\"male\",\"male\",\"female\",\"female\",\"male\",\"male\",\"female\",\"male\",\"female\",\"female\",\"female\",\"male\",\"male\",\"female\",\"male\",\"male\",\"male\",\"male\",\"male\",\"male\",\"male\",\"male\",\"male\",\"female\",\"female\",\"female\",\"male\",\"female\",\"male\",\"male\",\"male\",\"female\",\"male\",\"female\",\"female\",\"male\",\"male\",\"female\",\"male\",\"male\",\"female\",\"female\",\"male\",\"female\",\"female\",\"female\",\"female\",\"male\",\"male\",\"female\",\"female\",\"male\",\"female\",\"female\",\"male\",\"male\",\"female\",\"female\",\"male\",\"female\",\"male\",\"female\",\"female\",\"female\",\"female\",\"male\",\"male\",\"male\",\"female\",\"male\",\"male\",\"female\",\"male\",\"male\",\"male\",\"female\",\"male\",\"male\",\"male\",\"female\",\"female\",\"female\",\"male\",\"male\",\"male\",\"male\",\"male\",\"male\",\"male\",\"male\",\"female\",\"female\",\"female\",\"female\",\"male\",\"male\",\"female\",\"male\",\"male\",\"male\",\"female\",\"female\",\"female\",\"female\",\"male\",\"male\",\"male\",\"male\",\"female\",\"female\",\"female\",\"male\",\"male\",\"male\",\"female\",\"female\",\"male\",\"female\",\"male\",\"male\",\"male\",\"female\",\"male\",\"female\",\"male\",\"male\",\"male\",\"female\",\"female\",\"male\",\"female\",\"male\",\"male\",\"female\",\"male\",\"male\",\"female\",\"male\",\"female\",\"male\",\"male\",\"male\",\"male\",\"female\",\"male\",\"male\",\"female\",\"male\",\"male\",\"female\",\"female\",\"female\",\"male\",\"female\",\"male\",\"male\",\"male\",\"female\",\"male\",\"male\",\"female\",\"female\",\"male\",\"male\",\"male\",\"female\",\"female\",\"male\",\"male\",\"female\",\"female\",\"female\",\"male\",\"male\",\"female\",\"male\",\"male\",\"female\",\"male\",\"male\",\"female\",\"male\",\"female\",\"male\",\"male\",\"male\",\"male\",\"male\",\"male\",\"male\",\"male\",\"female\",\"female\",\"male\",\"male\",\"male\",\"male\",\"male\",\"male\",\"male\",\"male\",\"male\",\"male\",\"female\",\"male\",\"male\",\"female\",\"female\",\"female\",\"male\",\"male\",\"male\",\"male\",\"female\",\"male\",\"male\",\"male\",\"female\",\"male\",\"female\",\"female\",\"male\",\"male\",\"male\",\"male\",\"male\",\"male\",\"male\",\"male\",\"male\",\"female\",\"male\",\"female\",\"male\",\"male\",\"female\",\"female\",\"female\",\"female\",\"male\",\"female\",\"male\",\"male\",\"male\",\"male\",\"male\",\"male\",\"female\",\"male\",\"male\",\"female\",\"male\",\"female\",\"male\",\"female\",\"male\",\"male\",\"female\",\"male\",\"male\",\"female\",\"male\",\"male\",\"male\",\"female\",\"male\",\"male\",\"female\",\"female\",\"female\",\"male\",\"female\",\"male\",\"female\",\"female\",\"female\",\"female\",\"male\",\"male\",\"male\",\"female\",\"male\",\"male\",\"male\",\"male\",\"male\",\"male\",\"male\",\"female\",\"male\",\"female\",\"male\",\"female\",\"female\",\"male\",\"male\",\"male\",\"male\",\"female\",\"male\",\"male\",\"female\",\"male\",\"male\",\"male\",\"female\",\"male\",\"female\",\"male\",\"male\",\"female\",\"female\",\"female\",\"male\",\"female\",\"female\",\"male\",\"male\",\"male\",\"female\",\"male\",\"male\",\"male\",\"male\",\"male\",\"female\",\"male\",\"female\",\"male\",\"male\",\"female\",\"male\",\"male\",\"male\",\"female\",\"male\",\"male\",\"male\",\"male\",\"male\",\"male\",\"male\",\"female\",\"female\",\"female\",\"male\",\"female\",\"male\",\"male\",\"female\",\"male\",\"female\",\"female\",\"male\",\"male\",\"male\",\"male\",\"male\",\"male\",\"male\",\"male\",\"female\",\"male\",\"male\",\"male\",\"male\",\"male\",\"male\",\"female\",\"female\",\"male\",\"male\",\"female\",\"male\",\"male\",\"female\",\"female\",\"male\",\"female\",\"male\",\"male\",\"male\",\"male\",\"female\",\"male\",\"female\",\"male\",\"female\",\"female\",\"male\",\"male\",\"female\",\"male\",\"male\",\"male\",\"male\",\"male\",\"male\",\"male\",\"male\",\"male\",\"male\",\"male\",\"female\",\"female\",\"male\",\"male\",\"male\",\"male\",\"male\",\"male\",\"female\",\"female\",\"male\",\"female\",\"male\",\"male\",\"male\",\"male\",\"male\",\"male\",\"male\",\"male\",\"female\",\"male\",\"female\",\"male\",\"male\",\"male\",\"male\",\"male\",\"female\",\"male\",\"male\",\"female\",\"male\",\"female\",\"male\",\"male\",\"male\",\"female\",\"male\",\"female\",\"male\",\"female\",\"male\",\"male\",\"male\",\"male\",\"male\",\"female\",\"female\",\"male\",\"male\",\"female\",\"male\",\"male\",\"male\",\"male\",\"male\",\"female\",\"female\",\"male\",\"female\",\"female\",\"male\",\"male\",\"male\",\"male\",\"male\",\"female\",\"male\",\"male\",\"male\",\"male\",\"male\",\"female\",\"male\",\"male\",\"male\",\"male\",\"female\",\"male\",\"male\",\"female\",\"male\",\"male\",\"male\",\"female\",\"male\",\"male\",\"male\",\"male\",\"female\",\"male\",\"male\",\"male\",\"female\",\"male\",\"female\",\"male\",\"female\",\"male\",\"male\",\"male\",\"male\",\"female\",\"male\",\"female\",\"male\",\"male\",\"female\",\"male\",\"female\",\"female\",\"female\",\"male\",\"male\",\"male\",\"male\",\"female\",\"male\",\"male\",\"male\",\"male\",\"male\",\"female\",\"male\",\"male\",\"male\",\"female\",\"female\",\"male\",\"female\",\"male\",\"female\",\"male\",\"male\",\"male\",\"male\",\"male\",\"female\",\"male\",\"female\",\"male\",\"male\",\"male\",\"female\",\"male\",\"male\",\"female\",\"male\",\"male\",\"male\",\"female\",\"male\",\"male\",\"female\",\"male\",\"male\",\"male\",\"male\",\"male\",\"female\",\"female\",\"male\",\"male\",\"male\",\"male\",\"female\",\"male\",\"male\",\"male\",\"male\",\"male\",\"male\",\"female\",\"male\",\"male\",\"male\",\"male\",\"male\",\"male\",\"female\",\"male\",\"male\",\"female\",\"female\",\"female\",\"female\",\"female\",\"male\",\"female\",\"male\",\"male\",\"male\",\"female\",\"female\",\"male\",\"female\",\"female\",\"male\",\"male\",\"male\",\"male\",\"female\",\"male\",\"male\",\"female\",\"female\",\"male\",\"male\",\"male\",\"female\",\"female\",\"male\",\"female\",\"male\",\"male\",\"female\",\"male\",\"female\",\"female\",\"male\",\"male\"]}],\"domain\":{\"x\":[0.0,1.0],\"y\":[0.0,1.0]},\"name\":\"\",\"type\":\"parcats\"}],                        {\"template\":{\"data\":{\"histogram2dcontour\":[{\"type\":\"histogram2dcontour\",\"colorbar\":{\"outlinewidth\":0,\"ticks\":\"\"},\"colorscale\":[[0.0,\"#0d0887\"],[0.1111111111111111,\"#46039f\"],[0.2222222222222222,\"#7201a8\"],[0.3333333333333333,\"#9c179e\"],[0.4444444444444444,\"#bd3786\"],[0.5555555555555556,\"#d8576b\"],[0.6666666666666666,\"#ed7953\"],[0.7777777777777778,\"#fb9f3a\"],[0.8888888888888888,\"#fdca26\"],[1.0,\"#f0f921\"]]}],\"choropleth\":[{\"type\":\"choropleth\",\"colorbar\":{\"outlinewidth\":0,\"ticks\":\"\"}}],\"histogram2d\":[{\"type\":\"histogram2d\",\"colorbar\":{\"outlinewidth\":0,\"ticks\":\"\"},\"colorscale\":[[0.0,\"#0d0887\"],[0.1111111111111111,\"#46039f\"],[0.2222222222222222,\"#7201a8\"],[0.3333333333333333,\"#9c179e\"],[0.4444444444444444,\"#bd3786\"],[0.5555555555555556,\"#d8576b\"],[0.6666666666666666,\"#ed7953\"],[0.7777777777777778,\"#fb9f3a\"],[0.8888888888888888,\"#fdca26\"],[1.0,\"#f0f921\"]]}],\"heatmap\":[{\"type\":\"heatmap\",\"colorbar\":{\"outlinewidth\":0,\"ticks\":\"\"},\"colorscale\":[[0.0,\"#0d0887\"],[0.1111111111111111,\"#46039f\"],[0.2222222222222222,\"#7201a8\"],[0.3333333333333333,\"#9c179e\"],[0.4444444444444444,\"#bd3786\"],[0.5555555555555556,\"#d8576b\"],[0.6666666666666666,\"#ed7953\"],[0.7777777777777778,\"#fb9f3a\"],[0.8888888888888888,\"#fdca26\"],[1.0,\"#f0f921\"]]}],\"heatmapgl\":[{\"type\":\"heatmapgl\",\"colorbar\":{\"outlinewidth\":0,\"ticks\":\"\"},\"colorscale\":[[0.0,\"#0d0887\"],[0.1111111111111111,\"#46039f\"],[0.2222222222222222,\"#7201a8\"],[0.3333333333333333,\"#9c179e\"],[0.4444444444444444,\"#bd3786\"],[0.5555555555555556,\"#d8576b\"],[0.6666666666666666,\"#ed7953\"],[0.7777777777777778,\"#fb9f3a\"],[0.8888888888888888,\"#fdca26\"],[1.0,\"#f0f921\"]]}],\"contourcarpet\":[{\"type\":\"contourcarpet\",\"colorbar\":{\"outlinewidth\":0,\"ticks\":\"\"}}],\"contour\":[{\"type\":\"contour\",\"colorbar\":{\"outlinewidth\":0,\"ticks\":\"\"},\"colorscale\":[[0.0,\"#0d0887\"],[0.1111111111111111,\"#46039f\"],[0.2222222222222222,\"#7201a8\"],[0.3333333333333333,\"#9c179e\"],[0.4444444444444444,\"#bd3786\"],[0.5555555555555556,\"#d8576b\"],[0.6666666666666666,\"#ed7953\"],[0.7777777777777778,\"#fb9f3a\"],[0.8888888888888888,\"#fdca26\"],[1.0,\"#f0f921\"]]}],\"surface\":[{\"type\":\"surface\",\"colorbar\":{\"outlinewidth\":0,\"ticks\":\"\"},\"colorscale\":[[0.0,\"#0d0887\"],[0.1111111111111111,\"#46039f\"],[0.2222222222222222,\"#7201a8\"],[0.3333333333333333,\"#9c179e\"],[0.4444444444444444,\"#bd3786\"],[0.5555555555555556,\"#d8576b\"],[0.6666666666666666,\"#ed7953\"],[0.7777777777777778,\"#fb9f3a\"],[0.8888888888888888,\"#fdca26\"],[1.0,\"#f0f921\"]]}],\"mesh3d\":[{\"type\":\"mesh3d\",\"colorbar\":{\"outlinewidth\":0,\"ticks\":\"\"}}],\"scatter\":[{\"fillpattern\":{\"fillmode\":\"overlay\",\"size\":10,\"solidity\":0.2},\"type\":\"scatter\"}],\"parcoords\":[{\"type\":\"parcoords\",\"line\":{\"colorbar\":{\"outlinewidth\":0,\"ticks\":\"\"}}}],\"scatterpolargl\":[{\"type\":\"scatterpolargl\",\"marker\":{\"colorbar\":{\"outlinewidth\":0,\"ticks\":\"\"}}}],\"bar\":[{\"error_x\":{\"color\":\"#2a3f5f\"},\"error_y\":{\"color\":\"#2a3f5f\"},\"marker\":{\"line\":{\"color\":\"#E5ECF6\",\"width\":0.5},\"pattern\":{\"fillmode\":\"overlay\",\"size\":10,\"solidity\":0.2}},\"type\":\"bar\"}],\"scattergeo\":[{\"type\":\"scattergeo\",\"marker\":{\"colorbar\":{\"outlinewidth\":0,\"ticks\":\"\"}}}],\"scatterpolar\":[{\"type\":\"scatterpolar\",\"marker\":{\"colorbar\":{\"outlinewidth\":0,\"ticks\":\"\"}}}],\"histogram\":[{\"marker\":{\"pattern\":{\"fillmode\":\"overlay\",\"size\":10,\"solidity\":0.2}},\"type\":\"histogram\"}],\"scattergl\":[{\"type\":\"scattergl\",\"marker\":{\"colorbar\":{\"outlinewidth\":0,\"ticks\":\"\"}}}],\"scatter3d\":[{\"type\":\"scatter3d\",\"line\":{\"colorbar\":{\"outlinewidth\":0,\"ticks\":\"\"}},\"marker\":{\"colorbar\":{\"outlinewidth\":0,\"ticks\":\"\"}}}],\"scattermapbox\":[{\"type\":\"scattermapbox\",\"marker\":{\"colorbar\":{\"outlinewidth\":0,\"ticks\":\"\"}}}],\"scatterternary\":[{\"type\":\"scatterternary\",\"marker\":{\"colorbar\":{\"outlinewidth\":0,\"ticks\":\"\"}}}],\"scattercarpet\":[{\"type\":\"scattercarpet\",\"marker\":{\"colorbar\":{\"outlinewidth\":0,\"ticks\":\"\"}}}],\"carpet\":[{\"aaxis\":{\"endlinecolor\":\"#2a3f5f\",\"gridcolor\":\"white\",\"linecolor\":\"white\",\"minorgridcolor\":\"white\",\"startlinecolor\":\"#2a3f5f\"},\"baxis\":{\"endlinecolor\":\"#2a3f5f\",\"gridcolor\":\"white\",\"linecolor\":\"white\",\"minorgridcolor\":\"white\",\"startlinecolor\":\"#2a3f5f\"},\"type\":\"carpet\"}],\"table\":[{\"cells\":{\"fill\":{\"color\":\"#EBF0F8\"},\"line\":{\"color\":\"white\"}},\"header\":{\"fill\":{\"color\":\"#C8D4E3\"},\"line\":{\"color\":\"white\"}},\"type\":\"table\"}],\"barpolar\":[{\"marker\":{\"line\":{\"color\":\"#E5ECF6\",\"width\":0.5},\"pattern\":{\"fillmode\":\"overlay\",\"size\":10,\"solidity\":0.2}},\"type\":\"barpolar\"}],\"pie\":[{\"automargin\":true,\"type\":\"pie\"}]},\"layout\":{\"autotypenumbers\":\"strict\",\"colorway\":[\"#636efa\",\"#EF553B\",\"#00cc96\",\"#ab63fa\",\"#FFA15A\",\"#19d3f3\",\"#FF6692\",\"#B6E880\",\"#FF97FF\",\"#FECB52\"],\"font\":{\"color\":\"#2a3f5f\"},\"hovermode\":\"closest\",\"hoverlabel\":{\"align\":\"left\"},\"paper_bgcolor\":\"white\",\"plot_bgcolor\":\"#E5ECF6\",\"polar\":{\"bgcolor\":\"#E5ECF6\",\"angularaxis\":{\"gridcolor\":\"white\",\"linecolor\":\"white\",\"ticks\":\"\"},\"radialaxis\":{\"gridcolor\":\"white\",\"linecolor\":\"white\",\"ticks\":\"\"}},\"ternary\":{\"bgcolor\":\"#E5ECF6\",\"aaxis\":{\"gridcolor\":\"white\",\"linecolor\":\"white\",\"ticks\":\"\"},\"baxis\":{\"gridcolor\":\"white\",\"linecolor\":\"white\",\"ticks\":\"\"},\"caxis\":{\"gridcolor\":\"white\",\"linecolor\":\"white\",\"ticks\":\"\"}},\"coloraxis\":{\"colorbar\":{\"outlinewidth\":0,\"ticks\":\"\"}},\"colorscale\":{\"sequential\":[[0.0,\"#0d0887\"],[0.1111111111111111,\"#46039f\"],[0.2222222222222222,\"#7201a8\"],[0.3333333333333333,\"#9c179e\"],[0.4444444444444444,\"#bd3786\"],[0.5555555555555556,\"#d8576b\"],[0.6666666666666666,\"#ed7953\"],[0.7777777777777778,\"#fb9f3a\"],[0.8888888888888888,\"#fdca26\"],[1.0,\"#f0f921\"]],\"sequentialminus\":[[0.0,\"#0d0887\"],[0.1111111111111111,\"#46039f\"],[0.2222222222222222,\"#7201a8\"],[0.3333333333333333,\"#9c179e\"],[0.4444444444444444,\"#bd3786\"],[0.5555555555555556,\"#d8576b\"],[0.6666666666666666,\"#ed7953\"],[0.7777777777777778,\"#fb9f3a\"],[0.8888888888888888,\"#fdca26\"],[1.0,\"#f0f921\"]],\"diverging\":[[0,\"#8e0152\"],[0.1,\"#c51b7d\"],[0.2,\"#de77ae\"],[0.3,\"#f1b6da\"],[0.4,\"#fde0ef\"],[0.5,\"#f7f7f7\"],[0.6,\"#e6f5d0\"],[0.7,\"#b8e186\"],[0.8,\"#7fbc41\"],[0.9,\"#4d9221\"],[1,\"#276419\"]]},\"xaxis\":{\"gridcolor\":\"white\",\"linecolor\":\"white\",\"ticks\":\"\",\"title\":{\"standoff\":15},\"zerolinecolor\":\"white\",\"automargin\":true,\"zerolinewidth\":2},\"yaxis\":{\"gridcolor\":\"white\",\"linecolor\":\"white\",\"ticks\":\"\",\"title\":{\"standoff\":15},\"zerolinecolor\":\"white\",\"automargin\":true,\"zerolinewidth\":2},\"scene\":{\"xaxis\":{\"backgroundcolor\":\"#E5ECF6\",\"gridcolor\":\"white\",\"linecolor\":\"white\",\"showbackground\":true,\"ticks\":\"\",\"zerolinecolor\":\"white\",\"gridwidth\":2},\"yaxis\":{\"backgroundcolor\":\"#E5ECF6\",\"gridcolor\":\"white\",\"linecolor\":\"white\",\"showbackground\":true,\"ticks\":\"\",\"zerolinecolor\":\"white\",\"gridwidth\":2},\"zaxis\":{\"backgroundcolor\":\"#E5ECF6\",\"gridcolor\":\"white\",\"linecolor\":\"white\",\"showbackground\":true,\"ticks\":\"\",\"zerolinecolor\":\"white\",\"gridwidth\":2}},\"shapedefaults\":{\"line\":{\"color\":\"#2a3f5f\"}},\"annotationdefaults\":{\"arrowcolor\":\"#2a3f5f\",\"arrowhead\":0,\"arrowwidth\":1},\"geo\":{\"bgcolor\":\"white\",\"landcolor\":\"#E5ECF6\",\"subunitcolor\":\"white\",\"showland\":true,\"showlakes\":true,\"lakecolor\":\"white\"},\"title\":{\"x\":0.05},\"mapbox\":{\"style\":\"light\"}}},\"legend\":{\"tracegroupgap\":0},\"margin\":{\"t\":60}},                        {\"responsive\": true}                    ).then(function(){\n",
       "                            \n",
       "var gd = document.getElementById('fcf64f27-0ae1-4bda-ace4-1e922f211de2');\n",
       "var x = new MutationObserver(function (mutations, observer) {{\n",
       "        var display = window.getComputedStyle(gd).display;\n",
       "        if (!display || display === 'none') {{\n",
       "            console.log([gd, 'removed!']);\n",
       "            Plotly.purge(gd);\n",
       "            observer.disconnect();\n",
       "        }}\n",
       "}});\n",
       "\n",
       "// Listen for the removal of the full notebook cells\n",
       "var notebookContainer = gd.closest('#notebook-container');\n",
       "if (notebookContainer) {{\n",
       "    x.observe(notebookContainer, {childList: true});\n",
       "}}\n",
       "\n",
       "// Listen for the clearing of the current output cell\n",
       "var outputEl = gd.closest('.output');\n",
       "if (outputEl) {{\n",
       "    x.observe(outputEl, {childList: true});\n",
       "}}\n",
       "\n",
       "                        })                };                });            </script>        </div>"
      ]
     },
     "metadata": {},
     "output_type": "display_data"
    }
   ],
   "source": [
    "parallel = px.parallel_categories(dftrain, dimensions=[\"Pclass\", \"Sex\"]);\n",
    "parallel.show()"
   ]
  },
  {
   "cell_type": "code",
   "execution_count": 22,
   "id": "edd8e307",
   "metadata": {
    "execution": {
     "iopub.execute_input": "2023-11-03T23:39:21.449355Z",
     "iopub.status.busy": "2023-11-03T23:39:21.448896Z",
     "iopub.status.idle": "2023-11-03T23:39:21.547513Z",
     "shell.execute_reply": "2023-11-03T23:39:21.546267Z"
    },
    "papermill": {
     "duration": 0.130358,
     "end_time": "2023-11-03T23:39:21.550168",
     "exception": false,
     "start_time": "2023-11-03T23:39:21.419810",
     "status": "completed"
    },
    "tags": []
   },
   "outputs": [
    {
     "data": {
      "text/html": [
       "<div>                            <div id=\"082d760e-1181-41af-b5d1-8c47d71e498c\" class=\"plotly-graph-div\" style=\"height:525px; width:100%;\"></div>            <script type=\"text/javascript\">                require([\"plotly\"], function(Plotly) {                    window.PLOTLYENV=window.PLOTLYENV || {};                                    if (document.getElementById(\"082d760e-1181-41af-b5d1-8c47d71e498c\")) {                    Plotly.newPlot(                        \"082d760e-1181-41af-b5d1-8c47d71e498c\",                        [{\"alignmentgroup\":\"True\",\"hovertemplate\":\"Sex=%{x}\\u003cbr\\u003eCounts=%{y}\\u003cextra\\u003e\\u003c\\u002fextra\\u003e\",\"legendgroup\":\"\",\"marker\":{\"color\":\"#636efa\",\"pattern\":{\"shape\":\"\"}},\"name\":\"\",\"offsetgroup\":\"\",\"orientation\":\"v\",\"showlegend\":false,\"textposition\":\"auto\",\"x\":[\"male\",\"female\"],\"xaxis\":\"x\",\"y\":[577,314],\"yaxis\":\"y\",\"type\":\"bar\"}],                        {\"template\":{\"data\":{\"histogram2dcontour\":[{\"type\":\"histogram2dcontour\",\"colorbar\":{\"outlinewidth\":0,\"ticks\":\"\"},\"colorscale\":[[0.0,\"#0d0887\"],[0.1111111111111111,\"#46039f\"],[0.2222222222222222,\"#7201a8\"],[0.3333333333333333,\"#9c179e\"],[0.4444444444444444,\"#bd3786\"],[0.5555555555555556,\"#d8576b\"],[0.6666666666666666,\"#ed7953\"],[0.7777777777777778,\"#fb9f3a\"],[0.8888888888888888,\"#fdca26\"],[1.0,\"#f0f921\"]]}],\"choropleth\":[{\"type\":\"choropleth\",\"colorbar\":{\"outlinewidth\":0,\"ticks\":\"\"}}],\"histogram2d\":[{\"type\":\"histogram2d\",\"colorbar\":{\"outlinewidth\":0,\"ticks\":\"\"},\"colorscale\":[[0.0,\"#0d0887\"],[0.1111111111111111,\"#46039f\"],[0.2222222222222222,\"#7201a8\"],[0.3333333333333333,\"#9c179e\"],[0.4444444444444444,\"#bd3786\"],[0.5555555555555556,\"#d8576b\"],[0.6666666666666666,\"#ed7953\"],[0.7777777777777778,\"#fb9f3a\"],[0.8888888888888888,\"#fdca26\"],[1.0,\"#f0f921\"]]}],\"heatmap\":[{\"type\":\"heatmap\",\"colorbar\":{\"outlinewidth\":0,\"ticks\":\"\"},\"colorscale\":[[0.0,\"#0d0887\"],[0.1111111111111111,\"#46039f\"],[0.2222222222222222,\"#7201a8\"],[0.3333333333333333,\"#9c179e\"],[0.4444444444444444,\"#bd3786\"],[0.5555555555555556,\"#d8576b\"],[0.6666666666666666,\"#ed7953\"],[0.7777777777777778,\"#fb9f3a\"],[0.8888888888888888,\"#fdca26\"],[1.0,\"#f0f921\"]]}],\"heatmapgl\":[{\"type\":\"heatmapgl\",\"colorbar\":{\"outlinewidth\":0,\"ticks\":\"\"},\"colorscale\":[[0.0,\"#0d0887\"],[0.1111111111111111,\"#46039f\"],[0.2222222222222222,\"#7201a8\"],[0.3333333333333333,\"#9c179e\"],[0.4444444444444444,\"#bd3786\"],[0.5555555555555556,\"#d8576b\"],[0.6666666666666666,\"#ed7953\"],[0.7777777777777778,\"#fb9f3a\"],[0.8888888888888888,\"#fdca26\"],[1.0,\"#f0f921\"]]}],\"contourcarpet\":[{\"type\":\"contourcarpet\",\"colorbar\":{\"outlinewidth\":0,\"ticks\":\"\"}}],\"contour\":[{\"type\":\"contour\",\"colorbar\":{\"outlinewidth\":0,\"ticks\":\"\"},\"colorscale\":[[0.0,\"#0d0887\"],[0.1111111111111111,\"#46039f\"],[0.2222222222222222,\"#7201a8\"],[0.3333333333333333,\"#9c179e\"],[0.4444444444444444,\"#bd3786\"],[0.5555555555555556,\"#d8576b\"],[0.6666666666666666,\"#ed7953\"],[0.7777777777777778,\"#fb9f3a\"],[0.8888888888888888,\"#fdca26\"],[1.0,\"#f0f921\"]]}],\"surface\":[{\"type\":\"surface\",\"colorbar\":{\"outlinewidth\":0,\"ticks\":\"\"},\"colorscale\":[[0.0,\"#0d0887\"],[0.1111111111111111,\"#46039f\"],[0.2222222222222222,\"#7201a8\"],[0.3333333333333333,\"#9c179e\"],[0.4444444444444444,\"#bd3786\"],[0.5555555555555556,\"#d8576b\"],[0.6666666666666666,\"#ed7953\"],[0.7777777777777778,\"#fb9f3a\"],[0.8888888888888888,\"#fdca26\"],[1.0,\"#f0f921\"]]}],\"mesh3d\":[{\"type\":\"mesh3d\",\"colorbar\":{\"outlinewidth\":0,\"ticks\":\"\"}}],\"scatter\":[{\"fillpattern\":{\"fillmode\":\"overlay\",\"size\":10,\"solidity\":0.2},\"type\":\"scatter\"}],\"parcoords\":[{\"type\":\"parcoords\",\"line\":{\"colorbar\":{\"outlinewidth\":0,\"ticks\":\"\"}}}],\"scatterpolargl\":[{\"type\":\"scatterpolargl\",\"marker\":{\"colorbar\":{\"outlinewidth\":0,\"ticks\":\"\"}}}],\"bar\":[{\"error_x\":{\"color\":\"#2a3f5f\"},\"error_y\":{\"color\":\"#2a3f5f\"},\"marker\":{\"line\":{\"color\":\"#E5ECF6\",\"width\":0.5},\"pattern\":{\"fillmode\":\"overlay\",\"size\":10,\"solidity\":0.2}},\"type\":\"bar\"}],\"scattergeo\":[{\"type\":\"scattergeo\",\"marker\":{\"colorbar\":{\"outlinewidth\":0,\"ticks\":\"\"}}}],\"scatterpolar\":[{\"type\":\"scatterpolar\",\"marker\":{\"colorbar\":{\"outlinewidth\":0,\"ticks\":\"\"}}}],\"histogram\":[{\"marker\":{\"pattern\":{\"fillmode\":\"overlay\",\"size\":10,\"solidity\":0.2}},\"type\":\"histogram\"}],\"scattergl\":[{\"type\":\"scattergl\",\"marker\":{\"colorbar\":{\"outlinewidth\":0,\"ticks\":\"\"}}}],\"scatter3d\":[{\"type\":\"scatter3d\",\"line\":{\"colorbar\":{\"outlinewidth\":0,\"ticks\":\"\"}},\"marker\":{\"colorbar\":{\"outlinewidth\":0,\"ticks\":\"\"}}}],\"scattermapbox\":[{\"type\":\"scattermapbox\",\"marker\":{\"colorbar\":{\"outlinewidth\":0,\"ticks\":\"\"}}}],\"scatterternary\":[{\"type\":\"scatterternary\",\"marker\":{\"colorbar\":{\"outlinewidth\":0,\"ticks\":\"\"}}}],\"scattercarpet\":[{\"type\":\"scattercarpet\",\"marker\":{\"colorbar\":{\"outlinewidth\":0,\"ticks\":\"\"}}}],\"carpet\":[{\"aaxis\":{\"endlinecolor\":\"#2a3f5f\",\"gridcolor\":\"white\",\"linecolor\":\"white\",\"minorgridcolor\":\"white\",\"startlinecolor\":\"#2a3f5f\"},\"baxis\":{\"endlinecolor\":\"#2a3f5f\",\"gridcolor\":\"white\",\"linecolor\":\"white\",\"minorgridcolor\":\"white\",\"startlinecolor\":\"#2a3f5f\"},\"type\":\"carpet\"}],\"table\":[{\"cells\":{\"fill\":{\"color\":\"#EBF0F8\"},\"line\":{\"color\":\"white\"}},\"header\":{\"fill\":{\"color\":\"#C8D4E3\"},\"line\":{\"color\":\"white\"}},\"type\":\"table\"}],\"barpolar\":[{\"marker\":{\"line\":{\"color\":\"#E5ECF6\",\"width\":0.5},\"pattern\":{\"fillmode\":\"overlay\",\"size\":10,\"solidity\":0.2}},\"type\":\"barpolar\"}],\"pie\":[{\"automargin\":true,\"type\":\"pie\"}]},\"layout\":{\"autotypenumbers\":\"strict\",\"colorway\":[\"#636efa\",\"#EF553B\",\"#00cc96\",\"#ab63fa\",\"#FFA15A\",\"#19d3f3\",\"#FF6692\",\"#B6E880\",\"#FF97FF\",\"#FECB52\"],\"font\":{\"color\":\"#2a3f5f\"},\"hovermode\":\"closest\",\"hoverlabel\":{\"align\":\"left\"},\"paper_bgcolor\":\"white\",\"plot_bgcolor\":\"#E5ECF6\",\"polar\":{\"bgcolor\":\"#E5ECF6\",\"angularaxis\":{\"gridcolor\":\"white\",\"linecolor\":\"white\",\"ticks\":\"\"},\"radialaxis\":{\"gridcolor\":\"white\",\"linecolor\":\"white\",\"ticks\":\"\"}},\"ternary\":{\"bgcolor\":\"#E5ECF6\",\"aaxis\":{\"gridcolor\":\"white\",\"linecolor\":\"white\",\"ticks\":\"\"},\"baxis\":{\"gridcolor\":\"white\",\"linecolor\":\"white\",\"ticks\":\"\"},\"caxis\":{\"gridcolor\":\"white\",\"linecolor\":\"white\",\"ticks\":\"\"}},\"coloraxis\":{\"colorbar\":{\"outlinewidth\":0,\"ticks\":\"\"}},\"colorscale\":{\"sequential\":[[0.0,\"#0d0887\"],[0.1111111111111111,\"#46039f\"],[0.2222222222222222,\"#7201a8\"],[0.3333333333333333,\"#9c179e\"],[0.4444444444444444,\"#bd3786\"],[0.5555555555555556,\"#d8576b\"],[0.6666666666666666,\"#ed7953\"],[0.7777777777777778,\"#fb9f3a\"],[0.8888888888888888,\"#fdca26\"],[1.0,\"#f0f921\"]],\"sequentialminus\":[[0.0,\"#0d0887\"],[0.1111111111111111,\"#46039f\"],[0.2222222222222222,\"#7201a8\"],[0.3333333333333333,\"#9c179e\"],[0.4444444444444444,\"#bd3786\"],[0.5555555555555556,\"#d8576b\"],[0.6666666666666666,\"#ed7953\"],[0.7777777777777778,\"#fb9f3a\"],[0.8888888888888888,\"#fdca26\"],[1.0,\"#f0f921\"]],\"diverging\":[[0,\"#8e0152\"],[0.1,\"#c51b7d\"],[0.2,\"#de77ae\"],[0.3,\"#f1b6da\"],[0.4,\"#fde0ef\"],[0.5,\"#f7f7f7\"],[0.6,\"#e6f5d0\"],[0.7,\"#b8e186\"],[0.8,\"#7fbc41\"],[0.9,\"#4d9221\"],[1,\"#276419\"]]},\"xaxis\":{\"gridcolor\":\"white\",\"linecolor\":\"white\",\"ticks\":\"\",\"title\":{\"standoff\":15},\"zerolinecolor\":\"white\",\"automargin\":true,\"zerolinewidth\":2},\"yaxis\":{\"gridcolor\":\"white\",\"linecolor\":\"white\",\"ticks\":\"\",\"title\":{\"standoff\":15},\"zerolinecolor\":\"white\",\"automargin\":true,\"zerolinewidth\":2},\"scene\":{\"xaxis\":{\"backgroundcolor\":\"#E5ECF6\",\"gridcolor\":\"white\",\"linecolor\":\"white\",\"showbackground\":true,\"ticks\":\"\",\"zerolinecolor\":\"white\",\"gridwidth\":2},\"yaxis\":{\"backgroundcolor\":\"#E5ECF6\",\"gridcolor\":\"white\",\"linecolor\":\"white\",\"showbackground\":true,\"ticks\":\"\",\"zerolinecolor\":\"white\",\"gridwidth\":2},\"zaxis\":{\"backgroundcolor\":\"#E5ECF6\",\"gridcolor\":\"white\",\"linecolor\":\"white\",\"showbackground\":true,\"ticks\":\"\",\"zerolinecolor\":\"white\",\"gridwidth\":2}},\"shapedefaults\":{\"line\":{\"color\":\"#2a3f5f\"}},\"annotationdefaults\":{\"arrowcolor\":\"#2a3f5f\",\"arrowhead\":0,\"arrowwidth\":1},\"geo\":{\"bgcolor\":\"white\",\"landcolor\":\"#E5ECF6\",\"subunitcolor\":\"white\",\"showland\":true,\"showlakes\":true,\"lakecolor\":\"white\"},\"title\":{\"x\":0.05},\"mapbox\":{\"style\":\"light\"}}},\"xaxis\":{\"anchor\":\"y\",\"domain\":[0.0,1.0],\"title\":{\"text\":\"Sex\"}},\"yaxis\":{\"anchor\":\"x\",\"domain\":[0.0,1.0],\"title\":{\"text\":\"Counts\"}},\"legend\":{\"tracegroupgap\":0},\"margin\":{\"t\":60},\"barmode\":\"relative\",\"title\":{\"text\":\"Count by Sex\"}},                        {\"responsive\": true}                    ).then(function(){\n",
       "                            \n",
       "var gd = document.getElementById('082d760e-1181-41af-b5d1-8c47d71e498c');\n",
       "var x = new MutationObserver(function (mutations, observer) {{\n",
       "        var display = window.getComputedStyle(gd).display;\n",
       "        if (!display || display === 'none') {{\n",
       "            console.log([gd, 'removed!']);\n",
       "            Plotly.purge(gd);\n",
       "            observer.disconnect();\n",
       "        }}\n",
       "}});\n",
       "\n",
       "// Listen for the removal of the full notebook cells\n",
       "var notebookContainer = gd.closest('#notebook-container');\n",
       "if (notebookContainer) {{\n",
       "    x.observe(notebookContainer, {childList: true});\n",
       "}}\n",
       "\n",
       "// Listen for the clearing of the current output cell\n",
       "var outputEl = gd.closest('.output');\n",
       "if (outputEl) {{\n",
       "    x.observe(outputEl, {childList: true});\n",
       "}}\n",
       "\n",
       "                        })                };                });            </script>        </div>"
      ]
     },
     "metadata": {},
     "output_type": "display_data"
    }
   ],
   "source": [
    "values_count_sex = dftrain[\"Sex\"].value_counts()\n",
    "\n",
    "graph = px.bar(values_count_sex, values_count_sex.index,\\\n",
    "               values_count_sex.values, labels={\"x\":\"Sex\", \"y\":\"Counts\"})\n",
    "graph.update_layout(title=\"Count by Sex\")\n",
    "graph.show();"
   ]
  },
  {
   "cell_type": "code",
   "execution_count": 23,
   "id": "ba147a55",
   "metadata": {
    "execution": {
     "iopub.execute_input": "2023-11-03T23:39:21.606976Z",
     "iopub.status.busy": "2023-11-03T23:39:21.606551Z",
     "iopub.status.idle": "2023-11-03T23:39:21.678525Z",
     "shell.execute_reply": "2023-11-03T23:39:21.677436Z"
    },
    "papermill": {
     "duration": 0.103145,
     "end_time": "2023-11-03T23:39:21.680933",
     "exception": false,
     "start_time": "2023-11-03T23:39:21.577788",
     "status": "completed"
    },
    "tags": []
   },
   "outputs": [
    {
     "data": {
      "text/html": [
       "<div>                            <div id=\"bf33f483-3421-4118-8750-3234c812f717\" class=\"plotly-graph-div\" style=\"height:525px; width:100%;\"></div>            <script type=\"text/javascript\">                require([\"plotly\"], function(Plotly) {                    window.PLOTLYENV=window.PLOTLYENV || {};                                    if (document.getElementById(\"bf33f483-3421-4118-8750-3234c812f717\")) {                    Plotly.newPlot(                        \"bf33f483-3421-4118-8750-3234c812f717\",                        [{\"alignmentgroup\":\"True\",\"hovertemplate\":\"Pclass=%{x}\\u003cbr\\u003eCounts=%{y}\\u003cextra\\u003e\\u003c\\u002fextra\\u003e\",\"legendgroup\":\"\",\"marker\":{\"color\":\"#636efa\",\"pattern\":{\"shape\":\"\"}},\"name\":\"\",\"offsetgroup\":\"\",\"orientation\":\"v\",\"showlegend\":false,\"textposition\":\"auto\",\"x\":[3,1,2],\"xaxis\":\"x\",\"y\":[491,216,184],\"yaxis\":\"y\",\"type\":\"bar\"}],                        {\"template\":{\"data\":{\"histogram2dcontour\":[{\"type\":\"histogram2dcontour\",\"colorbar\":{\"outlinewidth\":0,\"ticks\":\"\"},\"colorscale\":[[0.0,\"#0d0887\"],[0.1111111111111111,\"#46039f\"],[0.2222222222222222,\"#7201a8\"],[0.3333333333333333,\"#9c179e\"],[0.4444444444444444,\"#bd3786\"],[0.5555555555555556,\"#d8576b\"],[0.6666666666666666,\"#ed7953\"],[0.7777777777777778,\"#fb9f3a\"],[0.8888888888888888,\"#fdca26\"],[1.0,\"#f0f921\"]]}],\"choropleth\":[{\"type\":\"choropleth\",\"colorbar\":{\"outlinewidth\":0,\"ticks\":\"\"}}],\"histogram2d\":[{\"type\":\"histogram2d\",\"colorbar\":{\"outlinewidth\":0,\"ticks\":\"\"},\"colorscale\":[[0.0,\"#0d0887\"],[0.1111111111111111,\"#46039f\"],[0.2222222222222222,\"#7201a8\"],[0.3333333333333333,\"#9c179e\"],[0.4444444444444444,\"#bd3786\"],[0.5555555555555556,\"#d8576b\"],[0.6666666666666666,\"#ed7953\"],[0.7777777777777778,\"#fb9f3a\"],[0.8888888888888888,\"#fdca26\"],[1.0,\"#f0f921\"]]}],\"heatmap\":[{\"type\":\"heatmap\",\"colorbar\":{\"outlinewidth\":0,\"ticks\":\"\"},\"colorscale\":[[0.0,\"#0d0887\"],[0.1111111111111111,\"#46039f\"],[0.2222222222222222,\"#7201a8\"],[0.3333333333333333,\"#9c179e\"],[0.4444444444444444,\"#bd3786\"],[0.5555555555555556,\"#d8576b\"],[0.6666666666666666,\"#ed7953\"],[0.7777777777777778,\"#fb9f3a\"],[0.8888888888888888,\"#fdca26\"],[1.0,\"#f0f921\"]]}],\"heatmapgl\":[{\"type\":\"heatmapgl\",\"colorbar\":{\"outlinewidth\":0,\"ticks\":\"\"},\"colorscale\":[[0.0,\"#0d0887\"],[0.1111111111111111,\"#46039f\"],[0.2222222222222222,\"#7201a8\"],[0.3333333333333333,\"#9c179e\"],[0.4444444444444444,\"#bd3786\"],[0.5555555555555556,\"#d8576b\"],[0.6666666666666666,\"#ed7953\"],[0.7777777777777778,\"#fb9f3a\"],[0.8888888888888888,\"#fdca26\"],[1.0,\"#f0f921\"]]}],\"contourcarpet\":[{\"type\":\"contourcarpet\",\"colorbar\":{\"outlinewidth\":0,\"ticks\":\"\"}}],\"contour\":[{\"type\":\"contour\",\"colorbar\":{\"outlinewidth\":0,\"ticks\":\"\"},\"colorscale\":[[0.0,\"#0d0887\"],[0.1111111111111111,\"#46039f\"],[0.2222222222222222,\"#7201a8\"],[0.3333333333333333,\"#9c179e\"],[0.4444444444444444,\"#bd3786\"],[0.5555555555555556,\"#d8576b\"],[0.6666666666666666,\"#ed7953\"],[0.7777777777777778,\"#fb9f3a\"],[0.8888888888888888,\"#fdca26\"],[1.0,\"#f0f921\"]]}],\"surface\":[{\"type\":\"surface\",\"colorbar\":{\"outlinewidth\":0,\"ticks\":\"\"},\"colorscale\":[[0.0,\"#0d0887\"],[0.1111111111111111,\"#46039f\"],[0.2222222222222222,\"#7201a8\"],[0.3333333333333333,\"#9c179e\"],[0.4444444444444444,\"#bd3786\"],[0.5555555555555556,\"#d8576b\"],[0.6666666666666666,\"#ed7953\"],[0.7777777777777778,\"#fb9f3a\"],[0.8888888888888888,\"#fdca26\"],[1.0,\"#f0f921\"]]}],\"mesh3d\":[{\"type\":\"mesh3d\",\"colorbar\":{\"outlinewidth\":0,\"ticks\":\"\"}}],\"scatter\":[{\"fillpattern\":{\"fillmode\":\"overlay\",\"size\":10,\"solidity\":0.2},\"type\":\"scatter\"}],\"parcoords\":[{\"type\":\"parcoords\",\"line\":{\"colorbar\":{\"outlinewidth\":0,\"ticks\":\"\"}}}],\"scatterpolargl\":[{\"type\":\"scatterpolargl\",\"marker\":{\"colorbar\":{\"outlinewidth\":0,\"ticks\":\"\"}}}],\"bar\":[{\"error_x\":{\"color\":\"#2a3f5f\"},\"error_y\":{\"color\":\"#2a3f5f\"},\"marker\":{\"line\":{\"color\":\"#E5ECF6\",\"width\":0.5},\"pattern\":{\"fillmode\":\"overlay\",\"size\":10,\"solidity\":0.2}},\"type\":\"bar\"}],\"scattergeo\":[{\"type\":\"scattergeo\",\"marker\":{\"colorbar\":{\"outlinewidth\":0,\"ticks\":\"\"}}}],\"scatterpolar\":[{\"type\":\"scatterpolar\",\"marker\":{\"colorbar\":{\"outlinewidth\":0,\"ticks\":\"\"}}}],\"histogram\":[{\"marker\":{\"pattern\":{\"fillmode\":\"overlay\",\"size\":10,\"solidity\":0.2}},\"type\":\"histogram\"}],\"scattergl\":[{\"type\":\"scattergl\",\"marker\":{\"colorbar\":{\"outlinewidth\":0,\"ticks\":\"\"}}}],\"scatter3d\":[{\"type\":\"scatter3d\",\"line\":{\"colorbar\":{\"outlinewidth\":0,\"ticks\":\"\"}},\"marker\":{\"colorbar\":{\"outlinewidth\":0,\"ticks\":\"\"}}}],\"scattermapbox\":[{\"type\":\"scattermapbox\",\"marker\":{\"colorbar\":{\"outlinewidth\":0,\"ticks\":\"\"}}}],\"scatterternary\":[{\"type\":\"scatterternary\",\"marker\":{\"colorbar\":{\"outlinewidth\":0,\"ticks\":\"\"}}}],\"scattercarpet\":[{\"type\":\"scattercarpet\",\"marker\":{\"colorbar\":{\"outlinewidth\":0,\"ticks\":\"\"}}}],\"carpet\":[{\"aaxis\":{\"endlinecolor\":\"#2a3f5f\",\"gridcolor\":\"white\",\"linecolor\":\"white\",\"minorgridcolor\":\"white\",\"startlinecolor\":\"#2a3f5f\"},\"baxis\":{\"endlinecolor\":\"#2a3f5f\",\"gridcolor\":\"white\",\"linecolor\":\"white\",\"minorgridcolor\":\"white\",\"startlinecolor\":\"#2a3f5f\"},\"type\":\"carpet\"}],\"table\":[{\"cells\":{\"fill\":{\"color\":\"#EBF0F8\"},\"line\":{\"color\":\"white\"}},\"header\":{\"fill\":{\"color\":\"#C8D4E3\"},\"line\":{\"color\":\"white\"}},\"type\":\"table\"}],\"barpolar\":[{\"marker\":{\"line\":{\"color\":\"#E5ECF6\",\"width\":0.5},\"pattern\":{\"fillmode\":\"overlay\",\"size\":10,\"solidity\":0.2}},\"type\":\"barpolar\"}],\"pie\":[{\"automargin\":true,\"type\":\"pie\"}]},\"layout\":{\"autotypenumbers\":\"strict\",\"colorway\":[\"#636efa\",\"#EF553B\",\"#00cc96\",\"#ab63fa\",\"#FFA15A\",\"#19d3f3\",\"#FF6692\",\"#B6E880\",\"#FF97FF\",\"#FECB52\"],\"font\":{\"color\":\"#2a3f5f\"},\"hovermode\":\"closest\",\"hoverlabel\":{\"align\":\"left\"},\"paper_bgcolor\":\"white\",\"plot_bgcolor\":\"#E5ECF6\",\"polar\":{\"bgcolor\":\"#E5ECF6\",\"angularaxis\":{\"gridcolor\":\"white\",\"linecolor\":\"white\",\"ticks\":\"\"},\"radialaxis\":{\"gridcolor\":\"white\",\"linecolor\":\"white\",\"ticks\":\"\"}},\"ternary\":{\"bgcolor\":\"#E5ECF6\",\"aaxis\":{\"gridcolor\":\"white\",\"linecolor\":\"white\",\"ticks\":\"\"},\"baxis\":{\"gridcolor\":\"white\",\"linecolor\":\"white\",\"ticks\":\"\"},\"caxis\":{\"gridcolor\":\"white\",\"linecolor\":\"white\",\"ticks\":\"\"}},\"coloraxis\":{\"colorbar\":{\"outlinewidth\":0,\"ticks\":\"\"}},\"colorscale\":{\"sequential\":[[0.0,\"#0d0887\"],[0.1111111111111111,\"#46039f\"],[0.2222222222222222,\"#7201a8\"],[0.3333333333333333,\"#9c179e\"],[0.4444444444444444,\"#bd3786\"],[0.5555555555555556,\"#d8576b\"],[0.6666666666666666,\"#ed7953\"],[0.7777777777777778,\"#fb9f3a\"],[0.8888888888888888,\"#fdca26\"],[1.0,\"#f0f921\"]],\"sequentialminus\":[[0.0,\"#0d0887\"],[0.1111111111111111,\"#46039f\"],[0.2222222222222222,\"#7201a8\"],[0.3333333333333333,\"#9c179e\"],[0.4444444444444444,\"#bd3786\"],[0.5555555555555556,\"#d8576b\"],[0.6666666666666666,\"#ed7953\"],[0.7777777777777778,\"#fb9f3a\"],[0.8888888888888888,\"#fdca26\"],[1.0,\"#f0f921\"]],\"diverging\":[[0,\"#8e0152\"],[0.1,\"#c51b7d\"],[0.2,\"#de77ae\"],[0.3,\"#f1b6da\"],[0.4,\"#fde0ef\"],[0.5,\"#f7f7f7\"],[0.6,\"#e6f5d0\"],[0.7,\"#b8e186\"],[0.8,\"#7fbc41\"],[0.9,\"#4d9221\"],[1,\"#276419\"]]},\"xaxis\":{\"gridcolor\":\"white\",\"linecolor\":\"white\",\"ticks\":\"\",\"title\":{\"standoff\":15},\"zerolinecolor\":\"white\",\"automargin\":true,\"zerolinewidth\":2},\"yaxis\":{\"gridcolor\":\"white\",\"linecolor\":\"white\",\"ticks\":\"\",\"title\":{\"standoff\":15},\"zerolinecolor\":\"white\",\"automargin\":true,\"zerolinewidth\":2},\"scene\":{\"xaxis\":{\"backgroundcolor\":\"#E5ECF6\",\"gridcolor\":\"white\",\"linecolor\":\"white\",\"showbackground\":true,\"ticks\":\"\",\"zerolinecolor\":\"white\",\"gridwidth\":2},\"yaxis\":{\"backgroundcolor\":\"#E5ECF6\",\"gridcolor\":\"white\",\"linecolor\":\"white\",\"showbackground\":true,\"ticks\":\"\",\"zerolinecolor\":\"white\",\"gridwidth\":2},\"zaxis\":{\"backgroundcolor\":\"#E5ECF6\",\"gridcolor\":\"white\",\"linecolor\":\"white\",\"showbackground\":true,\"ticks\":\"\",\"zerolinecolor\":\"white\",\"gridwidth\":2}},\"shapedefaults\":{\"line\":{\"color\":\"#2a3f5f\"}},\"annotationdefaults\":{\"arrowcolor\":\"#2a3f5f\",\"arrowhead\":0,\"arrowwidth\":1},\"geo\":{\"bgcolor\":\"white\",\"landcolor\":\"#E5ECF6\",\"subunitcolor\":\"white\",\"showland\":true,\"showlakes\":true,\"lakecolor\":\"white\"},\"title\":{\"x\":0.05},\"mapbox\":{\"style\":\"light\"}}},\"xaxis\":{\"anchor\":\"y\",\"domain\":[0.0,1.0],\"title\":{\"text\":\"Pclass\"}},\"yaxis\":{\"anchor\":\"x\",\"domain\":[0.0,1.0],\"title\":{\"text\":\"Counts\"}},\"legend\":{\"tracegroupgap\":0},\"margin\":{\"t\":60},\"barmode\":\"relative\",\"title\":{\"text\":\"Count by Class\"}},                        {\"responsive\": true}                    ).then(function(){\n",
       "                            \n",
       "var gd = document.getElementById('bf33f483-3421-4118-8750-3234c812f717');\n",
       "var x = new MutationObserver(function (mutations, observer) {{\n",
       "        var display = window.getComputedStyle(gd).display;\n",
       "        if (!display || display === 'none') {{\n",
       "            console.log([gd, 'removed!']);\n",
       "            Plotly.purge(gd);\n",
       "            observer.disconnect();\n",
       "        }}\n",
       "}});\n",
       "\n",
       "// Listen for the removal of the full notebook cells\n",
       "var notebookContainer = gd.closest('#notebook-container');\n",
       "if (notebookContainer) {{\n",
       "    x.observe(notebookContainer, {childList: true});\n",
       "}}\n",
       "\n",
       "// Listen for the clearing of the current output cell\n",
       "var outputEl = gd.closest('.output');\n",
       "if (outputEl) {{\n",
       "    x.observe(outputEl, {childList: true});\n",
       "}}\n",
       "\n",
       "                        })                };                });            </script>        </div>"
      ]
     },
     "metadata": {},
     "output_type": "display_data"
    }
   ],
   "source": [
    "values_count = dftrain[\"Pclass\"].value_counts()\n",
    "\n",
    "graph = px.bar(values_count, values_count.index,\\\n",
    "               values_count.values, labels={\"x\":\"Class\", \"y\":\"Counts\"})\n",
    "graph.update_layout(title=\"Count by Class\")\n",
    "graph.show();"
   ]
  },
  {
   "cell_type": "code",
   "execution_count": 24,
   "id": "06a3c42f",
   "metadata": {
    "execution": {
     "iopub.execute_input": "2023-11-03T23:39:21.738689Z",
     "iopub.status.busy": "2023-11-03T23:39:21.738295Z",
     "iopub.status.idle": "2023-11-03T23:39:21.811640Z",
     "shell.execute_reply": "2023-11-03T23:39:21.810477Z"
    },
    "papermill": {
     "duration": 0.105691,
     "end_time": "2023-11-03T23:39:21.814274",
     "exception": false,
     "start_time": "2023-11-03T23:39:21.708583",
     "status": "completed"
    },
    "tags": []
   },
   "outputs": [
    {
     "data": {
      "text/html": [
       "<div>                            <div id=\"ba10e532-04ed-4581-8fe5-dd805888039f\" class=\"plotly-graph-div\" style=\"height:525px; width:100%;\"></div>            <script type=\"text/javascript\">                require([\"plotly\"], function(Plotly) {                    window.PLOTLYENV=window.PLOTLYENV || {};                                    if (document.getElementById(\"ba10e532-04ed-4581-8fe5-dd805888039f\")) {                    Plotly.newPlot(                        \"ba10e532-04ed-4581-8fe5-dd805888039f\",                        [{\"alignmentgroup\":\"True\",\"hovertemplate\":\"Embarked=%{x}\\u003cbr\\u003eCounts=%{y}\\u003cextra\\u003e\\u003c\\u002fextra\\u003e\",\"legendgroup\":\"\",\"marker\":{\"color\":\"#636efa\",\"pattern\":{\"shape\":\"\"}},\"name\":\"\",\"offsetgroup\":\"\",\"orientation\":\"v\",\"showlegend\":false,\"textposition\":\"auto\",\"x\":[\"S\",\"C\",\"Q\"],\"xaxis\":\"x\",\"y\":[646,168,77],\"yaxis\":\"y\",\"type\":\"bar\"}],                        {\"template\":{\"data\":{\"histogram2dcontour\":[{\"type\":\"histogram2dcontour\",\"colorbar\":{\"outlinewidth\":0,\"ticks\":\"\"},\"colorscale\":[[0.0,\"#0d0887\"],[0.1111111111111111,\"#46039f\"],[0.2222222222222222,\"#7201a8\"],[0.3333333333333333,\"#9c179e\"],[0.4444444444444444,\"#bd3786\"],[0.5555555555555556,\"#d8576b\"],[0.6666666666666666,\"#ed7953\"],[0.7777777777777778,\"#fb9f3a\"],[0.8888888888888888,\"#fdca26\"],[1.0,\"#f0f921\"]]}],\"choropleth\":[{\"type\":\"choropleth\",\"colorbar\":{\"outlinewidth\":0,\"ticks\":\"\"}}],\"histogram2d\":[{\"type\":\"histogram2d\",\"colorbar\":{\"outlinewidth\":0,\"ticks\":\"\"},\"colorscale\":[[0.0,\"#0d0887\"],[0.1111111111111111,\"#46039f\"],[0.2222222222222222,\"#7201a8\"],[0.3333333333333333,\"#9c179e\"],[0.4444444444444444,\"#bd3786\"],[0.5555555555555556,\"#d8576b\"],[0.6666666666666666,\"#ed7953\"],[0.7777777777777778,\"#fb9f3a\"],[0.8888888888888888,\"#fdca26\"],[1.0,\"#f0f921\"]]}],\"heatmap\":[{\"type\":\"heatmap\",\"colorbar\":{\"outlinewidth\":0,\"ticks\":\"\"},\"colorscale\":[[0.0,\"#0d0887\"],[0.1111111111111111,\"#46039f\"],[0.2222222222222222,\"#7201a8\"],[0.3333333333333333,\"#9c179e\"],[0.4444444444444444,\"#bd3786\"],[0.5555555555555556,\"#d8576b\"],[0.6666666666666666,\"#ed7953\"],[0.7777777777777778,\"#fb9f3a\"],[0.8888888888888888,\"#fdca26\"],[1.0,\"#f0f921\"]]}],\"heatmapgl\":[{\"type\":\"heatmapgl\",\"colorbar\":{\"outlinewidth\":0,\"ticks\":\"\"},\"colorscale\":[[0.0,\"#0d0887\"],[0.1111111111111111,\"#46039f\"],[0.2222222222222222,\"#7201a8\"],[0.3333333333333333,\"#9c179e\"],[0.4444444444444444,\"#bd3786\"],[0.5555555555555556,\"#d8576b\"],[0.6666666666666666,\"#ed7953\"],[0.7777777777777778,\"#fb9f3a\"],[0.8888888888888888,\"#fdca26\"],[1.0,\"#f0f921\"]]}],\"contourcarpet\":[{\"type\":\"contourcarpet\",\"colorbar\":{\"outlinewidth\":0,\"ticks\":\"\"}}],\"contour\":[{\"type\":\"contour\",\"colorbar\":{\"outlinewidth\":0,\"ticks\":\"\"},\"colorscale\":[[0.0,\"#0d0887\"],[0.1111111111111111,\"#46039f\"],[0.2222222222222222,\"#7201a8\"],[0.3333333333333333,\"#9c179e\"],[0.4444444444444444,\"#bd3786\"],[0.5555555555555556,\"#d8576b\"],[0.6666666666666666,\"#ed7953\"],[0.7777777777777778,\"#fb9f3a\"],[0.8888888888888888,\"#fdca26\"],[1.0,\"#f0f921\"]]}],\"surface\":[{\"type\":\"surface\",\"colorbar\":{\"outlinewidth\":0,\"ticks\":\"\"},\"colorscale\":[[0.0,\"#0d0887\"],[0.1111111111111111,\"#46039f\"],[0.2222222222222222,\"#7201a8\"],[0.3333333333333333,\"#9c179e\"],[0.4444444444444444,\"#bd3786\"],[0.5555555555555556,\"#d8576b\"],[0.6666666666666666,\"#ed7953\"],[0.7777777777777778,\"#fb9f3a\"],[0.8888888888888888,\"#fdca26\"],[1.0,\"#f0f921\"]]}],\"mesh3d\":[{\"type\":\"mesh3d\",\"colorbar\":{\"outlinewidth\":0,\"ticks\":\"\"}}],\"scatter\":[{\"fillpattern\":{\"fillmode\":\"overlay\",\"size\":10,\"solidity\":0.2},\"type\":\"scatter\"}],\"parcoords\":[{\"type\":\"parcoords\",\"line\":{\"colorbar\":{\"outlinewidth\":0,\"ticks\":\"\"}}}],\"scatterpolargl\":[{\"type\":\"scatterpolargl\",\"marker\":{\"colorbar\":{\"outlinewidth\":0,\"ticks\":\"\"}}}],\"bar\":[{\"error_x\":{\"color\":\"#2a3f5f\"},\"error_y\":{\"color\":\"#2a3f5f\"},\"marker\":{\"line\":{\"color\":\"#E5ECF6\",\"width\":0.5},\"pattern\":{\"fillmode\":\"overlay\",\"size\":10,\"solidity\":0.2}},\"type\":\"bar\"}],\"scattergeo\":[{\"type\":\"scattergeo\",\"marker\":{\"colorbar\":{\"outlinewidth\":0,\"ticks\":\"\"}}}],\"scatterpolar\":[{\"type\":\"scatterpolar\",\"marker\":{\"colorbar\":{\"outlinewidth\":0,\"ticks\":\"\"}}}],\"histogram\":[{\"marker\":{\"pattern\":{\"fillmode\":\"overlay\",\"size\":10,\"solidity\":0.2}},\"type\":\"histogram\"}],\"scattergl\":[{\"type\":\"scattergl\",\"marker\":{\"colorbar\":{\"outlinewidth\":0,\"ticks\":\"\"}}}],\"scatter3d\":[{\"type\":\"scatter3d\",\"line\":{\"colorbar\":{\"outlinewidth\":0,\"ticks\":\"\"}},\"marker\":{\"colorbar\":{\"outlinewidth\":0,\"ticks\":\"\"}}}],\"scattermapbox\":[{\"type\":\"scattermapbox\",\"marker\":{\"colorbar\":{\"outlinewidth\":0,\"ticks\":\"\"}}}],\"scatterternary\":[{\"type\":\"scatterternary\",\"marker\":{\"colorbar\":{\"outlinewidth\":0,\"ticks\":\"\"}}}],\"scattercarpet\":[{\"type\":\"scattercarpet\",\"marker\":{\"colorbar\":{\"outlinewidth\":0,\"ticks\":\"\"}}}],\"carpet\":[{\"aaxis\":{\"endlinecolor\":\"#2a3f5f\",\"gridcolor\":\"white\",\"linecolor\":\"white\",\"minorgridcolor\":\"white\",\"startlinecolor\":\"#2a3f5f\"},\"baxis\":{\"endlinecolor\":\"#2a3f5f\",\"gridcolor\":\"white\",\"linecolor\":\"white\",\"minorgridcolor\":\"white\",\"startlinecolor\":\"#2a3f5f\"},\"type\":\"carpet\"}],\"table\":[{\"cells\":{\"fill\":{\"color\":\"#EBF0F8\"},\"line\":{\"color\":\"white\"}},\"header\":{\"fill\":{\"color\":\"#C8D4E3\"},\"line\":{\"color\":\"white\"}},\"type\":\"table\"}],\"barpolar\":[{\"marker\":{\"line\":{\"color\":\"#E5ECF6\",\"width\":0.5},\"pattern\":{\"fillmode\":\"overlay\",\"size\":10,\"solidity\":0.2}},\"type\":\"barpolar\"}],\"pie\":[{\"automargin\":true,\"type\":\"pie\"}]},\"layout\":{\"autotypenumbers\":\"strict\",\"colorway\":[\"#636efa\",\"#EF553B\",\"#00cc96\",\"#ab63fa\",\"#FFA15A\",\"#19d3f3\",\"#FF6692\",\"#B6E880\",\"#FF97FF\",\"#FECB52\"],\"font\":{\"color\":\"#2a3f5f\"},\"hovermode\":\"closest\",\"hoverlabel\":{\"align\":\"left\"},\"paper_bgcolor\":\"white\",\"plot_bgcolor\":\"#E5ECF6\",\"polar\":{\"bgcolor\":\"#E5ECF6\",\"angularaxis\":{\"gridcolor\":\"white\",\"linecolor\":\"white\",\"ticks\":\"\"},\"radialaxis\":{\"gridcolor\":\"white\",\"linecolor\":\"white\",\"ticks\":\"\"}},\"ternary\":{\"bgcolor\":\"#E5ECF6\",\"aaxis\":{\"gridcolor\":\"white\",\"linecolor\":\"white\",\"ticks\":\"\"},\"baxis\":{\"gridcolor\":\"white\",\"linecolor\":\"white\",\"ticks\":\"\"},\"caxis\":{\"gridcolor\":\"white\",\"linecolor\":\"white\",\"ticks\":\"\"}},\"coloraxis\":{\"colorbar\":{\"outlinewidth\":0,\"ticks\":\"\"}},\"colorscale\":{\"sequential\":[[0.0,\"#0d0887\"],[0.1111111111111111,\"#46039f\"],[0.2222222222222222,\"#7201a8\"],[0.3333333333333333,\"#9c179e\"],[0.4444444444444444,\"#bd3786\"],[0.5555555555555556,\"#d8576b\"],[0.6666666666666666,\"#ed7953\"],[0.7777777777777778,\"#fb9f3a\"],[0.8888888888888888,\"#fdca26\"],[1.0,\"#f0f921\"]],\"sequentialminus\":[[0.0,\"#0d0887\"],[0.1111111111111111,\"#46039f\"],[0.2222222222222222,\"#7201a8\"],[0.3333333333333333,\"#9c179e\"],[0.4444444444444444,\"#bd3786\"],[0.5555555555555556,\"#d8576b\"],[0.6666666666666666,\"#ed7953\"],[0.7777777777777778,\"#fb9f3a\"],[0.8888888888888888,\"#fdca26\"],[1.0,\"#f0f921\"]],\"diverging\":[[0,\"#8e0152\"],[0.1,\"#c51b7d\"],[0.2,\"#de77ae\"],[0.3,\"#f1b6da\"],[0.4,\"#fde0ef\"],[0.5,\"#f7f7f7\"],[0.6,\"#e6f5d0\"],[0.7,\"#b8e186\"],[0.8,\"#7fbc41\"],[0.9,\"#4d9221\"],[1,\"#276419\"]]},\"xaxis\":{\"gridcolor\":\"white\",\"linecolor\":\"white\",\"ticks\":\"\",\"title\":{\"standoff\":15},\"zerolinecolor\":\"white\",\"automargin\":true,\"zerolinewidth\":2},\"yaxis\":{\"gridcolor\":\"white\",\"linecolor\":\"white\",\"ticks\":\"\",\"title\":{\"standoff\":15},\"zerolinecolor\":\"white\",\"automargin\":true,\"zerolinewidth\":2},\"scene\":{\"xaxis\":{\"backgroundcolor\":\"#E5ECF6\",\"gridcolor\":\"white\",\"linecolor\":\"white\",\"showbackground\":true,\"ticks\":\"\",\"zerolinecolor\":\"white\",\"gridwidth\":2},\"yaxis\":{\"backgroundcolor\":\"#E5ECF6\",\"gridcolor\":\"white\",\"linecolor\":\"white\",\"showbackground\":true,\"ticks\":\"\",\"zerolinecolor\":\"white\",\"gridwidth\":2},\"zaxis\":{\"backgroundcolor\":\"#E5ECF6\",\"gridcolor\":\"white\",\"linecolor\":\"white\",\"showbackground\":true,\"ticks\":\"\",\"zerolinecolor\":\"white\",\"gridwidth\":2}},\"shapedefaults\":{\"line\":{\"color\":\"#2a3f5f\"}},\"annotationdefaults\":{\"arrowcolor\":\"#2a3f5f\",\"arrowhead\":0,\"arrowwidth\":1},\"geo\":{\"bgcolor\":\"white\",\"landcolor\":\"#E5ECF6\",\"subunitcolor\":\"white\",\"showland\":true,\"showlakes\":true,\"lakecolor\":\"white\"},\"title\":{\"x\":0.05},\"mapbox\":{\"style\":\"light\"}}},\"xaxis\":{\"anchor\":\"y\",\"domain\":[0.0,1.0],\"title\":{\"text\":\"Embarked\"}},\"yaxis\":{\"anchor\":\"x\",\"domain\":[0.0,1.0],\"title\":{\"text\":\"Counts\"}},\"legend\":{\"tracegroupgap\":0},\"margin\":{\"t\":60},\"barmode\":\"relative\",\"title\":{\"text\":\"Count by Embarked\"}},                        {\"responsive\": true}                    ).then(function(){\n",
       "                            \n",
       "var gd = document.getElementById('ba10e532-04ed-4581-8fe5-dd805888039f');\n",
       "var x = new MutationObserver(function (mutations, observer) {{\n",
       "        var display = window.getComputedStyle(gd).display;\n",
       "        if (!display || display === 'none') {{\n",
       "            console.log([gd, 'removed!']);\n",
       "            Plotly.purge(gd);\n",
       "            observer.disconnect();\n",
       "        }}\n",
       "}});\n",
       "\n",
       "// Listen for the removal of the full notebook cells\n",
       "var notebookContainer = gd.closest('#notebook-container');\n",
       "if (notebookContainer) {{\n",
       "    x.observe(notebookContainer, {childList: true});\n",
       "}}\n",
       "\n",
       "// Listen for the clearing of the current output cell\n",
       "var outputEl = gd.closest('.output');\n",
       "if (outputEl) {{\n",
       "    x.observe(outputEl, {childList: true});\n",
       "}}\n",
       "\n",
       "                        })                };                });            </script>        </div>"
      ]
     },
     "metadata": {},
     "output_type": "display_data"
    }
   ],
   "source": [
    "values_count = dftrain[\"Embarked\"].value_counts()\n",
    "\n",
    "graph = px.bar(values_count, values_count.index,\\\n",
    "               values_count.values, labels={\"x\":\"Embarked\", \"y\":\"Counts\"})\n",
    "graph.update_layout(title=\"Count by Embarked\")\n",
    "graph.show();"
   ]
  },
  {
   "cell_type": "code",
   "execution_count": 25,
   "id": "5b75b74a",
   "metadata": {
    "execution": {
     "iopub.execute_input": "2023-11-03T23:39:21.872771Z",
     "iopub.status.busy": "2023-11-03T23:39:21.871987Z",
     "iopub.status.idle": "2023-11-03T23:39:23.204317Z",
     "shell.execute_reply": "2023-11-03T23:39:23.202990Z"
    },
    "papermill": {
     "duration": 1.364833,
     "end_time": "2023-11-03T23:39:23.207182",
     "exception": false,
     "start_time": "2023-11-03T23:39:21.842349",
     "status": "completed"
    },
    "tags": []
   },
   "outputs": [
    {
     "name": "stderr",
     "output_type": "stream",
     "text": [
      "/opt/conda/lib/python3.10/site-packages/seaborn/axisgrid.py:118: UserWarning:\n",
      "\n",
      "The figure layout has changed to tight\n",
      "\n"
     ]
    },
    {
     "data": {
      "image/png": "[encoded data removed]",
      "text/plain": [
       "<Figure size 600x600 with 4 Axes>"
      ]
     },
     "metadata": {},
     "output_type": "display_data"
    }
   ],
   "source": [
    "g = sns.FacetGrid(dftrain, col=\"Sex\", row=\"Survived\", margin_titles=True)\n",
    "\n",
    "g.map(plt.hist, \"Age\", color=\"Teal\")\n",
    "\n",
    "g.set_axis_labels(\"Age\", \"Frequency\")\n",
    "g.set_titles(col_template=\"Sex: {col_name}\", row_template=\"Survived: {row_name}\")\n",
    "\n",
    "\n",
    "g.fig.subplots_adjust(wspace=0.2, hspace=0.2)\n",
    "\n",
    "\n",
    "plt.show()"
   ]
  },
  {
   "cell_type": "code",
   "execution_count": 26,
   "id": "cf6d2b6f",
   "metadata": {
    "execution": {
     "iopub.execute_input": "2023-11-03T23:39:23.266678Z",
     "iopub.status.busy": "2023-11-03T23:39:23.266253Z",
     "iopub.status.idle": "2023-11-03T23:39:24.547921Z",
     "shell.execute_reply": "2023-11-03T23:39:24.546836Z"
    },
    "papermill": {
     "duration": 1.314636,
     "end_time": "2023-11-03T23:39:24.550470",
     "exception": false,
     "start_time": "2023-11-03T23:39:23.235834",
     "status": "completed"
    },
    "tags": []
   },
   "outputs": [
    {
     "name": "stderr",
     "output_type": "stream",
     "text": [
      "/opt/conda/lib/python3.10/site-packages/seaborn/axisgrid.py:118: UserWarning:\n",
      "\n",
      "The figure layout has changed to tight\n",
      "\n"
     ]
    },
    {
     "data": {
      "image/png": "[encoded data removed]",
      "text/plain": [
       "<Figure size 972.111x300 with 3 Axes>"
      ]
     },
     "metadata": {},
     "output_type": "display_data"
    }
   ],
   "source": [
    "g = sns.FacetGrid(dftrain, hue=\"Survived\", col=\"Pclass\", margin_titles=True,\n",
    "                  palette={1:\"Orange\", 0:\"Indigo\"}\n",
    ")\n",
    "                  \n",
    "g=g.map(plt.scatter, \"Fare\", \"Age\", edgecolor=\"w\").add_legend();"
   ]
  },
  {
   "cell_type": "code",
   "execution_count": 27,
   "id": "a4e1385f",
   "metadata": {
    "execution": {
     "iopub.execute_input": "2023-11-03T23:39:24.611495Z",
     "iopub.status.busy": "2023-11-03T23:39:24.611094Z",
     "iopub.status.idle": "2023-11-03T23:39:25.401265Z",
     "shell.execute_reply": "2023-11-03T23:39:25.399993Z"
    },
    "papermill": {
     "duration": 0.823606,
     "end_time": "2023-11-03T23:39:25.404134",
     "exception": false,
     "start_time": "2023-11-03T23:39:24.580528",
     "status": "completed"
    },
    "tags": []
   },
   "outputs": [
    {
     "name": "stderr",
     "output_type": "stream",
     "text": [
      "/opt/conda/lib/python3.10/site-packages/seaborn/axisgrid.py:118: UserWarning:\n",
      "\n",
      "The figure layout has changed to tight\n",
      "\n"
     ]
    },
    {
     "data": {
      "image/png": "[encoded data removed]",
      "text/plain": [
       "<Figure size 672.111x300 with 2 Axes>"
      ]
     },
     "metadata": {},
     "output_type": "display_data"
    }
   ],
   "source": [
    "g = sns.FacetGrid(dftrain, hue=\"Survived\", col=\"Sex\", margin_titles=True,\n",
    "                palette=\"deep\", hue_kws=dict(marker=[\"^\", \"v\"])\n",
    ")\n",
    "\n",
    "g.map(plt.scatter, \"Fare\", \"Age\", edgecolor=\"w\").add_legend()\n",
    "\n",
    "plt.subplots_adjust(top=0.8)\n",
    "\n",
    "g.fig.suptitle('Survival by gender, age and rate');"
   ]
  },
  {
   "cell_type": "code",
   "execution_count": 28,
   "id": "5b26eec5",
   "metadata": {
    "execution": {
     "iopub.execute_input": "2023-11-03T23:39:25.466999Z",
     "iopub.status.busy": "2023-11-03T23:39:25.466605Z",
     "iopub.status.idle": "2023-11-03T23:39:25.843714Z",
     "shell.execute_reply": "2023-11-03T23:39:25.842560Z"
    },
    "papermill": {
     "duration": 0.411504,
     "end_time": "2023-11-03T23:39:25.846477",
     "exception": false,
     "start_time": "2023-11-03T23:39:25.434973",
     "status": "completed"
    },
    "tags": []
   },
   "outputs": [
    {
     "data": {
      "image/png": "[encoded data removed]",
      "text/plain": [
       "<Figure size 640x480 with 2 Axes>"
      ]
     },
     "metadata": {},
     "output_type": "display_data"
    }
   ],
   "source": [
    "g = sns.heatmap(dftrain[[\"Survived\",\"SibSp\",\"ParCh\",\"Age\",\"Fare\"]].corr(),annot=True, cmap = \"coolwarm\")"
   ]
  },
  {
   "cell_type": "markdown",
   "id": "adeba598",
   "metadata": {
    "papermill": {
     "duration": 0.031521,
     "end_time": "2023-11-03T23:39:25.908603",
     "exception": false,
     "start_time": "2023-11-03T23:39:25.877082",
     "status": "completed"
    },
    "tags": []
   },
   "source": [
    "### Engenharia de Recursos"
   ]
  },
  {
   "cell_type": "markdown",
   "id": "c9aab477",
   "metadata": {
    "papermill": {
     "duration": 0.031115,
     "end_time": "2023-11-03T23:39:25.970600",
     "exception": false,
     "start_time": "2023-11-03T23:39:25.939485",
     "status": "completed"
    },
    "tags": []
   },
   "source": [
    "#### **Dados de treinamentos:**"
   ]
  },
  {
   "cell_type": "code",
   "execution_count": 29,
   "id": "bce30b37",
   "metadata": {
    "execution": {
     "iopub.execute_input": "2023-11-03T23:39:26.035470Z",
     "iopub.status.busy": "2023-11-03T23:39:26.035048Z",
     "iopub.status.idle": "2023-11-03T23:39:26.050822Z",
     "shell.execute_reply": "2023-11-03T23:39:26.049400Z"
    },
    "papermill": {
     "duration": 0.051171,
     "end_time": "2023-11-03T23:39:26.053419",
     "exception": false,
     "start_time": "2023-11-03T23:39:26.002248",
     "status": "completed"
    },
    "tags": []
   },
   "outputs": [],
   "source": [
    "dftrain['Number_Family'] = dftrain['SibSp'] + dftrain['ParCh']\n",
    "\n",
    "dftrain['IsAlone'] = (dftrain['Number_Family'] == 0).astype(int)\n",
    "\n",
    "dftrain['AgeCategory'] = pd.cut(dftrain['Age'], bins=[0, 12, 18, 30, 60, 100], labels=['Child', 'Adolescent', 'Youth', 'Adult', 'Elderly'])\n",
    "\n",
    "dftrain['FareClassification'] = pd.qcut(dftrain['Fare'], q=4, labels=['Low', 'Medium-Low', 'Medium-High', 'High'])\n",
    "\n",
    "dftrain['AgeXClass'] = dftrain['Age'] * dftrain['Pclass']"
   ]
  },
  {
   "cell_type": "markdown",
   "id": "cfb79ddd",
   "metadata": {
    "papermill": {
     "duration": 0.030266,
     "end_time": "2023-11-03T23:39:26.114693",
     "exception": false,
     "start_time": "2023-11-03T23:39:26.084427",
     "status": "completed"
    },
    "tags": []
   },
   "source": [
    "#### **Dados de Teste:**"
   ]
  },
  {
   "cell_type": "code",
   "execution_count": 30,
   "id": "7959fc61",
   "metadata": {
    "execution": {
     "iopub.execute_input": "2023-11-03T23:39:26.178029Z",
     "iopub.status.busy": "2023-11-03T23:39:26.177358Z",
     "iopub.status.idle": "2023-11-03T23:39:26.191075Z",
     "shell.execute_reply": "2023-11-03T23:39:26.190246Z"
    },
    "papermill": {
     "duration": 0.048266,
     "end_time": "2023-11-03T23:39:26.193547",
     "exception": false,
     "start_time": "2023-11-03T23:39:26.145281",
     "status": "completed"
    },
    "tags": []
   },
   "outputs": [],
   "source": [
    "dftest['Number_Family'] = dftest['SibSp'] + dftest['ParCh']\n",
    "\n",
    "dftest['IsAlone'] = (dftest['Number_Family'] == 0).astype(int)\n",
    "\n",
    "dftest['AgeCategory'] = pd.cut(dftest['Age'], bins=[0, 12, 18, 30, 60, 100], labels=['Child', 'Adolescent', 'Youth', 'Adult', 'Elderly'])\n",
    "\n",
    "dftest['FareClassification'] = pd.qcut(dftest['Fare'], q=4, labels=['Low', 'Medium-Low', 'Medium-High', 'High'])\n",
    "\n",
    "dftest['AgeXClass'] = dftest['Age'] * dftest['Pclass']"
   ]
  },
  {
   "cell_type": "markdown",
   "id": "76d465ce",
   "metadata": {
    "papermill": {
     "duration": 0.03027,
     "end_time": "2023-11-03T23:39:26.254318",
     "exception": false,
     "start_time": "2023-11-03T23:39:26.224048",
     "status": "completed"
    },
    "tags": []
   },
   "source": [
    "### Tratandos Dados Não Númericos"
   ]
  },
  {
   "cell_type": "markdown",
   "id": "8f7e3b44",
   "metadata": {
    "papermill": {
     "duration": 0.030113,
     "end_time": "2023-11-03T23:39:26.314949",
     "exception": false,
     "start_time": "2023-11-03T23:39:26.284836",
     "status": "completed"
    },
    "tags": []
   },
   "source": [
    "#### Convertendo para Dados Númericos:"
   ]
  },
  {
   "cell_type": "code",
   "execution_count": 31,
   "id": "0dc84058",
   "metadata": {
    "execution": {
     "iopub.execute_input": "2023-11-03T23:39:26.378292Z",
     "iopub.status.busy": "2023-11-03T23:39:26.377838Z",
     "iopub.status.idle": "2023-11-03T23:39:26.404825Z",
     "shell.execute_reply": "2023-11-03T23:39:26.403627Z"
    },
    "papermill": {
     "duration": 0.062011,
     "end_time": "2023-11-03T23:39:26.407659",
     "exception": false,
     "start_time": "2023-11-03T23:39:26.345648",
     "status": "completed"
    },
    "tags": []
   },
   "outputs": [],
   "source": [
    "dftrain['Title'] = dftrain['Name'].apply(lambda x: re.search('([A-Za-z]+)\\.', x).group(1))\n",
    "dftest['Title'] = dftest['Name'].apply(lambda x: re.search('([A-Za-z]+)\\.', x).group(1))\n",
    "\n",
    "dftrain['Title'] = dftrain['Title'].replace(['Mlle', 'Mme', 'Lady', 'Countess', 'Capt', 'Col', 'Don', 'Dr', 'Major', 'Rev', 'Sir', 'Jonkheer', 'Dona'], 'Others')\n",
    "dftest['Title'] = dftest['Title'].replace(['Mlle', 'Mme', 'Lady', 'Countess', 'Capt', 'Col', 'Don', 'Dr', 'Major', 'Rev', 'Sir', 'Jonkheer', 'Dona'], 'Others')\n",
    "\n",
    "dftrain['Title'] = dftrain['Title'].replace('Master', 1).replace('Miss', 2).replace('Mr', 3).replace('Mrs', 4).replace('Ms', 5).replace('Others', 6).astype(int)\n",
    "dftest['Title'] = dftest['Title'].replace('Master', 1).replace('Miss', 2).replace('Mr', 3).replace('Mrs', 4).replace('Ms', 5).replace('Others', 6).astype(int)"
   ]
  },
  {
   "cell_type": "code",
   "execution_count": 32,
   "id": "fa7129b0",
   "metadata": {
    "execution": {
     "iopub.execute_input": "2023-11-03T23:39:26.471390Z",
     "iopub.status.busy": "2023-11-03T23:39:26.470158Z",
     "iopub.status.idle": "2023-11-03T23:39:26.479601Z",
     "shell.execute_reply": "2023-11-03T23:39:26.478579Z"
    },
    "papermill": {
     "duration": 0.043846,
     "end_time": "2023-11-03T23:39:26.482090",
     "exception": false,
     "start_time": "2023-11-03T23:39:26.438244",
     "status": "completed"
    },
    "tags": []
   },
   "outputs": [],
   "source": [
    "dftrain['Sex'] = dftrain['Sex'].replace(['male', 'female'], [0, 1]).astype(int)\n",
    "dftest['Sex'] = dftest['Sex'].replace(['male', 'female'], [0, 1]).astype(int)"
   ]
  },
  {
   "cell_type": "code",
   "execution_count": 33,
   "id": "f4f27c3b",
   "metadata": {
    "execution": {
     "iopub.execute_input": "2023-11-03T23:39:26.548105Z",
     "iopub.status.busy": "2023-11-03T23:39:26.547702Z",
     "iopub.status.idle": "2023-11-03T23:39:26.557832Z",
     "shell.execute_reply": "2023-11-03T23:39:26.556937Z"
    },
    "papermill": {
     "duration": 0.046126,
     "end_time": "2023-11-03T23:39:26.560123",
     "exception": false,
     "start_time": "2023-11-03T23:39:26.513997",
     "status": "completed"
    },
    "tags": []
   },
   "outputs": [],
   "source": [
    "dftrain['Embarked'] = dftrain['Embarked'].replace(['S', 'C', 'Q'], [0, 1, 2]).astype(int)\n",
    "dftest['Embarked'] = dftest['Embarked'].replace(['S', 'C', 'Q'], [0, 1, 2]).astype(int)"
   ]
  },
  {
   "cell_type": "markdown",
   "id": "6a7c9b0c",
   "metadata": {
    "papermill": {
     "duration": 0.030463,
     "end_time": "2023-11-03T23:39:26.621334",
     "exception": false,
     "start_time": "2023-11-03T23:39:26.590871",
     "status": "completed"
    },
    "tags": []
   },
   "source": [
    "#### Aplicando o One-Hot nos Dados de Teste e Treinamento:"
   ]
  },
  {
   "cell_type": "code",
   "execution_count": 34,
   "id": "ecc245c4",
   "metadata": {
    "execution": {
     "iopub.execute_input": "2023-11-03T23:39:26.684618Z",
     "iopub.status.busy": "2023-11-03T23:39:26.684213Z",
     "iopub.status.idle": "2023-11-03T23:39:26.697489Z",
     "shell.execute_reply": "2023-11-03T23:39:26.696501Z"
    },
    "papermill": {
     "duration": 0.048239,
     "end_time": "2023-11-03T23:39:26.700012",
     "exception": false,
     "start_time": "2023-11-03T23:39:26.651773",
     "status": "completed"
    },
    "tags": []
   },
   "outputs": [],
   "source": [
    "dftrain = pd.get_dummies(dftrain, columns=['AgeCategory', 'FareClassification'], dtype=int)\n",
    "dftest = pd.get_dummies(dftest, columns=['AgeCategory', 'FareClassification'], dtype=int)"
   ]
  },
  {
   "cell_type": "markdown",
   "id": "85deff41",
   "metadata": {
    "papermill": {
     "duration": 0.031695,
     "end_time": "2023-11-03T23:39:26.763462",
     "exception": false,
     "start_time": "2023-11-03T23:39:26.731767",
     "status": "completed"
    },
    "tags": []
   },
   "source": [
    "#### Deletandos as colunas que não serão relevantes para classificação:"
   ]
  },
  {
   "cell_type": "code",
   "execution_count": 35,
   "id": "6c3dea22",
   "metadata": {
    "execution": {
     "iopub.execute_input": "2023-11-03T23:39:26.827167Z",
     "iopub.status.busy": "2023-11-03T23:39:26.826517Z",
     "iopub.status.idle": "2023-11-03T23:39:26.834607Z",
     "shell.execute_reply": "2023-11-03T23:39:26.833690Z"
    },
    "papermill": {
     "duration": 0.042769,
     "end_time": "2023-11-03T23:39:26.837064",
     "exception": false,
     "start_time": "2023-11-03T23:39:26.794295",
     "status": "completed"
    },
    "tags": []
   },
   "outputs": [],
   "source": [
    "del dftrain['PassengerId']\n",
    "del dftrain['Name']\n",
    "del dftrain['Ticket']\n",
    "del dftrain['Cabin']\n",
    "\n",
    "del dftest['PassengerId']\n",
    "del dftest['Name']\n",
    "del dftest['Ticket']\n",
    "del dftest['Cabin']"
   ]
  },
  {
   "cell_type": "code",
   "execution_count": 36,
   "id": "f42078b4",
   "metadata": {
    "execution": {
     "iopub.execute_input": "2023-11-03T23:39:26.900927Z",
     "iopub.status.busy": "2023-11-03T23:39:26.900305Z",
     "iopub.status.idle": "2023-11-03T23:39:26.906734Z",
     "shell.execute_reply": "2023-11-03T23:39:26.905661Z"
    },
    "papermill": {
     "duration": 0.04069,
     "end_time": "2023-11-03T23:39:26.908971",
     "exception": false,
     "start_time": "2023-11-03T23:39:26.868281",
     "status": "completed"
    },
    "tags": []
   },
   "outputs": [
    {
     "data": {
      "text/plain": [
       "(891, 21)"
      ]
     },
     "execution_count": 36,
     "metadata": {},
     "output_type": "execute_result"
    }
   ],
   "source": [
    "dftrain.shape"
   ]
  },
  {
   "cell_type": "markdown",
   "id": "448cab42",
   "metadata": {
    "papermill": {
     "duration": 0.030524,
     "end_time": "2023-11-03T23:39:26.971630",
     "exception": false,
     "start_time": "2023-11-03T23:39:26.941106",
     "status": "completed"
    },
    "tags": []
   },
   "source": [
    "### **Divisão entre Classe e Previsores**"
   ]
  },
  {
   "cell_type": "markdown",
   "id": "389b4dbc",
   "metadata": {
    "papermill": {
     "duration": 0.030572,
     "end_time": "2023-11-03T23:39:27.034015",
     "exception": false,
     "start_time": "2023-11-03T23:39:27.003443",
     "status": "completed"
    },
    "tags": []
   },
   "source": [
    "#### **Definindo as variáveis previsores:**"
   ]
  },
  {
   "cell_type": "code",
   "execution_count": 37,
   "id": "d1a8bd70",
   "metadata": {
    "execution": {
     "iopub.execute_input": "2023-11-03T23:39:27.097709Z",
     "iopub.status.busy": "2023-11-03T23:39:27.097321Z",
     "iopub.status.idle": "2023-11-03T23:39:27.104594Z",
     "shell.execute_reply": "2023-11-03T23:39:27.103426Z"
    },
    "papermill": {
     "duration": 0.041779,
     "end_time": "2023-11-03T23:39:27.106963",
     "exception": false,
     "start_time": "2023-11-03T23:39:27.065184",
     "status": "completed"
    },
    "tags": []
   },
   "outputs": [],
   "source": [
    "xPredictors = dftrain.drop([\"Survived\"], axis=1)\n",
    "x_train = xPredictors.values"
   ]
  },
  {
   "cell_type": "markdown",
   "id": "20a92e8f",
   "metadata": {
    "papermill": {
     "duration": 0.031058,
     "end_time": "2023-11-03T23:39:27.169267",
     "exception": false,
     "start_time": "2023-11-03T23:39:27.138209",
     "status": "completed"
    },
    "tags": []
   },
   "source": [
    "#### **Definindo a variável de classificação:**"
   ]
  },
  {
   "cell_type": "code",
   "execution_count": 38,
   "id": "02e5c776",
   "metadata": {
    "execution": {
     "iopub.execute_input": "2023-11-03T23:39:27.233968Z",
     "iopub.status.busy": "2023-11-03T23:39:27.233172Z",
     "iopub.status.idle": "2023-11-03T23:39:27.238483Z",
     "shell.execute_reply": "2023-11-03T23:39:27.237436Z"
    },
    "papermill": {
     "duration": 0.040556,
     "end_time": "2023-11-03T23:39:27.241071",
     "exception": false,
     "start_time": "2023-11-03T23:39:27.200515",
     "status": "completed"
    },
    "tags": []
   },
   "outputs": [],
   "source": [
    "y_train = dftrain.iloc[:, 0].values"
   ]
  },
  {
   "cell_type": "markdown",
   "id": "7a464177",
   "metadata": {
    "papermill": {
     "duration": 0.031395,
     "end_time": "2023-11-03T23:39:27.303507",
     "exception": false,
     "start_time": "2023-11-03T23:39:27.272112",
     "status": "completed"
    },
    "tags": []
   },
   "source": [
    "### **Escalonamento de Valores:**"
   ]
  },
  {
   "cell_type": "code",
   "execution_count": 39,
   "id": "5847a927",
   "metadata": {
    "execution": {
     "iopub.execute_input": "2023-11-03T23:39:27.368517Z",
     "iopub.status.busy": "2023-11-03T23:39:27.367805Z",
     "iopub.status.idle": "2023-11-03T23:39:27.379698Z",
     "shell.execute_reply": "2023-11-03T23:39:27.378671Z"
    },
    "papermill": {
     "duration": 0.047446,
     "end_time": "2023-11-03T23:39:27.382356",
     "exception": false,
     "start_time": "2023-11-03T23:39:27.334910",
     "status": "completed"
    },
    "tags": []
   },
   "outputs": [],
   "source": [
    "scaler_train = StandardScaler()\n",
    "scaler_test = StandardScaler()\n",
    "\n",
    "\n",
    "x_train_std = scaler_train.fit_transform(x_train)\n",
    "x_test_std = scaler_test.fit_transform(dftest)"
   ]
  },
  {
   "cell_type": "markdown",
   "id": "fec5e73a",
   "metadata": {
    "papermill": {
     "duration": 0.030886,
     "end_time": "2023-11-03T23:39:27.444267",
     "exception": false,
     "start_time": "2023-11-03T23:39:27.413381",
     "status": "completed"
    },
    "tags": []
   },
   "source": [
    "### **Salvandos o dados:**"
   ]
  },
  {
   "cell_type": "code",
   "execution_count": 40,
   "id": "84202d30",
   "metadata": {
    "execution": {
     "iopub.execute_input": "2023-11-03T23:39:27.507998Z",
     "iopub.status.busy": "2023-11-03T23:39:27.507594Z",
     "iopub.status.idle": "2023-11-03T23:39:27.513583Z",
     "shell.execute_reply": "2023-11-03T23:39:27.512346Z"
    },
    "papermill": {
     "duration": 0.040817,
     "end_time": "2023-11-03T23:39:27.515833",
     "exception": false,
     "start_time": "2023-11-03T23:39:27.475016",
     "status": "completed"
    },
    "tags": []
   },
   "outputs": [],
   "source": [
    "import pickle\n",
    "\n",
    "with open('x_train_std.pkl', mode = 'wb') as file:\n",
    "    pickle.dump([x_train_std, y_train], file)"
   ]
  },
  {
   "cell_type": "markdown",
   "id": "fb0cfc76",
   "metadata": {
    "papermill": {
     "duration": 0.030664,
     "end_time": "2023-11-03T23:39:27.577936",
     "exception": false,
     "start_time": "2023-11-03T23:39:27.547272",
     "status": "completed"
    },
    "tags": []
   },
   "source": [
    "# 2. Aplicando Modelos"
   ]
  },
  {
   "cell_type": "markdown",
   "id": "ef6410f6",
   "metadata": {
    "papermill": {
     "duration": 0.030282,
     "end_time": "2023-11-03T23:39:27.639078",
     "exception": false,
     "start_time": "2023-11-03T23:39:27.608796",
     "status": "completed"
    },
    "tags": []
   },
   "source": [
    "### **Gaussian Naive Bayes**"
   ]
  },
  {
   "cell_type": "code",
   "execution_count": 41,
   "id": "baa1f5d1",
   "metadata": {
    "execution": {
     "iopub.execute_input": "2023-11-03T23:39:27.703359Z",
     "iopub.status.busy": "2023-11-03T23:39:27.702116Z",
     "iopub.status.idle": "2023-11-03T23:39:27.740045Z",
     "shell.execute_reply": "2023-11-03T23:39:27.738843Z"
    },
    "papermill": {
     "duration": 0.073158,
     "end_time": "2023-11-03T23:39:27.742967",
     "exception": false,
     "start_time": "2023-11-03T23:39:27.669809",
     "status": "completed"
    },
    "tags": []
   },
   "outputs": [
    {
     "name": "stdout",
     "output_type": "stream",
     "text": [
      "------------------- Gaussian Naive Bayes -------------------\n",
      "\n",
      "Model Accuracy:  77.33\n",
      "Cross validation mean: 0.7633333333333334\n"
     ]
    }
   ],
   "source": [
    "gaussian_titanic = GaussianNB()\n",
    "\n",
    "gaussian_titanic.fit(x_train_std, y_train)\n",
    "\n",
    "naive_predictions = gaussian_titanic.predict(x_test_std)\n",
    "\n",
    "accuracy_gaussian = round(gaussian_titanic.score(x_train_std, y_train) * 100, 2)\n",
    "score_gaussian = cross_val_score(gaussian_titanic, x_train_std, y_train, cv=10).mean()\n",
    "\n",
    "print('------------------- Gaussian Naive Bayes -------------------')\n",
    "print()\n",
    "print('Model Accuracy: ', accuracy_gaussian)\n",
    "print('Cross validation mean:', score_gaussian)"
   ]
  },
  {
   "cell_type": "markdown",
   "id": "3075b732",
   "metadata": {
    "papermill": {
     "duration": 0.030521,
     "end_time": "2023-11-03T23:39:27.804453",
     "exception": false,
     "start_time": "2023-11-03T23:39:27.773932",
     "status": "completed"
    },
    "tags": []
   },
   "source": [
    "### **Decision Tree**"
   ]
  },
  {
   "cell_type": "code",
   "execution_count": 42,
   "id": "286f2bc6",
   "metadata": {
    "execution": {
     "iopub.execute_input": "2023-11-03T23:39:27.868250Z",
     "iopub.status.busy": "2023-11-03T23:39:27.867519Z",
     "iopub.status.idle": "2023-11-03T23:39:27.948840Z",
     "shell.execute_reply": "2023-11-03T23:39:27.947564Z"
    },
    "papermill": {
     "duration": 0.116071,
     "end_time": "2023-11-03T23:39:27.951454",
     "exception": false,
     "start_time": "2023-11-03T23:39:27.835383",
     "status": "completed"
    },
    "tags": []
   },
   "outputs": [
    {
     "name": "stdout",
     "output_type": "stream",
     "text": [
      "------------------- Decision Tree Classifier -------------------\n",
      "\n",
      "Model Accuracy:  98.43\n",
      "Cross validation mean: 0.7767540574282148\n"
     ]
    }
   ],
   "source": [
    "dicisiontree_titanic = DecisionTreeClassifier(criterion='entropy', random_state=0)\n",
    "dicisiontree_titanic.fit(x_train_std, y_train)\n",
    "\n",
    "predictions_dicisiontree = dicisiontree_titanic.predict(x_test_std)\n",
    "\n",
    "accuracy_decisiontree = round(dicisiontree_titanic.score(x_train_std, y_train) * 100, 2)\n",
    "score_decisiontree = cross_val_score(dicisiontree_titanic, x_train_std, y_train, cv=10).mean()\n",
    "\n",
    "print('------------------- Decision Tree Classifier -------------------')\n",
    "print()\n",
    "print('Model Accuracy: ', accuracy_decisiontree)\n",
    "print('Cross validation mean:', score_decisiontree)"
   ]
  },
  {
   "cell_type": "markdown",
   "id": "133907b9",
   "metadata": {
    "papermill": {
     "duration": 0.032131,
     "end_time": "2023-11-03T23:39:28.015624",
     "exception": false,
     "start_time": "2023-11-03T23:39:27.983493",
     "status": "completed"
    },
    "tags": []
   },
   "source": [
    "### **Random Forest Classifier**"
   ]
  },
  {
   "cell_type": "code",
   "execution_count": 43,
   "id": "30bead68",
   "metadata": {
    "execution": {
     "iopub.execute_input": "2023-11-03T23:39:28.080903Z",
     "iopub.status.busy": "2023-11-03T23:39:28.080511Z",
     "iopub.status.idle": "2023-11-03T23:39:29.788663Z",
     "shell.execute_reply": "2023-11-03T23:39:29.787536Z"
    },
    "papermill": {
     "duration": 1.748095,
     "end_time": "2023-11-03T23:39:29.795740",
     "exception": false,
     "start_time": "2023-11-03T23:39:28.047645",
     "status": "completed"
    },
    "tags": []
   },
   "outputs": [
    {
     "name": "stdout",
     "output_type": "stream",
     "text": [
      "------------------- Random Forest Classifier -------------------\n",
      "\n",
      "Model Accuracy:  98.43\n",
      "Cross validation mean: 0.8081772784019974\n"
     ]
    }
   ],
   "source": [
    "randomforest_titanic  = RandomForestClassifier(n_estimators=50, criterion='entropy', random_state=0)\n",
    "\n",
    "randomforest_titanic.fit(x_train_std, y_train)\n",
    "\n",
    "predictions_randomforest = randomforest_titanic.predict(x_test_std)\n",
    "\n",
    "accuracy_randomforest = round(randomforest_titanic.score(x_train_std, y_train) * 100, 2)\n",
    "score_randomforest = cross_val_score(randomforest_titanic, x_train_std, y_train, cv=10).mean()\n",
    "\n",
    "print('------------------- Random Forest Classifier -------------------')\n",
    "print()\n",
    "print('Model Accuracy: ', accuracy_randomforest)\n",
    "print('Cross validation mean:', score_randomforest)"
   ]
  },
  {
   "cell_type": "markdown",
   "id": "b404462e",
   "metadata": {
    "papermill": {
     "duration": 0.032309,
     "end_time": "2023-11-03T23:39:29.878237",
     "exception": false,
     "start_time": "2023-11-03T23:39:29.845928",
     "status": "completed"
    },
    "tags": []
   },
   "source": [
    "### **k-Nearest Neighbors Classifier**"
   ]
  },
  {
   "cell_type": "code",
   "execution_count": 44,
   "id": "bf009950",
   "metadata": {
    "execution": {
     "iopub.execute_input": "2023-11-03T23:39:29.942787Z",
     "iopub.status.busy": "2023-11-03T23:39:29.942385Z",
     "iopub.status.idle": "2023-11-03T23:39:30.242703Z",
     "shell.execute_reply": "2023-11-03T23:39:30.241645Z"
    },
    "papermill": {
     "duration": 0.335935,
     "end_time": "2023-11-03T23:39:30.245557",
     "exception": false,
     "start_time": "2023-11-03T23:39:29.909622",
     "status": "completed"
    },
    "tags": []
   },
   "outputs": [
    {
     "name": "stdout",
     "output_type": "stream",
     "text": [
      "------------------- k-Nearest Neighbors -------------------\n",
      "\n",
      "Model Accuracy:  97.87\n",
      "Cross validation mean: 0.7564783427495292\n"
     ]
    }
   ],
   "source": [
    "knn_titanic = KNeighborsClassifier(n_neighbors=1)\n",
    "knn_titanic.fit(x_train_std, y_train)\n",
    "\n",
    "prediction_knn = knn_titanic.predict(x_test_std)\n",
    "\n",
    "accuracy_knn = round(knn_titanic.score(x_train_std, y_train) * 100, 2)\n",
    "score_knn = cross_val_score(knn_titanic, x_train_std, y_train, cv=15).mean()\n",
    "\n",
    "print('------------------- k-Nearest Neighbors -------------------')\n",
    "print()\n",
    "print('Model Accuracy: ', accuracy_knn)\n",
    "print('Cross validation mean:', score_knn)"
   ]
  },
  {
   "cell_type": "markdown",
   "id": "530b5d1a",
   "metadata": {
    "papermill": {
     "duration": 0.031299,
     "end_time": "2023-11-03T23:39:30.309407",
     "exception": false,
     "start_time": "2023-11-03T23:39:30.278108",
     "status": "completed"
    },
    "tags": []
   },
   "source": [
    "### **Logistic Regression**"
   ]
  },
  {
   "cell_type": "code",
   "execution_count": 45,
   "id": "10cd3f50",
   "metadata": {
    "execution": {
     "iopub.execute_input": "2023-11-03T23:39:30.374173Z",
     "iopub.status.busy": "2023-11-03T23:39:30.373425Z",
     "iopub.status.idle": "2023-11-03T23:39:30.511567Z",
     "shell.execute_reply": "2023-11-03T23:39:30.509970Z"
    },
    "papermill": {
     "duration": 0.175602,
     "end_time": "2023-11-03T23:39:30.516443",
     "exception": false,
     "start_time": "2023-11-03T23:39:30.340841",
     "status": "completed"
    },
    "tags": []
   },
   "outputs": [
    {
     "name": "stdout",
     "output_type": "stream",
     "text": [
      "------------------- Logistic Regression -------------------\n",
      "\n",
      "Model Accuracy:  81.82\n",
      "Cross validation mean: 0.8025045508756513\n"
     ]
    }
   ],
   "source": [
    "lregression = LogisticRegression(random_state=0,  C=5)\n",
    "lregression.fit(x_train_std, y_train)\n",
    "\n",
    "predictions_lregression =  lregression.predict(x_test_std)\n",
    "\n",
    "accuracy_lregression = round(lregression.score(x_train_std, y_train) * 100, 2)\n",
    "score_lregression = cross_val_score(lregression, x_train_std, y_train, cv=5).mean()\n",
    "\n",
    "print('------------------- Logistic Regression -------------------')\n",
    "\n",
    "print()\n",
    "print('Model Accuracy: ', accuracy_lregression)\n",
    "print('Cross validation mean:', score_lregression)"
   ]
  },
  {
   "cell_type": "markdown",
   "id": "78f5bfc8",
   "metadata": {
    "papermill": {
     "duration": 0.059556,
     "end_time": "2023-11-03T23:39:30.645766",
     "exception": false,
     "start_time": "2023-11-03T23:39:30.586210",
     "status": "completed"
    },
    "tags": []
   },
   "source": [
    "### **Support Vector Classification**"
   ]
  },
  {
   "cell_type": "code",
   "execution_count": 46,
   "id": "1c6574f7",
   "metadata": {
    "execution": {
     "iopub.execute_input": "2023-11-03T23:39:30.712014Z",
     "iopub.status.busy": "2023-11-03T23:39:30.711619Z",
     "iopub.status.idle": "2023-11-03T23:39:31.128668Z",
     "shell.execute_reply": "2023-11-03T23:39:31.126982Z"
    },
    "papermill": {
     "duration": 0.453271,
     "end_time": "2023-11-03T23:39:31.131270",
     "exception": false,
     "start_time": "2023-11-03T23:39:30.677999",
     "status": "completed"
    },
    "tags": []
   },
   "outputs": [
    {
     "name": "stdout",
     "output_type": "stream",
     "text": [
      "------------------- Support Vector Classification -------------------\n",
      "\n",
      "Model Accuracy:  81.59\n",
      "Cross validation mean: 0.813684012303057\n"
     ]
    }
   ],
   "source": [
    "SVC_titanic = SVC(kernel='linear', random_state=1, C=1.0)\n",
    "SVC_titanic.fit(x_train_std, y_train)\n",
    "\n",
    "predictions_SVC = SVC_titanic.predict(x_test_std)\n",
    "\n",
    "accuracy_SVC = round(SVC_titanic.score(x_train_std, y_train) * 100, 2)\n",
    "score_SVC = cross_val_score(SVC_titanic, x_train_std, y_train, cv=5).mean()\n",
    "\n",
    "print('------------------- Support Vector Classification -------------------')\n",
    "\n",
    "print()\n",
    "print('Model Accuracy: ', accuracy_SVC)\n",
    "print('Cross validation mean:', score_SVC)"
   ]
  },
  {
   "cell_type": "markdown",
   "id": "dfec4137",
   "metadata": {
    "papermill": {
     "duration": 0.032391,
     "end_time": "2023-11-03T23:39:31.196620",
     "exception": false,
     "start_time": "2023-11-03T23:39:31.164229",
     "status": "completed"
    },
    "tags": []
   },
   "source": [
    "### **Multi Layer Perceptron Classifier - Artificial Neural Networks**"
   ]
  },
  {
   "cell_type": "code",
   "execution_count": 47,
   "id": "3c0ca7eb",
   "metadata": {
    "execution": {
     "iopub.execute_input": "2023-11-03T23:39:31.262504Z",
     "iopub.status.busy": "2023-11-03T23:39:31.261741Z",
     "iopub.status.idle": "2023-11-03T23:39:37.323052Z",
     "shell.execute_reply": "2023-11-03T23:39:37.321867Z"
    },
    "papermill": {
     "duration": 6.098724,
     "end_time": "2023-11-03T23:39:37.327236",
     "exception": false,
     "start_time": "2023-11-03T23:39:31.228512",
     "status": "completed"
    },
    "tags": []
   },
   "outputs": [
    {
     "name": "stdout",
     "output_type": "stream",
     "text": [
      "------------------- Multi Layer Perceptron Classifier -------------------\n",
      "\n",
      "Model Accuracy:  79.35\n",
      "Cross validation mean: 0.8103013182674201\n"
     ]
    }
   ],
   "source": [
    "MLPC_titanic = MLPClassifier(max_iter=5000, verbose=0, tol=0.0000100,\n",
    "                                   solver = 'adam', activation = 'identity',\n",
    "                                   hidden_layer_sizes = (60,60))\n",
    "\n",
    "MLPC_titanic.fit(x_train, y_train);\n",
    "\n",
    "accuracy_MLPC = round(MLPC_titanic.score(x_train_std, y_train) * 100, 2)\n",
    "score_MLPC = cross_val_score(MLPC_titanic, x_train_std, y_train, cv=15).mean()\n",
    "\n",
    "print('------------------- Multi Layer Perceptron Classifier -------------------')\n",
    "print()\n",
    "print('Model Accuracy: ', accuracy_MLPC)\n",
    "print('Cross validation mean:', score_MLPC)"
   ]
  },
  {
   "cell_type": "code",
   "execution_count": 48,
   "id": "003c2763",
   "metadata": {
    "execution": {
     "iopub.execute_input": "2023-11-03T23:39:37.450353Z",
     "iopub.status.busy": "2023-11-03T23:39:37.449924Z",
     "iopub.status.idle": "2023-11-03T23:39:41.047172Z",
     "shell.execute_reply": "2023-11-03T23:39:41.046148Z"
    },
    "papermill": {
     "duration": 3.654219,
     "end_time": "2023-11-03T23:39:41.049586",
     "exception": false,
     "start_time": "2023-11-03T23:39:37.395367",
     "status": "completed"
    },
    "tags": []
   },
   "outputs": [
    {
     "data": {
      "image/png": "[encoded data removed]",
      "text/plain": [
       "<Figure size 1000x600 with 2 Axes>"
      ]
     },
     "metadata": {},
     "output_type": "display_data"
    }
   ],
   "source": [
    "fig, ax = plt.subplots(nrows=1, ncols=2, figsize=(10, 6), sharey=True)\n",
    "\n",
    "common_params = {\n",
    "    \"X\": x_train_std,\n",
    "    \"y\": y_train,\n",
    "    \"train_sizes\": np.linspace(0.1, 1.0, 5),\n",
    "    \"cv\": ShuffleSplit(n_splits=50, test_size=0.2, random_state=0),\n",
    "    \"score_type\": \"both\",\n",
    "    \"n_jobs\": 4,\n",
    "    \"line_kw\": {\"marker\": \"o\"},\n",
    "    \"std_display_style\": \"fill_between\",\n",
    "    \"score_name\": \"Accuracy\",\n",
    "}\n",
    "\n",
    "for ax_idx, estimator in enumerate([gaussian_titanic, dicisiontree_titanic]):\n",
    "    LearningCurveDisplay.from_estimator(estimator, **common_params, ax=ax[ax_idx])\n",
    "    handles, label = ax[ax_idx].get_legend_handles_labels()\n",
    "    ax[ax_idx].legend(handles[:2], [\"Training Score\", \"Test Score\"])\n",
    "    ax[ax_idx].set_title(f\"Learning Curve for {estimator.__class__.__name__}\")"
   ]
  },
  {
   "cell_type": "code",
   "execution_count": 49,
   "id": "8a159e71",
   "metadata": {
    "execution": {
     "iopub.execute_input": "2023-11-03T23:39:41.159603Z",
     "iopub.status.busy": "2023-11-03T23:39:41.158734Z",
     "iopub.status.idle": "2023-11-03T23:39:55.755846Z",
     "shell.execute_reply": "2023-11-03T23:39:55.754646Z"
    },
    "papermill": {
     "duration": 14.659184,
     "end_time": "2023-11-03T23:39:55.758850",
     "exception": false,
     "start_time": "2023-11-03T23:39:41.099666",
     "status": "completed"
    },
    "tags": []
   },
   "outputs": [
    {
     "data": {
      "image/png": "[encoded data removed]",
      "text/plain": [
       "<Figure size 1500x600 with 2 Axes>"
      ]
     },
     "metadata": {},
     "output_type": "display_data"
    }
   ],
   "source": [
    "fig, ax = plt.subplots(nrows=1, ncols=2, figsize=(15, 6), sharey=True)\n",
    "\n",
    "common_params = {\n",
    "    \"X\": x_train_std,\n",
    "    \"y\": y_train,\n",
    "    \"train_sizes\": np.linspace(0.1, 1.0, 5),\n",
    "    \"cv\": ShuffleSplit(n_splits=50, test_size=0.2, random_state=0),\n",
    "    \"score_type\": \"both\",\n",
    "    \"n_jobs\": 4,\n",
    "    \"line_kw\": {\"marker\": \"o\"},\n",
    "    \"std_display_style\": \"fill_between\",\n",
    "    \"score_name\": \"Accuracy\",\n",
    "}\n",
    "\n",
    "estimators = [dicisiontree_titanic, randomforest_titanic]\n",
    "\n",
    "for ax_idx, estimator in enumerate(estimators):\n",
    "    LearningCurveDisplay.from_estimator(estimator, **common_params, ax=ax[ax_idx])\n",
    "    handles, label = ax[ax_idx].get_legend_handles_labels()\n",
    "    ax[ax_idx].legend(handles[:2], [\"Training Score\", \"Test Score\"])\n",
    "    ax[ax_idx].set_title(f\"Learning Curve for {estimator.__class__.__name__}\")\n"
   ]
  },
  {
   "cell_type": "code",
   "execution_count": 50,
   "id": "ce9e2213",
   "metadata": {
    "execution": {
     "iopub.execute_input": "2023-11-03T23:39:55.829859Z",
     "iopub.status.busy": "2023-11-03T23:39:55.829146Z",
     "iopub.status.idle": "2023-11-03T23:40:01.238028Z",
     "shell.execute_reply": "2023-11-03T23:40:01.236766Z"
    },
    "papermill": {
     "duration": 5.447375,
     "end_time": "2023-11-03T23:40:01.240840",
     "exception": false,
     "start_time": "2023-11-03T23:39:55.793465",
     "status": "completed"
    },
    "tags": []
   },
   "outputs": [
    {
     "data": {
      "image/png": "[encoded data removed]",
      "text/plain": [
       "<Figure size 1000x600 with 2 Axes>"
      ]
     },
     "metadata": {},
     "output_type": "display_data"
    }
   ],
   "source": [
    "fig, ax = plt.subplots(nrows=1, ncols=2, figsize=(10, 6), sharey=True)\n",
    "\n",
    "common_params = {\n",
    "    \"X\": x_train_std,\n",
    "    \"y\": y_train,\n",
    "    \"train_sizes\": np.linspace(0.1, 1.0, 5),\n",
    "    \"cv\": ShuffleSplit(n_splits=50, test_size=0.2, random_state=0),\n",
    "    \"score_type\": \"both\",\n",
    "    \"n_jobs\": 4,\n",
    "    \"line_kw\": {\"marker\": \"o\"},\n",
    "    \"std_display_style\": \"fill_between\",\n",
    "    \"score_name\": \"Accuracy\",\n",
    "}\n",
    "\n",
    "for ax_idx, estimator in enumerate([lregression, SVC_titanic]):\n",
    "    LearningCurveDisplay.from_estimator(estimator, **common_params, ax=ax[ax_idx])\n",
    "    handles, label = ax[ax_idx].get_legend_handles_labels()\n",
    "    ax[ax_idx].legend(handles[:2], [\"Training Score\", \"Test Score\"])\n",
    "    ax[ax_idx].set_title(f\"Learning Curve for {estimator.__class__.__name__}\")"
   ]
  },
  {
   "cell_type": "markdown",
   "id": "db8b2da1",
   "metadata": {
    "papermill": {
     "duration": 0.034494,
     "end_time": "2023-11-03T23:40:01.310346",
     "exception": false,
     "start_time": "2023-11-03T23:40:01.275852",
     "status": "completed"
    },
    "tags": []
   },
   "source": [
    "# Resultado dos modelos\n",
    "\n",
    "**Gaussian Naive Bayes:** Accuracy 77.33\n",
    "\n",
    "**Decision Tree:** Accuracy 98.43\n",
    "\n",
    "**Random Forest Classifier:** Accuracy 98.43\n",
    "\n",
    "**k-Nearest Neighbors Classifier:** Accuracy 97.87\n",
    "\n",
    "**Logistic Regression:** Accuracy 81.82\n",
    "\n",
    "**Support Vector Classification:** Accuracy 81.59\n",
    "\n",
    "**Multi Layer Perceptron Classifier:** Accuracy 79.12"
   ]
  }
 ],
 "metadata": {
  "kernelspec": {
   "display_name": "Python 3",
   "language": "python",
   "name": "python3"
  },
  "language_info": {
   "codemirror_mode": {
    "name": "ipython",
    "version": 3
   },
   "file_extension": ".py",
   "mimetype": "text/x-python",
   "name": "python",
   "nbconvert_exporter": "python",
   "pygments_lexer": "ipython3",
   "version": "3.10.12"
  },
  "papermill": {
   "default_parameters": {},
   "duration": 53.966521,
   "end_time": "2023-11-03T23:40:03.967944",
   "environment_variables": {},
   "exception": null,
   "input_path": "__notebook__.ipynb",
   "output_path": "__notebook__.ipynb",
   "parameters": {},
   "start_time": "2023-11-03T23:39:10.001423",
   "version": "2.4.0"
  }
 },
 "nbformat": 4,
 "nbformat_minor": 5
}
