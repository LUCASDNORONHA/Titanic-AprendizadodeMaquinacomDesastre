{
 "cells": [
  {
   "cell_type": "markdown",
   "id": "5fef614d",
   "metadata": {
    "papermill": {
     "duration": 0.015429,
     "end_time": "2023-11-04T18:20:37.330660",
     "exception": false,
     "start_time": "2023-11-04T18:20:37.315231",
     "status": "completed"
    },
    "tags": []
   },
   "source": [
    "![Titanic](https://urbanian.mundodeportivo.com/p/943f/11817_este_video_de_3_horas_muestra_en_tiempo_real_el_hundimiento_del_titanic__thumb_fb.jpg?cb=8859627)\n",
    "\n",
    "# Titanic - Aprendizado de Máquina com Desastre\n",
    "\n",
    "O famosa desafio do Titanic do Kaggle, nós propoêm criação de um model de algoritmo de machine learning para prever com alta taxa de acerto, quais passageiros sobreviverão ao naufrágio do Titanic.\n",
    "\n",
    "### História do Titanic:\n",
    "\n",
    "O RMS Titanic foi um dos navios mais famosos e luxuosos já construídos na época. Ele foi projetado como um navio de passageiros de classe mundial e foi construído no início do século 20. O Titanic foi operado pela White Star Line e era aclamado como \"inafundável\" devido ao seu design inovador e tecnologia de segurança.\n",
    "\n",
    "Em sua viagem inaugural, o Titanic partiu de Southampton, Inglaterra, em 10 de abril de 1912, com destino a Nova York. No entanto, em 14 de abril de 1912, o navio colidiu com um iceberg no Atlântico Norte, a cerca de 600 km ao sul da Terra Nova. A colisão danificou seriamente o casco do navio, resultando em seu naufrágio.\n",
    "\n",
    "O naufrágio do Titanic é um dos desastres mais conhecidos da história. Devido à falta de botes salva-vidas suficientes e à má preparação para uma evacuação de emergência, mais de 1.500 pessoas perderam a vida. O navio afundou na madrugada de 15 de abril de 1912, e apenas cerca de 700 sobreviventes foram resgatados por navios que vieram em seu socorro.\n",
    "\n",
    "### Sobre os dados:\n",
    "\n",
    "Nesta competição, teremos acesso a dois conjuntos de dados semelhantes que incluem informações sobre os passageiros, como nome, idade, sexo, classe socioeconômica etc. Um conjunto de dados é intitulado train.csv e o outro é intitulado test.csv.\n",
    "\n",
    "O train.csv conterá os detalhes de um subconjunto dos passageiros a bordo (891, para ser exato) e, o que é mais importante, revelará se eles sobreviveram ou não, também conhecido como \"verdade básica\".\n",
    "\n",
    "O conjunto de dados test.csv contém informações semelhantes, mas não revela a \"verdade básica\" de cada passageiro. Sua tarefa é prever esses resultados.\n",
    "\n",
    "### Objetivo: \n",
    "\n",
    "Usando os padrões encontrados nos dados train.csv, devemos prever se os outros 418 passageiros a bordo (encontrados em test.csv) sobreviveram.\n",
    "\n",
    "\n",
    "Fonte desafio: [Titanic - Machine Learning from Disaster](https://www.kaggle.com/code/startupsci/titanic-data-science-solutions)"
   ]
  },
  {
   "cell_type": "code",
   "execution_count": 1,
   "id": "4af76e9e",
   "metadata": {
    "execution": {
     "iopub.execute_input": "2023-11-04T18:20:37.362713Z",
     "iopub.status.busy": "2023-11-04T18:20:37.362387Z",
     "iopub.status.idle": "2023-11-04T18:20:40.562575Z",
     "shell.execute_reply": "2023-11-04T18:20:40.561217Z"
    },
    "papermill": {
     "duration": 3.219023,
     "end_time": "2023-11-04T18:20:40.565053",
     "exception": false,
     "start_time": "2023-11-04T18:20:37.346030",
     "status": "completed"
    },
    "tags": []
   },
   "outputs": [],
   "source": [
    "# Para engenharia de recursos com expressões regulares.\n",
    "import re\n",
    "\n",
    "# Para leitura, manipulação e análise dos dados.\n",
    "import numpy as np\n",
    "import pandas as pd\n",
    "\n",
    "# Para visualização e análise dos dados.\n",
    "import seaborn as sns\n",
    "import matplotlib.pyplot as plt\n",
    "import plotly.express as px\n",
    "import plotly.offline as pyo\n",
    "\n",
    "# Para padronização dos dados.\n",
    "from sklearn.preprocessing import StandardScaler\n",
    "\n",
    "# Para o treinando dos modelos\n",
    "from sklearn.naive_bayes import GaussianNB\n",
    "from sklearn.tree import DecisionTreeClassifier\n",
    "from sklearn.ensemble import RandomForestClassifier\n",
    "from sklearn.neighbors import KNeighborsClassifier\n",
    "from sklearn.linear_model import LogisticRegression\n",
    "from sklearn.svm import SVC\n",
    "from sklearn.neural_network import MLPClassifier\n",
    "\n",
    "# Para análise dos modelo\n",
    "from sklearn.model_selection import learning_curve, LearningCurveDisplay, ShuffleSplit, cross_val_score"
   ]
  },
  {
   "cell_type": "markdown",
   "id": "4dacf34f",
   "metadata": {
    "papermill": {
     "duration": 0.015312,
     "end_time": "2023-11-04T18:20:40.595562",
     "exception": false,
     "start_time": "2023-11-04T18:20:40.580250",
     "status": "completed"
    },
    "tags": []
   },
   "source": [
    "# Coleta dos Dados"
   ]
  },
  {
   "cell_type": "markdown",
   "id": "138b5627",
   "metadata": {
    "papermill": {
     "duration": 0.014659,
     "end_time": "2023-11-04T18:20:40.625271",
     "exception": false,
     "start_time": "2023-11-04T18:20:40.610612",
     "status": "completed"
    },
    "tags": []
   },
   "source": [
    "#### **Sobre os dados:**\n",
    "\n",
    "**PassengerId**: Um identificador único para cada passageiro.\n",
    "\n",
    "**Survived**: Indica se o passageiro sobreviveu (1) ou não (0) ao naufrágio. Esta é geralmente a variável alvo que deseja-se prever.\n",
    "\n",
    "**Pclass (Classe):** A classe da passagem do passageiro (1ª, 2ª ou 3ª classe).\n",
    "\n",
    "**Name**: O nome do passageiro.\n",
    "\n",
    "**Sex**: O sexo do passageiro.\n",
    "\n",
    "**Age**: A idade do passageiro.\n",
    "\n",
    "**SibSp**: Número de irmãos/cônjuges a bordo.\n",
    "\n",
    "**Parch**: Número de pais/filhos a bordo.\n",
    "\n",
    "**Ticket**: O número do bilhete.\n",
    "\n",
    "**Fare**: A tarifa paga pelo passageiro.\n",
    "\n",
    "**Cabin**: O número da cabine do passageiro.\n",
    "\n",
    "**Embarked**: O porto de embarque do passageiro (C = Cherbourg, Q = Queenstown, S = Southampton)."
   ]
  },
  {
   "cell_type": "code",
   "execution_count": 2,
   "id": "ef048fc8",
   "metadata": {
    "execution": {
     "iopub.execute_input": "2023-11-04T18:20:40.658016Z",
     "iopub.status.busy": "2023-11-04T18:20:40.657455Z",
     "iopub.status.idle": "2023-11-04T18:20:40.693283Z",
     "shell.execute_reply": "2023-11-04T18:20:40.691813Z"
    },
    "papermill": {
     "duration": 0.055265,
     "end_time": "2023-11-04T18:20:40.695846",
     "exception": false,
     "start_time": "2023-11-04T18:20:40.640581",
     "status": "completed"
    },
    "tags": []
   },
   "outputs": [],
   "source": [
    "# Carregandos os dados.\n",
    "dftest = pd.read_csv('/kaggle/input/titanic/test.csv')\n",
    "dftrain = pd.read_csv('/kaggle/input/titanic/train.csv')\n",
    "dfgendersubmission = pd.read_csv('/kaggle/input/titanic/gender_submission.csv')"
   ]
  },
  {
   "cell_type": "markdown",
   "id": "8c6a6046",
   "metadata": {
    "papermill": {
     "duration": 0.01497,
     "end_time": "2023-11-04T18:20:40.726219",
     "exception": false,
     "start_time": "2023-11-04T18:20:40.711249",
     "status": "completed"
    },
    "tags": []
   },
   "source": [
    "# **Limpeza e Preparação do Dados**"
   ]
  },
  {
   "cell_type": "markdown",
   "id": "f410adb5",
   "metadata": {
    "papermill": {
     "duration": 0.014618,
     "end_time": "2023-11-04T18:20:40.755952",
     "exception": false,
     "start_time": "2023-11-04T18:20:40.741334",
     "status": "completed"
    },
    "tags": []
   },
   "source": [
    "## Primeiras Imprensões"
   ]
  },
  {
   "cell_type": "code",
   "execution_count": 3,
   "id": "7db682dc",
   "metadata": {
    "execution": {
     "iopub.execute_input": "2023-11-04T18:20:40.788050Z",
     "iopub.status.busy": "2023-11-04T18:20:40.787634Z",
     "iopub.status.idle": "2023-11-04T18:20:40.826462Z",
     "shell.execute_reply": "2023-11-04T18:20:40.825285Z"
    },
    "papermill": {
     "duration": 0.057346,
     "end_time": "2023-11-04T18:20:40.828375",
     "exception": false,
     "start_time": "2023-11-04T18:20:40.771029",
     "status": "completed"
    },
    "tags": []
   },
   "outputs": [
    {
     "data": {
      "text/html": [
       "<div>\n",
       "<style scoped>\n",
       "    .dataframe tbody tr th:only-of-type {\n",
       "        vertical-align: middle;\n",
       "    }\n",
       "\n",
       "    .dataframe tbody tr th {\n",
       "        vertical-align: top;\n",
       "    }\n",
       "\n",
       "    .dataframe thead th {\n",
       "        text-align: right;\n",
       "    }\n",
       "</style>\n",
       "<table border=\"1\" class=\"dataframe\">\n",
       "  <thead>\n",
       "    <tr style=\"text-align: right;\">\n",
       "      <th></th>\n",
       "      <th>PassengerId</th>\n",
       "      <th>Survived</th>\n",
       "      <th>Pclass</th>\n",
       "      <th>Name</th>\n",
       "      <th>Sex</th>\n",
       "      <th>Age</th>\n",
       "      <th>SibSp</th>\n",
       "      <th>Parch</th>\n",
       "      <th>Ticket</th>\n",
       "      <th>Fare</th>\n",
       "      <th>Cabin</th>\n",
       "      <th>Embarked</th>\n",
       "    </tr>\n",
       "  </thead>\n",
       "  <tbody>\n",
       "    <tr>\n",
       "      <th>0</th>\n",
       "      <td>1</td>\n",
       "      <td>0</td>\n",
       "      <td>3</td>\n",
       "      <td>Braund, Mr. Owen Harris</td>\n",
       "      <td>male</td>\n",
       "      <td>22.0</td>\n",
       "      <td>1</td>\n",
       "      <td>0</td>\n",
       "      <td>A/5 21171</td>\n",
       "      <td>7.2500</td>\n",
       "      <td>NaN</td>\n",
       "      <td>S</td>\n",
       "    </tr>\n",
       "    <tr>\n",
       "      <th>1</th>\n",
       "      <td>2</td>\n",
       "      <td>1</td>\n",
       "      <td>1</td>\n",
       "      <td>Cumings, Mrs. John Bradley (Florence Briggs Th...</td>\n",
       "      <td>female</td>\n",
       "      <td>38.0</td>\n",
       "      <td>1</td>\n",
       "      <td>0</td>\n",
       "      <td>PC 17599</td>\n",
       "      <td>71.2833</td>\n",
       "      <td>C85</td>\n",
       "      <td>C</td>\n",
       "    </tr>\n",
       "    <tr>\n",
       "      <th>2</th>\n",
       "      <td>3</td>\n",
       "      <td>1</td>\n",
       "      <td>3</td>\n",
       "      <td>Heikkinen, Miss. Laina</td>\n",
       "      <td>female</td>\n",
       "      <td>26.0</td>\n",
       "      <td>0</td>\n",
       "      <td>0</td>\n",
       "      <td>STON/O2. 3101282</td>\n",
       "      <td>7.9250</td>\n",
       "      <td>NaN</td>\n",
       "      <td>S</td>\n",
       "    </tr>\n",
       "    <tr>\n",
       "      <th>3</th>\n",
       "      <td>4</td>\n",
       "      <td>1</td>\n",
       "      <td>1</td>\n",
       "      <td>Futrelle, Mrs. Jacques Heath (Lily May Peel)</td>\n",
       "      <td>female</td>\n",
       "      <td>35.0</td>\n",
       "      <td>1</td>\n",
       "      <td>0</td>\n",
       "      <td>113803</td>\n",
       "      <td>53.1000</td>\n",
       "      <td>C123</td>\n",
       "      <td>S</td>\n",
       "    </tr>\n",
       "    <tr>\n",
       "      <th>4</th>\n",
       "      <td>5</td>\n",
       "      <td>0</td>\n",
       "      <td>3</td>\n",
       "      <td>Allen, Mr. William Henry</td>\n",
       "      <td>male</td>\n",
       "      <td>35.0</td>\n",
       "      <td>0</td>\n",
       "      <td>0</td>\n",
       "      <td>373450</td>\n",
       "      <td>8.0500</td>\n",
       "      <td>NaN</td>\n",
       "      <td>S</td>\n",
       "    </tr>\n",
       "    <tr>\n",
       "      <th>...</th>\n",
       "      <td>...</td>\n",
       "      <td>...</td>\n",
       "      <td>...</td>\n",
       "      <td>...</td>\n",
       "      <td>...</td>\n",
       "      <td>...</td>\n",
       "      <td>...</td>\n",
       "      <td>...</td>\n",
       "      <td>...</td>\n",
       "      <td>...</td>\n",
       "      <td>...</td>\n",
       "      <td>...</td>\n",
       "    </tr>\n",
       "    <tr>\n",
       "      <th>886</th>\n",
       "      <td>887</td>\n",
       "      <td>0</td>\n",
       "      <td>2</td>\n",
       "      <td>Montvila, Rev. Juozas</td>\n",
       "      <td>male</td>\n",
       "      <td>27.0</td>\n",
       "      <td>0</td>\n",
       "      <td>0</td>\n",
       "      <td>211536</td>\n",
       "      <td>13.0000</td>\n",
       "      <td>NaN</td>\n",
       "      <td>S</td>\n",
       "    </tr>\n",
       "    <tr>\n",
       "      <th>887</th>\n",
       "      <td>888</td>\n",
       "      <td>1</td>\n",
       "      <td>1</td>\n",
       "      <td>Graham, Miss. Margaret Edith</td>\n",
       "      <td>female</td>\n",
       "      <td>19.0</td>\n",
       "      <td>0</td>\n",
       "      <td>0</td>\n",
       "      <td>112053</td>\n",
       "      <td>30.0000</td>\n",
       "      <td>B42</td>\n",
       "      <td>S</td>\n",
       "    </tr>\n",
       "    <tr>\n",
       "      <th>888</th>\n",
       "      <td>889</td>\n",
       "      <td>0</td>\n",
       "      <td>3</td>\n",
       "      <td>Johnston, Miss. Catherine Helen \"Carrie\"</td>\n",
       "      <td>female</td>\n",
       "      <td>NaN</td>\n",
       "      <td>1</td>\n",
       "      <td>2</td>\n",
       "      <td>W./C. 6607</td>\n",
       "      <td>23.4500</td>\n",
       "      <td>NaN</td>\n",
       "      <td>S</td>\n",
       "    </tr>\n",
       "    <tr>\n",
       "      <th>889</th>\n",
       "      <td>890</td>\n",
       "      <td>1</td>\n",
       "      <td>1</td>\n",
       "      <td>Behr, Mr. Karl Howell</td>\n",
       "      <td>male</td>\n",
       "      <td>26.0</td>\n",
       "      <td>0</td>\n",
       "      <td>0</td>\n",
       "      <td>111369</td>\n",
       "      <td>30.0000</td>\n",
       "      <td>C148</td>\n",
       "      <td>C</td>\n",
       "    </tr>\n",
       "    <tr>\n",
       "      <th>890</th>\n",
       "      <td>891</td>\n",
       "      <td>0</td>\n",
       "      <td>3</td>\n",
       "      <td>Dooley, Mr. Patrick</td>\n",
       "      <td>male</td>\n",
       "      <td>32.0</td>\n",
       "      <td>0</td>\n",
       "      <td>0</td>\n",
       "      <td>370376</td>\n",
       "      <td>7.7500</td>\n",
       "      <td>NaN</td>\n",
       "      <td>Q</td>\n",
       "    </tr>\n",
       "  </tbody>\n",
       "</table>\n",
       "<p>891 rows × 12 columns</p>\n",
       "</div>"
      ],
      "text/plain": [
       "     PassengerId  Survived  Pclass  \\\n",
       "0              1         0       3   \n",
       "1              2         1       1   \n",
       "2              3         1       3   \n",
       "3              4         1       1   \n",
       "4              5         0       3   \n",
       "..           ...       ...     ...   \n",
       "886          887         0       2   \n",
       "887          888         1       1   \n",
       "888          889         0       3   \n",
       "889          890         1       1   \n",
       "890          891         0       3   \n",
       "\n",
       "                                                  Name     Sex   Age  SibSp  \\\n",
       "0                              Braund, Mr. Owen Harris    male  22.0      1   \n",
       "1    Cumings, Mrs. John Bradley (Florence Briggs Th...  female  38.0      1   \n",
       "2                               Heikkinen, Miss. Laina  female  26.0      0   \n",
       "3         Futrelle, Mrs. Jacques Heath (Lily May Peel)  female  35.0      1   \n",
       "4                             Allen, Mr. William Henry    male  35.0      0   \n",
       "..                                                 ...     ...   ...    ...   \n",
       "886                              Montvila, Rev. Juozas    male  27.0      0   \n",
       "887                       Graham, Miss. Margaret Edith  female  19.0      0   \n",
       "888           Johnston, Miss. Catherine Helen \"Carrie\"  female   NaN      1   \n",
       "889                              Behr, Mr. Karl Howell    male  26.0      0   \n",
       "890                                Dooley, Mr. Patrick    male  32.0      0   \n",
       "\n",
       "     Parch            Ticket     Fare Cabin Embarked  \n",
       "0        0         A/5 21171   7.2500   NaN        S  \n",
       "1        0          PC 17599  71.2833   C85        C  \n",
       "2        0  STON/O2. 3101282   7.9250   NaN        S  \n",
       "3        0            113803  53.1000  C123        S  \n",
       "4        0            373450   8.0500   NaN        S  \n",
       "..     ...               ...      ...   ...      ...  \n",
       "886      0            211536  13.0000   NaN        S  \n",
       "887      0            112053  30.0000   B42        S  \n",
       "888      2        W./C. 6607  23.4500   NaN        S  \n",
       "889      0            111369  30.0000  C148        C  \n",
       "890      0            370376   7.7500   NaN        Q  \n",
       "\n",
       "[891 rows x 12 columns]"
      ]
     },
     "execution_count": 3,
     "metadata": {},
     "output_type": "execute_result"
    }
   ],
   "source": [
    "dftrain"
   ]
  },
  {
   "cell_type": "code",
   "execution_count": 4,
   "id": "f4ef8d5b",
   "metadata": {
    "execution": {
     "iopub.execute_input": "2023-11-04T18:20:40.918046Z",
     "iopub.status.busy": "2023-11-04T18:20:40.917467Z",
     "iopub.status.idle": "2023-11-04T18:20:40.935128Z",
     "shell.execute_reply": "2023-11-04T18:20:40.934061Z"
    },
    "papermill": {
     "duration": 0.036699,
     "end_time": "2023-11-04T18:20:40.937713",
     "exception": false,
     "start_time": "2023-11-04T18:20:40.901014",
     "status": "completed"
    },
    "tags": []
   },
   "outputs": [
    {
     "data": {
      "text/html": [
       "<div>\n",
       "<style scoped>\n",
       "    .dataframe tbody tr th:only-of-type {\n",
       "        vertical-align: middle;\n",
       "    }\n",
       "\n",
       "    .dataframe tbody tr th {\n",
       "        vertical-align: top;\n",
       "    }\n",
       "\n",
       "    .dataframe thead th {\n",
       "        text-align: right;\n",
       "    }\n",
       "</style>\n",
       "<table border=\"1\" class=\"dataframe\">\n",
       "  <thead>\n",
       "    <tr style=\"text-align: right;\">\n",
       "      <th></th>\n",
       "      <th>PassengerId</th>\n",
       "      <th>Pclass</th>\n",
       "      <th>Name</th>\n",
       "      <th>Sex</th>\n",
       "      <th>Age</th>\n",
       "      <th>SibSp</th>\n",
       "      <th>Parch</th>\n",
       "      <th>Ticket</th>\n",
       "      <th>Fare</th>\n",
       "      <th>Cabin</th>\n",
       "      <th>Embarked</th>\n",
       "    </tr>\n",
       "  </thead>\n",
       "  <tbody>\n",
       "    <tr>\n",
       "      <th>0</th>\n",
       "      <td>892</td>\n",
       "      <td>3</td>\n",
       "      <td>Kelly, Mr. James</td>\n",
       "      <td>male</td>\n",
       "      <td>34.5</td>\n",
       "      <td>0</td>\n",
       "      <td>0</td>\n",
       "      <td>330911</td>\n",
       "      <td>7.8292</td>\n",
       "      <td>NaN</td>\n",
       "      <td>Q</td>\n",
       "    </tr>\n",
       "    <tr>\n",
       "      <th>1</th>\n",
       "      <td>893</td>\n",
       "      <td>3</td>\n",
       "      <td>Wilkes, Mrs. James (Ellen Needs)</td>\n",
       "      <td>female</td>\n",
       "      <td>47.0</td>\n",
       "      <td>1</td>\n",
       "      <td>0</td>\n",
       "      <td>363272</td>\n",
       "      <td>7.0000</td>\n",
       "      <td>NaN</td>\n",
       "      <td>S</td>\n",
       "    </tr>\n",
       "    <tr>\n",
       "      <th>2</th>\n",
       "      <td>894</td>\n",
       "      <td>2</td>\n",
       "      <td>Myles, Mr. Thomas Francis</td>\n",
       "      <td>male</td>\n",
       "      <td>62.0</td>\n",
       "      <td>0</td>\n",
       "      <td>0</td>\n",
       "      <td>240276</td>\n",
       "      <td>9.6875</td>\n",
       "      <td>NaN</td>\n",
       "      <td>Q</td>\n",
       "    </tr>\n",
       "    <tr>\n",
       "      <th>3</th>\n",
       "      <td>895</td>\n",
       "      <td>3</td>\n",
       "      <td>Wirz, Mr. Albert</td>\n",
       "      <td>male</td>\n",
       "      <td>27.0</td>\n",
       "      <td>0</td>\n",
       "      <td>0</td>\n",
       "      <td>315154</td>\n",
       "      <td>8.6625</td>\n",
       "      <td>NaN</td>\n",
       "      <td>S</td>\n",
       "    </tr>\n",
       "    <tr>\n",
       "      <th>4</th>\n",
       "      <td>896</td>\n",
       "      <td>3</td>\n",
       "      <td>Hirvonen, Mrs. Alexander (Helga E Lindqvist)</td>\n",
       "      <td>female</td>\n",
       "      <td>22.0</td>\n",
       "      <td>1</td>\n",
       "      <td>1</td>\n",
       "      <td>3101298</td>\n",
       "      <td>12.2875</td>\n",
       "      <td>NaN</td>\n",
       "      <td>S</td>\n",
       "    </tr>\n",
       "    <tr>\n",
       "      <th>...</th>\n",
       "      <td>...</td>\n",
       "      <td>...</td>\n",
       "      <td>...</td>\n",
       "      <td>...</td>\n",
       "      <td>...</td>\n",
       "      <td>...</td>\n",
       "      <td>...</td>\n",
       "      <td>...</td>\n",
       "      <td>...</td>\n",
       "      <td>...</td>\n",
       "      <td>...</td>\n",
       "    </tr>\n",
       "    <tr>\n",
       "      <th>413</th>\n",
       "      <td>1305</td>\n",
       "      <td>3</td>\n",
       "      <td>Spector, Mr. Woolf</td>\n",
       "      <td>male</td>\n",
       "      <td>NaN</td>\n",
       "      <td>0</td>\n",
       "      <td>0</td>\n",
       "      <td>A.5. 3236</td>\n",
       "      <td>8.0500</td>\n",
       "      <td>NaN</td>\n",
       "      <td>S</td>\n",
       "    </tr>\n",
       "    <tr>\n",
       "      <th>414</th>\n",
       "      <td>1306</td>\n",
       "      <td>1</td>\n",
       "      <td>Oliva y Ocana, Dona. Fermina</td>\n",
       "      <td>female</td>\n",
       "      <td>39.0</td>\n",
       "      <td>0</td>\n",
       "      <td>0</td>\n",
       "      <td>PC 17758</td>\n",
       "      <td>108.9000</td>\n",
       "      <td>C105</td>\n",
       "      <td>C</td>\n",
       "    </tr>\n",
       "    <tr>\n",
       "      <th>415</th>\n",
       "      <td>1307</td>\n",
       "      <td>3</td>\n",
       "      <td>Saether, Mr. Simon Sivertsen</td>\n",
       "      <td>male</td>\n",
       "      <td>38.5</td>\n",
       "      <td>0</td>\n",
       "      <td>0</td>\n",
       "      <td>SOTON/O.Q. 3101262</td>\n",
       "      <td>7.2500</td>\n",
       "      <td>NaN</td>\n",
       "      <td>S</td>\n",
       "    </tr>\n",
       "    <tr>\n",
       "      <th>416</th>\n",
       "      <td>1308</td>\n",
       "      <td>3</td>\n",
       "      <td>Ware, Mr. Frederick</td>\n",
       "      <td>male</td>\n",
       "      <td>NaN</td>\n",
       "      <td>0</td>\n",
       "      <td>0</td>\n",
       "      <td>359309</td>\n",
       "      <td>8.0500</td>\n",
       "      <td>NaN</td>\n",
       "      <td>S</td>\n",
       "    </tr>\n",
       "    <tr>\n",
       "      <th>417</th>\n",
       "      <td>1309</td>\n",
       "      <td>3</td>\n",
       "      <td>Peter, Master. Michael J</td>\n",
       "      <td>male</td>\n",
       "      <td>NaN</td>\n",
       "      <td>1</td>\n",
       "      <td>1</td>\n",
       "      <td>2668</td>\n",
       "      <td>22.3583</td>\n",
       "      <td>NaN</td>\n",
       "      <td>C</td>\n",
       "    </tr>\n",
       "  </tbody>\n",
       "</table>\n",
       "<p>418 rows × 11 columns</p>\n",
       "</div>"
      ],
      "text/plain": [
       "     PassengerId  Pclass                                          Name  \\\n",
       "0            892       3                              Kelly, Mr. James   \n",
       "1            893       3              Wilkes, Mrs. James (Ellen Needs)   \n",
       "2            894       2                     Myles, Mr. Thomas Francis   \n",
       "3            895       3                              Wirz, Mr. Albert   \n",
       "4            896       3  Hirvonen, Mrs. Alexander (Helga E Lindqvist)   \n",
       "..           ...     ...                                           ...   \n",
       "413         1305       3                            Spector, Mr. Woolf   \n",
       "414         1306       1                  Oliva y Ocana, Dona. Fermina   \n",
       "415         1307       3                  Saether, Mr. Simon Sivertsen   \n",
       "416         1308       3                           Ware, Mr. Frederick   \n",
       "417         1309       3                      Peter, Master. Michael J   \n",
       "\n",
       "        Sex   Age  SibSp  Parch              Ticket      Fare Cabin Embarked  \n",
       "0      male  34.5      0      0              330911    7.8292   NaN        Q  \n",
       "1    female  47.0      1      0              363272    7.0000   NaN        S  \n",
       "2      male  62.0      0      0              240276    9.6875   NaN        Q  \n",
       "3      male  27.0      0      0              315154    8.6625   NaN        S  \n",
       "4    female  22.0      1      1             3101298   12.2875   NaN        S  \n",
       "..      ...   ...    ...    ...                 ...       ...   ...      ...  \n",
       "413    male   NaN      0      0           A.5. 3236    8.0500   NaN        S  \n",
       "414  female  39.0      0      0            PC 17758  108.9000  C105        C  \n",
       "415    male  38.5      0      0  SOTON/O.Q. 3101262    7.2500   NaN        S  \n",
       "416    male   NaN      0      0              359309    8.0500   NaN        S  \n",
       "417    male   NaN      1      1                2668   22.3583   NaN        C  \n",
       "\n",
       "[418 rows x 11 columns]"
      ]
     },
     "execution_count": 4,
     "metadata": {},
     "output_type": "execute_result"
    }
   ],
   "source": [
    "dftest"
   ]
  },
  {
   "cell_type": "code",
   "execution_count": 5,
   "id": "a2a57607",
   "metadata": {
    "execution": {
     "iopub.execute_input": "2023-11-04T18:20:40.971150Z",
     "iopub.status.busy": "2023-11-04T18:20:40.970785Z",
     "iopub.status.idle": "2023-11-04T18:20:40.980018Z",
     "shell.execute_reply": "2023-11-04T18:20:40.978950Z"
    },
    "papermill": {
     "duration": 0.02912,
     "end_time": "2023-11-04T18:20:40.982755",
     "exception": false,
     "start_time": "2023-11-04T18:20:40.953635",
     "status": "completed"
    },
    "tags": []
   },
   "outputs": [
    {
     "data": {
      "text/html": [
       "<div>\n",
       "<style scoped>\n",
       "    .dataframe tbody tr th:only-of-type {\n",
       "        vertical-align: middle;\n",
       "    }\n",
       "\n",
       "    .dataframe tbody tr th {\n",
       "        vertical-align: top;\n",
       "    }\n",
       "\n",
       "    .dataframe thead th {\n",
       "        text-align: right;\n",
       "    }\n",
       "</style>\n",
       "<table border=\"1\" class=\"dataframe\">\n",
       "  <thead>\n",
       "    <tr style=\"text-align: right;\">\n",
       "      <th></th>\n",
       "      <th>PassengerId</th>\n",
       "      <th>Survived</th>\n",
       "    </tr>\n",
       "  </thead>\n",
       "  <tbody>\n",
       "    <tr>\n",
       "      <th>0</th>\n",
       "      <td>892</td>\n",
       "      <td>0</td>\n",
       "    </tr>\n",
       "    <tr>\n",
       "      <th>1</th>\n",
       "      <td>893</td>\n",
       "      <td>1</td>\n",
       "    </tr>\n",
       "    <tr>\n",
       "      <th>2</th>\n",
       "      <td>894</td>\n",
       "      <td>0</td>\n",
       "    </tr>\n",
       "    <tr>\n",
       "      <th>3</th>\n",
       "      <td>895</td>\n",
       "      <td>0</td>\n",
       "    </tr>\n",
       "    <tr>\n",
       "      <th>4</th>\n",
       "      <td>896</td>\n",
       "      <td>1</td>\n",
       "    </tr>\n",
       "    <tr>\n",
       "      <th>...</th>\n",
       "      <td>...</td>\n",
       "      <td>...</td>\n",
       "    </tr>\n",
       "    <tr>\n",
       "      <th>413</th>\n",
       "      <td>1305</td>\n",
       "      <td>0</td>\n",
       "    </tr>\n",
       "    <tr>\n",
       "      <th>414</th>\n",
       "      <td>1306</td>\n",
       "      <td>1</td>\n",
       "    </tr>\n",
       "    <tr>\n",
       "      <th>415</th>\n",
       "      <td>1307</td>\n",
       "      <td>0</td>\n",
       "    </tr>\n",
       "    <tr>\n",
       "      <th>416</th>\n",
       "      <td>1308</td>\n",
       "      <td>0</td>\n",
       "    </tr>\n",
       "    <tr>\n",
       "      <th>417</th>\n",
       "      <td>1309</td>\n",
       "      <td>0</td>\n",
       "    </tr>\n",
       "  </tbody>\n",
       "</table>\n",
       "<p>418 rows × 2 columns</p>\n",
       "</div>"
      ],
      "text/plain": [
       "     PassengerId  Survived\n",
       "0            892         0\n",
       "1            893         1\n",
       "2            894         0\n",
       "3            895         0\n",
       "4            896         1\n",
       "..           ...       ...\n",
       "413         1305         0\n",
       "414         1306         1\n",
       "415         1307         0\n",
       "416         1308         0\n",
       "417         1309         0\n",
       "\n",
       "[418 rows x 2 columns]"
      ]
     },
     "execution_count": 5,
     "metadata": {},
     "output_type": "execute_result"
    }
   ],
   "source": [
    "dfgendersubmission"
   ]
  },
  {
   "cell_type": "code",
   "execution_count": 6,
   "id": "cd5ee32d",
   "metadata": {
    "execution": {
     "iopub.execute_input": "2023-11-04T18:20:41.018427Z",
     "iopub.status.busy": "2023-11-04T18:20:41.018026Z",
     "iopub.status.idle": "2023-11-04T18:20:41.026464Z",
     "shell.execute_reply": "2023-11-04T18:20:41.024616Z"
    },
    "papermill": {
     "duration": 0.029841,
     "end_time": "2023-11-04T18:20:41.029171",
     "exception": false,
     "start_time": "2023-11-04T18:20:40.999330",
     "status": "completed"
    },
    "tags": []
   },
   "outputs": [
    {
     "name": "stdout",
     "output_type": "stream",
     "text": [
      "Número total de linhas nos dados de treinamento  891\n",
      "Número total de colunas nos dados de treinamento  12\n",
      "Número total de linhas nos dados de teste  418\n",
      "Número total de colunas nos dados de teste  11\n"
     ]
    }
   ],
   "source": [
    "print(\"Número total de linhas nos dados de treinamento \", dftrain.shape[0])\n",
    "print(\"Número total de colunas nos dados de treinamento \", dftrain.shape[1])\n",
    "print(\"Número total de linhas nos dados de teste \", dftest.shape[0])\n",
    "print(\"Número total de colunas nos dados de teste \", dftest.shape[1])"
   ]
  },
  {
   "cell_type": "code",
   "execution_count": 7,
   "id": "9e5b4677",
   "metadata": {
    "execution": {
     "iopub.execute_input": "2023-11-04T18:20:41.065156Z",
     "iopub.status.busy": "2023-11-04T18:20:41.064521Z",
     "iopub.status.idle": "2023-11-04T18:20:41.182752Z",
     "shell.execute_reply": "2023-11-04T18:20:41.181171Z"
    },
    "papermill": {
     "duration": 0.139109,
     "end_time": "2023-11-04T18:20:41.185348",
     "exception": false,
     "start_time": "2023-11-04T18:20:41.046239",
     "status": "completed"
    },
    "tags": []
   },
   "outputs": [
    {
     "name": "stdout",
     "output_type": "stream",
     "text": [
      "<class 'pandas.core.frame.DataFrame'>\n",
      "RangeIndex: 891 entries, 0 to 890\n",
      "Data columns (total 12 columns):\n",
      " #   Column       Non-Null Count  Dtype  \n",
      "---  ------       --------------  -----  \n",
      " 0   PassengerId  891 non-null    int64  \n",
      " 1   Survived     891 non-null    int64  \n",
      " 2   Pclass       891 non-null    int64  \n",
      " 3   Name         891 non-null    object \n",
      " 4   Sex          891 non-null    object \n",
      " 5   Age          714 non-null    float64\n",
      " 6   SibSp        891 non-null    int64  \n",
      " 7   Parch        891 non-null    int64  \n",
      " 8   Ticket       891 non-null    object \n",
      " 9   Fare         891 non-null    float64\n",
      " 10  Cabin        204 non-null    object \n",
      " 11  Embarked     889 non-null    object \n",
      "dtypes: float64(2), int64(5), object(5)\n",
      "memory usage: 83.7+ KB\n"
     ]
    }
   ],
   "source": [
    "dftrain.info()"
   ]
  },
  {
   "cell_type": "code",
   "execution_count": 8,
   "id": "faae4679",
   "metadata": {
    "execution": {
     "iopub.execute_input": "2023-11-04T18:20:41.221638Z",
     "iopub.status.busy": "2023-11-04T18:20:41.220633Z",
     "iopub.status.idle": "2023-11-04T18:20:41.233467Z",
     "shell.execute_reply": "2023-11-04T18:20:41.231682Z"
    },
    "papermill": {
     "duration": 0.033769,
     "end_time": "2023-11-04T18:20:41.236122",
     "exception": false,
     "start_time": "2023-11-04T18:20:41.202353",
     "status": "completed"
    },
    "tags": []
   },
   "outputs": [
    {
     "name": "stdout",
     "output_type": "stream",
     "text": [
      "<class 'pandas.core.frame.DataFrame'>\n",
      "RangeIndex: 418 entries, 0 to 417\n",
      "Data columns (total 11 columns):\n",
      " #   Column       Non-Null Count  Dtype  \n",
      "---  ------       --------------  -----  \n",
      " 0   PassengerId  418 non-null    int64  \n",
      " 1   Pclass       418 non-null    int64  \n",
      " 2   Name         418 non-null    object \n",
      " 3   Sex          418 non-null    object \n",
      " 4   Age          332 non-null    float64\n",
      " 5   SibSp        418 non-null    int64  \n",
      " 6   Parch        418 non-null    int64  \n",
      " 7   Ticket       418 non-null    object \n",
      " 8   Fare         417 non-null    float64\n",
      " 9   Cabin        91 non-null     object \n",
      " 10  Embarked     418 non-null    object \n",
      "dtypes: float64(2), int64(4), object(5)\n",
      "memory usage: 36.0+ KB\n"
     ]
    }
   ],
   "source": [
    "dftest.info()"
   ]
  },
  {
   "cell_type": "markdown",
   "id": "e2810716",
   "metadata": {
    "papermill": {
     "duration": 0.016917,
     "end_time": "2023-11-04T18:20:41.269530",
     "exception": false,
     "start_time": "2023-11-04T18:20:41.252613",
     "status": "completed"
    },
    "tags": []
   },
   "source": [
    "# **Trantandos valores nulos:**"
   ]
  },
  {
   "cell_type": "markdown",
   "id": "1e6ae96b",
   "metadata": {
    "papermill": {
     "duration": 0.015991,
     "end_time": "2023-11-04T18:20:41.303355",
     "exception": false,
     "start_time": "2023-11-04T18:20:41.287364",
     "status": "completed"
    },
    "tags": []
   },
   "source": [
    "#### Dados de teste:"
   ]
  },
  {
   "cell_type": "code",
   "execution_count": 9,
   "id": "8bae8ea5",
   "metadata": {
    "execution": {
     "iopub.execute_input": "2023-11-04T18:20:41.337681Z",
     "iopub.status.busy": "2023-11-04T18:20:41.337341Z",
     "iopub.status.idle": "2023-11-04T18:20:41.346528Z",
     "shell.execute_reply": "2023-11-04T18:20:41.345008Z"
    },
    "papermill": {
     "duration": 0.029494,
     "end_time": "2023-11-04T18:20:41.349116",
     "exception": false,
     "start_time": "2023-11-04T18:20:41.319622",
     "status": "completed"
    },
    "tags": []
   },
   "outputs": [
    {
     "data": {
      "text/plain": [
       "PassengerId      0\n",
       "Pclass           0\n",
       "Name             0\n",
       "Sex              0\n",
       "Age             86\n",
       "SibSp            0\n",
       "Parch            0\n",
       "Ticket           0\n",
       "Fare             1\n",
       "Cabin          327\n",
       "Embarked         0\n",
       "dtype: int64"
      ]
     },
     "execution_count": 9,
     "metadata": {},
     "output_type": "execute_result"
    }
   ],
   "source": [
    "dftest.isnull().sum()"
   ]
  },
  {
   "cell_type": "code",
   "execution_count": 10,
   "id": "5a2b016d",
   "metadata": {
    "execution": {
     "iopub.execute_input": "2023-11-04T18:20:41.385681Z",
     "iopub.status.busy": "2023-11-04T18:20:41.385308Z",
     "iopub.status.idle": "2023-11-04T18:20:41.395204Z",
     "shell.execute_reply": "2023-11-04T18:20:41.394125Z"
    },
    "papermill": {
     "duration": 0.029991,
     "end_time": "2023-11-04T18:20:41.397133",
     "exception": false,
     "start_time": "2023-11-04T18:20:41.367142",
     "status": "completed"
    },
    "tags": []
   },
   "outputs": [],
   "source": [
    "dftest['Cabin'].fillna('Missing', inplace=True)\n",
    "\n",
    "dftest['Fare'].fillna(dftest['Fare'].mean(), inplace = True)\n",
    "\n",
    "dftest['Age'].fillna(dftest['Age'].mean(), inplace=True)\n",
    "\n",
    "dftest.rename(columns={'Parch': 'ParCh'}, inplace=True)"
   ]
  },
  {
   "cell_type": "code",
   "execution_count": 11,
   "id": "06d910df",
   "metadata": {
    "execution": {
     "iopub.execute_input": "2023-11-04T18:20:41.431962Z",
     "iopub.status.busy": "2023-11-04T18:20:41.431618Z",
     "iopub.status.idle": "2023-11-04T18:20:41.438280Z",
     "shell.execute_reply": "2023-11-04T18:20:41.437589Z"
    },
    "papermill": {
     "duration": 0.026196,
     "end_time": "2023-11-04T18:20:41.439939",
     "exception": false,
     "start_time": "2023-11-04T18:20:41.413743",
     "status": "completed"
    },
    "tags": []
   },
   "outputs": [
    {
     "data": {
      "text/plain": [
       "PassengerId    0\n",
       "Pclass         0\n",
       "Name           0\n",
       "Sex            0\n",
       "Age            0\n",
       "SibSp          0\n",
       "ParCh          0\n",
       "Ticket         0\n",
       "Fare           0\n",
       "Cabin          0\n",
       "Embarked       0\n",
       "dtype: int64"
      ]
     },
     "execution_count": 11,
     "metadata": {},
     "output_type": "execute_result"
    }
   ],
   "source": [
    "dftest.isnull().sum()"
   ]
  },
  {
   "cell_type": "markdown",
   "id": "b442afe5",
   "metadata": {
    "papermill": {
     "duration": 0.016752,
     "end_time": "2023-11-04T18:20:41.473777",
     "exception": false,
     "start_time": "2023-11-04T18:20:41.457025",
     "status": "completed"
    },
    "tags": []
   },
   "source": [
    "#### Dados de treinamento:"
   ]
  },
  {
   "cell_type": "code",
   "execution_count": 12,
   "id": "74d4f564",
   "metadata": {
    "execution": {
     "iopub.execute_input": "2023-11-04T18:20:41.509531Z",
     "iopub.status.busy": "2023-11-04T18:20:41.509189Z",
     "iopub.status.idle": "2023-11-04T18:20:41.520054Z",
     "shell.execute_reply": "2023-11-04T18:20:41.519114Z"
    },
    "papermill": {
     "duration": 0.031921,
     "end_time": "2023-11-04T18:20:41.522471",
     "exception": false,
     "start_time": "2023-11-04T18:20:41.490550",
     "status": "completed"
    },
    "tags": []
   },
   "outputs": [
    {
     "data": {
      "text/plain": [
       "PassengerId      0\n",
       "Survived         0\n",
       "Pclass           0\n",
       "Name             0\n",
       "Sex              0\n",
       "Age            177\n",
       "SibSp            0\n",
       "Parch            0\n",
       "Ticket           0\n",
       "Fare             0\n",
       "Cabin          687\n",
       "Embarked         2\n",
       "dtype: int64"
      ]
     },
     "execution_count": 12,
     "metadata": {},
     "output_type": "execute_result"
    }
   ],
   "source": [
    "dftrain.isnull().sum()"
   ]
  },
  {
   "cell_type": "code",
   "execution_count": 13,
   "id": "e5eb6e29",
   "metadata": {
    "execution": {
     "iopub.execute_input": "2023-11-04T18:20:41.557723Z",
     "iopub.status.busy": "2023-11-04T18:20:41.557361Z",
     "iopub.status.idle": "2023-11-04T18:20:41.569854Z",
     "shell.execute_reply": "2023-11-04T18:20:41.568523Z"
    },
    "papermill": {
     "duration": 0.033186,
     "end_time": "2023-11-04T18:20:41.572548",
     "exception": false,
     "start_time": "2023-11-04T18:20:41.539362",
     "status": "completed"
    },
    "tags": []
   },
   "outputs": [
    {
     "data": {
      "text/plain": [
       "PassengerId    0\n",
       "Survived       0\n",
       "Pclass         0\n",
       "Name           0\n",
       "Sex            0\n",
       "Age            0\n",
       "SibSp          0\n",
       "ParCh          0\n",
       "Ticket         0\n",
       "Fare           0\n",
       "Cabin          0\n",
       "Embarked       0\n",
       "dtype: int64"
      ]
     },
     "execution_count": 13,
     "metadata": {},
     "output_type": "execute_result"
    }
   ],
   "source": [
    "dftrain['Age'].fillna(dftrain['Age'].mean(), inplace=True)\n",
    "\n",
    "dftrain['Cabin'].fillna('missing', inplace=True)\n",
    "\n",
    "dftrain['Embarked'].fillna('S', inplace=True)\n",
    "\n",
    "dftrain.rename(columns={'Parch': 'ParCh'}, inplace=True)\n",
    "\n",
    "dftrain.isnull().sum()"
   ]
  },
  {
   "cell_type": "markdown",
   "id": "56943813",
   "metadata": {
    "papermill": {
     "duration": 0.016706,
     "end_time": "2023-11-04T18:20:41.606783",
     "exception": false,
     "start_time": "2023-11-04T18:20:41.590077",
     "status": "completed"
    },
    "tags": []
   },
   "source": [
    "# Análise Descritiva e Visualização\n",
    "\n",
    "A análise descritiva e a visualização de dados são passos vitais na exploração e compreensão de conjuntos de dados. A análise descritiva oferece estatísticas como média e mediana, ajudando a entender como os dados estão distribuídos. A visualização de dados, por meio de gráficos e gráficos, ajuda a encontrar tendências, relações e padrões nos dados e a comunicar resultados de maneira eficaz. Essas etapas iniciais são fundamentais para formular hipóteses, planejar a modelagem e tomar decisões informadas em projetos de ciência de dados e aprendizado de máquina."
   ]
  },
  {
   "cell_type": "code",
   "execution_count": 14,
   "id": "bf0e9036",
   "metadata": {
    "execution": {
     "iopub.execute_input": "2023-11-04T18:20:41.642216Z",
     "iopub.status.busy": "2023-11-04T18:20:41.641816Z",
     "iopub.status.idle": "2023-11-04T18:20:41.670587Z",
     "shell.execute_reply": "2023-11-04T18:20:41.669682Z"
    },
    "papermill": {
     "duration": 0.049621,
     "end_time": "2023-11-04T18:20:41.673029",
     "exception": false,
     "start_time": "2023-11-04T18:20:41.623408",
     "status": "completed"
    },
    "tags": []
   },
   "outputs": [
    {
     "data": {
      "text/html": [
       "<div>\n",
       "<style scoped>\n",
       "    .dataframe tbody tr th:only-of-type {\n",
       "        vertical-align: middle;\n",
       "    }\n",
       "\n",
       "    .dataframe tbody tr th {\n",
       "        vertical-align: top;\n",
       "    }\n",
       "\n",
       "    .dataframe thead th {\n",
       "        text-align: right;\n",
       "    }\n",
       "</style>\n",
       "<table border=\"1\" class=\"dataframe\">\n",
       "  <thead>\n",
       "    <tr style=\"text-align: right;\">\n",
       "      <th></th>\n",
       "      <th>PassengerId</th>\n",
       "      <th>Survived</th>\n",
       "      <th>Pclass</th>\n",
       "      <th>Age</th>\n",
       "      <th>SibSp</th>\n",
       "      <th>ParCh</th>\n",
       "      <th>Fare</th>\n",
       "    </tr>\n",
       "  </thead>\n",
       "  <tbody>\n",
       "    <tr>\n",
       "      <th>count</th>\n",
       "      <td>891.000000</td>\n",
       "      <td>891.000000</td>\n",
       "      <td>891.000000</td>\n",
       "      <td>891.000000</td>\n",
       "      <td>891.000000</td>\n",
       "      <td>891.000000</td>\n",
       "      <td>891.000000</td>\n",
       "    </tr>\n",
       "    <tr>\n",
       "      <th>mean</th>\n",
       "      <td>446.000000</td>\n",
       "      <td>0.383838</td>\n",
       "      <td>2.308642</td>\n",
       "      <td>29.699118</td>\n",
       "      <td>0.523008</td>\n",
       "      <td>0.381594</td>\n",
       "      <td>32.204208</td>\n",
       "    </tr>\n",
       "    <tr>\n",
       "      <th>std</th>\n",
       "      <td>257.353842</td>\n",
       "      <td>0.486592</td>\n",
       "      <td>0.836071</td>\n",
       "      <td>13.002015</td>\n",
       "      <td>1.102743</td>\n",
       "      <td>0.806057</td>\n",
       "      <td>49.693429</td>\n",
       "    </tr>\n",
       "    <tr>\n",
       "      <th>min</th>\n",
       "      <td>1.000000</td>\n",
       "      <td>0.000000</td>\n",
       "      <td>1.000000</td>\n",
       "      <td>0.420000</td>\n",
       "      <td>0.000000</td>\n",
       "      <td>0.000000</td>\n",
       "      <td>0.000000</td>\n",
       "    </tr>\n",
       "    <tr>\n",
       "      <th>25%</th>\n",
       "      <td>223.500000</td>\n",
       "      <td>0.000000</td>\n",
       "      <td>2.000000</td>\n",
       "      <td>22.000000</td>\n",
       "      <td>0.000000</td>\n",
       "      <td>0.000000</td>\n",
       "      <td>7.910400</td>\n",
       "    </tr>\n",
       "    <tr>\n",
       "      <th>50%</th>\n",
       "      <td>446.000000</td>\n",
       "      <td>0.000000</td>\n",
       "      <td>3.000000</td>\n",
       "      <td>29.699118</td>\n",
       "      <td>0.000000</td>\n",
       "      <td>0.000000</td>\n",
       "      <td>14.454200</td>\n",
       "    </tr>\n",
       "    <tr>\n",
       "      <th>75%</th>\n",
       "      <td>668.500000</td>\n",
       "      <td>1.000000</td>\n",
       "      <td>3.000000</td>\n",
       "      <td>35.000000</td>\n",
       "      <td>1.000000</td>\n",
       "      <td>0.000000</td>\n",
       "      <td>31.000000</td>\n",
       "    </tr>\n",
       "    <tr>\n",
       "      <th>max</th>\n",
       "      <td>891.000000</td>\n",
       "      <td>1.000000</td>\n",
       "      <td>3.000000</td>\n",
       "      <td>80.000000</td>\n",
       "      <td>8.000000</td>\n",
       "      <td>6.000000</td>\n",
       "      <td>512.329200</td>\n",
       "    </tr>\n",
       "  </tbody>\n",
       "</table>\n",
       "</div>"
      ],
      "text/plain": [
       "       PassengerId    Survived      Pclass         Age       SibSp  \\\n",
       "count   891.000000  891.000000  891.000000  891.000000  891.000000   \n",
       "mean    446.000000    0.383838    2.308642   29.699118    0.523008   \n",
       "std     257.353842    0.486592    0.836071   13.002015    1.102743   \n",
       "min       1.000000    0.000000    1.000000    0.420000    0.000000   \n",
       "25%     223.500000    0.000000    2.000000   22.000000    0.000000   \n",
       "50%     446.000000    0.000000    3.000000   29.699118    0.000000   \n",
       "75%     668.500000    1.000000    3.000000   35.000000    1.000000   \n",
       "max     891.000000    1.000000    3.000000   80.000000    8.000000   \n",
       "\n",
       "            ParCh        Fare  \n",
       "count  891.000000  891.000000  \n",
       "mean     0.381594   32.204208  \n",
       "std      0.806057   49.693429  \n",
       "min      0.000000    0.000000  \n",
       "25%      0.000000    7.910400  \n",
       "50%      0.000000   14.454200  \n",
       "75%      0.000000   31.000000  \n",
       "max      6.000000  512.329200  "
      ]
     },
     "execution_count": 14,
     "metadata": {},
     "output_type": "execute_result"
    }
   ],
   "source": [
    "dftrain.describe()"
   ]
  },
  {
   "cell_type": "code",
   "execution_count": 15,
   "id": "02d1abde",
   "metadata": {
    "execution": {
     "iopub.execute_input": "2023-11-04T18:20:41.710299Z",
     "iopub.status.busy": "2023-11-04T18:20:41.709935Z",
     "iopub.status.idle": "2023-11-04T18:20:43.191978Z",
     "shell.execute_reply": "2023-11-04T18:20:43.190700Z"
    },
    "papermill": {
     "duration": 1.503781,
     "end_time": "2023-11-04T18:20:43.194631",
     "exception": false,
     "start_time": "2023-11-04T18:20:41.690850",
     "status": "completed"
    },
    "tags": []
   },
   "outputs": [
    {
     "data": {
      "text/html": [
       "        <script type=\"text/javascript\">\n",
       "        window.PlotlyConfig = {MathJaxConfig: 'local'};\n",
       "        if (window.MathJax && window.MathJax.Hub && window.MathJax.Hub.Config) {window.MathJax.Hub.Config({SVG: {font: \"STIX-Web\"}});}\n",
       "        if (typeof require !== 'undefined') {\n",
       "        require.undef(\"plotly\");\n",
       "        requirejs.config({\n",
       "            paths: {\n",
       "                'plotly': ['https://cdn.plot.ly/plotly-2.24.1.min']\n",
       "            }\n",
       "        });\n",
       "        require(['plotly'], function(Plotly) {\n",
       "            window._Plotly = Plotly;\n",
       "        });\n",
       "        }\n",
       "        </script>\n",
       "        "
      ]
     },
     "metadata": {},
     "output_type": "display_data"
    },
    {
     "data": {
      "text/html": [
       "<div>                            <div id=\"be0360da-4a7d-4a0d-90c8-865ec716c14d\" class=\"plotly-graph-div\" style=\"height:525px; width:100%;\"></div>            <script type=\"text/javascript\">                require([\"plotly\"], function(Plotly) {                    window.PLOTLYENV=window.PLOTLYENV || {};                                    if (document.getElementById(\"be0360da-4a7d-4a0d-90c8-865ec716c14d\")) {                    Plotly.newPlot(                        \"be0360da-4a7d-4a0d-90c8-865ec716c14d\",                        [{\"name\":\"Age\",\"x\":[22.0,38.0,26.0,35.0,35.0,29.69911764705882,54.0,2.0,27.0,14.0,4.0,58.0,20.0,39.0,14.0,55.0,2.0,29.69911764705882,31.0,29.69911764705882,35.0,34.0,15.0,28.0,8.0,38.0,29.69911764705882,19.0,29.69911764705882,29.69911764705882,40.0,29.69911764705882,29.69911764705882,66.0,28.0,42.0,29.69911764705882,21.0,18.0,14.0,40.0,27.0,29.69911764705882,3.0,19.0,29.69911764705882,29.69911764705882,29.69911764705882,29.69911764705882,18.0,7.0,21.0,49.0,29.0,65.0,29.69911764705882,21.0,28.5,5.0,11.0,22.0,38.0,45.0,4.0,29.69911764705882,29.69911764705882,29.0,19.0,17.0,26.0,32.0,16.0,21.0,26.0,32.0,25.0,29.69911764705882,29.69911764705882,0.83,30.0,22.0,29.0,29.69911764705882,28.0,17.0,33.0,16.0,29.69911764705882,23.0,24.0,29.0,20.0,46.0,26.0,59.0,29.69911764705882,71.0,23.0,34.0,34.0,28.0,29.69911764705882,21.0,33.0,37.0,28.0,21.0,29.69911764705882,38.0,29.69911764705882,47.0,14.5,22.0,20.0,17.0,21.0,70.5,29.0,24.0,2.0,21.0,29.69911764705882,32.5,32.5,54.0,12.0,29.69911764705882,24.0,29.69911764705882,45.0,33.0,20.0,47.0,29.0,25.0,23.0,19.0,37.0,16.0,24.0,29.69911764705882,22.0,24.0,19.0,18.0,19.0,27.0,9.0,36.5,42.0,51.0,22.0,55.5,40.5,29.69911764705882,51.0,16.0,30.0,29.69911764705882,29.69911764705882,44.0,40.0,26.0,17.0,1.0,9.0,29.69911764705882,45.0,29.69911764705882,28.0,61.0,4.0,1.0,21.0,56.0,18.0,29.69911764705882,50.0,30.0,36.0,29.69911764705882,29.69911764705882,9.0,1.0,4.0,29.69911764705882,29.69911764705882,45.0,40.0,36.0,32.0,19.0,19.0,3.0,44.0,58.0,29.69911764705882,42.0,29.69911764705882,24.0,28.0,29.69911764705882,34.0,45.5,18.0,2.0,32.0,26.0,16.0,40.0,24.0,35.0,22.0,30.0,29.69911764705882,31.0,27.0,42.0,32.0,30.0,16.0,27.0,51.0,29.69911764705882,38.0,22.0,19.0,20.5,18.0,29.69911764705882,35.0,29.0,59.0,5.0,24.0,29.69911764705882,44.0,8.0,19.0,33.0,29.69911764705882,29.69911764705882,29.0,22.0,30.0,44.0,25.0,24.0,37.0,54.0,29.69911764705882,29.0,62.0,30.0,41.0,29.0,29.69911764705882,30.0,35.0,50.0,29.69911764705882,3.0,52.0,40.0,29.69911764705882,36.0,16.0,25.0,58.0,35.0,29.69911764705882,25.0,41.0,37.0,29.69911764705882,63.0,45.0,29.69911764705882,7.0,35.0,65.0,28.0,16.0,19.0,29.69911764705882,33.0,30.0,22.0,42.0,22.0,26.0,19.0,36.0,24.0,24.0,29.69911764705882,23.5,2.0,29.69911764705882,50.0,29.69911764705882,29.69911764705882,19.0,29.69911764705882,29.69911764705882,0.92,29.69911764705882,17.0,30.0,30.0,24.0,18.0,26.0,28.0,43.0,26.0,24.0,54.0,31.0,40.0,22.0,27.0,30.0,22.0,29.69911764705882,36.0,61.0,36.0,31.0,16.0,29.69911764705882,45.5,38.0,16.0,29.69911764705882,29.69911764705882,29.0,41.0,45.0,45.0,2.0,24.0,28.0,25.0,36.0,24.0,40.0,29.69911764705882,3.0,42.0,23.0,29.69911764705882,15.0,25.0,29.69911764705882,28.0,22.0,38.0,29.69911764705882,29.69911764705882,40.0,29.0,45.0,35.0,29.69911764705882,30.0,60.0,29.69911764705882,29.69911764705882,24.0,25.0,18.0,19.0,22.0,3.0,29.69911764705882,22.0,27.0,20.0,19.0,42.0,1.0,32.0,35.0,29.69911764705882,18.0,1.0,36.0,29.69911764705882,17.0,36.0,21.0,28.0,23.0,24.0,22.0,31.0,46.0,23.0,28.0,39.0,26.0,21.0,28.0,20.0,34.0,51.0,3.0,21.0,29.69911764705882,29.69911764705882,29.69911764705882,33.0,29.69911764705882,44.0,29.69911764705882,34.0,18.0,30.0,10.0,29.69911764705882,21.0,29.0,28.0,18.0,29.69911764705882,28.0,19.0,29.69911764705882,32.0,28.0,29.69911764705882,42.0,17.0,50.0,14.0,21.0,24.0,64.0,31.0,45.0,20.0,25.0,28.0,29.69911764705882,4.0,13.0,34.0,5.0,52.0,36.0,29.69911764705882,30.0,49.0,29.69911764705882,29.0,65.0,29.69911764705882,50.0,29.69911764705882,48.0,34.0,47.0,48.0,29.69911764705882,38.0,29.69911764705882,56.0,29.69911764705882,0.75,29.69911764705882,38.0,33.0,23.0,22.0,29.69911764705882,34.0,29.0,22.0,2.0,9.0,29.69911764705882,50.0,63.0,25.0,29.69911764705882,35.0,58.0,30.0,9.0,29.69911764705882,21.0,55.0,71.0,21.0,29.69911764705882,54.0,29.69911764705882,25.0,24.0,17.0,21.0,29.69911764705882,37.0,16.0,18.0,33.0,29.69911764705882,28.0,26.0,29.0,29.69911764705882,36.0,54.0,24.0,47.0,34.0,29.69911764705882,36.0,32.0,30.0,22.0,29.69911764705882,44.0,29.69911764705882,40.5,50.0,29.69911764705882,39.0,23.0,2.0,29.69911764705882,17.0,29.69911764705882,30.0,7.0,45.0,30.0,29.69911764705882,22.0,36.0,9.0,11.0,32.0,50.0,64.0,19.0,29.69911764705882,33.0,8.0,17.0,27.0,29.69911764705882,22.0,22.0,62.0,48.0,29.69911764705882,39.0,36.0,29.69911764705882,40.0,28.0,29.69911764705882,29.69911764705882,24.0,19.0,29.0,29.69911764705882,32.0,62.0,53.0,36.0,29.69911764705882,16.0,19.0,34.0,39.0,29.69911764705882,32.0,25.0,39.0,54.0,36.0,29.69911764705882,18.0,47.0,60.0,22.0,29.69911764705882,35.0,52.0,47.0,29.69911764705882,37.0,36.0,29.69911764705882,49.0,29.69911764705882,49.0,24.0,29.69911764705882,29.69911764705882,44.0,35.0,36.0,30.0,27.0,22.0,40.0,39.0,29.69911764705882,29.69911764705882,29.69911764705882,35.0,24.0,34.0,26.0,4.0,26.0,27.0,42.0,20.0,21.0,21.0,61.0,57.0,21.0,26.0,29.69911764705882,80.0,51.0,32.0,29.69911764705882,9.0,28.0,32.0,31.0,41.0,29.69911764705882,20.0,24.0,2.0,29.69911764705882,0.75,48.0,19.0,56.0,29.69911764705882,23.0,29.69911764705882,18.0,21.0,29.69911764705882,18.0,24.0,29.69911764705882,32.0,23.0,58.0,50.0,40.0,47.0,36.0,20.0,32.0,25.0,29.69911764705882,43.0,29.69911764705882,40.0,31.0,70.0,31.0,29.69911764705882,18.0,24.5,18.0,43.0,36.0,29.69911764705882,27.0,20.0,14.0,60.0,25.0,14.0,19.0,18.0,15.0,31.0,4.0,29.69911764705882,25.0,60.0,52.0,44.0,29.69911764705882,49.0,42.0,18.0,35.0,18.0,25.0,26.0,39.0,45.0,42.0,22.0,29.69911764705882,24.0,29.69911764705882,48.0,29.0,52.0,19.0,38.0,27.0,29.69911764705882,33.0,6.0,17.0,34.0,50.0,27.0,20.0,30.0,29.69911764705882,25.0,25.0,29.0,11.0,29.69911764705882,23.0,23.0,28.5,48.0,35.0,29.69911764705882,29.69911764705882,29.69911764705882,36.0,21.0,24.0,31.0,70.0,16.0,30.0,19.0,31.0,4.0,6.0,33.0,23.0,48.0,0.67,28.0,18.0,34.0,33.0,29.69911764705882,41.0,20.0,36.0,16.0,51.0,29.69911764705882,30.5,29.69911764705882,32.0,24.0,48.0,57.0,29.69911764705882,54.0,18.0,29.69911764705882,5.0,29.69911764705882,43.0,13.0,17.0,29.0,29.69911764705882,25.0,25.0,18.0,8.0,1.0,46.0,29.69911764705882,16.0,29.69911764705882,29.69911764705882,25.0,39.0,49.0,31.0,30.0,30.0,34.0,31.0,11.0,0.42,27.0,31.0,39.0,18.0,39.0,33.0,26.0,39.0,35.0,6.0,30.5,29.69911764705882,23.0,31.0,43.0,10.0,52.0,27.0,38.0,27.0,2.0,29.69911764705882,29.69911764705882,1.0,29.69911764705882,62.0,15.0,0.83,29.69911764705882,23.0,18.0,39.0,21.0,29.69911764705882,32.0,29.69911764705882,20.0,16.0,30.0,34.5,17.0,42.0,29.69911764705882,35.0,28.0,29.69911764705882,4.0,74.0,9.0,16.0,44.0,18.0,45.0,51.0,24.0,29.69911764705882,41.0,21.0,48.0,29.69911764705882,24.0,42.0,27.0,31.0,29.69911764705882,4.0,26.0,47.0,33.0,47.0,28.0,15.0,20.0,19.0,29.69911764705882,56.0,25.0,33.0,22.0,28.0,25.0,39.0,27.0,19.0,29.69911764705882,26.0,32.0],\"type\":\"histogram\"}],                        {\"template\":{\"data\":{\"barpolar\":[{\"marker\":{\"line\":{\"color\":\"#E5ECF6\",\"width\":0.5},\"pattern\":{\"fillmode\":\"overlay\",\"size\":10,\"solidity\":0.2}},\"type\":\"barpolar\"}],\"bar\":[{\"error_x\":{\"color\":\"#2a3f5f\"},\"error_y\":{\"color\":\"#2a3f5f\"},\"marker\":{\"line\":{\"color\":\"#E5ECF6\",\"width\":0.5},\"pattern\":{\"fillmode\":\"overlay\",\"size\":10,\"solidity\":0.2}},\"type\":\"bar\"}],\"carpet\":[{\"aaxis\":{\"endlinecolor\":\"#2a3f5f\",\"gridcolor\":\"white\",\"linecolor\":\"white\",\"minorgridcolor\":\"white\",\"startlinecolor\":\"#2a3f5f\"},\"baxis\":{\"endlinecolor\":\"#2a3f5f\",\"gridcolor\":\"white\",\"linecolor\":\"white\",\"minorgridcolor\":\"white\",\"startlinecolor\":\"#2a3f5f\"},\"type\":\"carpet\"}],\"choropleth\":[{\"colorbar\":{\"outlinewidth\":0,\"ticks\":\"\"},\"type\":\"choropleth\"}],\"contourcarpet\":[{\"colorbar\":{\"outlinewidth\":0,\"ticks\":\"\"},\"type\":\"contourcarpet\"}],\"contour\":[{\"colorbar\":{\"outlinewidth\":0,\"ticks\":\"\"},\"colorscale\":[[0.0,\"#0d0887\"],[0.1111111111111111,\"#46039f\"],[0.2222222222222222,\"#7201a8\"],[0.3333333333333333,\"#9c179e\"],[0.4444444444444444,\"#bd3786\"],[0.5555555555555556,\"#d8576b\"],[0.6666666666666666,\"#ed7953\"],[0.7777777777777778,\"#fb9f3a\"],[0.8888888888888888,\"#fdca26\"],[1.0,\"#f0f921\"]],\"type\":\"contour\"}],\"heatmapgl\":[{\"colorbar\":{\"outlinewidth\":0,\"ticks\":\"\"},\"colorscale\":[[0.0,\"#0d0887\"],[0.1111111111111111,\"#46039f\"],[0.2222222222222222,\"#7201a8\"],[0.3333333333333333,\"#9c179e\"],[0.4444444444444444,\"#bd3786\"],[0.5555555555555556,\"#d8576b\"],[0.6666666666666666,\"#ed7953\"],[0.7777777777777778,\"#fb9f3a\"],[0.8888888888888888,\"#fdca26\"],[1.0,\"#f0f921\"]],\"type\":\"heatmapgl\"}],\"heatmap\":[{\"colorbar\":{\"outlinewidth\":0,\"ticks\":\"\"},\"colorscale\":[[0.0,\"#0d0887\"],[0.1111111111111111,\"#46039f\"],[0.2222222222222222,\"#7201a8\"],[0.3333333333333333,\"#9c179e\"],[0.4444444444444444,\"#bd3786\"],[0.5555555555555556,\"#d8576b\"],[0.6666666666666666,\"#ed7953\"],[0.7777777777777778,\"#fb9f3a\"],[0.8888888888888888,\"#fdca26\"],[1.0,\"#f0f921\"]],\"type\":\"heatmap\"}],\"histogram2dcontour\":[{\"colorbar\":{\"outlinewidth\":0,\"ticks\":\"\"},\"colorscale\":[[0.0,\"#0d0887\"],[0.1111111111111111,\"#46039f\"],[0.2222222222222222,\"#7201a8\"],[0.3333333333333333,\"#9c179e\"],[0.4444444444444444,\"#bd3786\"],[0.5555555555555556,\"#d8576b\"],[0.6666666666666666,\"#ed7953\"],[0.7777777777777778,\"#fb9f3a\"],[0.8888888888888888,\"#fdca26\"],[1.0,\"#f0f921\"]],\"type\":\"histogram2dcontour\"}],\"histogram2d\":[{\"colorbar\":{\"outlinewidth\":0,\"ticks\":\"\"},\"colorscale\":[[0.0,\"#0d0887\"],[0.1111111111111111,\"#46039f\"],[0.2222222222222222,\"#7201a8\"],[0.3333333333333333,\"#9c179e\"],[0.4444444444444444,\"#bd3786\"],[0.5555555555555556,\"#d8576b\"],[0.6666666666666666,\"#ed7953\"],[0.7777777777777778,\"#fb9f3a\"],[0.8888888888888888,\"#fdca26\"],[1.0,\"#f0f921\"]],\"type\":\"histogram2d\"}],\"histogram\":[{\"marker\":{\"pattern\":{\"fillmode\":\"overlay\",\"size\":10,\"solidity\":0.2}},\"type\":\"histogram\"}],\"mesh3d\":[{\"colorbar\":{\"outlinewidth\":0,\"ticks\":\"\"},\"type\":\"mesh3d\"}],\"parcoords\":[{\"line\":{\"colorbar\":{\"outlinewidth\":0,\"ticks\":\"\"}},\"type\":\"parcoords\"}],\"pie\":[{\"automargin\":true,\"type\":\"pie\"}],\"scatter3d\":[{\"line\":{\"colorbar\":{\"outlinewidth\":0,\"ticks\":\"\"}},\"marker\":{\"colorbar\":{\"outlinewidth\":0,\"ticks\":\"\"}},\"type\":\"scatter3d\"}],\"scattercarpet\":[{\"marker\":{\"colorbar\":{\"outlinewidth\":0,\"ticks\":\"\"}},\"type\":\"scattercarpet\"}],\"scattergeo\":[{\"marker\":{\"colorbar\":{\"outlinewidth\":0,\"ticks\":\"\"}},\"type\":\"scattergeo\"}],\"scattergl\":[{\"marker\":{\"colorbar\":{\"outlinewidth\":0,\"ticks\":\"\"}},\"type\":\"scattergl\"}],\"scattermapbox\":[{\"marker\":{\"colorbar\":{\"outlinewidth\":0,\"ticks\":\"\"}},\"type\":\"scattermapbox\"}],\"scatterpolargl\":[{\"marker\":{\"colorbar\":{\"outlinewidth\":0,\"ticks\":\"\"}},\"type\":\"scatterpolargl\"}],\"scatterpolar\":[{\"marker\":{\"colorbar\":{\"outlinewidth\":0,\"ticks\":\"\"}},\"type\":\"scatterpolar\"}],\"scatter\":[{\"fillpattern\":{\"fillmode\":\"overlay\",\"size\":10,\"solidity\":0.2},\"type\":\"scatter\"}],\"scatterternary\":[{\"marker\":{\"colorbar\":{\"outlinewidth\":0,\"ticks\":\"\"}},\"type\":\"scatterternary\"}],\"surface\":[{\"colorbar\":{\"outlinewidth\":0,\"ticks\":\"\"},\"colorscale\":[[0.0,\"#0d0887\"],[0.1111111111111111,\"#46039f\"],[0.2222222222222222,\"#7201a8\"],[0.3333333333333333,\"#9c179e\"],[0.4444444444444444,\"#bd3786\"],[0.5555555555555556,\"#d8576b\"],[0.6666666666666666,\"#ed7953\"],[0.7777777777777778,\"#fb9f3a\"],[0.8888888888888888,\"#fdca26\"],[1.0,\"#f0f921\"]],\"type\":\"surface\"}],\"table\":[{\"cells\":{\"fill\":{\"color\":\"#EBF0F8\"},\"line\":{\"color\":\"white\"}},\"header\":{\"fill\":{\"color\":\"#C8D4E3\"},\"line\":{\"color\":\"white\"}},\"type\":\"table\"}]},\"layout\":{\"annotationdefaults\":{\"arrowcolor\":\"#2a3f5f\",\"arrowhead\":0,\"arrowwidth\":1},\"autotypenumbers\":\"strict\",\"coloraxis\":{\"colorbar\":{\"outlinewidth\":0,\"ticks\":\"\"}},\"colorscale\":{\"diverging\":[[0,\"#8e0152\"],[0.1,\"#c51b7d\"],[0.2,\"#de77ae\"],[0.3,\"#f1b6da\"],[0.4,\"#fde0ef\"],[0.5,\"#f7f7f7\"],[0.6,\"#e6f5d0\"],[0.7,\"#b8e186\"],[0.8,\"#7fbc41\"],[0.9,\"#4d9221\"],[1,\"#276419\"]],\"sequential\":[[0.0,\"#0d0887\"],[0.1111111111111111,\"#46039f\"],[0.2222222222222222,\"#7201a8\"],[0.3333333333333333,\"#9c179e\"],[0.4444444444444444,\"#bd3786\"],[0.5555555555555556,\"#d8576b\"],[0.6666666666666666,\"#ed7953\"],[0.7777777777777778,\"#fb9f3a\"],[0.8888888888888888,\"#fdca26\"],[1.0,\"#f0f921\"]],\"sequentialminus\":[[0.0,\"#0d0887\"],[0.1111111111111111,\"#46039f\"],[0.2222222222222222,\"#7201a8\"],[0.3333333333333333,\"#9c179e\"],[0.4444444444444444,\"#bd3786\"],[0.5555555555555556,\"#d8576b\"],[0.6666666666666666,\"#ed7953\"],[0.7777777777777778,\"#fb9f3a\"],[0.8888888888888888,\"#fdca26\"],[1.0,\"#f0f921\"]]},\"colorway\":[\"#636efa\",\"#EF553B\",\"#00cc96\",\"#ab63fa\",\"#FFA15A\",\"#19d3f3\",\"#FF6692\",\"#B6E880\",\"#FF97FF\",\"#FECB52\"],\"font\":{\"color\":\"#2a3f5f\"},\"geo\":{\"bgcolor\":\"white\",\"lakecolor\":\"white\",\"landcolor\":\"#E5ECF6\",\"showlakes\":true,\"showland\":true,\"subunitcolor\":\"white\"},\"hoverlabel\":{\"align\":\"left\"},\"hovermode\":\"closest\",\"mapbox\":{\"style\":\"light\"},\"paper_bgcolor\":\"white\",\"plot_bgcolor\":\"#E5ECF6\",\"polar\":{\"angularaxis\":{\"gridcolor\":\"white\",\"linecolor\":\"white\",\"ticks\":\"\"},\"bgcolor\":\"#E5ECF6\",\"radialaxis\":{\"gridcolor\":\"white\",\"linecolor\":\"white\",\"ticks\":\"\"}},\"scene\":{\"xaxis\":{\"backgroundcolor\":\"#E5ECF6\",\"gridcolor\":\"white\",\"gridwidth\":2,\"linecolor\":\"white\",\"showbackground\":true,\"ticks\":\"\",\"zerolinecolor\":\"white\"},\"yaxis\":{\"backgroundcolor\":\"#E5ECF6\",\"gridcolor\":\"white\",\"gridwidth\":2,\"linecolor\":\"white\",\"showbackground\":true,\"ticks\":\"\",\"zerolinecolor\":\"white\"},\"zaxis\":{\"backgroundcolor\":\"#E5ECF6\",\"gridcolor\":\"white\",\"gridwidth\":2,\"linecolor\":\"white\",\"showbackground\":true,\"ticks\":\"\",\"zerolinecolor\":\"white\"}},\"shapedefaults\":{\"line\":{\"color\":\"#2a3f5f\"}},\"ternary\":{\"aaxis\":{\"gridcolor\":\"white\",\"linecolor\":\"white\",\"ticks\":\"\"},\"baxis\":{\"gridcolor\":\"white\",\"linecolor\":\"white\",\"ticks\":\"\"},\"bgcolor\":\"#E5ECF6\",\"caxis\":{\"gridcolor\":\"white\",\"linecolor\":\"white\",\"ticks\":\"\"}},\"title\":{\"x\":0.05},\"xaxis\":{\"automargin\":true,\"gridcolor\":\"white\",\"linecolor\":\"white\",\"ticks\":\"\",\"title\":{\"standoff\":15},\"zerolinecolor\":\"white\",\"zerolinewidth\":2},\"yaxis\":{\"automargin\":true,\"gridcolor\":\"white\",\"linecolor\":\"white\",\"ticks\":\"\",\"title\":{\"standoff\":15},\"zerolinecolor\":\"white\",\"zerolinewidth\":2}}},\"title\":{\"text\":\"Age Frequency in the Set\"},\"xaxis\":{\"title\":{\"text\":\"Values\"}},\"yaxis\":{\"title\":{\"text\":\"Frequency\"}}},                        {\"responsive\": true}                    ).then(function(){\n",
       "                            \n",
       "var gd = document.getElementById('be0360da-4a7d-4a0d-90c8-865ec716c14d');\n",
       "var x = new MutationObserver(function (mutations, observer) {{\n",
       "        var display = window.getComputedStyle(gd).display;\n",
       "        if (!display || display === 'none') {{\n",
       "            console.log([gd, 'removed!']);\n",
       "            Plotly.purge(gd);\n",
       "            observer.disconnect();\n",
       "        }}\n",
       "}});\n",
       "\n",
       "// Listen for the removal of the full notebook cells\n",
       "var notebookContainer = gd.closest('#notebook-container');\n",
       "if (notebookContainer) {{\n",
       "    x.observe(notebookContainer, {childList: true});\n",
       "}}\n",
       "\n",
       "// Listen for the clearing of the current output cell\n",
       "var outputEl = gd.closest('.output');\n",
       "if (outputEl) {{\n",
       "    x.observe(outputEl, {childList: true});\n",
       "}}\n",
       "\n",
       "                        })                };                });            </script>        </div>"
      ]
     },
     "metadata": {},
     "output_type": "display_data"
    }
   ],
   "source": [
    "import plotly.graph_objs as go\n",
    "\n",
    "hist = go.Histogram(x=dftrain['Age'], name='Age')\n",
    "\n",
    "layout = go.Layout(\n",
    "    title=\"Age Frequency in the Set\",\n",
    "    xaxis=dict(title=\"Values\"),\n",
    "    yaxis=dict(title=\"Frequency\"),\n",
    ")\n",
    "\n",
    "fig = go.Figure(data=[hist], layout=layout)\n",
    "\n",
    "pyo.iplot(fig)"
   ]
  },
  {
   "cell_type": "code",
   "execution_count": 16,
   "id": "4327f806",
   "metadata": {
    "execution": {
     "iopub.execute_input": "2023-11-04T18:20:43.231582Z",
     "iopub.status.busy": "2023-11-04T18:20:43.231058Z",
     "iopub.status.idle": "2023-11-04T18:20:43.262585Z",
     "shell.execute_reply": "2023-11-04T18:20:43.261522Z"
    },
    "papermill": {
     "duration": 0.052486,
     "end_time": "2023-11-04T18:20:43.264679",
     "exception": false,
     "start_time": "2023-11-04T18:20:43.212193",
     "status": "completed"
    },
    "tags": []
   },
   "outputs": [
    {
     "data": {
      "text/html": [
       "<div>                            <div id=\"c9341db4-0b4e-427c-873d-4e867f556cb6\" class=\"plotly-graph-div\" style=\"height:525px; width:100%;\"></div>            <script type=\"text/javascript\">                require([\"plotly\"], function(Plotly) {                    window.PLOTLYENV=window.PLOTLYENV || {};                                    if (document.getElementById(\"c9341db4-0b4e-427c-873d-4e867f556cb6\")) {                    Plotly.newPlot(                        \"c9341db4-0b4e-427c-873d-4e867f556cb6\",                        [{\"name\":\"Fare\",\"x\":[7.25,71.2833,7.925,53.1,8.05,8.4583,51.8625,21.075,11.1333,30.0708,16.7,26.55,8.05,31.275,7.8542,16.0,29.125,13.0,18.0,7.225,26.0,13.0,8.0292,35.5,21.075,31.3875,7.225,263.0,7.8792,7.8958,27.7208,146.5208,7.75,10.5,82.1708,52.0,7.2292,8.05,18.0,11.2417,9.475,21.0,7.8958,41.5792,7.8792,8.05,15.5,7.75,21.6792,17.8,39.6875,7.8,76.7292,26.0,61.9792,35.5,10.5,7.2292,27.75,46.9,7.2292,80.0,83.475,27.9,27.7208,15.2458,10.5,8.1583,7.925,8.6625,10.5,46.9,73.5,14.4542,56.4958,7.65,7.8958,8.05,29.0,12.475,9.0,9.5,7.7875,47.1,10.5,15.85,34.375,8.05,263.0,8.05,8.05,7.8542,61.175,20.575,7.25,8.05,34.6542,63.3583,23.0,26.0,7.8958,7.8958,77.2875,8.6542,7.925,7.8958,7.65,7.775,7.8958,24.15,52.0,14.4542,8.05,9.825,14.4583,7.925,7.75,21.0,247.5208,31.275,73.5,8.05,30.0708,13.0,77.2875,11.2417,7.75,7.1417,22.3583,6.975,7.8958,7.05,14.5,26.0,13.0,15.0458,26.2833,53.1,9.2167,79.2,15.2458,7.75,15.85,6.75,11.5,36.75,7.7958,34.375,26.0,13.0,12.525,66.6,8.05,14.5,7.3125,61.3792,7.7333,8.05,8.6625,69.55,16.1,15.75,7.775,8.6625,39.6875,20.525,55.0,27.9,25.925,56.4958,33.5,29.125,11.1333,7.925,30.6958,7.8542,25.4667,28.7125,13.0,0.0,69.55,15.05,31.3875,39.0,22.025,50.0,15.5,26.55,15.5,7.8958,13.0,13.0,7.8542,26.0,27.7208,146.5208,7.75,8.4042,7.75,13.0,9.5,69.55,6.4958,7.225,8.05,10.4625,15.85,18.7875,7.75,31.0,7.05,21.0,7.25,13.0,7.75,113.275,7.925,27.0,76.2917,10.5,8.05,13.0,8.05,7.8958,90.0,9.35,10.5,7.25,13.0,25.4667,83.475,7.775,13.5,31.3875,10.5,7.55,26.0,26.25,10.5,12.275,14.4542,15.5,10.5,7.125,7.225,90.0,7.775,14.5,52.5542,26.0,7.25,10.4625,26.55,16.1,20.2125,15.2458,79.2,86.5,512.3292,26.0,7.75,31.3875,79.65,0.0,7.75,10.5,39.6875,7.775,153.4625,135.6333,31.0,0.0,19.5,29.7,7.75,77.9583,7.75,0.0,29.125,20.25,7.75,7.8542,9.5,8.05,26.0,8.6625,9.5,7.8958,13.0,7.75,78.85,91.0792,12.875,8.85,7.8958,27.7208,7.2292,151.55,30.5,247.5208,7.75,23.25,0.0,12.35,8.05,151.55,110.8833,108.9,24.0,56.9292,83.1583,262.375,26.0,7.8958,26.25,7.8542,26.0,14.0,164.8667,134.5,7.25,7.8958,12.35,29.0,69.55,135.6333,6.2375,13.0,20.525,57.9792,23.25,28.5,153.4625,18.0,133.65,7.8958,66.6,134.5,8.05,35.5,26.0,263.0,13.0,13.0,13.0,13.0,13.0,16.1,15.9,8.6625,9.225,35.0,7.2292,17.8,7.225,9.5,55.0,13.0,7.8792,7.8792,27.9,27.7208,14.4542,7.05,15.5,7.25,75.25,7.2292,7.75,69.3,55.4417,6.4958,8.05,135.6333,21.075,82.1708,7.25,211.5,4.0125,7.775,227.525,15.7417,7.925,52.0,7.8958,73.5,46.9,13.0,7.7292,12.0,120.0,7.7958,7.925,113.275,16.7,7.7958,7.8542,26.0,10.5,12.65,7.925,8.05,9.825,15.85,8.6625,21.0,7.75,18.75,7.775,25.4667,7.8958,6.8583,90.0,0.0,7.925,8.05,32.5,13.0,13.0,24.15,7.8958,7.7333,7.875,14.4,20.2125,7.25,26.0,26.0,7.75,8.05,26.55,16.1,26.0,7.125,55.9,120.0,34.375,18.75,263.0,10.5,26.25,9.5,7.775,13.0,8.1125,81.8583,19.5,26.55,19.2583,30.5,27.75,19.9667,27.75,89.1042,8.05,7.8958,26.55,51.8625,10.5,7.75,26.55,8.05,38.5,13.0,8.05,7.05,0.0,26.55,7.725,19.2583,7.25,8.6625,27.75,13.7917,9.8375,52.0,21.0,7.0458,7.5208,12.2875,46.9,0.0,8.05,9.5875,91.0792,25.4667,90.0,29.7,8.05,15.9,19.9667,7.25,30.5,49.5042,8.05,14.4583,78.2667,15.1,151.55,7.7958,8.6625,7.75,7.6292,9.5875,86.5,108.9,26.0,26.55,22.525,56.4958,7.75,8.05,26.2875,59.4,7.4958,34.0208,10.5,24.15,26.0,7.8958,93.5,7.8958,7.225,57.9792,7.2292,7.75,10.5,221.7792,7.925,11.5,26.0,7.2292,7.2292,22.3583,8.6625,26.25,26.55,106.425,14.5,49.5,71.0,31.275,31.275,26.0,106.425,26.0,26.0,13.8625,20.525,36.75,110.8833,26.0,7.8292,7.225,7.775,26.55,39.6,227.525,79.65,17.4,7.75,7.8958,13.5,8.05,8.05,24.15,7.8958,21.075,7.2292,7.8542,10.5,51.4792,26.3875,7.75,8.05,14.5,13.0,55.9,14.4583,7.925,30.0,110.8833,26.0,40.125,8.7125,79.65,15.0,79.2,8.05,8.05,7.125,78.2667,7.25,7.75,26.0,24.15,33.0,0.0,7.225,56.9292,27.0,7.8958,42.4,8.05,26.55,15.55,7.8958,30.5,41.5792,153.4625,31.275,7.05,15.5,7.75,8.05,65.0,14.4,16.1,39.0,10.5,14.4542,52.5542,15.7417,7.8542,16.1,32.3208,12.35,77.9583,7.8958,7.7333,30.0,7.0542,30.5,0.0,27.9,13.0,7.925,26.25,39.6875,16.1,7.8542,69.3,27.9,56.4958,19.2583,76.7292,7.8958,35.5,7.55,7.55,7.8958,23.0,8.4333,7.8292,6.75,73.5,7.8958,15.5,13.0,113.275,133.65,7.225,25.5875,7.4958,7.925,73.5,13.0,7.775,8.05,52.0,39.0,52.0,10.5,13.0,0.0,7.775,8.05,9.8417,46.9,512.3292,8.1375,76.7292,9.225,46.9,39.0,41.5792,39.6875,10.1708,7.7958,211.3375,57.0,13.4167,56.4958,7.225,26.55,13.5,8.05,7.7333,110.8833,7.65,227.525,26.2875,14.4542,7.7417,7.8542,26.0,13.5,26.2875,151.55,15.2458,49.5042,26.55,52.0,9.4833,13.0,7.65,227.525,10.5,15.5,7.775,33.0,7.0542,13.0,13.0,53.1,8.6625,21.0,7.7375,26.0,7.925,211.3375,18.7875,0.0,13.0,13.0,16.1,34.375,512.3292,7.8958,7.8958,30.0,78.85,262.375,16.1,7.925,71.0,20.25,13.0,53.1,7.75,23.0,12.475,9.5,7.8958,65.0,14.5,7.7958,11.5,8.05,86.5,14.5,7.125,7.2292,120.0,7.775,77.9583,39.6,7.75,24.15,8.3625,9.5,7.8542,10.5,7.225,23.0,7.75,7.75,12.475,7.7375,211.3375,7.2292,57.0,30.0,23.45,7.05,7.25,7.4958,29.125,20.575,79.2,7.75,26.0,69.55,30.6958,7.8958,13.0,25.9292,8.6833,7.2292,24.15,13.0,26.25,120.0,8.5167,6.975,7.775,0.0,7.775,13.0,53.1,7.8875,24.15,10.5,31.275,8.05,0.0,7.925,37.0042,6.45,27.9,93.5,8.6625,0.0,12.475,39.6875,6.95,56.4958,37.0042,7.75,80.0,14.4542,18.75,7.2292,7.8542,8.3,83.1583,8.6625,8.05,56.4958,29.7,7.925,10.5,31.0,6.4375,8.6625,7.55,69.55,7.8958,33.0,89.1042,31.275,7.775,15.2458,39.4,26.0,9.35,164.8667,26.55,19.2583,7.2292,14.1083,11.5,25.9292,69.55,13.0,13.0,13.8583,50.4958,9.5,11.1333,7.8958,52.5542,5.0,9.0,24.0,7.225,9.8458,7.8958,7.8958,83.1583,26.0,7.8958,10.5167,10.5,7.05,29.125,13.0,30.0,23.45,30.0,7.75],\"type\":\"histogram\"}],                        {\"template\":{\"data\":{\"barpolar\":[{\"marker\":{\"line\":{\"color\":\"#E5ECF6\",\"width\":0.5},\"pattern\":{\"fillmode\":\"overlay\",\"size\":10,\"solidity\":0.2}},\"type\":\"barpolar\"}],\"bar\":[{\"error_x\":{\"color\":\"#2a3f5f\"},\"error_y\":{\"color\":\"#2a3f5f\"},\"marker\":{\"line\":{\"color\":\"#E5ECF6\",\"width\":0.5},\"pattern\":{\"fillmode\":\"overlay\",\"size\":10,\"solidity\":0.2}},\"type\":\"bar\"}],\"carpet\":[{\"aaxis\":{\"endlinecolor\":\"#2a3f5f\",\"gridcolor\":\"white\",\"linecolor\":\"white\",\"minorgridcolor\":\"white\",\"startlinecolor\":\"#2a3f5f\"},\"baxis\":{\"endlinecolor\":\"#2a3f5f\",\"gridcolor\":\"white\",\"linecolor\":\"white\",\"minorgridcolor\":\"white\",\"startlinecolor\":\"#2a3f5f\"},\"type\":\"carpet\"}],\"choropleth\":[{\"colorbar\":{\"outlinewidth\":0,\"ticks\":\"\"},\"type\":\"choropleth\"}],\"contourcarpet\":[{\"colorbar\":{\"outlinewidth\":0,\"ticks\":\"\"},\"type\":\"contourcarpet\"}],\"contour\":[{\"colorbar\":{\"outlinewidth\":0,\"ticks\":\"\"},\"colorscale\":[[0.0,\"#0d0887\"],[0.1111111111111111,\"#46039f\"],[0.2222222222222222,\"#7201a8\"],[0.3333333333333333,\"#9c179e\"],[0.4444444444444444,\"#bd3786\"],[0.5555555555555556,\"#d8576b\"],[0.6666666666666666,\"#ed7953\"],[0.7777777777777778,\"#fb9f3a\"],[0.8888888888888888,\"#fdca26\"],[1.0,\"#f0f921\"]],\"type\":\"contour\"}],\"heatmapgl\":[{\"colorbar\":{\"outlinewidth\":0,\"ticks\":\"\"},\"colorscale\":[[0.0,\"#0d0887\"],[0.1111111111111111,\"#46039f\"],[0.2222222222222222,\"#7201a8\"],[0.3333333333333333,\"#9c179e\"],[0.4444444444444444,\"#bd3786\"],[0.5555555555555556,\"#d8576b\"],[0.6666666666666666,\"#ed7953\"],[0.7777777777777778,\"#fb9f3a\"],[0.8888888888888888,\"#fdca26\"],[1.0,\"#f0f921\"]],\"type\":\"heatmapgl\"}],\"heatmap\":[{\"colorbar\":{\"outlinewidth\":0,\"ticks\":\"\"},\"colorscale\":[[0.0,\"#0d0887\"],[0.1111111111111111,\"#46039f\"],[0.2222222222222222,\"#7201a8\"],[0.3333333333333333,\"#9c179e\"],[0.4444444444444444,\"#bd3786\"],[0.5555555555555556,\"#d8576b\"],[0.6666666666666666,\"#ed7953\"],[0.7777777777777778,\"#fb9f3a\"],[0.8888888888888888,\"#fdca26\"],[1.0,\"#f0f921\"]],\"type\":\"heatmap\"}],\"histogram2dcontour\":[{\"colorbar\":{\"outlinewidth\":0,\"ticks\":\"\"},\"colorscale\":[[0.0,\"#0d0887\"],[0.1111111111111111,\"#46039f\"],[0.2222222222222222,\"#7201a8\"],[0.3333333333333333,\"#9c179e\"],[0.4444444444444444,\"#bd3786\"],[0.5555555555555556,\"#d8576b\"],[0.6666666666666666,\"#ed7953\"],[0.7777777777777778,\"#fb9f3a\"],[0.8888888888888888,\"#fdca26\"],[1.0,\"#f0f921\"]],\"type\":\"histogram2dcontour\"}],\"histogram2d\":[{\"colorbar\":{\"outlinewidth\":0,\"ticks\":\"\"},\"colorscale\":[[0.0,\"#0d0887\"],[0.1111111111111111,\"#46039f\"],[0.2222222222222222,\"#7201a8\"],[0.3333333333333333,\"#9c179e\"],[0.4444444444444444,\"#bd3786\"],[0.5555555555555556,\"#d8576b\"],[0.6666666666666666,\"#ed7953\"],[0.7777777777777778,\"#fb9f3a\"],[0.8888888888888888,\"#fdca26\"],[1.0,\"#f0f921\"]],\"type\":\"histogram2d\"}],\"histogram\":[{\"marker\":{\"pattern\":{\"fillmode\":\"overlay\",\"size\":10,\"solidity\":0.2}},\"type\":\"histogram\"}],\"mesh3d\":[{\"colorbar\":{\"outlinewidth\":0,\"ticks\":\"\"},\"type\":\"mesh3d\"}],\"parcoords\":[{\"line\":{\"colorbar\":{\"outlinewidth\":0,\"ticks\":\"\"}},\"type\":\"parcoords\"}],\"pie\":[{\"automargin\":true,\"type\":\"pie\"}],\"scatter3d\":[{\"line\":{\"colorbar\":{\"outlinewidth\":0,\"ticks\":\"\"}},\"marker\":{\"colorbar\":{\"outlinewidth\":0,\"ticks\":\"\"}},\"type\":\"scatter3d\"}],\"scattercarpet\":[{\"marker\":{\"colorbar\":{\"outlinewidth\":0,\"ticks\":\"\"}},\"type\":\"scattercarpet\"}],\"scattergeo\":[{\"marker\":{\"colorbar\":{\"outlinewidth\":0,\"ticks\":\"\"}},\"type\":\"scattergeo\"}],\"scattergl\":[{\"marker\":{\"colorbar\":{\"outlinewidth\":0,\"ticks\":\"\"}},\"type\":\"scattergl\"}],\"scattermapbox\":[{\"marker\":{\"colorbar\":{\"outlinewidth\":0,\"ticks\":\"\"}},\"type\":\"scattermapbox\"}],\"scatterpolargl\":[{\"marker\":{\"colorbar\":{\"outlinewidth\":0,\"ticks\":\"\"}},\"type\":\"scatterpolargl\"}],\"scatterpolar\":[{\"marker\":{\"colorbar\":{\"outlinewidth\":0,\"ticks\":\"\"}},\"type\":\"scatterpolar\"}],\"scatter\":[{\"fillpattern\":{\"fillmode\":\"overlay\",\"size\":10,\"solidity\":0.2},\"type\":\"scatter\"}],\"scatterternary\":[{\"marker\":{\"colorbar\":{\"outlinewidth\":0,\"ticks\":\"\"}},\"type\":\"scatterternary\"}],\"surface\":[{\"colorbar\":{\"outlinewidth\":0,\"ticks\":\"\"},\"colorscale\":[[0.0,\"#0d0887\"],[0.1111111111111111,\"#46039f\"],[0.2222222222222222,\"#7201a8\"],[0.3333333333333333,\"#9c179e\"],[0.4444444444444444,\"#bd3786\"],[0.5555555555555556,\"#d8576b\"],[0.6666666666666666,\"#ed7953\"],[0.7777777777777778,\"#fb9f3a\"],[0.8888888888888888,\"#fdca26\"],[1.0,\"#f0f921\"]],\"type\":\"surface\"}],\"table\":[{\"cells\":{\"fill\":{\"color\":\"#EBF0F8\"},\"line\":{\"color\":\"white\"}},\"header\":{\"fill\":{\"color\":\"#C8D4E3\"},\"line\":{\"color\":\"white\"}},\"type\":\"table\"}]},\"layout\":{\"annotationdefaults\":{\"arrowcolor\":\"#2a3f5f\",\"arrowhead\":0,\"arrowwidth\":1},\"autotypenumbers\":\"strict\",\"coloraxis\":{\"colorbar\":{\"outlinewidth\":0,\"ticks\":\"\"}},\"colorscale\":{\"diverging\":[[0,\"#8e0152\"],[0.1,\"#c51b7d\"],[0.2,\"#de77ae\"],[0.3,\"#f1b6da\"],[0.4,\"#fde0ef\"],[0.5,\"#f7f7f7\"],[0.6,\"#e6f5d0\"],[0.7,\"#b8e186\"],[0.8,\"#7fbc41\"],[0.9,\"#4d9221\"],[1,\"#276419\"]],\"sequential\":[[0.0,\"#0d0887\"],[0.1111111111111111,\"#46039f\"],[0.2222222222222222,\"#7201a8\"],[0.3333333333333333,\"#9c179e\"],[0.4444444444444444,\"#bd3786\"],[0.5555555555555556,\"#d8576b\"],[0.6666666666666666,\"#ed7953\"],[0.7777777777777778,\"#fb9f3a\"],[0.8888888888888888,\"#fdca26\"],[1.0,\"#f0f921\"]],\"sequentialminus\":[[0.0,\"#0d0887\"],[0.1111111111111111,\"#46039f\"],[0.2222222222222222,\"#7201a8\"],[0.3333333333333333,\"#9c179e\"],[0.4444444444444444,\"#bd3786\"],[0.5555555555555556,\"#d8576b\"],[0.6666666666666666,\"#ed7953\"],[0.7777777777777778,\"#fb9f3a\"],[0.8888888888888888,\"#fdca26\"],[1.0,\"#f0f921\"]]},\"colorway\":[\"#636efa\",\"#EF553B\",\"#00cc96\",\"#ab63fa\",\"#FFA15A\",\"#19d3f3\",\"#FF6692\",\"#B6E880\",\"#FF97FF\",\"#FECB52\"],\"font\":{\"color\":\"#2a3f5f\"},\"geo\":{\"bgcolor\":\"white\",\"lakecolor\":\"white\",\"landcolor\":\"#E5ECF6\",\"showlakes\":true,\"showland\":true,\"subunitcolor\":\"white\"},\"hoverlabel\":{\"align\":\"left\"},\"hovermode\":\"closest\",\"mapbox\":{\"style\":\"light\"},\"paper_bgcolor\":\"white\",\"plot_bgcolor\":\"#E5ECF6\",\"polar\":{\"angularaxis\":{\"gridcolor\":\"white\",\"linecolor\":\"white\",\"ticks\":\"\"},\"bgcolor\":\"#E5ECF6\",\"radialaxis\":{\"gridcolor\":\"white\",\"linecolor\":\"white\",\"ticks\":\"\"}},\"scene\":{\"xaxis\":{\"backgroundcolor\":\"#E5ECF6\",\"gridcolor\":\"white\",\"gridwidth\":2,\"linecolor\":\"white\",\"showbackground\":true,\"ticks\":\"\",\"zerolinecolor\":\"white\"},\"yaxis\":{\"backgroundcolor\":\"#E5ECF6\",\"gridcolor\":\"white\",\"gridwidth\":2,\"linecolor\":\"white\",\"showbackground\":true,\"ticks\":\"\",\"zerolinecolor\":\"white\"},\"zaxis\":{\"backgroundcolor\":\"#E5ECF6\",\"gridcolor\":\"white\",\"gridwidth\":2,\"linecolor\":\"white\",\"showbackground\":true,\"ticks\":\"\",\"zerolinecolor\":\"white\"}},\"shapedefaults\":{\"line\":{\"color\":\"#2a3f5f\"}},\"ternary\":{\"aaxis\":{\"gridcolor\":\"white\",\"linecolor\":\"white\",\"ticks\":\"\"},\"baxis\":{\"gridcolor\":\"white\",\"linecolor\":\"white\",\"ticks\":\"\"},\"bgcolor\":\"#E5ECF6\",\"caxis\":{\"gridcolor\":\"white\",\"linecolor\":\"white\",\"ticks\":\"\"}},\"title\":{\"x\":0.05},\"xaxis\":{\"automargin\":true,\"gridcolor\":\"white\",\"linecolor\":\"white\",\"ticks\":\"\",\"title\":{\"standoff\":15},\"zerolinecolor\":\"white\",\"zerolinewidth\":2},\"yaxis\":{\"automargin\":true,\"gridcolor\":\"white\",\"linecolor\":\"white\",\"ticks\":\"\",\"title\":{\"standoff\":15},\"zerolinecolor\":\"white\",\"zerolinewidth\":2}}},\"title\":{\"text\":\"Fare Frequency in the Set\"},\"xaxis\":{\"title\":{\"text\":\"Values\"}},\"yaxis\":{\"title\":{\"text\":\"Frequency\"}}},                        {\"responsive\": true}                    ).then(function(){\n",
       "                            \n",
       "var gd = document.getElementById('c9341db4-0b4e-427c-873d-4e867f556cb6');\n",
       "var x = new MutationObserver(function (mutations, observer) {{\n",
       "        var display = window.getComputedStyle(gd).display;\n",
       "        if (!display || display === 'none') {{\n",
       "            console.log([gd, 'removed!']);\n",
       "            Plotly.purge(gd);\n",
       "            observer.disconnect();\n",
       "        }}\n",
       "}});\n",
       "\n",
       "// Listen for the removal of the full notebook cells\n",
       "var notebookContainer = gd.closest('#notebook-container');\n",
       "if (notebookContainer) {{\n",
       "    x.observe(notebookContainer, {childList: true});\n",
       "}}\n",
       "\n",
       "// Listen for the clearing of the current output cell\n",
       "var outputEl = gd.closest('.output');\n",
       "if (outputEl) {{\n",
       "    x.observe(outputEl, {childList: true});\n",
       "}}\n",
       "\n",
       "                        })                };                });            </script>        </div>"
      ]
     },
     "metadata": {},
     "output_type": "display_data"
    }
   ],
   "source": [
    "hist = go.Histogram(x=dftrain['Fare'], name='Fare')\n",
    "\n",
    "layout = go.Layout(\n",
    "    title=\"Fare Frequency in the Set\",\n",
    "    xaxis=dict(title=\"Values\"),\n",
    "    yaxis=dict(title=\"Frequency\"),\n",
    ")\n",
    "\n",
    "fig = go.Figure(data=[hist], layout=layout)\n",
    "\n",
    "pyo.iplot(fig)"
   ]
  },
  {
   "cell_type": "code",
   "execution_count": 17,
   "id": "00369b80",
   "metadata": {
    "execution": {
     "iopub.execute_input": "2023-11-04T18:20:43.302760Z",
     "iopub.status.busy": "2023-11-04T18:20:43.302432Z",
     "iopub.status.idle": "2023-11-04T18:20:43.333038Z",
     "shell.execute_reply": "2023-11-04T18:20:43.331765Z"
    },
    "papermill": {
     "duration": 0.052862,
     "end_time": "2023-11-04T18:20:43.335305",
     "exception": false,
     "start_time": "2023-11-04T18:20:43.282443",
     "status": "completed"
    },
    "tags": []
   },
   "outputs": [
    {
     "data": {
      "text/html": [
       "<div>                            <div id=\"fdb05026-09b3-4700-9a41-2255398a1a56\" class=\"plotly-graph-div\" style=\"height:525px; width:100%;\"></div>            <script type=\"text/javascript\">                require([\"plotly\"], function(Plotly) {                    window.PLOTLYENV=window.PLOTLYENV || {};                                    if (document.getElementById(\"fdb05026-09b3-4700-9a41-2255398a1a56\")) {                    Plotly.newPlot(                        \"fdb05026-09b3-4700-9a41-2255398a1a56\",                        [{\"name\":\"Pclass\",\"x\":[3,1,3,1,3,3,1,3,3,2,3,1,3,3,3,2,3,2,3,3,2,2,3,1,3,3,3,1,3,3,1,1,3,2,1,1,3,3,3,3,3,2,3,2,3,3,3,3,3,3,3,3,1,2,1,1,2,3,2,3,3,1,1,3,1,3,2,3,3,3,2,3,2,3,3,3,3,3,2,3,3,3,3,1,2,3,3,3,1,3,3,3,1,3,3,3,1,1,2,2,3,3,1,3,3,3,3,3,3,3,1,3,3,3,3,3,3,2,1,3,2,3,2,2,1,3,3,3,3,3,3,3,3,2,2,2,1,1,3,1,3,3,3,3,2,2,3,3,2,2,2,1,3,3,3,1,3,3,3,3,3,2,3,3,3,3,1,3,1,3,1,3,3,3,1,3,3,1,2,3,3,2,3,2,3,1,3,1,3,3,2,2,3,2,1,1,3,3,3,2,3,3,3,3,3,3,3,3,3,1,3,2,3,2,3,1,3,2,1,2,3,2,3,3,1,3,2,3,2,3,1,3,2,3,2,3,2,2,2,2,3,3,2,3,3,1,3,2,1,2,3,3,1,3,3,3,1,1,1,2,3,3,1,1,3,2,3,3,1,1,1,3,2,1,3,1,3,2,3,3,3,3,3,3,1,3,3,3,2,3,1,1,2,3,3,1,3,1,1,1,3,3,3,2,3,1,1,1,2,1,1,1,2,3,2,3,2,2,1,1,3,3,2,2,3,1,3,2,3,1,3,1,1,3,1,3,1,1,3,1,2,1,2,2,2,2,2,3,3,3,3,1,3,3,3,3,1,2,3,3,3,2,3,3,3,3,1,3,3,1,1,3,3,1,3,1,3,1,3,3,1,3,3,1,3,2,3,2,3,2,1,3,3,1,3,3,3,2,2,2,3,3,3,3,3,2,3,2,3,3,3,3,1,2,3,3,2,2,2,3,3,3,3,3,3,3,2,2,3,3,1,3,2,3,1,1,3,2,1,2,2,3,3,2,3,1,2,1,3,1,2,3,1,1,3,3,1,1,2,3,1,3,1,2,3,3,2,1,3,3,3,3,2,2,3,1,2,3,3,3,3,2,3,3,1,3,1,1,3,3,3,3,1,1,3,3,1,3,1,3,3,3,3,3,1,1,2,1,3,3,3,3,1,1,3,1,2,3,2,3,1,3,3,1,3,3,2,1,3,2,2,3,3,3,3,2,1,1,3,1,1,3,3,2,1,1,2,2,3,2,1,2,3,3,3,1,1,1,1,3,3,3,2,3,3,3,3,3,3,3,2,1,1,3,3,3,2,1,3,3,2,1,2,1,3,1,2,1,3,3,3,1,3,3,2,3,2,3,3,1,2,3,1,3,1,3,3,1,2,1,3,3,3,3,3,2,3,3,2,2,3,1,3,3,3,1,2,1,3,3,1,3,1,1,3,2,3,2,3,3,3,1,3,3,3,1,3,1,3,3,3,2,3,3,3,2,3,3,2,1,1,3,1,3,3,2,2,3,3,1,2,1,2,2,2,3,3,3,3,1,3,1,3,3,2,2,3,3,3,1,1,3,3,3,1,2,3,3,1,3,1,1,3,3,3,2,2,1,1,3,1,1,1,3,2,3,1,2,3,3,2,3,2,2,1,3,2,3,2,3,1,3,2,2,2,3,3,1,3,3,1,1,1,3,3,1,3,2,1,3,2,3,3,3,2,2,3,2,3,1,3,3,3,1,3,1,1,3,3,3,3,3,2,3,2,3,3,3,3,1,3,1,1,3,3,3,3,3,3,1,3,2,3,1,3,2,1,3,3,3,2,2,1,3,3,3,1,3,2,1,3,3,2,3,3,1,3,2,3,3,1,3,1,3,3,3,3,2,3,1,3,2,3,3,3,1,3,3,3,1,3,2,1,3,3,3,3,3,2,1,3,3,3,1,2,3,1,1,3,3,3,2,1,3,2,2,2,1,3,3,3,1,1,3,2,3,3,3,3,1,2,3,3,2,3,3,2,1,3,1,3],\"type\":\"histogram\"}],                        {\"template\":{\"data\":{\"barpolar\":[{\"marker\":{\"line\":{\"color\":\"#E5ECF6\",\"width\":0.5},\"pattern\":{\"fillmode\":\"overlay\",\"size\":10,\"solidity\":0.2}},\"type\":\"barpolar\"}],\"bar\":[{\"error_x\":{\"color\":\"#2a3f5f\"},\"error_y\":{\"color\":\"#2a3f5f\"},\"marker\":{\"line\":{\"color\":\"#E5ECF6\",\"width\":0.5},\"pattern\":{\"fillmode\":\"overlay\",\"size\":10,\"solidity\":0.2}},\"type\":\"bar\"}],\"carpet\":[{\"aaxis\":{\"endlinecolor\":\"#2a3f5f\",\"gridcolor\":\"white\",\"linecolor\":\"white\",\"minorgridcolor\":\"white\",\"startlinecolor\":\"#2a3f5f\"},\"baxis\":{\"endlinecolor\":\"#2a3f5f\",\"gridcolor\":\"white\",\"linecolor\":\"white\",\"minorgridcolor\":\"white\",\"startlinecolor\":\"#2a3f5f\"},\"type\":\"carpet\"}],\"choropleth\":[{\"colorbar\":{\"outlinewidth\":0,\"ticks\":\"\"},\"type\":\"choropleth\"}],\"contourcarpet\":[{\"colorbar\":{\"outlinewidth\":0,\"ticks\":\"\"},\"type\":\"contourcarpet\"}],\"contour\":[{\"colorbar\":{\"outlinewidth\":0,\"ticks\":\"\"},\"colorscale\":[[0.0,\"#0d0887\"],[0.1111111111111111,\"#46039f\"],[0.2222222222222222,\"#7201a8\"],[0.3333333333333333,\"#9c179e\"],[0.4444444444444444,\"#bd3786\"],[0.5555555555555556,\"#d8576b\"],[0.6666666666666666,\"#ed7953\"],[0.7777777777777778,\"#fb9f3a\"],[0.8888888888888888,\"#fdca26\"],[1.0,\"#f0f921\"]],\"type\":\"contour\"}],\"heatmapgl\":[{\"colorbar\":{\"outlinewidth\":0,\"ticks\":\"\"},\"colorscale\":[[0.0,\"#0d0887\"],[0.1111111111111111,\"#46039f\"],[0.2222222222222222,\"#7201a8\"],[0.3333333333333333,\"#9c179e\"],[0.4444444444444444,\"#bd3786\"],[0.5555555555555556,\"#d8576b\"],[0.6666666666666666,\"#ed7953\"],[0.7777777777777778,\"#fb9f3a\"],[0.8888888888888888,\"#fdca26\"],[1.0,\"#f0f921\"]],\"type\":\"heatmapgl\"}],\"heatmap\":[{\"colorbar\":{\"outlinewidth\":0,\"ticks\":\"\"},\"colorscale\":[[0.0,\"#0d0887\"],[0.1111111111111111,\"#46039f\"],[0.2222222222222222,\"#7201a8\"],[0.3333333333333333,\"#9c179e\"],[0.4444444444444444,\"#bd3786\"],[0.5555555555555556,\"#d8576b\"],[0.6666666666666666,\"#ed7953\"],[0.7777777777777778,\"#fb9f3a\"],[0.8888888888888888,\"#fdca26\"],[1.0,\"#f0f921\"]],\"type\":\"heatmap\"}],\"histogram2dcontour\":[{\"colorbar\":{\"outlinewidth\":0,\"ticks\":\"\"},\"colorscale\":[[0.0,\"#0d0887\"],[0.1111111111111111,\"#46039f\"],[0.2222222222222222,\"#7201a8\"],[0.3333333333333333,\"#9c179e\"],[0.4444444444444444,\"#bd3786\"],[0.5555555555555556,\"#d8576b\"],[0.6666666666666666,\"#ed7953\"],[0.7777777777777778,\"#fb9f3a\"],[0.8888888888888888,\"#fdca26\"],[1.0,\"#f0f921\"]],\"type\":\"histogram2dcontour\"}],\"histogram2d\":[{\"colorbar\":{\"outlinewidth\":0,\"ticks\":\"\"},\"colorscale\":[[0.0,\"#0d0887\"],[0.1111111111111111,\"#46039f\"],[0.2222222222222222,\"#7201a8\"],[0.3333333333333333,\"#9c179e\"],[0.4444444444444444,\"#bd3786\"],[0.5555555555555556,\"#d8576b\"],[0.6666666666666666,\"#ed7953\"],[0.7777777777777778,\"#fb9f3a\"],[0.8888888888888888,\"#fdca26\"],[1.0,\"#f0f921\"]],\"type\":\"histogram2d\"}],\"histogram\":[{\"marker\":{\"pattern\":{\"fillmode\":\"overlay\",\"size\":10,\"solidity\":0.2}},\"type\":\"histogram\"}],\"mesh3d\":[{\"colorbar\":{\"outlinewidth\":0,\"ticks\":\"\"},\"type\":\"mesh3d\"}],\"parcoords\":[{\"line\":{\"colorbar\":{\"outlinewidth\":0,\"ticks\":\"\"}},\"type\":\"parcoords\"}],\"pie\":[{\"automargin\":true,\"type\":\"pie\"}],\"scatter3d\":[{\"line\":{\"colorbar\":{\"outlinewidth\":0,\"ticks\":\"\"}},\"marker\":{\"colorbar\":{\"outlinewidth\":0,\"ticks\":\"\"}},\"type\":\"scatter3d\"}],\"scattercarpet\":[{\"marker\":{\"colorbar\":{\"outlinewidth\":0,\"ticks\":\"\"}},\"type\":\"scattercarpet\"}],\"scattergeo\":[{\"marker\":{\"colorbar\":{\"outlinewidth\":0,\"ticks\":\"\"}},\"type\":\"scattergeo\"}],\"scattergl\":[{\"marker\":{\"colorbar\":{\"outlinewidth\":0,\"ticks\":\"\"}},\"type\":\"scattergl\"}],\"scattermapbox\":[{\"marker\":{\"colorbar\":{\"outlinewidth\":0,\"ticks\":\"\"}},\"type\":\"scattermapbox\"}],\"scatterpolargl\":[{\"marker\":{\"colorbar\":{\"outlinewidth\":0,\"ticks\":\"\"}},\"type\":\"scatterpolargl\"}],\"scatterpolar\":[{\"marker\":{\"colorbar\":{\"outlinewidth\":0,\"ticks\":\"\"}},\"type\":\"scatterpolar\"}],\"scatter\":[{\"fillpattern\":{\"fillmode\":\"overlay\",\"size\":10,\"solidity\":0.2},\"type\":\"scatter\"}],\"scatterternary\":[{\"marker\":{\"colorbar\":{\"outlinewidth\":0,\"ticks\":\"\"}},\"type\":\"scatterternary\"}],\"surface\":[{\"colorbar\":{\"outlinewidth\":0,\"ticks\":\"\"},\"colorscale\":[[0.0,\"#0d0887\"],[0.1111111111111111,\"#46039f\"],[0.2222222222222222,\"#7201a8\"],[0.3333333333333333,\"#9c179e\"],[0.4444444444444444,\"#bd3786\"],[0.5555555555555556,\"#d8576b\"],[0.6666666666666666,\"#ed7953\"],[0.7777777777777778,\"#fb9f3a\"],[0.8888888888888888,\"#fdca26\"],[1.0,\"#f0f921\"]],\"type\":\"surface\"}],\"table\":[{\"cells\":{\"fill\":{\"color\":\"#EBF0F8\"},\"line\":{\"color\":\"white\"}},\"header\":{\"fill\":{\"color\":\"#C8D4E3\"},\"line\":{\"color\":\"white\"}},\"type\":\"table\"}]},\"layout\":{\"annotationdefaults\":{\"arrowcolor\":\"#2a3f5f\",\"arrowhead\":0,\"arrowwidth\":1},\"autotypenumbers\":\"strict\",\"coloraxis\":{\"colorbar\":{\"outlinewidth\":0,\"ticks\":\"\"}},\"colorscale\":{\"diverging\":[[0,\"#8e0152\"],[0.1,\"#c51b7d\"],[0.2,\"#de77ae\"],[0.3,\"#f1b6da\"],[0.4,\"#fde0ef\"],[0.5,\"#f7f7f7\"],[0.6,\"#e6f5d0\"],[0.7,\"#b8e186\"],[0.8,\"#7fbc41\"],[0.9,\"#4d9221\"],[1,\"#276419\"]],\"sequential\":[[0.0,\"#0d0887\"],[0.1111111111111111,\"#46039f\"],[0.2222222222222222,\"#7201a8\"],[0.3333333333333333,\"#9c179e\"],[0.4444444444444444,\"#bd3786\"],[0.5555555555555556,\"#d8576b\"],[0.6666666666666666,\"#ed7953\"],[0.7777777777777778,\"#fb9f3a\"],[0.8888888888888888,\"#fdca26\"],[1.0,\"#f0f921\"]],\"sequentialminus\":[[0.0,\"#0d0887\"],[0.1111111111111111,\"#46039f\"],[0.2222222222222222,\"#7201a8\"],[0.3333333333333333,\"#9c179e\"],[0.4444444444444444,\"#bd3786\"],[0.5555555555555556,\"#d8576b\"],[0.6666666666666666,\"#ed7953\"],[0.7777777777777778,\"#fb9f3a\"],[0.8888888888888888,\"#fdca26\"],[1.0,\"#f0f921\"]]},\"colorway\":[\"#636efa\",\"#EF553B\",\"#00cc96\",\"#ab63fa\",\"#FFA15A\",\"#19d3f3\",\"#FF6692\",\"#B6E880\",\"#FF97FF\",\"#FECB52\"],\"font\":{\"color\":\"#2a3f5f\"},\"geo\":{\"bgcolor\":\"white\",\"lakecolor\":\"white\",\"landcolor\":\"#E5ECF6\",\"showlakes\":true,\"showland\":true,\"subunitcolor\":\"white\"},\"hoverlabel\":{\"align\":\"left\"},\"hovermode\":\"closest\",\"mapbox\":{\"style\":\"light\"},\"paper_bgcolor\":\"white\",\"plot_bgcolor\":\"#E5ECF6\",\"polar\":{\"angularaxis\":{\"gridcolor\":\"white\",\"linecolor\":\"white\",\"ticks\":\"\"},\"bgcolor\":\"#E5ECF6\",\"radialaxis\":{\"gridcolor\":\"white\",\"linecolor\":\"white\",\"ticks\":\"\"}},\"scene\":{\"xaxis\":{\"backgroundcolor\":\"#E5ECF6\",\"gridcolor\":\"white\",\"gridwidth\":2,\"linecolor\":\"white\",\"showbackground\":true,\"ticks\":\"\",\"zerolinecolor\":\"white\"},\"yaxis\":{\"backgroundcolor\":\"#E5ECF6\",\"gridcolor\":\"white\",\"gridwidth\":2,\"linecolor\":\"white\",\"showbackground\":true,\"ticks\":\"\",\"zerolinecolor\":\"white\"},\"zaxis\":{\"backgroundcolor\":\"#E5ECF6\",\"gridcolor\":\"white\",\"gridwidth\":2,\"linecolor\":\"white\",\"showbackground\":true,\"ticks\":\"\",\"zerolinecolor\":\"white\"}},\"shapedefaults\":{\"line\":{\"color\":\"#2a3f5f\"}},\"ternary\":{\"aaxis\":{\"gridcolor\":\"white\",\"linecolor\":\"white\",\"ticks\":\"\"},\"baxis\":{\"gridcolor\":\"white\",\"linecolor\":\"white\",\"ticks\":\"\"},\"bgcolor\":\"#E5ECF6\",\"caxis\":{\"gridcolor\":\"white\",\"linecolor\":\"white\",\"ticks\":\"\"}},\"title\":{\"x\":0.05},\"xaxis\":{\"automargin\":true,\"gridcolor\":\"white\",\"linecolor\":\"white\",\"ticks\":\"\",\"title\":{\"standoff\":15},\"zerolinecolor\":\"white\",\"zerolinewidth\":2},\"yaxis\":{\"automargin\":true,\"gridcolor\":\"white\",\"linecolor\":\"white\",\"ticks\":\"\",\"title\":{\"standoff\":15},\"zerolinecolor\":\"white\",\"zerolinewidth\":2}}},\"title\":{\"text\":\"Pclass Frequency in the Set\"},\"xaxis\":{\"title\":{\"text\":\"Values\"}},\"yaxis\":{\"title\":{\"text\":\"Frequency\"}}},                        {\"responsive\": true}                    ).then(function(){\n",
       "                            \n",
       "var gd = document.getElementById('fdb05026-09b3-4700-9a41-2255398a1a56');\n",
       "var x = new MutationObserver(function (mutations, observer) {{\n",
       "        var display = window.getComputedStyle(gd).display;\n",
       "        if (!display || display === 'none') {{\n",
       "            console.log([gd, 'removed!']);\n",
       "            Plotly.purge(gd);\n",
       "            observer.disconnect();\n",
       "        }}\n",
       "}});\n",
       "\n",
       "// Listen for the removal of the full notebook cells\n",
       "var notebookContainer = gd.closest('#notebook-container');\n",
       "if (notebookContainer) {{\n",
       "    x.observe(notebookContainer, {childList: true});\n",
       "}}\n",
       "\n",
       "// Listen for the clearing of the current output cell\n",
       "var outputEl = gd.closest('.output');\n",
       "if (outputEl) {{\n",
       "    x.observe(outputEl, {childList: true});\n",
       "}}\n",
       "\n",
       "                        })                };                });            </script>        </div>"
      ]
     },
     "metadata": {},
     "output_type": "display_data"
    }
   ],
   "source": [
    "hist = go.Histogram(x=dftrain['Pclass'], name='Pclass')\n",
    "\n",
    "layout = go.Layout(\n",
    "    title=\"Pclass Frequency in the Set\",\n",
    "    xaxis=dict(title=\"Values\"),\n",
    "    yaxis=dict(title=\"Frequency\"),\n",
    ")\n",
    "\n",
    "fig = go.Figure(data=[hist], layout=layout)\n",
    "\n",
    "pyo.iplot(fig)"
   ]
  },
  {
   "cell_type": "code",
   "execution_count": 18,
   "id": "585f0d74",
   "metadata": {
    "execution": {
     "iopub.execute_input": "2023-11-04T18:20:43.373693Z",
     "iopub.status.busy": "2023-11-04T18:20:43.373352Z",
     "iopub.status.idle": "2023-11-04T18:20:43.403817Z",
     "shell.execute_reply": "2023-11-04T18:20:43.402520Z"
    },
    "papermill": {
     "duration": 0.052469,
     "end_time": "2023-11-04T18:20:43.406243",
     "exception": false,
     "start_time": "2023-11-04T18:20:43.353774",
     "status": "completed"
    },
    "tags": []
   },
   "outputs": [
    {
     "data": {
      "text/html": [
       "<div>                            <div id=\"df2074c5-7cd5-4968-a9ba-92d9f5180527\" class=\"plotly-graph-div\" style=\"height:525px; width:100%;\"></div>            <script type=\"text/javascript\">                require([\"plotly\"], function(Plotly) {                    window.PLOTLYENV=window.PLOTLYENV || {};                                    if (document.getElementById(\"df2074c5-7cd5-4968-a9ba-92d9f5180527\")) {                    Plotly.newPlot(                        \"df2074c5-7cd5-4968-a9ba-92d9f5180527\",                        [{\"name\":\"SibSp\",\"x\":[1,1,0,1,0,0,0,3,0,1,1,0,0,1,0,0,4,0,1,0,0,0,0,0,3,1,0,3,0,0,0,1,0,0,1,1,0,0,2,1,1,1,0,1,0,0,1,0,2,1,4,0,1,1,0,0,0,0,1,5,0,0,1,3,0,1,0,0,4,2,0,5,0,1,0,0,0,0,0,0,0,0,0,0,0,3,1,0,3,0,0,0,1,1,0,0,0,0,0,1,0,0,0,0,2,0,0,0,0,1,0,1,0,1,0,0,0,1,0,4,2,0,1,0,0,1,0,0,1,0,0,0,1,1,0,0,0,1,0,0,0,0,1,0,0,1,0,2,0,0,0,1,0,0,0,0,0,0,0,8,0,0,0,0,4,0,0,1,0,0,0,4,1,0,0,1,3,0,0,0,8,0,4,2,0,0,1,0,1,0,0,0,1,1,0,0,0,0,0,0,0,8,0,0,0,0,1,0,0,0,0,0,0,0,1,1,0,1,0,0,0,0,0,0,1,0,0,0,0,3,1,0,0,4,0,0,1,0,0,0,1,1,0,0,0,2,0,0,1,1,0,1,0,1,0,0,0,0,0,0,0,4,1,0,0,0,4,1,0,0,0,0,0,0,0,1,0,0,4,1,0,0,0,0,0,0,0,0,0,0,0,1,0,0,0,0,0,1,0,0,0,2,0,0,0,1,0,1,1,0,0,2,1,0,1,0,1,0,0,1,0,0,0,1,8,0,0,0,1,0,2,0,0,2,1,0,1,0,0,0,1,3,0,0,0,0,0,1,1,0,0,0,1,1,0,0,0,0,0,0,1,1,0,0,1,0,1,0,0,0,1,1,0,0,3,1,0,0,0,0,0,0,0,1,0,0,5,0,0,0,1,0,2,1,0,0,0,0,0,0,0,0,1,1,0,1,0,1,0,3,0,0,1,0,0,0,1,0,0,0,0,0,0,1,1,0,1,0,0,0,0,1,1,0,1,1,2,2,1,0,1,0,1,0,0,0,0,0,2,0,1,1,0,1,0,0,0,1,0,0,0,0,0,0,0,0,0,0,0,2,0,0,1,0,0,0,1,1,0,0,5,0,0,0,1,3,1,0,0,1,1,0,0,0,0,0,1,0,1,0,0,0,0,0,0,1,0,0,0,0,0,0,0,1,0,0,0,0,1,0,0,0,0,0,0,0,0,0,0,2,1,0,1,0,0,0,0,0,0,0,0,4,4,1,1,0,1,0,1,1,0,0,0,0,0,0,1,0,1,1,0,0,0,0,0,2,0,0,0,0,0,2,0,0,0,0,0,1,1,0,1,1,0,0,0,0,0,1,0,0,0,1,0,0,1,1,0,0,0,1,2,0,0,0,0,1,0,0,1,0,1,0,1,0,0,1,1,1,2,0,1,1,1,0,0,0,0,0,0,0,0,0,0,0,3,0,0,1,0,1,0,0,3,0,2,1,0,0,0,0,0,0,0,0,0,2,0,1,0,0,2,0,0,0,1,2,0,0,0,1,1,1,0,0,0,0,0,0,1,0,0,0,0,5,1,1,4,0,0,0,1,0,0,0,0,0,0,0,1,0,1,0,0,0,1,0,0,0,0,1,0,0,1,0,0,0,0,0,0,0,0,1,0,0,1,0,3,0,1,1,0,0,0,0,0,0,1,0,0,0,0,1,2,1,0,1,1,0,1,0,1,0,0,0,1,1,0,0,0,0,0,0,0,1,0,1,0,0,1,0,0,0,0,0,1,0,0,0,0,0,0,1,0,1,0,0,0,4,1,0,0,0,8,0,0,0,0,0,0,1,0,1,1,0,0,0,0,0,0,1,0,0,0,4,0,0,0,1,0,3,1,0,0,0,4,0,0,0,0,0,1,1,0,0,0,1,0,0,0,0,0,0,0,0,0,0,8,0,0,1,4,0,1,0,1,0,1,0,0,0,2,1,0,8,0,0,1,0,0,1,0,1,0,0,1,0,0,0,0,0,0,0,0,0,0,0,0,0,1,0,0],\"type\":\"histogram\"}],                        {\"template\":{\"data\":{\"barpolar\":[{\"marker\":{\"line\":{\"color\":\"#E5ECF6\",\"width\":0.5},\"pattern\":{\"fillmode\":\"overlay\",\"size\":10,\"solidity\":0.2}},\"type\":\"barpolar\"}],\"bar\":[{\"error_x\":{\"color\":\"#2a3f5f\"},\"error_y\":{\"color\":\"#2a3f5f\"},\"marker\":{\"line\":{\"color\":\"#E5ECF6\",\"width\":0.5},\"pattern\":{\"fillmode\":\"overlay\",\"size\":10,\"solidity\":0.2}},\"type\":\"bar\"}],\"carpet\":[{\"aaxis\":{\"endlinecolor\":\"#2a3f5f\",\"gridcolor\":\"white\",\"linecolor\":\"white\",\"minorgridcolor\":\"white\",\"startlinecolor\":\"#2a3f5f\"},\"baxis\":{\"endlinecolor\":\"#2a3f5f\",\"gridcolor\":\"white\",\"linecolor\":\"white\",\"minorgridcolor\":\"white\",\"startlinecolor\":\"#2a3f5f\"},\"type\":\"carpet\"}],\"choropleth\":[{\"colorbar\":{\"outlinewidth\":0,\"ticks\":\"\"},\"type\":\"choropleth\"}],\"contourcarpet\":[{\"colorbar\":{\"outlinewidth\":0,\"ticks\":\"\"},\"type\":\"contourcarpet\"}],\"contour\":[{\"colorbar\":{\"outlinewidth\":0,\"ticks\":\"\"},\"colorscale\":[[0.0,\"#0d0887\"],[0.1111111111111111,\"#46039f\"],[0.2222222222222222,\"#7201a8\"],[0.3333333333333333,\"#9c179e\"],[0.4444444444444444,\"#bd3786\"],[0.5555555555555556,\"#d8576b\"],[0.6666666666666666,\"#ed7953\"],[0.7777777777777778,\"#fb9f3a\"],[0.8888888888888888,\"#fdca26\"],[1.0,\"#f0f921\"]],\"type\":\"contour\"}],\"heatmapgl\":[{\"colorbar\":{\"outlinewidth\":0,\"ticks\":\"\"},\"colorscale\":[[0.0,\"#0d0887\"],[0.1111111111111111,\"#46039f\"],[0.2222222222222222,\"#7201a8\"],[0.3333333333333333,\"#9c179e\"],[0.4444444444444444,\"#bd3786\"],[0.5555555555555556,\"#d8576b\"],[0.6666666666666666,\"#ed7953\"],[0.7777777777777778,\"#fb9f3a\"],[0.8888888888888888,\"#fdca26\"],[1.0,\"#f0f921\"]],\"type\":\"heatmapgl\"}],\"heatmap\":[{\"colorbar\":{\"outlinewidth\":0,\"ticks\":\"\"},\"colorscale\":[[0.0,\"#0d0887\"],[0.1111111111111111,\"#46039f\"],[0.2222222222222222,\"#7201a8\"],[0.3333333333333333,\"#9c179e\"],[0.4444444444444444,\"#bd3786\"],[0.5555555555555556,\"#d8576b\"],[0.6666666666666666,\"#ed7953\"],[0.7777777777777778,\"#fb9f3a\"],[0.8888888888888888,\"#fdca26\"],[1.0,\"#f0f921\"]],\"type\":\"heatmap\"}],\"histogram2dcontour\":[{\"colorbar\":{\"outlinewidth\":0,\"ticks\":\"\"},\"colorscale\":[[0.0,\"#0d0887\"],[0.1111111111111111,\"#46039f\"],[0.2222222222222222,\"#7201a8\"],[0.3333333333333333,\"#9c179e\"],[0.4444444444444444,\"#bd3786\"],[0.5555555555555556,\"#d8576b\"],[0.6666666666666666,\"#ed7953\"],[0.7777777777777778,\"#fb9f3a\"],[0.8888888888888888,\"#fdca26\"],[1.0,\"#f0f921\"]],\"type\":\"histogram2dcontour\"}],\"histogram2d\":[{\"colorbar\":{\"outlinewidth\":0,\"ticks\":\"\"},\"colorscale\":[[0.0,\"#0d0887\"],[0.1111111111111111,\"#46039f\"],[0.2222222222222222,\"#7201a8\"],[0.3333333333333333,\"#9c179e\"],[0.4444444444444444,\"#bd3786\"],[0.5555555555555556,\"#d8576b\"],[0.6666666666666666,\"#ed7953\"],[0.7777777777777778,\"#fb9f3a\"],[0.8888888888888888,\"#fdca26\"],[1.0,\"#f0f921\"]],\"type\":\"histogram2d\"}],\"histogram\":[{\"marker\":{\"pattern\":{\"fillmode\":\"overlay\",\"size\":10,\"solidity\":0.2}},\"type\":\"histogram\"}],\"mesh3d\":[{\"colorbar\":{\"outlinewidth\":0,\"ticks\":\"\"},\"type\":\"mesh3d\"}],\"parcoords\":[{\"line\":{\"colorbar\":{\"outlinewidth\":0,\"ticks\":\"\"}},\"type\":\"parcoords\"}],\"pie\":[{\"automargin\":true,\"type\":\"pie\"}],\"scatter3d\":[{\"line\":{\"colorbar\":{\"outlinewidth\":0,\"ticks\":\"\"}},\"marker\":{\"colorbar\":{\"outlinewidth\":0,\"ticks\":\"\"}},\"type\":\"scatter3d\"}],\"scattercarpet\":[{\"marker\":{\"colorbar\":{\"outlinewidth\":0,\"ticks\":\"\"}},\"type\":\"scattercarpet\"}],\"scattergeo\":[{\"marker\":{\"colorbar\":{\"outlinewidth\":0,\"ticks\":\"\"}},\"type\":\"scattergeo\"}],\"scattergl\":[{\"marker\":{\"colorbar\":{\"outlinewidth\":0,\"ticks\":\"\"}},\"type\":\"scattergl\"}],\"scattermapbox\":[{\"marker\":{\"colorbar\":{\"outlinewidth\":0,\"ticks\":\"\"}},\"type\":\"scattermapbox\"}],\"scatterpolargl\":[{\"marker\":{\"colorbar\":{\"outlinewidth\":0,\"ticks\":\"\"}},\"type\":\"scatterpolargl\"}],\"scatterpolar\":[{\"marker\":{\"colorbar\":{\"outlinewidth\":0,\"ticks\":\"\"}},\"type\":\"scatterpolar\"}],\"scatter\":[{\"fillpattern\":{\"fillmode\":\"overlay\",\"size\":10,\"solidity\":0.2},\"type\":\"scatter\"}],\"scatterternary\":[{\"marker\":{\"colorbar\":{\"outlinewidth\":0,\"ticks\":\"\"}},\"type\":\"scatterternary\"}],\"surface\":[{\"colorbar\":{\"outlinewidth\":0,\"ticks\":\"\"},\"colorscale\":[[0.0,\"#0d0887\"],[0.1111111111111111,\"#46039f\"],[0.2222222222222222,\"#7201a8\"],[0.3333333333333333,\"#9c179e\"],[0.4444444444444444,\"#bd3786\"],[0.5555555555555556,\"#d8576b\"],[0.6666666666666666,\"#ed7953\"],[0.7777777777777778,\"#fb9f3a\"],[0.8888888888888888,\"#fdca26\"],[1.0,\"#f0f921\"]],\"type\":\"surface\"}],\"table\":[{\"cells\":{\"fill\":{\"color\":\"#EBF0F8\"},\"line\":{\"color\":\"white\"}},\"header\":{\"fill\":{\"color\":\"#C8D4E3\"},\"line\":{\"color\":\"white\"}},\"type\":\"table\"}]},\"layout\":{\"annotationdefaults\":{\"arrowcolor\":\"#2a3f5f\",\"arrowhead\":0,\"arrowwidth\":1},\"autotypenumbers\":\"strict\",\"coloraxis\":{\"colorbar\":{\"outlinewidth\":0,\"ticks\":\"\"}},\"colorscale\":{\"diverging\":[[0,\"#8e0152\"],[0.1,\"#c51b7d\"],[0.2,\"#de77ae\"],[0.3,\"#f1b6da\"],[0.4,\"#fde0ef\"],[0.5,\"#f7f7f7\"],[0.6,\"#e6f5d0\"],[0.7,\"#b8e186\"],[0.8,\"#7fbc41\"],[0.9,\"#4d9221\"],[1,\"#276419\"]],\"sequential\":[[0.0,\"#0d0887\"],[0.1111111111111111,\"#46039f\"],[0.2222222222222222,\"#7201a8\"],[0.3333333333333333,\"#9c179e\"],[0.4444444444444444,\"#bd3786\"],[0.5555555555555556,\"#d8576b\"],[0.6666666666666666,\"#ed7953\"],[0.7777777777777778,\"#fb9f3a\"],[0.8888888888888888,\"#fdca26\"],[1.0,\"#f0f921\"]],\"sequentialminus\":[[0.0,\"#0d0887\"],[0.1111111111111111,\"#46039f\"],[0.2222222222222222,\"#7201a8\"],[0.3333333333333333,\"#9c179e\"],[0.4444444444444444,\"#bd3786\"],[0.5555555555555556,\"#d8576b\"],[0.6666666666666666,\"#ed7953\"],[0.7777777777777778,\"#fb9f3a\"],[0.8888888888888888,\"#fdca26\"],[1.0,\"#f0f921\"]]},\"colorway\":[\"#636efa\",\"#EF553B\",\"#00cc96\",\"#ab63fa\",\"#FFA15A\",\"#19d3f3\",\"#FF6692\",\"#B6E880\",\"#FF97FF\",\"#FECB52\"],\"font\":{\"color\":\"#2a3f5f\"},\"geo\":{\"bgcolor\":\"white\",\"lakecolor\":\"white\",\"landcolor\":\"#E5ECF6\",\"showlakes\":true,\"showland\":true,\"subunitcolor\":\"white\"},\"hoverlabel\":{\"align\":\"left\"},\"hovermode\":\"closest\",\"mapbox\":{\"style\":\"light\"},\"paper_bgcolor\":\"white\",\"plot_bgcolor\":\"#E5ECF6\",\"polar\":{\"angularaxis\":{\"gridcolor\":\"white\",\"linecolor\":\"white\",\"ticks\":\"\"},\"bgcolor\":\"#E5ECF6\",\"radialaxis\":{\"gridcolor\":\"white\",\"linecolor\":\"white\",\"ticks\":\"\"}},\"scene\":{\"xaxis\":{\"backgroundcolor\":\"#E5ECF6\",\"gridcolor\":\"white\",\"gridwidth\":2,\"linecolor\":\"white\",\"showbackground\":true,\"ticks\":\"\",\"zerolinecolor\":\"white\"},\"yaxis\":{\"backgroundcolor\":\"#E5ECF6\",\"gridcolor\":\"white\",\"gridwidth\":2,\"linecolor\":\"white\",\"showbackground\":true,\"ticks\":\"\",\"zerolinecolor\":\"white\"},\"zaxis\":{\"backgroundcolor\":\"#E5ECF6\",\"gridcolor\":\"white\",\"gridwidth\":2,\"linecolor\":\"white\",\"showbackground\":true,\"ticks\":\"\",\"zerolinecolor\":\"white\"}},\"shapedefaults\":{\"line\":{\"color\":\"#2a3f5f\"}},\"ternary\":{\"aaxis\":{\"gridcolor\":\"white\",\"linecolor\":\"white\",\"ticks\":\"\"},\"baxis\":{\"gridcolor\":\"white\",\"linecolor\":\"white\",\"ticks\":\"\"},\"bgcolor\":\"#E5ECF6\",\"caxis\":{\"gridcolor\":\"white\",\"linecolor\":\"white\",\"ticks\":\"\"}},\"title\":{\"x\":0.05},\"xaxis\":{\"automargin\":true,\"gridcolor\":\"white\",\"linecolor\":\"white\",\"ticks\":\"\",\"title\":{\"standoff\":15},\"zerolinecolor\":\"white\",\"zerolinewidth\":2},\"yaxis\":{\"automargin\":true,\"gridcolor\":\"white\",\"linecolor\":\"white\",\"ticks\":\"\",\"title\":{\"standoff\":15},\"zerolinecolor\":\"white\",\"zerolinewidth\":2}}},\"title\":{\"text\":\"SibSp Frequency in the Set\"},\"xaxis\":{\"title\":{\"text\":\"Values\"}},\"yaxis\":{\"title\":{\"text\":\"Frequency\"}}},                        {\"responsive\": true}                    ).then(function(){\n",
       "                            \n",
       "var gd = document.getElementById('df2074c5-7cd5-4968-a9ba-92d9f5180527');\n",
       "var x = new MutationObserver(function (mutations, observer) {{\n",
       "        var display = window.getComputedStyle(gd).display;\n",
       "        if (!display || display === 'none') {{\n",
       "            console.log([gd, 'removed!']);\n",
       "            Plotly.purge(gd);\n",
       "            observer.disconnect();\n",
       "        }}\n",
       "}});\n",
       "\n",
       "// Listen for the removal of the full notebook cells\n",
       "var notebookContainer = gd.closest('#notebook-container');\n",
       "if (notebookContainer) {{\n",
       "    x.observe(notebookContainer, {childList: true});\n",
       "}}\n",
       "\n",
       "// Listen for the clearing of the current output cell\n",
       "var outputEl = gd.closest('.output');\n",
       "if (outputEl) {{\n",
       "    x.observe(outputEl, {childList: true});\n",
       "}}\n",
       "\n",
       "                        })                };                });            </script>        </div>"
      ]
     },
     "metadata": {},
     "output_type": "display_data"
    }
   ],
   "source": [
    "hist = go.Histogram(x=dftrain['SibSp'], name='SibSp')\n",
    "\n",
    "layout = go.Layout(\n",
    "    title=\"SibSp Frequency in the Set\",\n",
    "    xaxis=dict(title=\"Values\"),\n",
    "    yaxis=dict(title=\"Frequency\"),\n",
    ")\n",
    "\n",
    "fig = go.Figure(data=[hist], layout=layout)\n",
    "\n",
    "pyo.iplot(fig)"
   ]
  },
  {
   "cell_type": "code",
   "execution_count": 19,
   "id": "67c672b2",
   "metadata": {
    "execution": {
     "iopub.execute_input": "2023-11-04T18:20:43.443142Z",
     "iopub.status.busy": "2023-11-04T18:20:43.442819Z",
     "iopub.status.idle": "2023-11-04T18:20:43.468243Z",
     "shell.execute_reply": "2023-11-04T18:20:43.467201Z"
    },
    "papermill": {
     "duration": 0.046155,
     "end_time": "2023-11-04T18:20:43.470119",
     "exception": false,
     "start_time": "2023-11-04T18:20:43.423964",
     "status": "completed"
    },
    "tags": []
   },
   "outputs": [
    {
     "data": {
      "text/html": [
       "<div>                            <div id=\"70ef41b4-5bf7-4950-ba63-dabc7f633eed\" class=\"plotly-graph-div\" style=\"height:525px; width:100%;\"></div>            <script type=\"text/javascript\">                require([\"plotly\"], function(Plotly) {                    window.PLOTLYENV=window.PLOTLYENV || {};                                    if (document.getElementById(\"70ef41b4-5bf7-4950-ba63-dabc7f633eed\")) {                    Plotly.newPlot(                        \"70ef41b4-5bf7-4950-ba63-dabc7f633eed\",                        [{\"name\":\"ParCh\",\"x\":[0,0,0,0,0,0,0,1,2,0,1,0,0,5,0,0,1,0,0,0,0,0,0,0,1,5,0,2,0,0,0,0,0,0,0,0,0,0,0,0,0,0,0,2,0,0,0,0,0,0,1,0,0,0,1,0,0,0,2,2,0,0,0,2,0,1,0,0,2,0,0,2,0,0,0,0,0,0,2,0,0,0,0,0,0,0,3,0,2,0,0,0,0,2,0,0,0,1,1,0,0,0,1,0,0,0,0,0,0,0,0,0,0,0,0,0,0,0,1,2,0,0,0,0,1,0,0,0,1,0,0,0,0,0,0,0,2,0,0,0,2,0,0,0,0,1,0,2,2,0,0,0,0,2,0,1,0,0,0,2,1,0,0,0,1,2,1,4,0,0,0,1,1,0,0,1,1,0,0,0,2,0,2,1,2,0,0,0,1,0,0,0,0,1,0,0,0,1,0,0,0,2,0,0,0,1,0,0,0,0,0,0,0,0,0,0,0,0,0,0,0,0,0,0,0,0,0,0,0,1,0,0,0,2,0,0,0,2,0,0,0,0,0,0,0,0,0,2,1,0,0,1,0,0,2,2,0,0,0,1,0,2,1,0,0,0,1,0,1,0,0,0,1,1,0,0,0,0,1,1,0,0,0,0,0,0,0,0,0,0,0,0,0,0,0,0,0,2,0,1,0,0,0,0,0,2,0,0,0,0,0,2,1,0,1,0,0,0,2,1,0,0,0,1,2,0,0,0,1,1,0,0,1,0,0,0,0,0,0,0,1,2,0,0,0,0,0,0,1,0,0,0,1,0,0,0,1,0,0,0,4,0,1,0,0,0,0,0,0,0,0,0,0,0,1,0,0,2,0,0,0,2,0,0,0,0,2,0,0,0,2,0,0,0,2,0,0,0,0,0,0,0,0,0,0,0,0,1,0,1,0,0,0,0,0,0,1,2,0,2,0,0,0,1,1,0,0,0,0,0,0,0,0,0,0,2,2,3,4,0,1,0,0,0,0,2,1,0,1,0,2,0,0,0,0,0,0,0,0,0,0,0,0,0,0,0,0,0,0,1,0,0,2,0,0,0,0,0,0,1,2,0,0,0,0,1,0,0,0,1,0,0,0,0,0,0,0,0,2,0,0,0,0,0,0,0,2,0,0,0,0,0,0,0,0,0,0,0,0,0,0,0,0,1,0,0,0,0,0,1,1,0,1,2,0,2,0,0,0,2,2,2,2,0,0,0,0,0,1,1,2,0,0,0,0,0,0,0,1,0,0,0,0,0,0,0,0,4,0,0,0,0,0,0,0,0,0,0,0,0,1,1,0,0,0,2,0,1,0,0,0,0,0,2,0,1,0,0,0,0,1,0,0,0,0,0,0,0,2,0,5,0,0,0,0,2,1,0,1,0,0,0,1,0,0,0,0,0,0,0,0,0,0,0,2,0,0,1,5,0,0,0,2,0,1,0,0,0,0,0,0,1,0,0,0,0,0,1,0,2,0,0,0,0,0,0,0,0,0,0,1,0,0,0,0,0,0,0,6,1,0,0,0,2,1,2,1,0,0,1,0,1,0,0,0,0,0,0,1,0,0,0,1,0,0,0,0,0,0,1,0,0,0,0,0,0,0,0,0,0,1,0,0,0,0,0,0,0,0,0,0,0,0,0,0,0,3,0,0,0,0,0,2,0,0,1,1,0,0,0,1,1,0,0,2,1,0,0,0,0,0,0,0,2,0,0,0,0,0,0,0,0,0,0,3,0,0,0,0,1,0,0,0,2,0,0,0,1,2,0,0,0,2,0,0,0,0,0,0,1,0,1,2,1,0,0,0,0,0,0,0,0,0,2,0,0,0,1,0,2,1,0,0,1,1,0,0,2,0,0,0,1,0,0,0,1,0,0,0,0,0,0,0,0,0,0,2,0,1,0,2,0,1,1,0,1,1,0,3,0,0,0,0,2,0,0,0,0,0,1,0,1,0,0,0,0,0,0,0,1,1,0,0,0,0,5,0,0,2,0,0],\"type\":\"histogram\"}],                        {\"template\":{\"data\":{\"barpolar\":[{\"marker\":{\"line\":{\"color\":\"#E5ECF6\",\"width\":0.5},\"pattern\":{\"fillmode\":\"overlay\",\"size\":10,\"solidity\":0.2}},\"type\":\"barpolar\"}],\"bar\":[{\"error_x\":{\"color\":\"#2a3f5f\"},\"error_y\":{\"color\":\"#2a3f5f\"},\"marker\":{\"line\":{\"color\":\"#E5ECF6\",\"width\":0.5},\"pattern\":{\"fillmode\":\"overlay\",\"size\":10,\"solidity\":0.2}},\"type\":\"bar\"}],\"carpet\":[{\"aaxis\":{\"endlinecolor\":\"#2a3f5f\",\"gridcolor\":\"white\",\"linecolor\":\"white\",\"minorgridcolor\":\"white\",\"startlinecolor\":\"#2a3f5f\"},\"baxis\":{\"endlinecolor\":\"#2a3f5f\",\"gridcolor\":\"white\",\"linecolor\":\"white\",\"minorgridcolor\":\"white\",\"startlinecolor\":\"#2a3f5f\"},\"type\":\"carpet\"}],\"choropleth\":[{\"colorbar\":{\"outlinewidth\":0,\"ticks\":\"\"},\"type\":\"choropleth\"}],\"contourcarpet\":[{\"colorbar\":{\"outlinewidth\":0,\"ticks\":\"\"},\"type\":\"contourcarpet\"}],\"contour\":[{\"colorbar\":{\"outlinewidth\":0,\"ticks\":\"\"},\"colorscale\":[[0.0,\"#0d0887\"],[0.1111111111111111,\"#46039f\"],[0.2222222222222222,\"#7201a8\"],[0.3333333333333333,\"#9c179e\"],[0.4444444444444444,\"#bd3786\"],[0.5555555555555556,\"#d8576b\"],[0.6666666666666666,\"#ed7953\"],[0.7777777777777778,\"#fb9f3a\"],[0.8888888888888888,\"#fdca26\"],[1.0,\"#f0f921\"]],\"type\":\"contour\"}],\"heatmapgl\":[{\"colorbar\":{\"outlinewidth\":0,\"ticks\":\"\"},\"colorscale\":[[0.0,\"#0d0887\"],[0.1111111111111111,\"#46039f\"],[0.2222222222222222,\"#7201a8\"],[0.3333333333333333,\"#9c179e\"],[0.4444444444444444,\"#bd3786\"],[0.5555555555555556,\"#d8576b\"],[0.6666666666666666,\"#ed7953\"],[0.7777777777777778,\"#fb9f3a\"],[0.8888888888888888,\"#fdca26\"],[1.0,\"#f0f921\"]],\"type\":\"heatmapgl\"}],\"heatmap\":[{\"colorbar\":{\"outlinewidth\":0,\"ticks\":\"\"},\"colorscale\":[[0.0,\"#0d0887\"],[0.1111111111111111,\"#46039f\"],[0.2222222222222222,\"#7201a8\"],[0.3333333333333333,\"#9c179e\"],[0.4444444444444444,\"#bd3786\"],[0.5555555555555556,\"#d8576b\"],[0.6666666666666666,\"#ed7953\"],[0.7777777777777778,\"#fb9f3a\"],[0.8888888888888888,\"#fdca26\"],[1.0,\"#f0f921\"]],\"type\":\"heatmap\"}],\"histogram2dcontour\":[{\"colorbar\":{\"outlinewidth\":0,\"ticks\":\"\"},\"colorscale\":[[0.0,\"#0d0887\"],[0.1111111111111111,\"#46039f\"],[0.2222222222222222,\"#7201a8\"],[0.3333333333333333,\"#9c179e\"],[0.4444444444444444,\"#bd3786\"],[0.5555555555555556,\"#d8576b\"],[0.6666666666666666,\"#ed7953\"],[0.7777777777777778,\"#fb9f3a\"],[0.8888888888888888,\"#fdca26\"],[1.0,\"#f0f921\"]],\"type\":\"histogram2dcontour\"}],\"histogram2d\":[{\"colorbar\":{\"outlinewidth\":0,\"ticks\":\"\"},\"colorscale\":[[0.0,\"#0d0887\"],[0.1111111111111111,\"#46039f\"],[0.2222222222222222,\"#7201a8\"],[0.3333333333333333,\"#9c179e\"],[0.4444444444444444,\"#bd3786\"],[0.5555555555555556,\"#d8576b\"],[0.6666666666666666,\"#ed7953\"],[0.7777777777777778,\"#fb9f3a\"],[0.8888888888888888,\"#fdca26\"],[1.0,\"#f0f921\"]],\"type\":\"histogram2d\"}],\"histogram\":[{\"marker\":{\"pattern\":{\"fillmode\":\"overlay\",\"size\":10,\"solidity\":0.2}},\"type\":\"histogram\"}],\"mesh3d\":[{\"colorbar\":{\"outlinewidth\":0,\"ticks\":\"\"},\"type\":\"mesh3d\"}],\"parcoords\":[{\"line\":{\"colorbar\":{\"outlinewidth\":0,\"ticks\":\"\"}},\"type\":\"parcoords\"}],\"pie\":[{\"automargin\":true,\"type\":\"pie\"}],\"scatter3d\":[{\"line\":{\"colorbar\":{\"outlinewidth\":0,\"ticks\":\"\"}},\"marker\":{\"colorbar\":{\"outlinewidth\":0,\"ticks\":\"\"}},\"type\":\"scatter3d\"}],\"scattercarpet\":[{\"marker\":{\"colorbar\":{\"outlinewidth\":0,\"ticks\":\"\"}},\"type\":\"scattercarpet\"}],\"scattergeo\":[{\"marker\":{\"colorbar\":{\"outlinewidth\":0,\"ticks\":\"\"}},\"type\":\"scattergeo\"}],\"scattergl\":[{\"marker\":{\"colorbar\":{\"outlinewidth\":0,\"ticks\":\"\"}},\"type\":\"scattergl\"}],\"scattermapbox\":[{\"marker\":{\"colorbar\":{\"outlinewidth\":0,\"ticks\":\"\"}},\"type\":\"scattermapbox\"}],\"scatterpolargl\":[{\"marker\":{\"colorbar\":{\"outlinewidth\":0,\"ticks\":\"\"}},\"type\":\"scatterpolargl\"}],\"scatterpolar\":[{\"marker\":{\"colorbar\":{\"outlinewidth\":0,\"ticks\":\"\"}},\"type\":\"scatterpolar\"}],\"scatter\":[{\"fillpattern\":{\"fillmode\":\"overlay\",\"size\":10,\"solidity\":0.2},\"type\":\"scatter\"}],\"scatterternary\":[{\"marker\":{\"colorbar\":{\"outlinewidth\":0,\"ticks\":\"\"}},\"type\":\"scatterternary\"}],\"surface\":[{\"colorbar\":{\"outlinewidth\":0,\"ticks\":\"\"},\"colorscale\":[[0.0,\"#0d0887\"],[0.1111111111111111,\"#46039f\"],[0.2222222222222222,\"#7201a8\"],[0.3333333333333333,\"#9c179e\"],[0.4444444444444444,\"#bd3786\"],[0.5555555555555556,\"#d8576b\"],[0.6666666666666666,\"#ed7953\"],[0.7777777777777778,\"#fb9f3a\"],[0.8888888888888888,\"#fdca26\"],[1.0,\"#f0f921\"]],\"type\":\"surface\"}],\"table\":[{\"cells\":{\"fill\":{\"color\":\"#EBF0F8\"},\"line\":{\"color\":\"white\"}},\"header\":{\"fill\":{\"color\":\"#C8D4E3\"},\"line\":{\"color\":\"white\"}},\"type\":\"table\"}]},\"layout\":{\"annotationdefaults\":{\"arrowcolor\":\"#2a3f5f\",\"arrowhead\":0,\"arrowwidth\":1},\"autotypenumbers\":\"strict\",\"coloraxis\":{\"colorbar\":{\"outlinewidth\":0,\"ticks\":\"\"}},\"colorscale\":{\"diverging\":[[0,\"#8e0152\"],[0.1,\"#c51b7d\"],[0.2,\"#de77ae\"],[0.3,\"#f1b6da\"],[0.4,\"#fde0ef\"],[0.5,\"#f7f7f7\"],[0.6,\"#e6f5d0\"],[0.7,\"#b8e186\"],[0.8,\"#7fbc41\"],[0.9,\"#4d9221\"],[1,\"#276419\"]],\"sequential\":[[0.0,\"#0d0887\"],[0.1111111111111111,\"#46039f\"],[0.2222222222222222,\"#7201a8\"],[0.3333333333333333,\"#9c179e\"],[0.4444444444444444,\"#bd3786\"],[0.5555555555555556,\"#d8576b\"],[0.6666666666666666,\"#ed7953\"],[0.7777777777777778,\"#fb9f3a\"],[0.8888888888888888,\"#fdca26\"],[1.0,\"#f0f921\"]],\"sequentialminus\":[[0.0,\"#0d0887\"],[0.1111111111111111,\"#46039f\"],[0.2222222222222222,\"#7201a8\"],[0.3333333333333333,\"#9c179e\"],[0.4444444444444444,\"#bd3786\"],[0.5555555555555556,\"#d8576b\"],[0.6666666666666666,\"#ed7953\"],[0.7777777777777778,\"#fb9f3a\"],[0.8888888888888888,\"#fdca26\"],[1.0,\"#f0f921\"]]},\"colorway\":[\"#636efa\",\"#EF553B\",\"#00cc96\",\"#ab63fa\",\"#FFA15A\",\"#19d3f3\",\"#FF6692\",\"#B6E880\",\"#FF97FF\",\"#FECB52\"],\"font\":{\"color\":\"#2a3f5f\"},\"geo\":{\"bgcolor\":\"white\",\"lakecolor\":\"white\",\"landcolor\":\"#E5ECF6\",\"showlakes\":true,\"showland\":true,\"subunitcolor\":\"white\"},\"hoverlabel\":{\"align\":\"left\"},\"hovermode\":\"closest\",\"mapbox\":{\"style\":\"light\"},\"paper_bgcolor\":\"white\",\"plot_bgcolor\":\"#E5ECF6\",\"polar\":{\"angularaxis\":{\"gridcolor\":\"white\",\"linecolor\":\"white\",\"ticks\":\"\"},\"bgcolor\":\"#E5ECF6\",\"radialaxis\":{\"gridcolor\":\"white\",\"linecolor\":\"white\",\"ticks\":\"\"}},\"scene\":{\"xaxis\":{\"backgroundcolor\":\"#E5ECF6\",\"gridcolor\":\"white\",\"gridwidth\":2,\"linecolor\":\"white\",\"showbackground\":true,\"ticks\":\"\",\"zerolinecolor\":\"white\"},\"yaxis\":{\"backgroundcolor\":\"#E5ECF6\",\"gridcolor\":\"white\",\"gridwidth\":2,\"linecolor\":\"white\",\"showbackground\":true,\"ticks\":\"\",\"zerolinecolor\":\"white\"},\"zaxis\":{\"backgroundcolor\":\"#E5ECF6\",\"gridcolor\":\"white\",\"gridwidth\":2,\"linecolor\":\"white\",\"showbackground\":true,\"ticks\":\"\",\"zerolinecolor\":\"white\"}},\"shapedefaults\":{\"line\":{\"color\":\"#2a3f5f\"}},\"ternary\":{\"aaxis\":{\"gridcolor\":\"white\",\"linecolor\":\"white\",\"ticks\":\"\"},\"baxis\":{\"gridcolor\":\"white\",\"linecolor\":\"white\",\"ticks\":\"\"},\"bgcolor\":\"#E5ECF6\",\"caxis\":{\"gridcolor\":\"white\",\"linecolor\":\"white\",\"ticks\":\"\"}},\"title\":{\"x\":0.05},\"xaxis\":{\"automargin\":true,\"gridcolor\":\"white\",\"linecolor\":\"white\",\"ticks\":\"\",\"title\":{\"standoff\":15},\"zerolinecolor\":\"white\",\"zerolinewidth\":2},\"yaxis\":{\"automargin\":true,\"gridcolor\":\"white\",\"linecolor\":\"white\",\"ticks\":\"\",\"title\":{\"standoff\":15},\"zerolinecolor\":\"white\",\"zerolinewidth\":2}}},\"title\":{\"text\":\"ParChFrequency in the Set\"},\"xaxis\":{\"title\":{\"text\":\"Values\"}},\"yaxis\":{\"title\":{\"text\":\"Frequency\"}}},                        {\"responsive\": true}                    ).then(function(){\n",
       "                            \n",
       "var gd = document.getElementById('70ef41b4-5bf7-4950-ba63-dabc7f633eed');\n",
       "var x = new MutationObserver(function (mutations, observer) {{\n",
       "        var display = window.getComputedStyle(gd).display;\n",
       "        if (!display || display === 'none') {{\n",
       "            console.log([gd, 'removed!']);\n",
       "            Plotly.purge(gd);\n",
       "            observer.disconnect();\n",
       "        }}\n",
       "}});\n",
       "\n",
       "// Listen for the removal of the full notebook cells\n",
       "var notebookContainer = gd.closest('#notebook-container');\n",
       "if (notebookContainer) {{\n",
       "    x.observe(notebookContainer, {childList: true});\n",
       "}}\n",
       "\n",
       "// Listen for the clearing of the current output cell\n",
       "var outputEl = gd.closest('.output');\n",
       "if (outputEl) {{\n",
       "    x.observe(outputEl, {childList: true});\n",
       "}}\n",
       "\n",
       "                        })                };                });            </script>        </div>"
      ]
     },
     "metadata": {},
     "output_type": "display_data"
    }
   ],
   "source": [
    "hist = go.Histogram(x=dftrain['ParCh'], name='ParCh')\n",
    "\n",
    "layout = go.Layout(\n",
    "    title=\"ParChFrequency in the Set\",\n",
    "    xaxis=dict(title=\"Values\"),\n",
    "    yaxis=dict(title=\"Frequency\"),\n",
    ")\n",
    "\n",
    "fig = go.Figure(data=[hist], layout=layout)\n",
    "\n",
    "pyo.iplot(fig)"
   ]
  },
  {
   "cell_type": "code",
   "execution_count": 20,
   "id": "0fadb570",
   "metadata": {
    "execution": {
     "iopub.execute_input": "2023-11-04T18:20:43.509513Z",
     "iopub.status.busy": "2023-11-04T18:20:43.508614Z",
     "iopub.status.idle": "2023-11-04T18:20:43.977589Z",
     "shell.execute_reply": "2023-11-04T18:20:43.975819Z"
    },
    "papermill": {
     "duration": 0.490885,
     "end_time": "2023-11-04T18:20:43.979715",
     "exception": false,
     "start_time": "2023-11-04T18:20:43.488830",
     "status": "completed"
    },
    "tags": []
   },
   "outputs": [
    {
     "data": {
      "text/html": [
       "<div>                            <div id=\"e17a0d3a-6596-439d-9929-c02c254e0792\" class=\"plotly-graph-div\" style=\"height:525px; width:100%;\"></div>            <script type=\"text/javascript\">                require([\"plotly\"], function(Plotly) {                    window.PLOTLYENV=window.PLOTLYENV || {};                                    if (document.getElementById(\"e17a0d3a-6596-439d-9929-c02c254e0792\")) {                    Plotly.newPlot(                        \"e17a0d3a-6596-439d-9929-c02c254e0792\",                        [{\"branchvalues\":\"total\",\"customdata\":[[\"male\"],[\"male\"],[\"male\"],[\"(?)\"],[\"male\"],[\"(?)\"],[\"(?)\"],[\"male\"],[\"male\"],[\"(?)\"],[\"male\"],[\"male\"],[\"male\"],[\"female\"],[\"male\"],[\"(?)\"],[\"(?)\"],[\"(?)\"],[\"male\"],[\"male\"],[\"(?)\"],[\"male\"],[\"male\"],[\"male\"],[\"male\"],[\"male\"],[\"male\"],[\"male\"],[\"male\"],[\"(?)\"],[\"male\"],[\"male\"],[\"(?)\"],[\"male\"],[\"male\"],[\"male\"],[\"male\"],[\"male\"],[\"male\"],[\"male\"],[\"male\"],[\"male\"],[\"male\"],[\"male\"],[\"(?)\"],[\"male\"],[\"male\"],[\"male\"],[\"male\"],[\"male\"],[\"male\"],[\"(?)\"],[\"male\"],[\"male\"],[\"(?)\"],[\"male\"],[\"(?)\"],[\"male\"],[\"(?)\"],[\"male\"],[\"(?)\"],[\"male\"],[\"male\"],[\"(?)\"],[\"male\"],[\"male\"],[\"(?)\"],[\"(?)\"],[\"(?)\"],[\"male\"],[\"(?)\"],[\"(?)\"],[\"(?)\"],[\"(?)\"],[\"(?)\"],[\"(?)\"],[\"(?)\"],[\"male\"],[\"(?)\"],[\"(?)\"],[\"male\"],[\"female\"],[\"(?)\"],[\"female\"],[\"male\"],[\"female\"],[\"(?)\"],[\"(?)\"],[\"(?)\"],[\"(?)\"],[\"(?)\"],[\"(?)\"],[\"(?)\"],[\"female\"],[\"male\"],[\"(?)\"],[\"male\"],[\"(?)\"],[\"(?)\"],[\"male\"],[\"male\"],[\"male\"],[\"male\"],[\"male\"],[\"male\"],[\"(?)\"],[\"(?)\"],[\"male\"],[\"(?)\"],[\"male\"],[\"male\"],[\"(?)\"],[\"male\"],[\"male\"],[\"male\"],[\"male\"],[\"female\"],[\"male\"],[\"male\"],[\"(?)\"],[\"(?)\"],[\"(?)\"],[\"(?)\"],[\"male\"],[\"female\"],[\"male\"],[\"female\"],[\"(?)\"],[\"(?)\"],[\"male\"],[\"male\"],[\"female\"],[\"female\"],[\"(?)\"],[\"female\"],[\"female\"],[\"female\"],[\"female\"],[\"female\"],[\"(?)\"],[\"(?)\"],[\"male\"],[\"male\"],[\"(?)\"],[\"(?)\"],[\"(?)\"],[\"(?)\"],[\"female\"],[\"female\"],[\"female\"],[\"male\"],[\"(?)\"],[\"(?)\"],[\"female\"],[\"female\"],[\"(?)\"],[\"female\"],[\"female\"],[\"female\"],[\"(?)\"],[\"(?)\"],[\"female\"],[\"(?)\"],[\"female\"],[\"female\"],[\"(?)\"],[\"female\"],[\"female\"],[\"(?)\"],[\"male\"],[\"(?)\"],[\"female\"],[\"(?)\"],[\"(?)\"],[\"female\"],[\"(?)\"],[\"female\"],[\"(?)\"],[\"female\"],[\"female\"],[\"female\"],[\"female\"],[\"female\"],[\"female\"],[\"female\"],[\"(?)\"],[\"female\"],[\"female\"],[\"female\"],[\"female\"],[\"(?)\"],[\"male\"],[\"female\"],[\"female\"],[\"female\"],[\"female\"],[\"male\"],[\"female\"],[\"female\"],[\"female\"],[\"female\"],[\"female\"],[\"female\"],[\"female\"],[\"female\"],[\"female\"],[\"female\"],[\"female\"],[\"male\"],[\"female\"],[\"male\"],[\"female\"],[\"(?)\"],[\"female\"],[\"(?)\"],[\"male\"],[\"(?)\"],[\"female\"],[\"male\"],[\"female\"],[\"male\"],[\"(?)\"],[\"female\"],[\"male\"],[\"male\"],[\"female\"],[\"male\"],[\"(?)\"],[\"(?)\"],[\"(?)\"],[\"(?)\"],[\"female\"],[\"male\"],[\"(?)\"],[\"(?)\"],[\"(?)\"],[\"male\"],[\"(?)\"],[\"(?)\"],[\"(?)\"],[\"(?)\"],[\"female\"],[\"(?)\"],[\"(?)\"],[\"(?)\"],[\"female\"],[\"(?)\"],[\"(?)\"],[\"(?)\"],[\"male\"],[\"(?)\"],[\"male\"],[\"male\"],[\"male\"],[\"female\"],[\"male\"],[\"male\"],[\"male\"],[\"female\"],[\"(?)\"],[\"male\"],[\"(?)\"],[\"(?)\"],[\"(?)\"],[\"(?)\"],[\"(?)\"],[\"male\"],[\"(?)\"],[\"female\"],[\"male\"],[\"(?)\"],[\"(?)\"],[\"(?)\"],[\"(?)\"],[\"(?)\"],[\"(?)\"],[\"(?)\"],[\"male\"],[\"(?)\"],[\"male\"],[\"(?)\"],[\"male\"],[\"female\"],[\"(?)\"],[\"male\"],[\"(?)\"],[\"(?)\"],[\"male\"],[\"female\"],[\"(?)\"],[\"male\"],[\"male\"],[\"male\"],[\"(?)\"],[\"male\"],[\"male\"],[\"(?)\"],[\"(?)\"],[\"(?)\"],[\"(?)\"],[\"male\"],[\"male\"],[\"(?)\"],[\"female\"],[\"(?)\"],[\"(?)\"],[\"(?)\"],[\"(?)\"],[\"(?)\"],[\"male\"],[\"female\"],[\"male\"],[\"(?)\"],[\"male\"],[\"male\"],[\"male\"],[\"(?)\"],[\"female\"],[\"(?)\"],[\"(?)\"],[\"(?)\"],[\"male\"],[\"(?)\"],[\"(?)\"],[\"(?)\"],[\"male\"],[\"male\"],[\"(?)\"],[\"(?)\"],[\"(?)\"],[\"(?)\"],[\"(?)\"],[\"male\"],[\"(?)\"],[\"(?)\"],[\"(?)\"],[\"(?)\"],[\"(?)\"],[\"male\"],[\"(?)\"],[\"(?)\"],[\"female\"],[\"(?)\"],[\"male\"],[\"(?)\"],[\"female\"],[\"male\"],[\"male\"],[\"female\"],[\"female\"],[\"female\"],[\"female\"],[\"female\"],[\"female\"],[\"female\"],[\"female\"],[\"female\"],[\"female\"],[\"female\"],[\"female\"],[\"female\"],[\"female\"],[\"female\"],[\"female\"],[\"female\"],[\"female\"],[\"female\"],[\"female\"],[\"female\"],[\"female\"],[\"female\"],[\"female\"],[\"female\"],[\"female\"],[\"female\"],[\"male\"],[\"male\"],[\"male\"],[\"male\"],[\"male\"],[\"male\"],[\"male\"],[\"male\"],[\"male\"],[\"male\"],[\"male\"],[\"male\"],[\"male\"],[\"male\"],[\"male\"],[\"male\"],[\"male\"],[\"male\"],[\"male\"],[\"male\"],[\"male\"],[\"male\"],[\"male\"],[\"female\"],[\"male\"],[\"female\"],[\"female\"],[\"female\"],[\"female\"],[\"female\"],[\"female\"],[\"female\"],[\"female\"],[\"female\"],[\"female\"],[\"female\"],[\"female\"],[\"female\"],[\"female\"],[\"female\"],[\"female\"],[\"female\"],[\"female\"],[\"female\"],[\"female\"],[\"female\"],[\"female\"],[\"female\"],[\"female\"],[\"female\"],[\"female\"],[\"female\"],[\"female\"],[\"female\"],[\"female\"],[\"female\"],[\"female\"],[\"female\"],[\"female\"],[\"female\"],[\"female\"],[\"female\"],[\"female\"],[\"female\"],[\"female\"],[\"female\"],[\"female\"],[\"female\"],[\"female\"],[\"female\"],[\"female\"],[\"female\"],[\"female\"],[\"female\"],[\"female\"],[\"female\"],[\"female\"],[\"female\"],[\"male\"],[\"male\"],[\"male\"],[\"male\"],[\"male\"],[\"male\"],[\"male\"],[\"male\"],[\"male\"],[\"male\"],[\"male\"],[\"male\"],[\"male\"],[\"male\"],[\"male\"],[\"male\"],[\"male\"],[\"male\"],[\"male\"],[\"male\"],[\"male\"],[\"male\"],[\"male\"],[\"male\"],[\"male\"],[\"male\"],[\"male\"],[\"male\"],[\"male\"],[\"female\"],[\"male\"],[\"(?)\"],[\"male\"],[\"(?)\"],[\"(?)\"],[\"male\"],[\"female\"],[\"(?)\"],[\"(?)\"],[\"male\"],[\"(?)\"],[\"(?)\"],[\"female\"],[\"(?)\"],[\"(?)\"],[\"male\"],[\"(?)\"],[\"male\"],[\"(?)\"],[\"(?)\"],[\"(?)\"],[\"(?)\"],[\"(?)\"],[\"female\"],[\"male\"],[\"male\"],[\"male\"],[\"male\"],[\"male\"],[\"male\"],[\"male\"],[\"male\"],[\"male\"],[\"male\"],[\"male\"],[\"male\"],[\"male\"],[\"male\"],[\"male\"],[\"male\"],[\"male\"],[\"male\"],[\"male\"],[\"male\"],[\"male\"],[\"male\"],[\"male\"],[\"male\"],[\"male\"],[\"male\"],[\"male\"],[\"male\"],[\"male\"],[\"male\"],[\"male\"],[\"male\"],[\"male\"],[\"male\"],[\"male\"],[\"male\"],[\"male\"],[\"male\"],[\"male\"],[\"male\"],[\"male\"],[\"male\"],[\"male\"],[\"male\"],[\"male\"],[\"male\"],[\"male\"],[\"male\"],[\"male\"],[\"male\"],[\"male\"],[\"male\"],[\"male\"],[\"male\"],[\"male\"],[\"male\"]],\"domain\":{\"x\":[0.0,1.0],\"y\":[0.0,1.0]},\"hovertemplate\":\"labels=%{label}\\u003cbr\\u003ecount=%{value}\\u003cbr\\u003eparent=%{parent}\\u003cbr\\u003eid=%{id}\\u003cbr\\u003eGender=%{customdata[0]}\\u003cextra\\u003e\\u003c\\u002fextra\\u003e\",\"ids\":[\"60.0\\u002f1\\u002fmale\",\"31.0\\u002f2\\u002fmale\",\"23.5\\u002f3\",\"23.0\\u002f3\",\"36.0\\u002f2\\u002fmale\",\"20.0\\u002f3\",\"19.0\\u002f3\",\"39.0\\u002f2\\u002fmale\",\"44.0\\u002f2\\u002fmale\",\"16.0\\u002f3\",\"50.0\\u002f2\\u002fmale\",\"51.0\\u002f2\\u002fmale\",\"54.0\\u002f2\\u002fmale\",\"13.0\\u002f3\",\"30.0\\u002f2\\u002fmale\",\"11.0\\u002f3\",\"9.0\\u002f3\",\"6.0\\u002f3\",\"4.0\\u002f3\\u002fmale\",\"6.0\\u002f3\\u002fmale\",\"3.0\\u002f3\",\"9.0\\u002f3\\u002fmale\",\"11.0\\u002f3\\u002fmale\",\"14.0\\u002f3\\u002fmale\",\"70.0\\u002f2\",\"17.0\\u002f3\\u002fmale\",\"18.0\\u002f3\\u002fmale\",\"62.0\\u002f2\",\"22.0\\u002f3\\u002fmale\",\"10.0\\u002f3\",\"28.0\\u002f2\\u002fmale\",\"27.0\\u002f2\\u002fmale\",\"25.0\\u002f3\",\"21.0\\u002f1\\u002fmale\",\"0.42\",\"74.0\\u002f3\",\"25.0\\u002f1\\u002fmale\",\"26.0\\u002f1\\u002fmale\",\"27.0\\u002f1\\u002fmale\",\"70.5\\u002f3\",\"61.0\\u002f3\",\"31.0\\u002f1\\u002fmale\",\"35.0\\u002f1\\u002fmale\",\"40.0\\u002f1\\u002fmale\",\"43.0\\u002f3\",\"46.0\\u002f1\\u002fmale\",\"42.0\\u002f3\",\"51.0\\u002f1\\u002fmale\",\"52.0\\u002f1\\u002fmale\",\"80.0\\u002f1\",\"34.5\\u002f3\",\"33.0\\u002f3\",\"70.0\\u002f1\\u002fmale\",\"0.67\\u002f2\\u002fmale\",\"30.5\\u002f3\",\"3.0\\u002f2\\u002fmale\",\"29.0\\u002f3\",\"16.0\\u002f2\\u002fmale\",\"27.0\\u002f3\",\"23.0\\u002f2\\u002fmale\",\"26.0\\u002f3\",\"25.0\\u002f2\\u002fmale\",\"23.0\\u002f3\\u002fmale\",\"57.0\\u002f2\",\"25.0\\u002f3\\u002fmale\",\"52.0\\u002f2\",\"25.0\\u002f2\",\"25.0\\u002f1\",\"24.0\\u002f2\",\"28.0\\u002f1\",\"29.0\\u002f1\",\"30.0\\u002f1\",\"31.0\\u002f1\",\"32.0\\u002f1\",\"33.0\\u002f1\",\"19.0\\u002f2\",\"36.0\\u002f1\",\"37.0\\u002f1\",\"39.0\\u002f1\",\"40.0\\u002f1\",\"16.0\\u002f2\",\"43.0\\u002f1\",\"44.0\\u002f1\",\"14.0\\u002f2\",\"45.5\\u002f1\",\"13.0\\u002f2\",\"47.0\\u002f1\",\"48.0\\u002f1\",\"49.0\\u002f1\",\"50.0\\u002f1\",\"8.0\\u002f2\",\"54.0\\u002f1\",\"58.0\\u002f1\",\"63.0\\u002f1\",\"0.67\\u002f2\",\"26.0\\u002f2\",\"17.0\\u002f1\\u002fmale\",\"22.0\\u002f1\",\"27.0\\u002f2\",\"28.0\\u002f3\\u002fmale\",\"28.5\\u002f3\\u002fmale\",\"29.0\\u002f3\\u002fmale\",\"29.69911764705882\\u002f3\\u002fmale\",\"30.0\\u002f3\\u002fmale\",\"30.5\\u002f3\\u002fmale\",\"50.0\\u002f2\",\"48.0\\u002f2\",\"34.5\\u002f3\\u002fmale\",\"44.0\\u002f2\",\"38.0\\u002f3\\u002fmale\",\"39.0\\u002f3\\u002fmale\",\"42.0\\u002f2\",\"41.0\\u002f3\\u002fmale\",\"43.0\\u002f3\\u002fmale\",\"44.0\\u002f3\\u002fmale\",\"45.0\\u002f3\\u002fmale\",\"38.0\\u002f2\",\"48.0\\u002f3\\u002fmale\",\"36.5\\u002f2\",\"36.0\\u002f2\",\"32.5\\u002f2\",\"32.0\\u002f2\",\"31.0\\u002f2\",\"0.92\\u002f1\",\"2.0\\u002f1\",\"4.0\\u002f1\",\"14.0\\u002f1\",\"18.0\\u002f1\",\"21.0\\u002f1\",\"11.0\\u002f1\\u002fmale\",\"71.0\\u002f1\",\"16.0\\u002f3\\u002ffemale\",\"2.0\\u002f3\\u002ffemale\",\"50.0\",\"63.0\\u002f1\\u002ffemale\",\"62.0\\u002f1\\u002ffemale\",\"5.0\\u002f3\\u002ffemale\",\"60.0\\u002f1\\u002ffemale\",\"58.0\\u002f1\\u002ffemale\",\"51.0\",\"52.0\",\"24.5\",\"23.5\",\"23.0\",\"22.0\",\"41.0\",\"21.0\",\"18.0\\u002f3\\u002ffemale\",\"50.0\\u002f1\\u002ffemale\",\"49.0\\u002f1\\u002ffemale\",\"55.5\",\"19.0\",\"17.0\",\"1.0\\u002f3\\u002ffemale\",\"3.0\\u002f2\\u002ffemale\",\"29.69911764705882\",\"57.0\\u002f2\\u002ffemale\",\"25.0\\u002f2\\u002ffemale\",\"23.0\\u002f2\\u002ffemale\",\"44.0\",\"38.0\",\"32.0\\u002f2\\u002ffemale\",\"45.0\",\"33.0\\u002f2\\u002ffemale\",\"19.0\\u002f2\\u002ffemale\",\"36.0\",\"36.0\\u002f2\\u002ffemale\",\"45.0\\u002f1\\u002ffemale\",\"1.0\",\"45.5\",\"34.0\",\"13.0\\u002f2\\u002ffemale\",\"32.5\",\"47.0\",\"7.0\\u002f2\\u002ffemale\",\"31.0\",\"50.0\\u002f2\\u002ffemale\",\"49.0\",\"4.0\\u002f2\\u002ffemale\",\"18.0\\u002f2\\u002ffemale\",\"24.0\\u002f3\\u002ffemale\",\"28.0\\u002f2\\u002ffemale\",\"24.0\\u002f1\\u002ffemale\",\"16.0\\u002f1\\u002ffemale\",\"40.0\\u002f3\\u002ffemale\",\"7.0\",\"63.0\",\"30.5\\u002f3\\u002ffemale\",\"30.0\\u002f1\\u002ffemale\",\"5.0\",\"8.0\",\"65.0\",\"25.0\\u002f1\\u002ffemale\",\"23.0\\u002f1\\u002ffemale\",\"22.0\\u002f1\\u002ffemale\",\"36.0\\u002f3\\u002ffemale\",\"70.0\",\"29.69911764705882\\u002f1\\u002ffemale\",\"33.0\\u002f1\\u002ffemale\",\"30.0\\u002f3\\u002ffemale\",\"35.0\\u002f1\\u002ffemale\",\"42.0\\u002f1\\u002ffemale\",\"14.0\\u002f1\\u002ffemale\",\"27.0\\u002f3\\u002ffemale\",\"41.0\\u002f1\\u002ffemale\",\"48.0\\u002f3\\u002ffemale\",\"39.0\\u002f1\\u002ffemale\",\"29.0\\u002f3\\u002ffemale\",\"70.5\",\"15.0\\u002f1\\u002ffemale\",\"43.0\\u002f2\",\"40.0\\u002f2\",\"42.0\",\"45.0\\u002f2\",\"2.0\\u002f2\",\"71.0\",\"43.0\",\"41.0\\u002f2\",\"46.0\\u002f2\",\"5.0\\u002f2\",\"47.0\\u002f2\",\"3.0\\u002f2\",\"4.0\\u002f2\",\"0.83\\u002f2\",\"1.0\\u002f2\",\"6.0\\u002f2\",\"46.0\",\"57.0\",\"48.0\",\"58.0\",\"56.0\",\"22.0\\u002f2\",\"59.0\",\"55.0\",\"60.0\",\"21.0\\u002f2\",\"61.0\",\"54.0\",\"28.0\\u002f2\",\"29.0\\u002f2\",\"29.69911764705882\\u002f2\",\"53.0\",\"30.0\\u002f2\",\"18.0\\u002f2\",\"62.0\",\"17.0\\u002f2\",\"33.0\\u002f2\",\"34.0\\u002f2\",\"35.0\\u002f2\",\"64.0\",\"23.0\\u002f2\",\"37.0\\u002f2\",\"66.0\",\"39.0\\u002f2\",\"7.0\\u002f2\",\"0.92\",\"0.42\\u002f3\",\"51.0\\u002f2\",\"13.0\",\"41.0\\u002f3\",\"40.5\\u002f3\",\"40.0\\u002f3\",\"14.0\",\"39.0\\u002f3\",\"38.0\\u002f3\",\"37.0\\u002f3\",\"12.0\",\"36.0\\u002f3\",\"14.5\",\"34.0\\u002f3\",\"15.0\",\"32.0\\u002f3\",\"31.0\\u002f3\",\"16.0\",\"30.0\\u002f3\",\"29.69911764705882\\u002f3\",\"35.0\\u002f3\",\"44.0\\u002f3\",\"45.0\\u002f3\",\"45.5\\u002f3\",\"2.0\",\"0.83\",\"0.75\",\"3.0\",\"0.67\",\"4.0\",\"6.0\",\"65.0\\u002f3\",\"63.0\\u002f3\",\"9.0\",\"59.0\\u002f3\",\"55.5\\u002f3\",\"51.0\\u002f3\",\"10.0\",\"50.0\\u002f3\",\"49.0\\u002f3\",\"48.0\\u002f3\",\"47.0\\u002f3\",\"11.0\",\"18.0\",\"40.5\",\"28.5\\u002f3\",\"20.0\",\"5.0\\u002f3\",\"4.0\\u002f3\",\"32.0\",\"33.0\",\"2.0\\u002f3\",\"1.0\\u002f3\",\"34.5\",\"0.75\\u002f3\",\"7.0\\u002f3\",\"35.0\",\"66.0\\u002f2\",\"60.0\\u002f2\",\"59.0\\u002f2\",\"37.0\",\"55.0\\u002f2\",\"54.0\\u002f2\",\"39.0\",\"40.0\",\"36.5\",\"8.0\\u002f3\",\"30.5\",\"30.0\",\"20.5\",\"24.5\\u002f3\",\"24.0\\u002f3\",\"24.0\",\"25.0\",\"22.0\\u002f3\",\"21.0\\u002f3\",\"20.5\\u002f3\",\"26.0\",\"27.0\",\"28.0\",\"18.0\\u002f3\",\"17.0\\u002f3\",\"28.5\",\"29.0\",\"15.0\\u002f3\",\"14.5\\u002f3\",\"14.0\\u002f3\",\"12.0\\u002f3\",\"28.0\\u002f3\",\"2.0\\u002f1\\u002ffemale\",\"50.0\\u002f3\\u002fmale\",\"65.0\\u002f1\",\"41.0\\u002f3\\u002ffemale\",\"39.0\\u002f3\\u002ffemale\",\"38.0\\u002f3\\u002ffemale\",\"37.0\\u002f3\\u002ffemale\",\"35.0\\u002f3\\u002ffemale\",\"33.0\\u002f3\\u002ffemale\",\"32.0\\u002f3\\u002ffemale\",\"31.0\\u002f3\\u002ffemale\",\"29.69911764705882\\u002f3\\u002ffemale\",\"28.0\\u002f3\\u002ffemale\",\"26.0\\u002f3\\u002ffemale\",\"25.0\\u002f3\\u002ffemale\",\"23.0\\u002f3\\u002ffemale\",\"22.0\\u002f3\\u002ffemale\",\"21.0\\u002f3\\u002ffemale\",\"20.0\\u002f3\\u002ffemale\",\"19.0\\u002f3\\u002ffemale\",\"17.0\\u002f3\\u002ffemale\",\"15.0\\u002f3\\u002ffemale\",\"14.5\\u002f3\\u002ffemale\",\"14.0\\u002f3\\u002ffemale\",\"13.0\\u002f3\\u002ffemale\",\"11.0\\u002f3\\u002ffemale\",\"43.0\\u002f3\\u002ffemale\",\"10.0\\u002f3\\u002ffemale\",\"45.0\\u002f3\\u002ffemale\",\"63.0\\u002f3\\u002ffemale\",\"47.0\\u002f1\\u002fmale\",\"45.5\\u002f1\\u002fmale\",\"45.0\\u002f1\\u002fmale\",\"44.0\\u002f1\\u002fmale\",\"42.0\\u002f1\\u002fmale\",\"39.0\\u002f1\\u002fmale\",\"38.0\\u002f1\\u002fmale\",\"37.0\\u002f1\\u002fmale\",\"36.0\\u002f1\\u002fmale\",\"34.0\\u002f1\\u002fmale\",\"33.0\\u002f1\\u002fmale\",\"32.0\\u002f1\\u002fmale\",\"30.0\\u002f1\\u002fmale\",\"29.69911764705882\\u002f1\\u002fmale\",\"29.0\\u002f1\\u002fmale\",\"28.0\\u002f1\\u002fmale\",\"24.0\\u002f1\\u002fmale\",\"23.0\\u002f1\\u002fmale\",\"22.0\\u002f1\\u002fmale\",\"19.0\\u002f1\\u002fmale\",\"18.0\\u002f1\\u002fmale\",\"4.0\\u002f1\\u002fmale\",\"0.92\\u002f1\\u002fmale\",\"47.0\\u002f3\\u002ffemale\",\"48.0\\u002f1\\u002fmale\",\"9.0\\u002f3\\u002ffemale\",\"6.0\\u002f3\\u002ffemale\",\"6.0\\u002f2\\u002ffemale\",\"5.0\\u002f2\\u002ffemale\",\"2.0\\u002f2\\u002ffemale\",\"56.0\\u002f1\\u002ffemale\",\"54.0\\u002f1\\u002ffemale\",\"53.0\\u002f1\\u002ffemale\",\"52.0\\u002f1\\u002ffemale\",\"51.0\\u002f1\\u002ffemale\",\"48.0\\u002f1\\u002ffemale\",\"47.0\\u002f1\\u002ffemale\",\"44.0\\u002f1\\u002ffemale\",\"43.0\\u002f1\\u002ffemale\",\"40.0\\u002f1\\u002ffemale\",\"38.0\\u002f1\\u002ffemale\",\"36.0\\u002f1\\u002ffemale\",\"32.0\\u002f1\\u002ffemale\",\"31.0\\u002f1\\u002ffemale\",\"29.0\\u002f1\\u002ffemale\",\"26.0\\u002f1\\u002ffemale\",\"21.0\\u002f1\\u002ffemale\",\"19.0\\u002f1\\u002ffemale\",\"18.0\\u002f1\\u002ffemale\",\"17.0\\u002f1\\u002ffemale\",\"8.0\\u002f2\\u002ffemale\",\"8.0\\u002f3\\u002ffemale\",\"14.0\\u002f2\\u002ffemale\",\"21.0\\u002f2\\u002ffemale\",\"4.0\\u002f3\\u002ffemale\",\"3.0\\u002f3\\u002ffemale\",\"0.75\\u002f3\\u002ffemale\",\"55.0\\u002f2\\u002ffemale\",\"54.0\\u002f2\\u002ffemale\",\"48.0\\u002f2\\u002ffemale\",\"45.0\\u002f2\\u002ffemale\",\"44.0\\u002f2\\u002ffemale\",\"42.0\\u002f2\\u002ffemale\",\"41.0\\u002f2\\u002ffemale\",\"40.0\\u002f2\\u002ffemale\",\"38.0\\u002f2\\u002ffemale\",\"35.0\\u002f2\\u002ffemale\",\"34.0\\u002f2\\u002ffemale\",\"32.5\\u002f2\\u002ffemale\",\"31.0\\u002f2\\u002ffemale\",\"30.0\\u002f2\\u002ffemale\",\"29.69911764705882\\u002f2\\u002ffemale\",\"29.0\\u002f2\\u002ffemale\",\"27.0\\u002f2\\u002ffemale\",\"26.0\\u002f2\\u002ffemale\",\"24.0\\u002f2\\u002ffemale\",\"22.0\\u002f2\\u002ffemale\",\"17.0\\u002f2\\u002ffemale\",\"49.0\\u002f1\\u002fmale\",\"50.0\\u002f1\\u002fmale\",\"54.0\\u002f1\\u002fmale\",\"70.5\\u002f3\\u002fmale\",\"65.0\\u002f3\\u002fmale\",\"61.0\\u002f3\\u002fmale\",\"59.0\\u002f3\\u002fmale\",\"55.5\\u002f3\\u002fmale\",\"51.0\\u002f3\\u002fmale\",\"74.0\",\"49.0\\u002f3\\u002fmale\",\"47.0\\u002f3\\u002fmale\",\"45.5\\u002f3\\u002fmale\",\"42.0\\u002f3\\u002fmale\",\"40.5\\u002f3\\u002fmale\",\"40.0\\u002f3\\u002fmale\",\"37.0\\u002f3\\u002fmale\",\"36.0\\u002f3\\u002fmale\",\"35.0\\u002f3\\u002fmale\",\"34.0\\u002f3\\u002fmale\",\"33.0\\u002f3\\u002fmale\",\"32.0\\u002f3\\u002fmale\",\"31.0\\u002f3\\u002fmale\",\"27.0\\u002f3\\u002fmale\",\"26.0\\u002f3\\u002fmale\",\"24.5\\u002f3\\u002fmale\",\"74.0\\u002f3\\u002fmale\",\"24.0\\u002f3\\u002fmale\",\"11.0\\u002f1\",\"16.0\\u002f1\",\"64.0\\u002f1\",\"62.0\\u002f1\",\"61.0\\u002f1\",\"60.0\\u002f1\",\"56.0\\u002f1\",\"55.0\\u002f1\",\"53.0\\u002f1\",\"52.0\\u002f1\",\"51.0\\u002f1\",\"46.0\\u002f1\",\"45.0\\u002f1\",\"42.0\\u002f1\",\"41.0\\u002f1\",\"38.0\\u002f1\",\"35.0\\u002f1\",\"34.0\\u002f1\",\"29.69911764705882\\u002f1\",\"27.0\\u002f1\",\"26.0\\u002f1\",\"24.0\\u002f1\",\"23.0\\u002f1\",\"19.0\\u002f1\",\"17.0\\u002f1\",\"15.0\\u002f1\",\"23.5\\u002f3\\u002fmale\",\"21.0\\u002f3\\u002fmale\",\"20.5\\u002f3\\u002fmale\",\"33.0\\u002f2\\u002fmale\",\"32.5\\u002f2\\u002fmale\",\"32.0\\u002f2\\u002fmale\",\"29.69911764705882\\u002f2\\u002fmale\",\"29.0\\u002f2\\u002fmale\",\"26.0\\u002f2\\u002fmale\",\"24.0\\u002f2\\u002fmale\",\"21.0\\u002f2\\u002fmale\",\"19.0\\u002f2\\u002fmale\",\"18.0\\u002f2\\u002fmale\",\"8.0\\u002f2\\u002fmale\",\"2.0\\u002f2\\u002fmale\",\"1.0\\u002f2\\u002fmale\",\"0.83\\u002f2\\u002fmale\",\"80.0\\u002f1\\u002fmale\",\"71.0\\u002f1\\u002fmale\",\"65.0\\u002f1\\u002fmale\",\"64.0\\u002f1\\u002fmale\",\"62.0\\u002f1\\u002fmale\",\"61.0\\u002f1\\u002fmale\",\"58.0\\u002f1\\u002fmale\",\"56.0\\u002f1\\u002fmale\",\"55.0\\u002f1\\u002fmale\",\"34.0\\u002f2\\u002fmale\",\"35.0\\u002f2\\u002fmale\",\"36.5\\u002f2\\u002fmale\",\"37.0\\u002f2\\u002fmale\",\"20.0\\u002f3\\u002fmale\",\"19.0\\u002f3\\u002fmale\",\"16.0\\u002f3\\u002fmale\",\"15.0\\u002f3\\u002fmale\",\"12.0\\u002f3\\u002fmale\",\"10.0\\u002f3\\u002fmale\",\"8.0\\u002f3\\u002fmale\",\"7.0\\u002f3\\u002fmale\",\"3.0\\u002f3\\u002fmale\",\"2.0\\u002f3\\u002fmale\",\"1.0\\u002f3\\u002fmale\",\"70.0\\u002f1\",\"0.42\\u002f3\\u002fmale\",\"66.0\\u002f2\\u002fmale\",\"62.0\\u002f2\\u002fmale\",\"60.0\\u002f2\\u002fmale\",\"59.0\\u002f2\\u002fmale\",\"57.0\\u002f2\\u002fmale\",\"52.0\\u002f2\\u002fmale\",\"48.0\\u002f2\\u002fmale\",\"47.0\\u002f2\\u002fmale\",\"46.0\\u002f2\\u002fmale\",\"43.0\\u002f2\\u002fmale\",\"42.0\\u002f2\\u002fmale\",\"70.0\\u002f2\\u002fmale\",\"80.0\"],\"labels\":[\"male\",\"male\",\"3\",\"3\",\"male\",\"3\",\"3\",\"male\",\"male\",\"3\",\"male\",\"male\",\"male\",\"3\",\"male\",\"3\",\"3\",\"3\",\"male\",\"male\",\"3\",\"male\",\"male\",\"male\",\"2\",\"male\",\"male\",\"2\",\"male\",\"3\",\"male\",\"male\",\"3\",\"male\",\"0.42\",\"3\",\"male\",\"male\",\"male\",\"3\",\"3\",\"male\",\"male\",\"male\",\"3\",\"male\",\"3\",\"male\",\"male\",\"1\",\"3\",\"3\",\"male\",\"male\",\"3\",\"male\",\"3\",\"male\",\"3\",\"male\",\"3\",\"male\",\"male\",\"2\",\"male\",\"2\",\"2\",\"1\",\"2\",\"1\",\"1\",\"1\",\"1\",\"1\",\"1\",\"2\",\"1\",\"1\",\"1\",\"1\",\"2\",\"1\",\"1\",\"2\",\"1\",\"2\",\"1\",\"1\",\"1\",\"1\",\"2\",\"1\",\"1\",\"1\",\"2\",\"2\",\"male\",\"1\",\"2\",\"male\",\"male\",\"male\",\"male\",\"male\",\"male\",\"2\",\"2\",\"male\",\"2\",\"male\",\"male\",\"2\",\"male\",\"male\",\"male\",\"male\",\"2\",\"male\",\"2\",\"2\",\"2\",\"2\",\"2\",\"1\",\"1\",\"1\",\"1\",\"1\",\"1\",\"male\",\"1\",\"female\",\"female\",\"50.0\",\"female\",\"female\",\"female\",\"female\",\"female\",\"51.0\",\"52.0\",\"24.5\",\"23.5\",\"23.0\",\"22.0\",\"41.0\",\"21.0\",\"female\",\"female\",\"female\",\"55.5\",\"19.0\",\"17.0\",\"female\",\"female\",\"29.69911764705882\",\"female\",\"female\",\"female\",\"44.0\",\"38.0\",\"female\",\"45.0\",\"female\",\"female\",\"36.0\",\"female\",\"female\",\"1.0\",\"45.5\",\"34.0\",\"female\",\"32.5\",\"47.0\",\"female\",\"31.0\",\"female\",\"49.0\",\"female\",\"female\",\"female\",\"female\",\"female\",\"female\",\"female\",\"7.0\",\"63.0\",\"female\",\"female\",\"5.0\",\"8.0\",\"65.0\",\"female\",\"female\",\"female\",\"female\",\"70.0\",\"female\",\"female\",\"female\",\"female\",\"female\",\"female\",\"female\",\"female\",\"female\",\"female\",\"female\",\"70.5\",\"female\",\"2\",\"2\",\"42.0\",\"2\",\"2\",\"71.0\",\"43.0\",\"2\",\"2\",\"2\",\"2\",\"2\",\"2\",\"2\",\"2\",\"2\",\"46.0\",\"57.0\",\"48.0\",\"58.0\",\"56.0\",\"2\",\"59.0\",\"55.0\",\"60.0\",\"2\",\"61.0\",\"54.0\",\"2\",\"2\",\"2\",\"53.0\",\"2\",\"2\",\"62.0\",\"2\",\"2\",\"2\",\"2\",\"64.0\",\"2\",\"2\",\"66.0\",\"2\",\"2\",\"0.92\",\"3\",\"2\",\"13.0\",\"3\",\"3\",\"3\",\"14.0\",\"3\",\"3\",\"3\",\"12.0\",\"3\",\"14.5\",\"3\",\"15.0\",\"3\",\"3\",\"16.0\",\"3\",\"3\",\"3\",\"3\",\"3\",\"3\",\"2.0\",\"0.83\",\"0.75\",\"3.0\",\"0.67\",\"4.0\",\"6.0\",\"3\",\"3\",\"9.0\",\"3\",\"3\",\"3\",\"10.0\",\"3\",\"3\",\"3\",\"3\",\"11.0\",\"18.0\",\"40.5\",\"3\",\"20.0\",\"3\",\"3\",\"32.0\",\"33.0\",\"3\",\"3\",\"34.5\",\"3\",\"3\",\"35.0\",\"2\",\"2\",\"2\",\"37.0\",\"2\",\"2\",\"39.0\",\"40.0\",\"36.5\",\"3\",\"30.5\",\"30.0\",\"20.5\",\"3\",\"3\",\"24.0\",\"25.0\",\"3\",\"3\",\"3\",\"26.0\",\"27.0\",\"28.0\",\"3\",\"3\",\"28.5\",\"29.0\",\"3\",\"3\",\"3\",\"3\",\"3\",\"female\",\"male\",\"1\",\"female\",\"female\",\"female\",\"female\",\"female\",\"female\",\"female\",\"female\",\"female\",\"female\",\"female\",\"female\",\"female\",\"female\",\"female\",\"female\",\"female\",\"female\",\"female\",\"female\",\"female\",\"female\",\"female\",\"female\",\"female\",\"female\",\"female\",\"male\",\"male\",\"male\",\"male\",\"male\",\"male\",\"male\",\"male\",\"male\",\"male\",\"male\",\"male\",\"male\",\"male\",\"male\",\"male\",\"male\",\"male\",\"male\",\"male\",\"male\",\"male\",\"male\",\"female\",\"male\",\"female\",\"female\",\"female\",\"female\",\"female\",\"female\",\"female\",\"female\",\"female\",\"female\",\"female\",\"female\",\"female\",\"female\",\"female\",\"female\",\"female\",\"female\",\"female\",\"female\",\"female\",\"female\",\"female\",\"female\",\"female\",\"female\",\"female\",\"female\",\"female\",\"female\",\"female\",\"female\",\"female\",\"female\",\"female\",\"female\",\"female\",\"female\",\"female\",\"female\",\"female\",\"female\",\"female\",\"female\",\"female\",\"female\",\"female\",\"female\",\"female\",\"female\",\"female\",\"female\",\"female\",\"male\",\"male\",\"male\",\"male\",\"male\",\"male\",\"male\",\"male\",\"male\",\"74.0\",\"male\",\"male\",\"male\",\"male\",\"male\",\"male\",\"male\",\"male\",\"male\",\"male\",\"male\",\"male\",\"male\",\"male\",\"male\",\"male\",\"male\",\"male\",\"1\",\"1\",\"1\",\"1\",\"1\",\"1\",\"1\",\"1\",\"1\",\"1\",\"1\",\"1\",\"1\",\"1\",\"1\",\"1\",\"1\",\"1\",\"1\",\"1\",\"1\",\"1\",\"1\",\"1\",\"1\",\"1\",\"male\",\"male\",\"male\",\"male\",\"male\",\"male\",\"male\",\"male\",\"male\",\"male\",\"male\",\"male\",\"male\",\"male\",\"male\",\"male\",\"male\",\"male\",\"male\",\"male\",\"male\",\"male\",\"male\",\"male\",\"male\",\"male\",\"male\",\"male\",\"male\",\"male\",\"male\",\"male\",\"male\",\"male\",\"male\",\"male\",\"male\",\"male\",\"male\",\"male\",\"male\",\"1\",\"male\",\"male\",\"male\",\"male\",\"male\",\"male\",\"male\",\"male\",\"male\",\"male\",\"male\",\"male\",\"male\",\"80.0\"],\"marker\":{\"colors\":[\"blue\",\"blue\",\"blue\",\"#00cc96\",\"blue\",\"#00cc96\",\"#00cc96\",\"blue\",\"blue\",\"#00cc96\",\"blue\",\"blue\",\"blue\",\"pink\",\"blue\",\"#00cc96\",\"#00cc96\",\"#00cc96\",\"blue\",\"blue\",\"#00cc96\",\"blue\",\"blue\",\"blue\",\"blue\",\"blue\",\"blue\",\"blue\",\"blue\",\"#00cc96\",\"blue\",\"blue\",\"#00cc96\",\"blue\",\"blue\",\"blue\",\"blue\",\"blue\",\"blue\",\"blue\",\"blue\",\"blue\",\"blue\",\"blue\",\"#00cc96\",\"blue\",\"blue\",\"blue\",\"blue\",\"blue\",\"blue\",\"#00cc96\",\"blue\",\"blue\",\"#00cc96\",\"blue\",\"#00cc96\",\"blue\",\"#00cc96\",\"blue\",\"#00cc96\",\"blue\",\"blue\",\"#00cc96\",\"blue\",\"blue\",\"#00cc96\",\"#00cc96\",\"#00cc96\",\"blue\",\"#00cc96\",\"#00cc96\",\"#00cc96\",\"#00cc96\",\"#00cc96\",\"#00cc96\",\"#00cc96\",\"blue\",\"#00cc96\",\"#00cc96\",\"blue\",\"pink\",\"#00cc96\",\"pink\",\"blue\",\"pink\",\"#00cc96\",\"#00cc96\",\"#00cc96\",\"#00cc96\",\"#00cc96\",\"#00cc96\",\"#00cc96\",\"pink\",\"blue\",\"#00cc96\",\"blue\",\"#00cc96\",\"#00cc96\",\"blue\",\"blue\",\"blue\",\"blue\",\"blue\",\"blue\",\"#00cc96\",\"#00cc96\",\"blue\",\"#00cc96\",\"blue\",\"blue\",\"#00cc96\",\"blue\",\"blue\",\"blue\",\"blue\",\"pink\",\"blue\",\"blue\",\"#00cc96\",\"#00cc96\",\"#00cc96\",\"#00cc96\",\"blue\",\"pink\",\"blue\",\"pink\",\"#00cc96\",\"#00cc96\",\"blue\",\"blue\",\"pink\",\"pink\",\"#00cc96\",\"pink\",\"pink\",\"pink\",\"pink\",\"pink\",\"#00cc96\",\"#00cc96\",\"blue\",\"blue\",\"#00cc96\",\"#00cc96\",\"#00cc96\",\"#00cc96\",\"pink\",\"pink\",\"pink\",\"blue\",\"#00cc96\",\"#00cc96\",\"pink\",\"pink\",\"#00cc96\",\"pink\",\"pink\",\"pink\",\"#00cc96\",\"#00cc96\",\"pink\",\"#00cc96\",\"pink\",\"pink\",\"#00cc96\",\"pink\",\"pink\",\"#00cc96\",\"blue\",\"#00cc96\",\"pink\",\"#00cc96\",\"#00cc96\",\"pink\",\"#00cc96\",\"pink\",\"#00cc96\",\"pink\",\"pink\",\"pink\",\"pink\",\"pink\",\"pink\",\"pink\",\"#00cc96\",\"pink\",\"pink\",\"pink\",\"pink\",\"#00cc96\",\"blue\",\"pink\",\"pink\",\"pink\",\"pink\",\"blue\",\"pink\",\"pink\",\"pink\",\"pink\",\"pink\",\"pink\",\"pink\",\"pink\",\"pink\",\"pink\",\"pink\",\"blue\",\"pink\",\"blue\",\"pink\",\"#00cc96\",\"pink\",\"#00cc96\",\"blue\",\"#00cc96\",\"pink\",\"blue\",\"pink\",\"blue\",\"#00cc96\",\"pink\",\"blue\",\"blue\",\"pink\",\"blue\",\"#00cc96\",\"#00cc96\",\"#00cc96\",\"#00cc96\",\"pink\",\"blue\",\"#00cc96\",\"#00cc96\",\"#00cc96\",\"blue\",\"#00cc96\",\"#00cc96\",\"#00cc96\",\"#00cc96\",\"pink\",\"#00cc96\",\"#00cc96\",\"#00cc96\",\"pink\",\"#00cc96\",\"#00cc96\",\"#00cc96\",\"blue\",\"#00cc96\",\"blue\",\"blue\",\"blue\",\"pink\",\"blue\",\"blue\",\"blue\",\"pink\",\"#00cc96\",\"blue\",\"#00cc96\",\"#00cc96\",\"#00cc96\",\"#00cc96\",\"#00cc96\",\"blue\",\"#00cc96\",\"pink\",\"blue\",\"#00cc96\",\"#00cc96\",\"#00cc96\",\"#00cc96\",\"#00cc96\",\"#00cc96\",\"#00cc96\",\"blue\",\"#00cc96\",\"blue\",\"#00cc96\",\"blue\",\"pink\",\"#00cc96\",\"blue\",\"#00cc96\",\"#00cc96\",\"blue\",\"pink\",\"#00cc96\",\"blue\",\"blue\",\"blue\",\"#00cc96\",\"blue\",\"blue\",\"#00cc96\",\"#00cc96\",\"#00cc96\",\"#00cc96\",\"blue\",\"blue\",\"#00cc96\",\"pink\",\"#00cc96\",\"#00cc96\",\"#00cc96\",\"#00cc96\",\"#00cc96\",\"blue\",\"pink\",\"blue\",\"#00cc96\",\"blue\",\"blue\",\"blue\",\"#00cc96\",\"pink\",\"#00cc96\",\"#00cc96\",\"#00cc96\",\"blue\",\"#00cc96\",\"#00cc96\",\"#00cc96\",\"blue\",\"blue\",\"#00cc96\",\"#00cc96\",\"#00cc96\",\"#00cc96\",\"#00cc96\",\"blue\",\"#00cc96\",\"#00cc96\",\"#00cc96\",\"#00cc96\",\"#00cc96\",\"blue\",\"#00cc96\",\"#00cc96\",\"pink\",\"#00cc96\",\"blue\",\"#00cc96\",\"pink\",\"blue\",\"blue\",\"pink\",\"pink\",\"pink\",\"pink\",\"pink\",\"pink\",\"pink\",\"pink\",\"pink\",\"pink\",\"pink\",\"pink\",\"pink\",\"pink\",\"pink\",\"pink\",\"pink\",\"pink\",\"pink\",\"pink\",\"pink\",\"pink\",\"pink\",\"pink\",\"pink\",\"pink\",\"pink\",\"blue\",\"blue\",\"blue\",\"blue\",\"blue\",\"blue\",\"blue\",\"blue\",\"blue\",\"blue\",\"blue\",\"blue\",\"blue\",\"blue\",\"blue\",\"blue\",\"blue\",\"blue\",\"blue\",\"blue\",\"blue\",\"blue\",\"blue\",\"pink\",\"blue\",\"pink\",\"pink\",\"pink\",\"pink\",\"pink\",\"pink\",\"pink\",\"pink\",\"pink\",\"pink\",\"pink\",\"pink\",\"pink\",\"pink\",\"pink\",\"pink\",\"pink\",\"pink\",\"pink\",\"pink\",\"pink\",\"pink\",\"pink\",\"pink\",\"pink\",\"pink\",\"pink\",\"pink\",\"pink\",\"pink\",\"pink\",\"pink\",\"pink\",\"pink\",\"pink\",\"pink\",\"pink\",\"pink\",\"pink\",\"pink\",\"pink\",\"pink\",\"pink\",\"pink\",\"pink\",\"pink\",\"pink\",\"pink\",\"pink\",\"pink\",\"pink\",\"pink\",\"pink\",\"blue\",\"blue\",\"blue\",\"blue\",\"blue\",\"blue\",\"blue\",\"blue\",\"blue\",\"blue\",\"blue\",\"blue\",\"blue\",\"blue\",\"blue\",\"blue\",\"blue\",\"blue\",\"blue\",\"blue\",\"blue\",\"blue\",\"blue\",\"blue\",\"blue\",\"blue\",\"blue\",\"blue\",\"blue\",\"pink\",\"blue\",\"#00cc96\",\"blue\",\"#00cc96\",\"#00cc96\",\"blue\",\"pink\",\"#00cc96\",\"#00cc96\",\"blue\",\"#00cc96\",\"#00cc96\",\"pink\",\"#00cc96\",\"#00cc96\",\"blue\",\"#00cc96\",\"blue\",\"#00cc96\",\"#00cc96\",\"#00cc96\",\"#00cc96\",\"#00cc96\",\"pink\",\"blue\",\"blue\",\"blue\",\"blue\",\"blue\",\"blue\",\"blue\",\"blue\",\"blue\",\"blue\",\"blue\",\"blue\",\"blue\",\"blue\",\"blue\",\"blue\",\"blue\",\"blue\",\"blue\",\"blue\",\"blue\",\"blue\",\"blue\",\"blue\",\"blue\",\"blue\",\"blue\",\"blue\",\"blue\",\"blue\",\"blue\",\"blue\",\"blue\",\"blue\",\"blue\",\"blue\",\"blue\",\"blue\",\"blue\",\"blue\",\"blue\",\"blue\",\"blue\",\"blue\",\"blue\",\"blue\",\"blue\",\"blue\",\"blue\",\"blue\",\"blue\",\"blue\",\"blue\",\"blue\",\"blue\",\"blue\"]},\"name\":\"\",\"parents\":[\"60.0\\u002f1\",\"31.0\\u002f2\",\"23.5\",\"23.0\",\"36.0\\u002f2\",\"20.0\",\"19.0\",\"39.0\\u002f2\",\"44.0\\u002f2\",\"16.0\",\"50.0\\u002f2\",\"51.0\\u002f2\",\"54.0\\u002f2\",\"13.0\",\"30.0\\u002f2\",\"11.0\",\"9.0\",\"6.0\",\"4.0\\u002f3\",\"6.0\\u002f3\",\"3.0\",\"9.0\\u002f3\",\"11.0\\u002f3\",\"14.0\\u002f3\",\"70.0\",\"17.0\\u002f3\",\"18.0\\u002f3\",\"62.0\",\"22.0\\u002f3\",\"10.0\",\"28.0\\u002f2\",\"27.0\\u002f2\",\"25.0\",\"21.0\\u002f1\",\"\",\"74.0\",\"25.0\\u002f1\",\"26.0\\u002f1\",\"27.0\\u002f1\",\"70.5\",\"61.0\",\"31.0\\u002f1\",\"35.0\\u002f1\",\"40.0\\u002f1\",\"43.0\",\"46.0\\u002f1\",\"42.0\",\"51.0\\u002f1\",\"52.0\\u002f1\",\"80.0\",\"34.5\",\"33.0\",\"70.0\\u002f1\",\"0.67\\u002f2\",\"30.5\",\"3.0\\u002f2\",\"29.0\",\"16.0\\u002f2\",\"27.0\",\"23.0\\u002f2\",\"26.0\",\"25.0\\u002f2\",\"23.0\\u002f3\",\"57.0\",\"25.0\\u002f3\",\"52.0\",\"25.0\",\"25.0\",\"24.0\",\"28.0\",\"29.0\",\"30.0\",\"31.0\",\"32.0\",\"33.0\",\"19.0\",\"36.0\",\"37.0\",\"39.0\",\"40.0\",\"16.0\",\"43.0\",\"44.0\",\"14.0\",\"45.5\",\"13.0\",\"47.0\",\"48.0\",\"49.0\",\"50.0\",\"8.0\",\"54.0\",\"58.0\",\"63.0\",\"0.67\",\"26.0\",\"17.0\\u002f1\",\"22.0\",\"27.0\",\"28.0\\u002f3\",\"28.5\\u002f3\",\"29.0\\u002f3\",\"29.69911764705882\\u002f3\",\"30.0\\u002f3\",\"30.5\\u002f3\",\"50.0\",\"48.0\",\"34.5\\u002f3\",\"44.0\",\"38.0\\u002f3\",\"39.0\\u002f3\",\"42.0\",\"41.0\\u002f3\",\"43.0\\u002f3\",\"44.0\\u002f3\",\"45.0\\u002f3\",\"38.0\",\"48.0\\u002f3\",\"36.5\",\"36.0\",\"32.5\",\"32.0\",\"31.0\",\"0.92\",\"2.0\",\"4.0\",\"14.0\",\"18.0\",\"21.0\",\"11.0\\u002f1\",\"71.0\",\"16.0\\u002f3\",\"2.0\\u002f3\",\"\",\"63.0\\u002f1\",\"62.0\\u002f1\",\"5.0\\u002f3\",\"60.0\\u002f1\",\"58.0\\u002f1\",\"\",\"\",\"\",\"\",\"\",\"\",\"\",\"\",\"18.0\\u002f3\",\"50.0\\u002f1\",\"49.0\\u002f1\",\"\",\"\",\"\",\"1.0\\u002f3\",\"3.0\\u002f2\",\"\",\"57.0\\u002f2\",\"25.0\\u002f2\",\"23.0\\u002f2\",\"\",\"\",\"32.0\\u002f2\",\"\",\"33.0\\u002f2\",\"19.0\\u002f2\",\"\",\"36.0\\u002f2\",\"45.0\\u002f1\",\"\",\"\",\"\",\"13.0\\u002f2\",\"\",\"\",\"7.0\\u002f2\",\"\",\"50.0\\u002f2\",\"\",\"4.0\\u002f2\",\"18.0\\u002f2\",\"24.0\\u002f3\",\"28.0\\u002f2\",\"24.0\\u002f1\",\"16.0\\u002f1\",\"40.0\\u002f3\",\"\",\"\",\"30.5\\u002f3\",\"30.0\\u002f1\",\"\",\"\",\"\",\"25.0\\u002f1\",\"23.0\\u002f1\",\"22.0\\u002f1\",\"36.0\\u002f3\",\"\",\"29.69911764705882\\u002f1\",\"33.0\\u002f1\",\"30.0\\u002f3\",\"35.0\\u002f1\",\"42.0\\u002f1\",\"14.0\\u002f1\",\"27.0\\u002f3\",\"41.0\\u002f1\",\"48.0\\u002f3\",\"39.0\\u002f1\",\"29.0\\u002f3\",\"\",\"15.0\\u002f1\",\"43.0\",\"40.0\",\"\",\"45.0\",\"2.0\",\"\",\"\",\"41.0\",\"46.0\",\"5.0\",\"47.0\",\"3.0\",\"4.0\",\"0.83\",\"1.0\",\"6.0\",\"\",\"\",\"\",\"\",\"\",\"22.0\",\"\",\"\",\"\",\"21.0\",\"\",\"\",\"28.0\",\"29.0\",\"29.69911764705882\",\"\",\"30.0\",\"18.0\",\"\",\"17.0\",\"33.0\",\"34.0\",\"35.0\",\"\",\"23.0\",\"37.0\",\"\",\"39.0\",\"7.0\",\"\",\"0.42\",\"51.0\",\"\",\"41.0\",\"40.5\",\"40.0\",\"\",\"39.0\",\"38.0\",\"37.0\",\"\",\"36.0\",\"\",\"34.0\",\"\",\"32.0\",\"31.0\",\"\",\"30.0\",\"29.69911764705882\",\"35.0\",\"44.0\",\"45.0\",\"45.5\",\"\",\"\",\"\",\"\",\"\",\"\",\"\",\"65.0\",\"63.0\",\"\",\"59.0\",\"55.5\",\"51.0\",\"\",\"50.0\",\"49.0\",\"48.0\",\"47.0\",\"\",\"\",\"\",\"28.5\",\"\",\"5.0\",\"4.0\",\"\",\"\",\"2.0\",\"1.0\",\"\",\"0.75\",\"7.0\",\"\",\"66.0\",\"60.0\",\"59.0\",\"\",\"55.0\",\"54.0\",\"\",\"\",\"\",\"8.0\",\"\",\"\",\"\",\"24.5\",\"24.0\",\"\",\"\",\"22.0\",\"21.0\",\"20.5\",\"\",\"\",\"\",\"18.0\",\"17.0\",\"\",\"\",\"15.0\",\"14.5\",\"14.0\",\"12.0\",\"28.0\",\"2.0\\u002f1\",\"50.0\\u002f3\",\"65.0\",\"41.0\\u002f3\",\"39.0\\u002f3\",\"38.0\\u002f3\",\"37.0\\u002f3\",\"35.0\\u002f3\",\"33.0\\u002f3\",\"32.0\\u002f3\",\"31.0\\u002f3\",\"29.69911764705882\\u002f3\",\"28.0\\u002f3\",\"26.0\\u002f3\",\"25.0\\u002f3\",\"23.0\\u002f3\",\"22.0\\u002f3\",\"21.0\\u002f3\",\"20.0\\u002f3\",\"19.0\\u002f3\",\"17.0\\u002f3\",\"15.0\\u002f3\",\"14.5\\u002f3\",\"14.0\\u002f3\",\"13.0\\u002f3\",\"11.0\\u002f3\",\"43.0\\u002f3\",\"10.0\\u002f3\",\"45.0\\u002f3\",\"63.0\\u002f3\",\"47.0\\u002f1\",\"45.5\\u002f1\",\"45.0\\u002f1\",\"44.0\\u002f1\",\"42.0\\u002f1\",\"39.0\\u002f1\",\"38.0\\u002f1\",\"37.0\\u002f1\",\"36.0\\u002f1\",\"34.0\\u002f1\",\"33.0\\u002f1\",\"32.0\\u002f1\",\"30.0\\u002f1\",\"29.69911764705882\\u002f1\",\"29.0\\u002f1\",\"28.0\\u002f1\",\"24.0\\u002f1\",\"23.0\\u002f1\",\"22.0\\u002f1\",\"19.0\\u002f1\",\"18.0\\u002f1\",\"4.0\\u002f1\",\"0.92\\u002f1\",\"47.0\\u002f3\",\"48.0\\u002f1\",\"9.0\\u002f3\",\"6.0\\u002f3\",\"6.0\\u002f2\",\"5.0\\u002f2\",\"2.0\\u002f2\",\"56.0\\u002f1\",\"54.0\\u002f1\",\"53.0\\u002f1\",\"52.0\\u002f1\",\"51.0\\u002f1\",\"48.0\\u002f1\",\"47.0\\u002f1\",\"44.0\\u002f1\",\"43.0\\u002f1\",\"40.0\\u002f1\",\"38.0\\u002f1\",\"36.0\\u002f1\",\"32.0\\u002f1\",\"31.0\\u002f1\",\"29.0\\u002f1\",\"26.0\\u002f1\",\"21.0\\u002f1\",\"19.0\\u002f1\",\"18.0\\u002f1\",\"17.0\\u002f1\",\"8.0\\u002f2\",\"8.0\\u002f3\",\"14.0\\u002f2\",\"21.0\\u002f2\",\"4.0\\u002f3\",\"3.0\\u002f3\",\"0.75\\u002f3\",\"55.0\\u002f2\",\"54.0\\u002f2\",\"48.0\\u002f2\",\"45.0\\u002f2\",\"44.0\\u002f2\",\"42.0\\u002f2\",\"41.0\\u002f2\",\"40.0\\u002f2\",\"38.0\\u002f2\",\"35.0\\u002f2\",\"34.0\\u002f2\",\"32.5\\u002f2\",\"31.0\\u002f2\",\"30.0\\u002f2\",\"29.69911764705882\\u002f2\",\"29.0\\u002f2\",\"27.0\\u002f2\",\"26.0\\u002f2\",\"24.0\\u002f2\",\"22.0\\u002f2\",\"17.0\\u002f2\",\"49.0\\u002f1\",\"50.0\\u002f1\",\"54.0\\u002f1\",\"70.5\\u002f3\",\"65.0\\u002f3\",\"61.0\\u002f3\",\"59.0\\u002f3\",\"55.5\\u002f3\",\"51.0\\u002f3\",\"\",\"49.0\\u002f3\",\"47.0\\u002f3\",\"45.5\\u002f3\",\"42.0\\u002f3\",\"40.5\\u002f3\",\"40.0\\u002f3\",\"37.0\\u002f3\",\"36.0\\u002f3\",\"35.0\\u002f3\",\"34.0\\u002f3\",\"33.0\\u002f3\",\"32.0\\u002f3\",\"31.0\\u002f3\",\"27.0\\u002f3\",\"26.0\\u002f3\",\"24.5\\u002f3\",\"74.0\\u002f3\",\"24.0\\u002f3\",\"11.0\",\"16.0\",\"64.0\",\"62.0\",\"61.0\",\"60.0\",\"56.0\",\"55.0\",\"53.0\",\"52.0\",\"51.0\",\"46.0\",\"45.0\",\"42.0\",\"41.0\",\"38.0\",\"35.0\",\"34.0\",\"29.69911764705882\",\"27.0\",\"26.0\",\"24.0\",\"23.0\",\"19.0\",\"17.0\",\"15.0\",\"23.5\\u002f3\",\"21.0\\u002f3\",\"20.5\\u002f3\",\"33.0\\u002f2\",\"32.5\\u002f2\",\"32.0\\u002f2\",\"29.69911764705882\\u002f2\",\"29.0\\u002f2\",\"26.0\\u002f2\",\"24.0\\u002f2\",\"21.0\\u002f2\",\"19.0\\u002f2\",\"18.0\\u002f2\",\"8.0\\u002f2\",\"2.0\\u002f2\",\"1.0\\u002f2\",\"0.83\\u002f2\",\"80.0\\u002f1\",\"71.0\\u002f1\",\"65.0\\u002f1\",\"64.0\\u002f1\",\"62.0\\u002f1\",\"61.0\\u002f1\",\"58.0\\u002f1\",\"56.0\\u002f1\",\"55.0\\u002f1\",\"34.0\\u002f2\",\"35.0\\u002f2\",\"36.5\\u002f2\",\"37.0\\u002f2\",\"20.0\\u002f3\",\"19.0\\u002f3\",\"16.0\\u002f3\",\"15.0\\u002f3\",\"12.0\\u002f3\",\"10.0\\u002f3\",\"8.0\\u002f3\",\"7.0\\u002f3\",\"3.0\\u002f3\",\"2.0\\u002f3\",\"1.0\\u002f3\",\"70.0\",\"0.42\\u002f3\",\"66.0\\u002f2\",\"62.0\\u002f2\",\"60.0\\u002f2\",\"59.0\\u002f2\",\"57.0\\u002f2\",\"52.0\\u002f2\",\"48.0\\u002f2\",\"47.0\\u002f2\",\"46.0\\u002f2\",\"43.0\\u002f2\",\"42.0\\u002f2\",\"70.0\\u002f2\",\"\"],\"values\":[2,4,1,5,4,15,14,3,1,12,1,1,3,1,5,3,8,2,4,1,3,4,2,2,1,6,8,1,14,2,4,3,13,1,1,1,2,1,4,1,1,3,3,3,3,2,4,2,2,1,1,8,1,1,2,2,11,2,8,6,14,5,3,2,11,2,7,3,10,4,3,6,5,2,4,6,9,3,5,5,2,1,3,1,1,1,5,5,5,5,2,4,5,1,1,2,1,5,6,10,2,8,94,8,1,4,2,1,2,3,4,5,2,2,4,2,1,1,1,7,2,4,5,1,1,1,1,4,3,1,2,3,4,10,1,1,3,1,3,7,6,1,1,15,27,6,24,8,2,2,1,25,13,2,1,177,1,2,1,9,11,1,12,2,2,22,3,1,7,2,15,1,2,9,1,17,3,6,2,2,4,5,5,3,1,3,2,1,5,4,4,3,1,2,4,1,2,9,3,3,6,1,1,3,1,1,4,3,1,1,1,3,13,2,2,2,5,1,1,1,1,3,2,2,2,1,3,2,9,5,4,2,2,2,4,4,3,8,9,6,11,1,8,6,4,2,3,10,3,2,7,1,1,3,1,1,1,1,2,4,2,5,6,6,4,2,1,6,1,4,5,12,7,17,11,136,6,4,5,1,10,2,2,6,1,10,3,1,1,8,1,1,3,2,1,1,2,3,4,26,2,2,15,3,7,18,15,7,5,1,2,2,18,1,1,1,6,1,4,14,13,1,2,2,25,1,1,13,30,23,20,17,1,18,18,25,16,8,2,20,4,1,4,1,12,1,1,2,2,2,1,1,1,1,1,4,42,2,3,2,2,6,4,2,2,2,3,1,2,1,1,1,1,3,1,4,1,4,1,3,1,3,3,6,1,1,1,1,21,2,4,2,1,1,2,1,1,1,1,3,4,1,1,1,1,1,2,1,2,1,2,1,2,1,2,3,3,1,2,1,1,2,3,3,2,1,1,1,1,3,1,2,1,1,1,2,1,2,1,3,1,1,4,1,1,3,2,3,3,1,7,2,2,3,3,2,1,1,1,1,1,3,1,1,2,1,4,2,4,1,5,5,4,7,11,3,5,11,1,1,9,1,3,2,3,2,3,4,1,1,4,3,2,5,4,1,6,9,1,30,4,2,7,3,5,3,1,1,13,1,1,1,3,9,3,1,3,3,4,4,1,1,2,2,1,2,2,2,2,2,2,3,1,6,2,1,1,13,12,9,1,1,1,1,2,2,3,3,1,1,1,1,1,1,1,2,1,1,1,1,3,1,1],\"type\":\"treemap\",\"textfont\":{\"family\":\"Arial\",\"size\":12},\"textinfo\":\"label+value\"}],                        {\"template\":{\"data\":{\"histogram2dcontour\":[{\"type\":\"histogram2dcontour\",\"colorbar\":{\"outlinewidth\":0,\"ticks\":\"\"},\"colorscale\":[[0.0,\"#0d0887\"],[0.1111111111111111,\"#46039f\"],[0.2222222222222222,\"#7201a8\"],[0.3333333333333333,\"#9c179e\"],[0.4444444444444444,\"#bd3786\"],[0.5555555555555556,\"#d8576b\"],[0.6666666666666666,\"#ed7953\"],[0.7777777777777778,\"#fb9f3a\"],[0.8888888888888888,\"#fdca26\"],[1.0,\"#f0f921\"]]}],\"choropleth\":[{\"type\":\"choropleth\",\"colorbar\":{\"outlinewidth\":0,\"ticks\":\"\"}}],\"histogram2d\":[{\"type\":\"histogram2d\",\"colorbar\":{\"outlinewidth\":0,\"ticks\":\"\"},\"colorscale\":[[0.0,\"#0d0887\"],[0.1111111111111111,\"#46039f\"],[0.2222222222222222,\"#7201a8\"],[0.3333333333333333,\"#9c179e\"],[0.4444444444444444,\"#bd3786\"],[0.5555555555555556,\"#d8576b\"],[0.6666666666666666,\"#ed7953\"],[0.7777777777777778,\"#fb9f3a\"],[0.8888888888888888,\"#fdca26\"],[1.0,\"#f0f921\"]]}],\"heatmap\":[{\"type\":\"heatmap\",\"colorbar\":{\"outlinewidth\":0,\"ticks\":\"\"},\"colorscale\":[[0.0,\"#0d0887\"],[0.1111111111111111,\"#46039f\"],[0.2222222222222222,\"#7201a8\"],[0.3333333333333333,\"#9c179e\"],[0.4444444444444444,\"#bd3786\"],[0.5555555555555556,\"#d8576b\"],[0.6666666666666666,\"#ed7953\"],[0.7777777777777778,\"#fb9f3a\"],[0.8888888888888888,\"#fdca26\"],[1.0,\"#f0f921\"]]}],\"heatmapgl\":[{\"type\":\"heatmapgl\",\"colorbar\":{\"outlinewidth\":0,\"ticks\":\"\"},\"colorscale\":[[0.0,\"#0d0887\"],[0.1111111111111111,\"#46039f\"],[0.2222222222222222,\"#7201a8\"],[0.3333333333333333,\"#9c179e\"],[0.4444444444444444,\"#bd3786\"],[0.5555555555555556,\"#d8576b\"],[0.6666666666666666,\"#ed7953\"],[0.7777777777777778,\"#fb9f3a\"],[0.8888888888888888,\"#fdca26\"],[1.0,\"#f0f921\"]]}],\"contourcarpet\":[{\"type\":\"contourcarpet\",\"colorbar\":{\"outlinewidth\":0,\"ticks\":\"\"}}],\"contour\":[{\"type\":\"contour\",\"colorbar\":{\"outlinewidth\":0,\"ticks\":\"\"},\"colorscale\":[[0.0,\"#0d0887\"],[0.1111111111111111,\"#46039f\"],[0.2222222222222222,\"#7201a8\"],[0.3333333333333333,\"#9c179e\"],[0.4444444444444444,\"#bd3786\"],[0.5555555555555556,\"#d8576b\"],[0.6666666666666666,\"#ed7953\"],[0.7777777777777778,\"#fb9f3a\"],[0.8888888888888888,\"#fdca26\"],[1.0,\"#f0f921\"]]}],\"surface\":[{\"type\":\"surface\",\"colorbar\":{\"outlinewidth\":0,\"ticks\":\"\"},\"colorscale\":[[0.0,\"#0d0887\"],[0.1111111111111111,\"#46039f\"],[0.2222222222222222,\"#7201a8\"],[0.3333333333333333,\"#9c179e\"],[0.4444444444444444,\"#bd3786\"],[0.5555555555555556,\"#d8576b\"],[0.6666666666666666,\"#ed7953\"],[0.7777777777777778,\"#fb9f3a\"],[0.8888888888888888,\"#fdca26\"],[1.0,\"#f0f921\"]]}],\"mesh3d\":[{\"type\":\"mesh3d\",\"colorbar\":{\"outlinewidth\":0,\"ticks\":\"\"}}],\"scatter\":[{\"fillpattern\":{\"fillmode\":\"overlay\",\"size\":10,\"solidity\":0.2},\"type\":\"scatter\"}],\"parcoords\":[{\"type\":\"parcoords\",\"line\":{\"colorbar\":{\"outlinewidth\":0,\"ticks\":\"\"}}}],\"scatterpolargl\":[{\"type\":\"scatterpolargl\",\"marker\":{\"colorbar\":{\"outlinewidth\":0,\"ticks\":\"\"}}}],\"bar\":[{\"error_x\":{\"color\":\"#2a3f5f\"},\"error_y\":{\"color\":\"#2a3f5f\"},\"marker\":{\"line\":{\"color\":\"#E5ECF6\",\"width\":0.5},\"pattern\":{\"fillmode\":\"overlay\",\"size\":10,\"solidity\":0.2}},\"type\":\"bar\"}],\"scattergeo\":[{\"type\":\"scattergeo\",\"marker\":{\"colorbar\":{\"outlinewidth\":0,\"ticks\":\"\"}}}],\"scatterpolar\":[{\"type\":\"scatterpolar\",\"marker\":{\"colorbar\":{\"outlinewidth\":0,\"ticks\":\"\"}}}],\"histogram\":[{\"marker\":{\"pattern\":{\"fillmode\":\"overlay\",\"size\":10,\"solidity\":0.2}},\"type\":\"histogram\"}],\"scattergl\":[{\"type\":\"scattergl\",\"marker\":{\"colorbar\":{\"outlinewidth\":0,\"ticks\":\"\"}}}],\"scatter3d\":[{\"type\":\"scatter3d\",\"line\":{\"colorbar\":{\"outlinewidth\":0,\"ticks\":\"\"}},\"marker\":{\"colorbar\":{\"outlinewidth\":0,\"ticks\":\"\"}}}],\"scattermapbox\":[{\"type\":\"scattermapbox\",\"marker\":{\"colorbar\":{\"outlinewidth\":0,\"ticks\":\"\"}}}],\"scatterternary\":[{\"type\":\"scatterternary\",\"marker\":{\"colorbar\":{\"outlinewidth\":0,\"ticks\":\"\"}}}],\"scattercarpet\":[{\"type\":\"scattercarpet\",\"marker\":{\"colorbar\":{\"outlinewidth\":0,\"ticks\":\"\"}}}],\"carpet\":[{\"aaxis\":{\"endlinecolor\":\"#2a3f5f\",\"gridcolor\":\"white\",\"linecolor\":\"white\",\"minorgridcolor\":\"white\",\"startlinecolor\":\"#2a3f5f\"},\"baxis\":{\"endlinecolor\":\"#2a3f5f\",\"gridcolor\":\"white\",\"linecolor\":\"white\",\"minorgridcolor\":\"white\",\"startlinecolor\":\"#2a3f5f\"},\"type\":\"carpet\"}],\"table\":[{\"cells\":{\"fill\":{\"color\":\"#EBF0F8\"},\"line\":{\"color\":\"white\"}},\"header\":{\"fill\":{\"color\":\"#C8D4E3\"},\"line\":{\"color\":\"white\"}},\"type\":\"table\"}],\"barpolar\":[{\"marker\":{\"line\":{\"color\":\"#E5ECF6\",\"width\":0.5},\"pattern\":{\"fillmode\":\"overlay\",\"size\":10,\"solidity\":0.2}},\"type\":\"barpolar\"}],\"pie\":[{\"automargin\":true,\"type\":\"pie\"}]},\"layout\":{\"autotypenumbers\":\"strict\",\"colorway\":[\"#636efa\",\"#EF553B\",\"#00cc96\",\"#ab63fa\",\"#FFA15A\",\"#19d3f3\",\"#FF6692\",\"#B6E880\",\"#FF97FF\",\"#FECB52\"],\"font\":{\"color\":\"#2a3f5f\"},\"hovermode\":\"closest\",\"hoverlabel\":{\"align\":\"left\"},\"paper_bgcolor\":\"white\",\"plot_bgcolor\":\"#E5ECF6\",\"polar\":{\"bgcolor\":\"#E5ECF6\",\"angularaxis\":{\"gridcolor\":\"white\",\"linecolor\":\"white\",\"ticks\":\"\"},\"radialaxis\":{\"gridcolor\":\"white\",\"linecolor\":\"white\",\"ticks\":\"\"}},\"ternary\":{\"bgcolor\":\"#E5ECF6\",\"aaxis\":{\"gridcolor\":\"white\",\"linecolor\":\"white\",\"ticks\":\"\"},\"baxis\":{\"gridcolor\":\"white\",\"linecolor\":\"white\",\"ticks\":\"\"},\"caxis\":{\"gridcolor\":\"white\",\"linecolor\":\"white\",\"ticks\":\"\"}},\"coloraxis\":{\"colorbar\":{\"outlinewidth\":0,\"ticks\":\"\"}},\"colorscale\":{\"sequential\":[[0.0,\"#0d0887\"],[0.1111111111111111,\"#46039f\"],[0.2222222222222222,\"#7201a8\"],[0.3333333333333333,\"#9c179e\"],[0.4444444444444444,\"#bd3786\"],[0.5555555555555556,\"#d8576b\"],[0.6666666666666666,\"#ed7953\"],[0.7777777777777778,\"#fb9f3a\"],[0.8888888888888888,\"#fdca26\"],[1.0,\"#f0f921\"]],\"sequentialminus\":[[0.0,\"#0d0887\"],[0.1111111111111111,\"#46039f\"],[0.2222222222222222,\"#7201a8\"],[0.3333333333333333,\"#9c179e\"],[0.4444444444444444,\"#bd3786\"],[0.5555555555555556,\"#d8576b\"],[0.6666666666666666,\"#ed7953\"],[0.7777777777777778,\"#fb9f3a\"],[0.8888888888888888,\"#fdca26\"],[1.0,\"#f0f921\"]],\"diverging\":[[0,\"#8e0152\"],[0.1,\"#c51b7d\"],[0.2,\"#de77ae\"],[0.3,\"#f1b6da\"],[0.4,\"#fde0ef\"],[0.5,\"#f7f7f7\"],[0.6,\"#e6f5d0\"],[0.7,\"#b8e186\"],[0.8,\"#7fbc41\"],[0.9,\"#4d9221\"],[1,\"#276419\"]]},\"xaxis\":{\"gridcolor\":\"white\",\"linecolor\":\"white\",\"ticks\":\"\",\"title\":{\"standoff\":15},\"zerolinecolor\":\"white\",\"automargin\":true,\"zerolinewidth\":2},\"yaxis\":{\"gridcolor\":\"white\",\"linecolor\":\"white\",\"ticks\":\"\",\"title\":{\"standoff\":15},\"zerolinecolor\":\"white\",\"automargin\":true,\"zerolinewidth\":2},\"scene\":{\"xaxis\":{\"backgroundcolor\":\"#E5ECF6\",\"gridcolor\":\"white\",\"linecolor\":\"white\",\"showbackground\":true,\"ticks\":\"\",\"zerolinecolor\":\"white\",\"gridwidth\":2},\"yaxis\":{\"backgroundcolor\":\"#E5ECF6\",\"gridcolor\":\"white\",\"linecolor\":\"white\",\"showbackground\":true,\"ticks\":\"\",\"zerolinecolor\":\"white\",\"gridwidth\":2},\"zaxis\":{\"backgroundcolor\":\"#E5ECF6\",\"gridcolor\":\"white\",\"linecolor\":\"white\",\"showbackground\":true,\"ticks\":\"\",\"zerolinecolor\":\"white\",\"gridwidth\":2}},\"shapedefaults\":{\"line\":{\"color\":\"#2a3f5f\"}},\"annotationdefaults\":{\"arrowcolor\":\"#2a3f5f\",\"arrowhead\":0,\"arrowwidth\":1},\"geo\":{\"bgcolor\":\"white\",\"landcolor\":\"#E5ECF6\",\"subunitcolor\":\"white\",\"showland\":true,\"showlakes\":true,\"lakecolor\":\"white\"},\"title\":{\"x\":0.05},\"mapbox\":{\"style\":\"light\"}}},\"legend\":{\"tracegroupgap\":0},\"margin\":{\"t\":60,\"l\":10,\"r\":10,\"b\":10},\"title\":{\"text\":\"Age, Class and Gender Distribution Treemap\"}},                        {\"responsive\": true}                    ).then(function(){\n",
       "                            \n",
       "var gd = document.getElementById('e17a0d3a-6596-439d-9929-c02c254e0792');\n",
       "var x = new MutationObserver(function (mutations, observer) {{\n",
       "        var display = window.getComputedStyle(gd).display;\n",
       "        if (!display || display === 'none') {{\n",
       "            console.log([gd, 'removed!']);\n",
       "            Plotly.purge(gd);\n",
       "            observer.disconnect();\n",
       "        }}\n",
       "}});\n",
       "\n",
       "// Listen for the removal of the full notebook cells\n",
       "var notebookContainer = gd.closest('#notebook-container');\n",
       "if (notebookContainer) {{\n",
       "    x.observe(notebookContainer, {childList: true});\n",
       "}}\n",
       "\n",
       "// Listen for the clearing of the current output cell\n",
       "var outputEl = gd.closest('.output');\n",
       "if (outputEl) {{\n",
       "    x.observe(outputEl, {childList: true});\n",
       "}}\n",
       "\n",
       "                        })                };                });            </script>        </div>"
      ]
     },
     "metadata": {},
     "output_type": "display_data"
    }
   ],
   "source": [
    "tree_map = px.treemap(dftrain, path=[\"Age\", \"Pclass\", 'Sex'], color='Sex', \n",
    "                      color_discrete_map={'male': 'blue', 'female': 'pink'},\n",
    "                      labels={'Age': 'Age', 'Pclass': 'Classe', 'Sex': 'Gender'}\n",
    "                    )\n",
    "\n",
    "tree_map.update_layout(title='Age, Class and Gender Distribution Treemap')\n",
    "\n",
    "tree_map.update_traces(textinfo=\"label+value\", \n",
    "                       textfont=dict(size=12, family=\"Arial\"))\n",
    "\n",
    "tree_map.update_layout(margin=dict(l=10, r=10, t=60, b=10))\n",
    "\n",
    "tree_map.show()"
   ]
  },
  {
   "cell_type": "code",
   "execution_count": 21,
   "id": "5da2bdf2",
   "metadata": {
    "execution": {
     "iopub.execute_input": "2023-11-04T18:20:44.019004Z",
     "iopub.status.busy": "2023-11-04T18:20:44.018305Z",
     "iopub.status.idle": "2023-11-04T18:20:44.101015Z",
     "shell.execute_reply": "2023-11-04T18:20:44.099668Z"
    },
    "papermill": {
     "duration": 0.105071,
     "end_time": "2023-11-04T18:20:44.103456",
     "exception": false,
     "start_time": "2023-11-04T18:20:43.998385",
     "status": "completed"
    },
    "tags": []
   },
   "outputs": [
    {
     "data": {
      "text/html": [
       "<div>                            <div id=\"9df25115-e967-4eca-9df3-d4b9fbdefec2\" class=\"plotly-graph-div\" style=\"height:525px; width:100%;\"></div>            <script type=\"text/javascript\">                require([\"plotly\"], function(Plotly) {                    window.PLOTLYENV=window.PLOTLYENV || {};                                    if (document.getElementById(\"9df25115-e967-4eca-9df3-d4b9fbdefec2\")) {                    Plotly.newPlot(                        \"9df25115-e967-4eca-9df3-d4b9fbdefec2\",                        [{\"dimensions\":[{\"label\":\"Passenger Class\",\"values\":[3,1,3,1,3,3,1,3,3,2,3,1,3,3,3,2,3,2,3,3,2,2,3,1,3,3,3,1,3,3,1,1,3,2,1,1,3,3,3,3,3,2,3,2,3,3,3,3,3,3,3,3,1,2,1,1,2,3,2,3,3,1,1,3,1,3,2,3,3,3,2,3,2,3,3,3,3,3,2,3,3,3,3,1,2,3,3,3,1,3,3,3,1,3,3,3,1,1,2,2,3,3,1,3,3,3,3,3,3,3,1,3,3,3,3,3,3,2,1,3,2,3,2,2,1,3,3,3,3,3,3,3,3,2,2,2,1,1,3,1,3,3,3,3,2,2,3,3,2,2,2,1,3,3,3,1,3,3,3,3,3,2,3,3,3,3,1,3,1,3,1,3,3,3,1,3,3,1,2,3,3,2,3,2,3,1,3,1,3,3,2,2,3,2,1,1,3,3,3,2,3,3,3,3,3,3,3,3,3,1,3,2,3,2,3,1,3,2,1,2,3,2,3,3,1,3,2,3,2,3,1,3,2,3,2,3,2,2,2,2,3,3,2,3,3,1,3,2,1,2,3,3,1,3,3,3,1,1,1,2,3,3,1,1,3,2,3,3,1,1,1,3,2,1,3,1,3,2,3,3,3,3,3,3,1,3,3,3,2,3,1,1,2,3,3,1,3,1,1,1,3,3,3,2,3,1,1,1,2,1,1,1,2,3,2,3,2,2,1,1,3,3,2,2,3,1,3,2,3,1,3,1,1,3,1,3,1,1,3,1,2,1,2,2,2,2,2,3,3,3,3,1,3,3,3,3,1,2,3,3,3,2,3,3,3,3,1,3,3,1,1,3,3,1,3,1,3,1,3,3,1,3,3,1,3,2,3,2,3,2,1,3,3,1,3,3,3,2,2,2,3,3,3,3,3,2,3,2,3,3,3,3,1,2,3,3,2,2,2,3,3,3,3,3,3,3,2,2,3,3,1,3,2,3,1,1,3,2,1,2,2,3,3,2,3,1,2,1,3,1,2,3,1,1,3,3,1,1,2,3,1,3,1,2,3,3,2,1,3,3,3,3,2,2,3,1,2,3,3,3,3,2,3,3,1,3,1,1,3,3,3,3,1,1,3,3,1,3,1,3,3,3,3,3,1,1,2,1,3,3,3,3,1,1,3,1,2,3,2,3,1,3,3,1,3,3,2,1,3,2,2,3,3,3,3,2,1,1,3,1,1,3,3,2,1,1,2,2,3,2,1,2,3,3,3,1,1,1,1,3,3,3,2,3,3,3,3,3,3,3,2,1,1,3,3,3,2,1,3,3,2,1,2,1,3,1,2,1,3,3,3,1,3,3,2,3,2,3,3,1,2,3,1,3,1,3,3,1,2,1,3,3,3,3,3,2,3,3,2,2,3,1,3,3,3,1,2,1,3,3,1,3,1,1,3,2,3,2,3,3,3,1,3,3,3,1,3,1,3,3,3,2,3,3,3,2,3,3,2,1,1,3,1,3,3,2,2,3,3,1,2,1,2,2,2,3,3,3,3,1,3,1,3,3,2,2,3,3,3,1,1,3,3,3,1,2,3,3,1,3,1,1,3,3,3,2,2,1,1,3,1,1,1,3,2,3,1,2,3,3,2,3,2,2,1,3,2,3,2,3,1,3,2,2,2,3,3,1,3,3,1,1,1,3,3,1,3,2,1,3,2,3,3,3,2,2,3,2,3,1,3,3,3,1,3,1,1,3,3,3,3,3,2,3,2,3,3,3,3,1,3,1,1,3,3,3,3,3,3,1,3,2,3,1,3,2,1,3,3,3,2,2,1,3,3,3,1,3,2,1,3,3,2,3,3,1,3,2,3,3,1,3,1,3,3,3,3,2,3,1,3,2,3,3,3,1,3,3,3,1,3,2,1,3,3,3,3,3,2,1,3,3,3,1,2,3,1,1,3,3,3,2,1,3,2,2,2,1,3,3,3,1,1,3,2,3,3,3,3,1,2,3,3,2,3,3,2,1,3,1,3]},{\"label\":\"Sex\",\"values\":[\"male\",\"female\",\"female\",\"female\",\"male\",\"male\",\"male\",\"male\",\"female\",\"female\",\"female\",\"female\",\"male\",\"male\",\"female\",\"female\",\"male\",\"male\",\"female\",\"female\",\"male\",\"male\",\"female\",\"male\",\"female\",\"female\",\"male\",\"male\",\"female\",\"male\",\"male\",\"female\",\"female\",\"male\",\"male\",\"male\",\"male\",\"male\",\"female\",\"female\",\"female\",\"female\",\"male\",\"female\",\"female\",\"male\",\"male\",\"female\",\"male\",\"female\",\"male\",\"male\",\"female\",\"female\",\"male\",\"male\",\"female\",\"male\",\"female\",\"male\",\"male\",\"female\",\"male\",\"male\",\"male\",\"male\",\"female\",\"male\",\"female\",\"male\",\"male\",\"female\",\"male\",\"male\",\"male\",\"male\",\"male\",\"male\",\"male\",\"female\",\"male\",\"male\",\"female\",\"male\",\"female\",\"female\",\"male\",\"male\",\"female\",\"male\",\"male\",\"male\",\"male\",\"male\",\"male\",\"male\",\"male\",\"male\",\"female\",\"male\",\"female\",\"male\",\"male\",\"male\",\"male\",\"male\",\"female\",\"male\",\"male\",\"female\",\"male\",\"female\",\"male\",\"female\",\"female\",\"male\",\"male\",\"male\",\"male\",\"female\",\"male\",\"male\",\"male\",\"female\",\"male\",\"male\",\"male\",\"male\",\"female\",\"male\",\"male\",\"male\",\"female\",\"female\",\"male\",\"male\",\"female\",\"male\",\"male\",\"male\",\"female\",\"female\",\"female\",\"male\",\"male\",\"male\",\"male\",\"female\",\"male\",\"male\",\"male\",\"female\",\"male\",\"male\",\"male\",\"male\",\"female\",\"male\",\"male\",\"male\",\"male\",\"female\",\"male\",\"male\",\"male\",\"male\",\"female\",\"female\",\"male\",\"male\",\"male\",\"male\",\"female\",\"male\",\"male\",\"male\",\"male\",\"female\",\"male\",\"male\",\"female\",\"male\",\"male\",\"male\",\"female\",\"male\",\"female\",\"male\",\"male\",\"male\",\"female\",\"male\",\"female\",\"male\",\"female\",\"female\",\"male\",\"male\",\"female\",\"female\",\"male\",\"male\",\"male\",\"male\",\"male\",\"female\",\"male\",\"male\",\"female\",\"male\",\"male\",\"female\",\"male\",\"male\",\"male\",\"female\",\"female\",\"male\",\"female\",\"male\",\"male\",\"male\",\"male\",\"male\",\"male\",\"male\",\"male\",\"male\",\"male\",\"female\",\"female\",\"male\",\"male\",\"female\",\"male\",\"female\",\"male\",\"female\",\"male\",\"male\",\"female\",\"female\",\"male\",\"male\",\"male\",\"male\",\"female\",\"female\",\"male\",\"male\",\"male\",\"female\",\"male\",\"male\",\"female\",\"female\",\"female\",\"female\",\"female\",\"female\",\"male\",\"male\",\"male\",\"male\",\"female\",\"male\",\"male\",\"male\",\"female\",\"female\",\"male\",\"male\",\"female\",\"male\",\"female\",\"female\",\"female\",\"male\",\"male\",\"female\",\"male\",\"male\",\"male\",\"male\",\"male\",\"male\",\"male\",\"male\",\"male\",\"female\",\"female\",\"female\",\"male\",\"female\",\"male\",\"male\",\"male\",\"female\",\"male\",\"female\",\"female\",\"male\",\"male\",\"female\",\"male\",\"male\",\"female\",\"female\",\"male\",\"female\",\"female\",\"female\",\"female\",\"male\",\"male\",\"female\",\"female\",\"male\",\"female\",\"female\",\"male\",\"male\",\"female\",\"female\",\"male\",\"female\",\"male\",\"female\",\"female\",\"female\",\"female\",\"male\",\"male\",\"male\",\"female\",\"male\",\"male\",\"female\",\"male\",\"male\",\"male\",\"female\",\"male\",\"male\",\"male\",\"female\",\"female\",\"female\",\"male\",\"male\",\"male\",\"male\",\"male\",\"male\",\"male\",\"male\",\"female\",\"female\",\"female\",\"female\",\"male\",\"male\",\"female\",\"male\",\"male\",\"male\",\"female\",\"female\",\"female\",\"female\",\"male\",\"male\",\"male\",\"male\",\"female\",\"female\",\"female\",\"male\",\"male\",\"male\",\"female\",\"female\",\"male\",\"female\",\"male\",\"male\",\"male\",\"female\",\"male\",\"female\",\"male\",\"male\",\"male\",\"female\",\"female\",\"male\",\"female\",\"male\",\"male\",\"female\",\"male\",\"male\",\"female\",\"male\",\"female\",\"male\",\"male\",\"male\",\"male\",\"female\",\"male\",\"male\",\"female\",\"male\",\"male\",\"female\",\"female\",\"female\",\"male\",\"female\",\"male\",\"male\",\"male\",\"female\",\"male\",\"male\",\"female\",\"female\",\"male\",\"male\",\"male\",\"female\",\"female\",\"male\",\"male\",\"female\",\"female\",\"female\",\"male\",\"male\",\"female\",\"male\",\"male\",\"female\",\"male\",\"male\",\"female\",\"male\",\"female\",\"male\",\"male\",\"male\",\"male\",\"male\",\"male\",\"male\",\"male\",\"female\",\"female\",\"male\",\"male\",\"male\",\"male\",\"male\",\"male\",\"male\",\"male\",\"male\",\"male\",\"female\",\"male\",\"male\",\"female\",\"female\",\"female\",\"male\",\"male\",\"male\",\"male\",\"female\",\"male\",\"male\",\"male\",\"female\",\"male\",\"female\",\"female\",\"male\",\"male\",\"male\",\"male\",\"male\",\"male\",\"male\",\"male\",\"male\",\"female\",\"male\",\"female\",\"male\",\"male\",\"female\",\"female\",\"female\",\"female\",\"male\",\"female\",\"male\",\"male\",\"male\",\"male\",\"male\",\"male\",\"female\",\"male\",\"male\",\"female\",\"male\",\"female\",\"male\",\"female\",\"male\",\"male\",\"female\",\"male\",\"male\",\"female\",\"male\",\"male\",\"male\",\"female\",\"male\",\"male\",\"female\",\"female\",\"female\",\"male\",\"female\",\"male\",\"female\",\"female\",\"female\",\"female\",\"male\",\"male\",\"male\",\"female\",\"male\",\"male\",\"male\",\"male\",\"male\",\"male\",\"male\",\"female\",\"male\",\"female\",\"male\",\"female\",\"female\",\"male\",\"male\",\"male\",\"male\",\"female\",\"male\",\"male\",\"female\",\"male\",\"male\",\"male\",\"female\",\"male\",\"female\",\"male\",\"male\",\"female\",\"female\",\"female\",\"male\",\"female\",\"female\",\"male\",\"male\",\"male\",\"female\",\"male\",\"male\",\"male\",\"male\",\"male\",\"female\",\"male\",\"female\",\"male\",\"male\",\"female\",\"male\",\"male\",\"male\",\"female\",\"male\",\"male\",\"male\",\"male\",\"male\",\"male\",\"male\",\"female\",\"female\",\"female\",\"male\",\"female\",\"male\",\"male\",\"female\",\"male\",\"female\",\"female\",\"male\",\"male\",\"male\",\"male\",\"male\",\"male\",\"male\",\"male\",\"female\",\"male\",\"male\",\"male\",\"male\",\"male\",\"male\",\"female\",\"female\",\"male\",\"male\",\"female\",\"male\",\"male\",\"female\",\"female\",\"male\",\"female\",\"male\",\"male\",\"male\",\"male\",\"female\",\"male\",\"female\",\"male\",\"female\",\"female\",\"male\",\"male\",\"female\",\"male\",\"male\",\"male\",\"male\",\"male\",\"male\",\"male\",\"male\",\"male\",\"male\",\"male\",\"female\",\"female\",\"male\",\"male\",\"male\",\"male\",\"male\",\"male\",\"female\",\"female\",\"male\",\"female\",\"male\",\"male\",\"male\",\"male\",\"male\",\"male\",\"male\",\"male\",\"female\",\"male\",\"female\",\"male\",\"male\",\"male\",\"male\",\"male\",\"female\",\"male\",\"male\",\"female\",\"male\",\"female\",\"male\",\"male\",\"male\",\"female\",\"male\",\"female\",\"male\",\"female\",\"male\",\"male\",\"male\",\"male\",\"male\",\"female\",\"female\",\"male\",\"male\",\"female\",\"male\",\"male\",\"male\",\"male\",\"male\",\"female\",\"female\",\"male\",\"female\",\"female\",\"male\",\"male\",\"male\",\"male\",\"male\",\"female\",\"male\",\"male\",\"male\",\"male\",\"male\",\"female\",\"male\",\"male\",\"male\",\"male\",\"female\",\"male\",\"male\",\"female\",\"male\",\"male\",\"male\",\"female\",\"male\",\"male\",\"male\",\"male\",\"female\",\"male\",\"male\",\"male\",\"female\",\"male\",\"female\",\"male\",\"female\",\"male\",\"male\",\"male\",\"male\",\"female\",\"male\",\"female\",\"male\",\"male\",\"female\",\"male\",\"female\",\"female\",\"female\",\"male\",\"male\",\"male\",\"male\",\"female\",\"male\",\"male\",\"male\",\"male\",\"male\",\"female\",\"male\",\"male\",\"male\",\"female\",\"female\",\"male\",\"female\",\"male\",\"female\",\"male\",\"male\",\"male\",\"male\",\"male\",\"female\",\"male\",\"female\",\"male\",\"male\",\"male\",\"female\",\"male\",\"male\",\"female\",\"male\",\"male\",\"male\",\"female\",\"male\",\"male\",\"female\",\"male\",\"male\",\"male\",\"male\",\"male\",\"female\",\"female\",\"male\",\"male\",\"male\",\"male\",\"female\",\"male\",\"male\",\"male\",\"male\",\"male\",\"male\",\"female\",\"male\",\"male\",\"male\",\"male\",\"male\",\"male\",\"female\",\"male\",\"male\",\"female\",\"female\",\"female\",\"female\",\"female\",\"male\",\"female\",\"male\",\"male\",\"male\",\"female\",\"female\",\"male\",\"female\",\"female\",\"male\",\"male\",\"male\",\"male\",\"female\",\"male\",\"male\",\"female\",\"female\",\"male\",\"male\",\"male\",\"female\",\"female\",\"male\",\"female\",\"male\",\"male\",\"female\",\"male\",\"female\",\"female\",\"male\",\"male\"]}],\"domain\":{\"x\":[0.0,1.0],\"y\":[0.0,1.0]},\"name\":\"\",\"type\":\"parcats\",\"line\":{\"color\":\"purple\"}}],                        {\"template\":{\"data\":{\"histogram2dcontour\":[{\"type\":\"histogram2dcontour\",\"colorbar\":{\"outlinewidth\":0,\"ticks\":\"\"},\"colorscale\":[[0.0,\"#0d0887\"],[0.1111111111111111,\"#46039f\"],[0.2222222222222222,\"#7201a8\"],[0.3333333333333333,\"#9c179e\"],[0.4444444444444444,\"#bd3786\"],[0.5555555555555556,\"#d8576b\"],[0.6666666666666666,\"#ed7953\"],[0.7777777777777778,\"#fb9f3a\"],[0.8888888888888888,\"#fdca26\"],[1.0,\"#f0f921\"]]}],\"choropleth\":[{\"type\":\"choropleth\",\"colorbar\":{\"outlinewidth\":0,\"ticks\":\"\"}}],\"histogram2d\":[{\"type\":\"histogram2d\",\"colorbar\":{\"outlinewidth\":0,\"ticks\":\"\"},\"colorscale\":[[0.0,\"#0d0887\"],[0.1111111111111111,\"#46039f\"],[0.2222222222222222,\"#7201a8\"],[0.3333333333333333,\"#9c179e\"],[0.4444444444444444,\"#bd3786\"],[0.5555555555555556,\"#d8576b\"],[0.6666666666666666,\"#ed7953\"],[0.7777777777777778,\"#fb9f3a\"],[0.8888888888888888,\"#fdca26\"],[1.0,\"#f0f921\"]]}],\"heatmap\":[{\"type\":\"heatmap\",\"colorbar\":{\"outlinewidth\":0,\"ticks\":\"\"},\"colorscale\":[[0.0,\"#0d0887\"],[0.1111111111111111,\"#46039f\"],[0.2222222222222222,\"#7201a8\"],[0.3333333333333333,\"#9c179e\"],[0.4444444444444444,\"#bd3786\"],[0.5555555555555556,\"#d8576b\"],[0.6666666666666666,\"#ed7953\"],[0.7777777777777778,\"#fb9f3a\"],[0.8888888888888888,\"#fdca26\"],[1.0,\"#f0f921\"]]}],\"heatmapgl\":[{\"type\":\"heatmapgl\",\"colorbar\":{\"outlinewidth\":0,\"ticks\":\"\"},\"colorscale\":[[0.0,\"#0d0887\"],[0.1111111111111111,\"#46039f\"],[0.2222222222222222,\"#7201a8\"],[0.3333333333333333,\"#9c179e\"],[0.4444444444444444,\"#bd3786\"],[0.5555555555555556,\"#d8576b\"],[0.6666666666666666,\"#ed7953\"],[0.7777777777777778,\"#fb9f3a\"],[0.8888888888888888,\"#fdca26\"],[1.0,\"#f0f921\"]]}],\"contourcarpet\":[{\"type\":\"contourcarpet\",\"colorbar\":{\"outlinewidth\":0,\"ticks\":\"\"}}],\"contour\":[{\"type\":\"contour\",\"colorbar\":{\"outlinewidth\":0,\"ticks\":\"\"},\"colorscale\":[[0.0,\"#0d0887\"],[0.1111111111111111,\"#46039f\"],[0.2222222222222222,\"#7201a8\"],[0.3333333333333333,\"#9c179e\"],[0.4444444444444444,\"#bd3786\"],[0.5555555555555556,\"#d8576b\"],[0.6666666666666666,\"#ed7953\"],[0.7777777777777778,\"#fb9f3a\"],[0.8888888888888888,\"#fdca26\"],[1.0,\"#f0f921\"]]}],\"surface\":[{\"type\":\"surface\",\"colorbar\":{\"outlinewidth\":0,\"ticks\":\"\"},\"colorscale\":[[0.0,\"#0d0887\"],[0.1111111111111111,\"#46039f\"],[0.2222222222222222,\"#7201a8\"],[0.3333333333333333,\"#9c179e\"],[0.4444444444444444,\"#bd3786\"],[0.5555555555555556,\"#d8576b\"],[0.6666666666666666,\"#ed7953\"],[0.7777777777777778,\"#fb9f3a\"],[0.8888888888888888,\"#fdca26\"],[1.0,\"#f0f921\"]]}],\"mesh3d\":[{\"type\":\"mesh3d\",\"colorbar\":{\"outlinewidth\":0,\"ticks\":\"\"}}],\"scatter\":[{\"fillpattern\":{\"fillmode\":\"overlay\",\"size\":10,\"solidity\":0.2},\"type\":\"scatter\"}],\"parcoords\":[{\"type\":\"parcoords\",\"line\":{\"colorbar\":{\"outlinewidth\":0,\"ticks\":\"\"}}}],\"scatterpolargl\":[{\"type\":\"scatterpolargl\",\"marker\":{\"colorbar\":{\"outlinewidth\":0,\"ticks\":\"\"}}}],\"bar\":[{\"error_x\":{\"color\":\"#2a3f5f\"},\"error_y\":{\"color\":\"#2a3f5f\"},\"marker\":{\"line\":{\"color\":\"#E5ECF6\",\"width\":0.5},\"pattern\":{\"fillmode\":\"overlay\",\"size\":10,\"solidity\":0.2}},\"type\":\"bar\"}],\"scattergeo\":[{\"type\":\"scattergeo\",\"marker\":{\"colorbar\":{\"outlinewidth\":0,\"ticks\":\"\"}}}],\"scatterpolar\":[{\"type\":\"scatterpolar\",\"marker\":{\"colorbar\":{\"outlinewidth\":0,\"ticks\":\"\"}}}],\"histogram\":[{\"marker\":{\"pattern\":{\"fillmode\":\"overlay\",\"size\":10,\"solidity\":0.2}},\"type\":\"histogram\"}],\"scattergl\":[{\"type\":\"scattergl\",\"marker\":{\"colorbar\":{\"outlinewidth\":0,\"ticks\":\"\"}}}],\"scatter3d\":[{\"type\":\"scatter3d\",\"line\":{\"colorbar\":{\"outlinewidth\":0,\"ticks\":\"\"}},\"marker\":{\"colorbar\":{\"outlinewidth\":0,\"ticks\":\"\"}}}],\"scattermapbox\":[{\"type\":\"scattermapbox\",\"marker\":{\"colorbar\":{\"outlinewidth\":0,\"ticks\":\"\"}}}],\"scatterternary\":[{\"type\":\"scatterternary\",\"marker\":{\"colorbar\":{\"outlinewidth\":0,\"ticks\":\"\"}}}],\"scattercarpet\":[{\"type\":\"scattercarpet\",\"marker\":{\"colorbar\":{\"outlinewidth\":0,\"ticks\":\"\"}}}],\"carpet\":[{\"aaxis\":{\"endlinecolor\":\"#2a3f5f\",\"gridcolor\":\"white\",\"linecolor\":\"white\",\"minorgridcolor\":\"white\",\"startlinecolor\":\"#2a3f5f\"},\"baxis\":{\"endlinecolor\":\"#2a3f5f\",\"gridcolor\":\"white\",\"linecolor\":\"white\",\"minorgridcolor\":\"white\",\"startlinecolor\":\"#2a3f5f\"},\"type\":\"carpet\"}],\"table\":[{\"cells\":{\"fill\":{\"color\":\"#EBF0F8\"},\"line\":{\"color\":\"white\"}},\"header\":{\"fill\":{\"color\":\"#C8D4E3\"},\"line\":{\"color\":\"white\"}},\"type\":\"table\"}],\"barpolar\":[{\"marker\":{\"line\":{\"color\":\"#E5ECF6\",\"width\":0.5},\"pattern\":{\"fillmode\":\"overlay\",\"size\":10,\"solidity\":0.2}},\"type\":\"barpolar\"}],\"pie\":[{\"automargin\":true,\"type\":\"pie\"}]},\"layout\":{\"autotypenumbers\":\"strict\",\"colorway\":[\"#636efa\",\"#EF553B\",\"#00cc96\",\"#ab63fa\",\"#FFA15A\",\"#19d3f3\",\"#FF6692\",\"#B6E880\",\"#FF97FF\",\"#FECB52\"],\"font\":{\"color\":\"#2a3f5f\"},\"hovermode\":\"closest\",\"hoverlabel\":{\"align\":\"left\"},\"paper_bgcolor\":\"white\",\"plot_bgcolor\":\"#E5ECF6\",\"polar\":{\"bgcolor\":\"#E5ECF6\",\"angularaxis\":{\"gridcolor\":\"white\",\"linecolor\":\"white\",\"ticks\":\"\"},\"radialaxis\":{\"gridcolor\":\"white\",\"linecolor\":\"white\",\"ticks\":\"\"}},\"ternary\":{\"bgcolor\":\"#E5ECF6\",\"aaxis\":{\"gridcolor\":\"white\",\"linecolor\":\"white\",\"ticks\":\"\"},\"baxis\":{\"gridcolor\":\"white\",\"linecolor\":\"white\",\"ticks\":\"\"},\"caxis\":{\"gridcolor\":\"white\",\"linecolor\":\"white\",\"ticks\":\"\"}},\"coloraxis\":{\"colorbar\":{\"outlinewidth\":0,\"ticks\":\"\"}},\"colorscale\":{\"sequential\":[[0.0,\"#0d0887\"],[0.1111111111111111,\"#46039f\"],[0.2222222222222222,\"#7201a8\"],[0.3333333333333333,\"#9c179e\"],[0.4444444444444444,\"#bd3786\"],[0.5555555555555556,\"#d8576b\"],[0.6666666666666666,\"#ed7953\"],[0.7777777777777778,\"#fb9f3a\"],[0.8888888888888888,\"#fdca26\"],[1.0,\"#f0f921\"]],\"sequentialminus\":[[0.0,\"#0d0887\"],[0.1111111111111111,\"#46039f\"],[0.2222222222222222,\"#7201a8\"],[0.3333333333333333,\"#9c179e\"],[0.4444444444444444,\"#bd3786\"],[0.5555555555555556,\"#d8576b\"],[0.6666666666666666,\"#ed7953\"],[0.7777777777777778,\"#fb9f3a\"],[0.8888888888888888,\"#fdca26\"],[1.0,\"#f0f921\"]],\"diverging\":[[0,\"#8e0152\"],[0.1,\"#c51b7d\"],[0.2,\"#de77ae\"],[0.3,\"#f1b6da\"],[0.4,\"#fde0ef\"],[0.5,\"#f7f7f7\"],[0.6,\"#e6f5d0\"],[0.7,\"#b8e186\"],[0.8,\"#7fbc41\"],[0.9,\"#4d9221\"],[1,\"#276419\"]]},\"xaxis\":{\"gridcolor\":\"white\",\"linecolor\":\"white\",\"ticks\":\"\",\"title\":{\"standoff\":15},\"zerolinecolor\":\"white\",\"automargin\":true,\"zerolinewidth\":2},\"yaxis\":{\"gridcolor\":\"white\",\"linecolor\":\"white\",\"ticks\":\"\",\"title\":{\"standoff\":15},\"zerolinecolor\":\"white\",\"automargin\":true,\"zerolinewidth\":2},\"scene\":{\"xaxis\":{\"backgroundcolor\":\"#E5ECF6\",\"gridcolor\":\"white\",\"linecolor\":\"white\",\"showbackground\":true,\"ticks\":\"\",\"zerolinecolor\":\"white\",\"gridwidth\":2},\"yaxis\":{\"backgroundcolor\":\"#E5ECF6\",\"gridcolor\":\"white\",\"linecolor\":\"white\",\"showbackground\":true,\"ticks\":\"\",\"zerolinecolor\":\"white\",\"gridwidth\":2},\"zaxis\":{\"backgroundcolor\":\"#E5ECF6\",\"gridcolor\":\"white\",\"linecolor\":\"white\",\"showbackground\":true,\"ticks\":\"\",\"zerolinecolor\":\"white\",\"gridwidth\":2}},\"shapedefaults\":{\"line\":{\"color\":\"#2a3f5f\"}},\"annotationdefaults\":{\"arrowcolor\":\"#2a3f5f\",\"arrowhead\":0,\"arrowwidth\":1},\"geo\":{\"bgcolor\":\"white\",\"landcolor\":\"#E5ECF6\",\"subunitcolor\":\"white\",\"showland\":true,\"showlakes\":true,\"lakecolor\":\"white\"},\"title\":{\"x\":0.05},\"mapbox\":{\"style\":\"light\"}}},\"legend\":{\"tracegroupgap\":0},\"margin\":{\"t\":60},\"title\":{\"text\":\"Relation between Passenger Class and Sex\"},\"showlegend\":true},                        {\"responsive\": true}                    ).then(function(){\n",
       "                            \n",
       "var gd = document.getElementById('9df25115-e967-4eca-9df3-d4b9fbdefec2');\n",
       "var x = new MutationObserver(function (mutations, observer) {{\n",
       "        var display = window.getComputedStyle(gd).display;\n",
       "        if (!display || display === 'none') {{\n",
       "            console.log([gd, 'removed!']);\n",
       "            Plotly.purge(gd);\n",
       "            observer.disconnect();\n",
       "        }}\n",
       "}});\n",
       "\n",
       "// Listen for the removal of the full notebook cells\n",
       "var notebookContainer = gd.closest('#notebook-container');\n",
       "if (notebookContainer) {{\n",
       "    x.observe(notebookContainer, {childList: true});\n",
       "}}\n",
       "\n",
       "// Listen for the clearing of the current output cell\n",
       "var outputEl = gd.closest('.output');\n",
       "if (outputEl) {{\n",
       "    x.observe(outputEl, {childList: true});\n",
       "}}\n",
       "\n",
       "                        })                };                });            </script>        </div>"
      ]
     },
     "metadata": {},
     "output_type": "display_data"
    }
   ],
   "source": [
    "fig = px.parallel_categories(dftrain, dimensions=[\"Pclass\", \"Sex\"], labels={\"Pclass\": \"Passenger Class\", \"Sex\": \"Sex\"})\n",
    "fig.update_traces(line=dict(color=\"purple\")) \n",
    "fig.update_layout(\n",
    "    title=\"Relation between Passenger Class and Sex\",\n",
    "    showlegend=True\n",
    ")\n",
    "\n",
    "fig.show()"
   ]
  },
  {
   "cell_type": "code",
   "execution_count": 22,
   "id": "a142174d",
   "metadata": {
    "execution": {
     "iopub.execute_input": "2023-11-04T18:20:44.143011Z",
     "iopub.status.busy": "2023-11-04T18:20:44.142431Z",
     "iopub.status.idle": "2023-11-04T18:20:44.222129Z",
     "shell.execute_reply": "2023-11-04T18:20:44.220665Z"
    },
    "papermill": {
     "duration": 0.101917,
     "end_time": "2023-11-04T18:20:44.224337",
     "exception": false,
     "start_time": "2023-11-04T18:20:44.122420",
     "status": "completed"
    },
    "tags": []
   },
   "outputs": [
    {
     "data": {
      "text/html": [
       "<div>                            <div id=\"ad5033a4-0f90-4de6-ae89-d292c073085c\" class=\"plotly-graph-div\" style=\"height:525px; width:100%;\"></div>            <script type=\"text/javascript\">                require([\"plotly\"], function(Plotly) {                    window.PLOTLYENV=window.PLOTLYENV || {};                                    if (document.getElementById(\"ad5033a4-0f90-4de6-ae89-d292c073085c\")) {                    Plotly.newPlot(                        \"ad5033a4-0f90-4de6-ae89-d292c073085c\",                        [{\"alignmentgroup\":\"True\",\"hovertemplate\":\"Sex=%{x}\\u003cbr\\u003eCounts=%{y}\\u003cextra\\u003e\\u003c\\u002fextra\\u003e\",\"legendgroup\":\"\",\"marker\":{\"color\":\"#636efa\",\"pattern\":{\"shape\":\"\"}},\"name\":\"\",\"offsetgroup\":\"\",\"orientation\":\"v\",\"showlegend\":false,\"textposition\":\"auto\",\"x\":[\"male\",\"female\"],\"xaxis\":\"x\",\"y\":[577,314],\"yaxis\":\"y\",\"type\":\"bar\"}],                        {\"template\":{\"data\":{\"histogram2dcontour\":[{\"type\":\"histogram2dcontour\",\"colorbar\":{\"outlinewidth\":0,\"ticks\":\"\"},\"colorscale\":[[0.0,\"#0d0887\"],[0.1111111111111111,\"#46039f\"],[0.2222222222222222,\"#7201a8\"],[0.3333333333333333,\"#9c179e\"],[0.4444444444444444,\"#bd3786\"],[0.5555555555555556,\"#d8576b\"],[0.6666666666666666,\"#ed7953\"],[0.7777777777777778,\"#fb9f3a\"],[0.8888888888888888,\"#fdca26\"],[1.0,\"#f0f921\"]]}],\"choropleth\":[{\"type\":\"choropleth\",\"colorbar\":{\"outlinewidth\":0,\"ticks\":\"\"}}],\"histogram2d\":[{\"type\":\"histogram2d\",\"colorbar\":{\"outlinewidth\":0,\"ticks\":\"\"},\"colorscale\":[[0.0,\"#0d0887\"],[0.1111111111111111,\"#46039f\"],[0.2222222222222222,\"#7201a8\"],[0.3333333333333333,\"#9c179e\"],[0.4444444444444444,\"#bd3786\"],[0.5555555555555556,\"#d8576b\"],[0.6666666666666666,\"#ed7953\"],[0.7777777777777778,\"#fb9f3a\"],[0.8888888888888888,\"#fdca26\"],[1.0,\"#f0f921\"]]}],\"heatmap\":[{\"type\":\"heatmap\",\"colorbar\":{\"outlinewidth\":0,\"ticks\":\"\"},\"colorscale\":[[0.0,\"#0d0887\"],[0.1111111111111111,\"#46039f\"],[0.2222222222222222,\"#7201a8\"],[0.3333333333333333,\"#9c179e\"],[0.4444444444444444,\"#bd3786\"],[0.5555555555555556,\"#d8576b\"],[0.6666666666666666,\"#ed7953\"],[0.7777777777777778,\"#fb9f3a\"],[0.8888888888888888,\"#fdca26\"],[1.0,\"#f0f921\"]]}],\"heatmapgl\":[{\"type\":\"heatmapgl\",\"colorbar\":{\"outlinewidth\":0,\"ticks\":\"\"},\"colorscale\":[[0.0,\"#0d0887\"],[0.1111111111111111,\"#46039f\"],[0.2222222222222222,\"#7201a8\"],[0.3333333333333333,\"#9c179e\"],[0.4444444444444444,\"#bd3786\"],[0.5555555555555556,\"#d8576b\"],[0.6666666666666666,\"#ed7953\"],[0.7777777777777778,\"#fb9f3a\"],[0.8888888888888888,\"#fdca26\"],[1.0,\"#f0f921\"]]}],\"contourcarpet\":[{\"type\":\"contourcarpet\",\"colorbar\":{\"outlinewidth\":0,\"ticks\":\"\"}}],\"contour\":[{\"type\":\"contour\",\"colorbar\":{\"outlinewidth\":0,\"ticks\":\"\"},\"colorscale\":[[0.0,\"#0d0887\"],[0.1111111111111111,\"#46039f\"],[0.2222222222222222,\"#7201a8\"],[0.3333333333333333,\"#9c179e\"],[0.4444444444444444,\"#bd3786\"],[0.5555555555555556,\"#d8576b\"],[0.6666666666666666,\"#ed7953\"],[0.7777777777777778,\"#fb9f3a\"],[0.8888888888888888,\"#fdca26\"],[1.0,\"#f0f921\"]]}],\"surface\":[{\"type\":\"surface\",\"colorbar\":{\"outlinewidth\":0,\"ticks\":\"\"},\"colorscale\":[[0.0,\"#0d0887\"],[0.1111111111111111,\"#46039f\"],[0.2222222222222222,\"#7201a8\"],[0.3333333333333333,\"#9c179e\"],[0.4444444444444444,\"#bd3786\"],[0.5555555555555556,\"#d8576b\"],[0.6666666666666666,\"#ed7953\"],[0.7777777777777778,\"#fb9f3a\"],[0.8888888888888888,\"#fdca26\"],[1.0,\"#f0f921\"]]}],\"mesh3d\":[{\"type\":\"mesh3d\",\"colorbar\":{\"outlinewidth\":0,\"ticks\":\"\"}}],\"scatter\":[{\"fillpattern\":{\"fillmode\":\"overlay\",\"size\":10,\"solidity\":0.2},\"type\":\"scatter\"}],\"parcoords\":[{\"type\":\"parcoords\",\"line\":{\"colorbar\":{\"outlinewidth\":0,\"ticks\":\"\"}}}],\"scatterpolargl\":[{\"type\":\"scatterpolargl\",\"marker\":{\"colorbar\":{\"outlinewidth\":0,\"ticks\":\"\"}}}],\"bar\":[{\"error_x\":{\"color\":\"#2a3f5f\"},\"error_y\":{\"color\":\"#2a3f5f\"},\"marker\":{\"line\":{\"color\":\"#E5ECF6\",\"width\":0.5},\"pattern\":{\"fillmode\":\"overlay\",\"size\":10,\"solidity\":0.2}},\"type\":\"bar\"}],\"scattergeo\":[{\"type\":\"scattergeo\",\"marker\":{\"colorbar\":{\"outlinewidth\":0,\"ticks\":\"\"}}}],\"scatterpolar\":[{\"type\":\"scatterpolar\",\"marker\":{\"colorbar\":{\"outlinewidth\":0,\"ticks\":\"\"}}}],\"histogram\":[{\"marker\":{\"pattern\":{\"fillmode\":\"overlay\",\"size\":10,\"solidity\":0.2}},\"type\":\"histogram\"}],\"scattergl\":[{\"type\":\"scattergl\",\"marker\":{\"colorbar\":{\"outlinewidth\":0,\"ticks\":\"\"}}}],\"scatter3d\":[{\"type\":\"scatter3d\",\"line\":{\"colorbar\":{\"outlinewidth\":0,\"ticks\":\"\"}},\"marker\":{\"colorbar\":{\"outlinewidth\":0,\"ticks\":\"\"}}}],\"scattermapbox\":[{\"type\":\"scattermapbox\",\"marker\":{\"colorbar\":{\"outlinewidth\":0,\"ticks\":\"\"}}}],\"scatterternary\":[{\"type\":\"scatterternary\",\"marker\":{\"colorbar\":{\"outlinewidth\":0,\"ticks\":\"\"}}}],\"scattercarpet\":[{\"type\":\"scattercarpet\",\"marker\":{\"colorbar\":{\"outlinewidth\":0,\"ticks\":\"\"}}}],\"carpet\":[{\"aaxis\":{\"endlinecolor\":\"#2a3f5f\",\"gridcolor\":\"white\",\"linecolor\":\"white\",\"minorgridcolor\":\"white\",\"startlinecolor\":\"#2a3f5f\"},\"baxis\":{\"endlinecolor\":\"#2a3f5f\",\"gridcolor\":\"white\",\"linecolor\":\"white\",\"minorgridcolor\":\"white\",\"startlinecolor\":\"#2a3f5f\"},\"type\":\"carpet\"}],\"table\":[{\"cells\":{\"fill\":{\"color\":\"#EBF0F8\"},\"line\":{\"color\":\"white\"}},\"header\":{\"fill\":{\"color\":\"#C8D4E3\"},\"line\":{\"color\":\"white\"}},\"type\":\"table\"}],\"barpolar\":[{\"marker\":{\"line\":{\"color\":\"#E5ECF6\",\"width\":0.5},\"pattern\":{\"fillmode\":\"overlay\",\"size\":10,\"solidity\":0.2}},\"type\":\"barpolar\"}],\"pie\":[{\"automargin\":true,\"type\":\"pie\"}]},\"layout\":{\"autotypenumbers\":\"strict\",\"colorway\":[\"#636efa\",\"#EF553B\",\"#00cc96\",\"#ab63fa\",\"#FFA15A\",\"#19d3f3\",\"#FF6692\",\"#B6E880\",\"#FF97FF\",\"#FECB52\"],\"font\":{\"color\":\"#2a3f5f\"},\"hovermode\":\"closest\",\"hoverlabel\":{\"align\":\"left\"},\"paper_bgcolor\":\"white\",\"plot_bgcolor\":\"#E5ECF6\",\"polar\":{\"bgcolor\":\"#E5ECF6\",\"angularaxis\":{\"gridcolor\":\"white\",\"linecolor\":\"white\",\"ticks\":\"\"},\"radialaxis\":{\"gridcolor\":\"white\",\"linecolor\":\"white\",\"ticks\":\"\"}},\"ternary\":{\"bgcolor\":\"#E5ECF6\",\"aaxis\":{\"gridcolor\":\"white\",\"linecolor\":\"white\",\"ticks\":\"\"},\"baxis\":{\"gridcolor\":\"white\",\"linecolor\":\"white\",\"ticks\":\"\"},\"caxis\":{\"gridcolor\":\"white\",\"linecolor\":\"white\",\"ticks\":\"\"}},\"coloraxis\":{\"colorbar\":{\"outlinewidth\":0,\"ticks\":\"\"}},\"colorscale\":{\"sequential\":[[0.0,\"#0d0887\"],[0.1111111111111111,\"#46039f\"],[0.2222222222222222,\"#7201a8\"],[0.3333333333333333,\"#9c179e\"],[0.4444444444444444,\"#bd3786\"],[0.5555555555555556,\"#d8576b\"],[0.6666666666666666,\"#ed7953\"],[0.7777777777777778,\"#fb9f3a\"],[0.8888888888888888,\"#fdca26\"],[1.0,\"#f0f921\"]],\"sequentialminus\":[[0.0,\"#0d0887\"],[0.1111111111111111,\"#46039f\"],[0.2222222222222222,\"#7201a8\"],[0.3333333333333333,\"#9c179e\"],[0.4444444444444444,\"#bd3786\"],[0.5555555555555556,\"#d8576b\"],[0.6666666666666666,\"#ed7953\"],[0.7777777777777778,\"#fb9f3a\"],[0.8888888888888888,\"#fdca26\"],[1.0,\"#f0f921\"]],\"diverging\":[[0,\"#8e0152\"],[0.1,\"#c51b7d\"],[0.2,\"#de77ae\"],[0.3,\"#f1b6da\"],[0.4,\"#fde0ef\"],[0.5,\"#f7f7f7\"],[0.6,\"#e6f5d0\"],[0.7,\"#b8e186\"],[0.8,\"#7fbc41\"],[0.9,\"#4d9221\"],[1,\"#276419\"]]},\"xaxis\":{\"gridcolor\":\"white\",\"linecolor\":\"white\",\"ticks\":\"\",\"title\":{\"standoff\":15},\"zerolinecolor\":\"white\",\"automargin\":true,\"zerolinewidth\":2},\"yaxis\":{\"gridcolor\":\"white\",\"linecolor\":\"white\",\"ticks\":\"\",\"title\":{\"standoff\":15},\"zerolinecolor\":\"white\",\"automargin\":true,\"zerolinewidth\":2},\"scene\":{\"xaxis\":{\"backgroundcolor\":\"#E5ECF6\",\"gridcolor\":\"white\",\"linecolor\":\"white\",\"showbackground\":true,\"ticks\":\"\",\"zerolinecolor\":\"white\",\"gridwidth\":2},\"yaxis\":{\"backgroundcolor\":\"#E5ECF6\",\"gridcolor\":\"white\",\"linecolor\":\"white\",\"showbackground\":true,\"ticks\":\"\",\"zerolinecolor\":\"white\",\"gridwidth\":2},\"zaxis\":{\"backgroundcolor\":\"#E5ECF6\",\"gridcolor\":\"white\",\"linecolor\":\"white\",\"showbackground\":true,\"ticks\":\"\",\"zerolinecolor\":\"white\",\"gridwidth\":2}},\"shapedefaults\":{\"line\":{\"color\":\"#2a3f5f\"}},\"annotationdefaults\":{\"arrowcolor\":\"#2a3f5f\",\"arrowhead\":0,\"arrowwidth\":1},\"geo\":{\"bgcolor\":\"white\",\"landcolor\":\"#E5ECF6\",\"subunitcolor\":\"white\",\"showland\":true,\"showlakes\":true,\"lakecolor\":\"white\"},\"title\":{\"x\":0.05},\"mapbox\":{\"style\":\"light\"}}},\"xaxis\":{\"anchor\":\"y\",\"domain\":[0.0,1.0],\"title\":{\"text\":\"Sex\"}},\"yaxis\":{\"anchor\":\"x\",\"domain\":[0.0,1.0],\"title\":{\"text\":\"Counts\"}},\"legend\":{\"tracegroupgap\":0},\"margin\":{\"t\":60},\"barmode\":\"relative\",\"title\":{\"text\":\"Count by Sex\"}},                        {\"responsive\": true}                    ).then(function(){\n",
       "                            \n",
       "var gd = document.getElementById('ad5033a4-0f90-4de6-ae89-d292c073085c');\n",
       "var x = new MutationObserver(function (mutations, observer) {{\n",
       "        var display = window.getComputedStyle(gd).display;\n",
       "        if (!display || display === 'none') {{\n",
       "            console.log([gd, 'removed!']);\n",
       "            Plotly.purge(gd);\n",
       "            observer.disconnect();\n",
       "        }}\n",
       "}});\n",
       "\n",
       "// Listen for the removal of the full notebook cells\n",
       "var notebookContainer = gd.closest('#notebook-container');\n",
       "if (notebookContainer) {{\n",
       "    x.observe(notebookContainer, {childList: true});\n",
       "}}\n",
       "\n",
       "// Listen for the clearing of the current output cell\n",
       "var outputEl = gd.closest('.output');\n",
       "if (outputEl) {{\n",
       "    x.observe(outputEl, {childList: true});\n",
       "}}\n",
       "\n",
       "                        })                };                });            </script>        </div>"
      ]
     },
     "metadata": {},
     "output_type": "display_data"
    }
   ],
   "source": [
    "values_count_sex = dftrain[\"Sex\"].value_counts()\n",
    "\n",
    "graph = px.bar(values_count_sex, values_count_sex.index,\\\n",
    "               values_count_sex.values, labels={\"x\":\"Sex\", \"y\":\"Counts\"})\n",
    "graph.update_layout(title=\"Count by Sex\")\n",
    "graph.show();"
   ]
  },
  {
   "cell_type": "code",
   "execution_count": 23,
   "id": "99c5a1cc",
   "metadata": {
    "execution": {
     "iopub.execute_input": "2023-11-04T18:20:44.266289Z",
     "iopub.status.busy": "2023-11-04T18:20:44.265782Z",
     "iopub.status.idle": "2023-11-04T18:20:44.331876Z",
     "shell.execute_reply": "2023-11-04T18:20:44.330952Z"
    },
    "papermill": {
     "duration": 0.091149,
     "end_time": "2023-11-04T18:20:44.334624",
     "exception": false,
     "start_time": "2023-11-04T18:20:44.243475",
     "status": "completed"
    },
    "tags": []
   },
   "outputs": [
    {
     "data": {
      "text/html": [
       "<div>                            <div id=\"588b379d-522b-45ce-824d-dbed3c311d8a\" class=\"plotly-graph-div\" style=\"height:525px; width:100%;\"></div>            <script type=\"text/javascript\">                require([\"plotly\"], function(Plotly) {                    window.PLOTLYENV=window.PLOTLYENV || {};                                    if (document.getElementById(\"588b379d-522b-45ce-824d-dbed3c311d8a\")) {                    Plotly.newPlot(                        \"588b379d-522b-45ce-824d-dbed3c311d8a\",                        [{\"alignmentgroup\":\"True\",\"hovertemplate\":\"Pclass=%{x}\\u003cbr\\u003eCounts=%{y}\\u003cextra\\u003e\\u003c\\u002fextra\\u003e\",\"legendgroup\":\"\",\"marker\":{\"color\":\"#636efa\",\"pattern\":{\"shape\":\"\"}},\"name\":\"\",\"offsetgroup\":\"\",\"orientation\":\"v\",\"showlegend\":false,\"textposition\":\"auto\",\"x\":[3,1,2],\"xaxis\":\"x\",\"y\":[491,216,184],\"yaxis\":\"y\",\"type\":\"bar\"}],                        {\"template\":{\"data\":{\"histogram2dcontour\":[{\"type\":\"histogram2dcontour\",\"colorbar\":{\"outlinewidth\":0,\"ticks\":\"\"},\"colorscale\":[[0.0,\"#0d0887\"],[0.1111111111111111,\"#46039f\"],[0.2222222222222222,\"#7201a8\"],[0.3333333333333333,\"#9c179e\"],[0.4444444444444444,\"#bd3786\"],[0.5555555555555556,\"#d8576b\"],[0.6666666666666666,\"#ed7953\"],[0.7777777777777778,\"#fb9f3a\"],[0.8888888888888888,\"#fdca26\"],[1.0,\"#f0f921\"]]}],\"choropleth\":[{\"type\":\"choropleth\",\"colorbar\":{\"outlinewidth\":0,\"ticks\":\"\"}}],\"histogram2d\":[{\"type\":\"histogram2d\",\"colorbar\":{\"outlinewidth\":0,\"ticks\":\"\"},\"colorscale\":[[0.0,\"#0d0887\"],[0.1111111111111111,\"#46039f\"],[0.2222222222222222,\"#7201a8\"],[0.3333333333333333,\"#9c179e\"],[0.4444444444444444,\"#bd3786\"],[0.5555555555555556,\"#d8576b\"],[0.6666666666666666,\"#ed7953\"],[0.7777777777777778,\"#fb9f3a\"],[0.8888888888888888,\"#fdca26\"],[1.0,\"#f0f921\"]]}],\"heatmap\":[{\"type\":\"heatmap\",\"colorbar\":{\"outlinewidth\":0,\"ticks\":\"\"},\"colorscale\":[[0.0,\"#0d0887\"],[0.1111111111111111,\"#46039f\"],[0.2222222222222222,\"#7201a8\"],[0.3333333333333333,\"#9c179e\"],[0.4444444444444444,\"#bd3786\"],[0.5555555555555556,\"#d8576b\"],[0.6666666666666666,\"#ed7953\"],[0.7777777777777778,\"#fb9f3a\"],[0.8888888888888888,\"#fdca26\"],[1.0,\"#f0f921\"]]}],\"heatmapgl\":[{\"type\":\"heatmapgl\",\"colorbar\":{\"outlinewidth\":0,\"ticks\":\"\"},\"colorscale\":[[0.0,\"#0d0887\"],[0.1111111111111111,\"#46039f\"],[0.2222222222222222,\"#7201a8\"],[0.3333333333333333,\"#9c179e\"],[0.4444444444444444,\"#bd3786\"],[0.5555555555555556,\"#d8576b\"],[0.6666666666666666,\"#ed7953\"],[0.7777777777777778,\"#fb9f3a\"],[0.8888888888888888,\"#fdca26\"],[1.0,\"#f0f921\"]]}],\"contourcarpet\":[{\"type\":\"contourcarpet\",\"colorbar\":{\"outlinewidth\":0,\"ticks\":\"\"}}],\"contour\":[{\"type\":\"contour\",\"colorbar\":{\"outlinewidth\":0,\"ticks\":\"\"},\"colorscale\":[[0.0,\"#0d0887\"],[0.1111111111111111,\"#46039f\"],[0.2222222222222222,\"#7201a8\"],[0.3333333333333333,\"#9c179e\"],[0.4444444444444444,\"#bd3786\"],[0.5555555555555556,\"#d8576b\"],[0.6666666666666666,\"#ed7953\"],[0.7777777777777778,\"#fb9f3a\"],[0.8888888888888888,\"#fdca26\"],[1.0,\"#f0f921\"]]}],\"surface\":[{\"type\":\"surface\",\"colorbar\":{\"outlinewidth\":0,\"ticks\":\"\"},\"colorscale\":[[0.0,\"#0d0887\"],[0.1111111111111111,\"#46039f\"],[0.2222222222222222,\"#7201a8\"],[0.3333333333333333,\"#9c179e\"],[0.4444444444444444,\"#bd3786\"],[0.5555555555555556,\"#d8576b\"],[0.6666666666666666,\"#ed7953\"],[0.7777777777777778,\"#fb9f3a\"],[0.8888888888888888,\"#fdca26\"],[1.0,\"#f0f921\"]]}],\"mesh3d\":[{\"type\":\"mesh3d\",\"colorbar\":{\"outlinewidth\":0,\"ticks\":\"\"}}],\"scatter\":[{\"fillpattern\":{\"fillmode\":\"overlay\",\"size\":10,\"solidity\":0.2},\"type\":\"scatter\"}],\"parcoords\":[{\"type\":\"parcoords\",\"line\":{\"colorbar\":{\"outlinewidth\":0,\"ticks\":\"\"}}}],\"scatterpolargl\":[{\"type\":\"scatterpolargl\",\"marker\":{\"colorbar\":{\"outlinewidth\":0,\"ticks\":\"\"}}}],\"bar\":[{\"error_x\":{\"color\":\"#2a3f5f\"},\"error_y\":{\"color\":\"#2a3f5f\"},\"marker\":{\"line\":{\"color\":\"#E5ECF6\",\"width\":0.5},\"pattern\":{\"fillmode\":\"overlay\",\"size\":10,\"solidity\":0.2}},\"type\":\"bar\"}],\"scattergeo\":[{\"type\":\"scattergeo\",\"marker\":{\"colorbar\":{\"outlinewidth\":0,\"ticks\":\"\"}}}],\"scatterpolar\":[{\"type\":\"scatterpolar\",\"marker\":{\"colorbar\":{\"outlinewidth\":0,\"ticks\":\"\"}}}],\"histogram\":[{\"marker\":{\"pattern\":{\"fillmode\":\"overlay\",\"size\":10,\"solidity\":0.2}},\"type\":\"histogram\"}],\"scattergl\":[{\"type\":\"scattergl\",\"marker\":{\"colorbar\":{\"outlinewidth\":0,\"ticks\":\"\"}}}],\"scatter3d\":[{\"type\":\"scatter3d\",\"line\":{\"colorbar\":{\"outlinewidth\":0,\"ticks\":\"\"}},\"marker\":{\"colorbar\":{\"outlinewidth\":0,\"ticks\":\"\"}}}],\"scattermapbox\":[{\"type\":\"scattermapbox\",\"marker\":{\"colorbar\":{\"outlinewidth\":0,\"ticks\":\"\"}}}],\"scatterternary\":[{\"type\":\"scatterternary\",\"marker\":{\"colorbar\":{\"outlinewidth\":0,\"ticks\":\"\"}}}],\"scattercarpet\":[{\"type\":\"scattercarpet\",\"marker\":{\"colorbar\":{\"outlinewidth\":0,\"ticks\":\"\"}}}],\"carpet\":[{\"aaxis\":{\"endlinecolor\":\"#2a3f5f\",\"gridcolor\":\"white\",\"linecolor\":\"white\",\"minorgridcolor\":\"white\",\"startlinecolor\":\"#2a3f5f\"},\"baxis\":{\"endlinecolor\":\"#2a3f5f\",\"gridcolor\":\"white\",\"linecolor\":\"white\",\"minorgridcolor\":\"white\",\"startlinecolor\":\"#2a3f5f\"},\"type\":\"carpet\"}],\"table\":[{\"cells\":{\"fill\":{\"color\":\"#EBF0F8\"},\"line\":{\"color\":\"white\"}},\"header\":{\"fill\":{\"color\":\"#C8D4E3\"},\"line\":{\"color\":\"white\"}},\"type\":\"table\"}],\"barpolar\":[{\"marker\":{\"line\":{\"color\":\"#E5ECF6\",\"width\":0.5},\"pattern\":{\"fillmode\":\"overlay\",\"size\":10,\"solidity\":0.2}},\"type\":\"barpolar\"}],\"pie\":[{\"automargin\":true,\"type\":\"pie\"}]},\"layout\":{\"autotypenumbers\":\"strict\",\"colorway\":[\"#636efa\",\"#EF553B\",\"#00cc96\",\"#ab63fa\",\"#FFA15A\",\"#19d3f3\",\"#FF6692\",\"#B6E880\",\"#FF97FF\",\"#FECB52\"],\"font\":{\"color\":\"#2a3f5f\"},\"hovermode\":\"closest\",\"hoverlabel\":{\"align\":\"left\"},\"paper_bgcolor\":\"white\",\"plot_bgcolor\":\"#E5ECF6\",\"polar\":{\"bgcolor\":\"#E5ECF6\",\"angularaxis\":{\"gridcolor\":\"white\",\"linecolor\":\"white\",\"ticks\":\"\"},\"radialaxis\":{\"gridcolor\":\"white\",\"linecolor\":\"white\",\"ticks\":\"\"}},\"ternary\":{\"bgcolor\":\"#E5ECF6\",\"aaxis\":{\"gridcolor\":\"white\",\"linecolor\":\"white\",\"ticks\":\"\"},\"baxis\":{\"gridcolor\":\"white\",\"linecolor\":\"white\",\"ticks\":\"\"},\"caxis\":{\"gridcolor\":\"white\",\"linecolor\":\"white\",\"ticks\":\"\"}},\"coloraxis\":{\"colorbar\":{\"outlinewidth\":0,\"ticks\":\"\"}},\"colorscale\":{\"sequential\":[[0.0,\"#0d0887\"],[0.1111111111111111,\"#46039f\"],[0.2222222222222222,\"#7201a8\"],[0.3333333333333333,\"#9c179e\"],[0.4444444444444444,\"#bd3786\"],[0.5555555555555556,\"#d8576b\"],[0.6666666666666666,\"#ed7953\"],[0.7777777777777778,\"#fb9f3a\"],[0.8888888888888888,\"#fdca26\"],[1.0,\"#f0f921\"]],\"sequentialminus\":[[0.0,\"#0d0887\"],[0.1111111111111111,\"#46039f\"],[0.2222222222222222,\"#7201a8\"],[0.3333333333333333,\"#9c179e\"],[0.4444444444444444,\"#bd3786\"],[0.5555555555555556,\"#d8576b\"],[0.6666666666666666,\"#ed7953\"],[0.7777777777777778,\"#fb9f3a\"],[0.8888888888888888,\"#fdca26\"],[1.0,\"#f0f921\"]],\"diverging\":[[0,\"#8e0152\"],[0.1,\"#c51b7d\"],[0.2,\"#de77ae\"],[0.3,\"#f1b6da\"],[0.4,\"#fde0ef\"],[0.5,\"#f7f7f7\"],[0.6,\"#e6f5d0\"],[0.7,\"#b8e186\"],[0.8,\"#7fbc41\"],[0.9,\"#4d9221\"],[1,\"#276419\"]]},\"xaxis\":{\"gridcolor\":\"white\",\"linecolor\":\"white\",\"ticks\":\"\",\"title\":{\"standoff\":15},\"zerolinecolor\":\"white\",\"automargin\":true,\"zerolinewidth\":2},\"yaxis\":{\"gridcolor\":\"white\",\"linecolor\":\"white\",\"ticks\":\"\",\"title\":{\"standoff\":15},\"zerolinecolor\":\"white\",\"automargin\":true,\"zerolinewidth\":2},\"scene\":{\"xaxis\":{\"backgroundcolor\":\"#E5ECF6\",\"gridcolor\":\"white\",\"linecolor\":\"white\",\"showbackground\":true,\"ticks\":\"\",\"zerolinecolor\":\"white\",\"gridwidth\":2},\"yaxis\":{\"backgroundcolor\":\"#E5ECF6\",\"gridcolor\":\"white\",\"linecolor\":\"white\",\"showbackground\":true,\"ticks\":\"\",\"zerolinecolor\":\"white\",\"gridwidth\":2},\"zaxis\":{\"backgroundcolor\":\"#E5ECF6\",\"gridcolor\":\"white\",\"linecolor\":\"white\",\"showbackground\":true,\"ticks\":\"\",\"zerolinecolor\":\"white\",\"gridwidth\":2}},\"shapedefaults\":{\"line\":{\"color\":\"#2a3f5f\"}},\"annotationdefaults\":{\"arrowcolor\":\"#2a3f5f\",\"arrowhead\":0,\"arrowwidth\":1},\"geo\":{\"bgcolor\":\"white\",\"landcolor\":\"#E5ECF6\",\"subunitcolor\":\"white\",\"showland\":true,\"showlakes\":true,\"lakecolor\":\"white\"},\"title\":{\"x\":0.05},\"mapbox\":{\"style\":\"light\"}}},\"xaxis\":{\"anchor\":\"y\",\"domain\":[0.0,1.0],\"title\":{\"text\":\"Pclass\"}},\"yaxis\":{\"anchor\":\"x\",\"domain\":[0.0,1.0],\"title\":{\"text\":\"Counts\"}},\"legend\":{\"tracegroupgap\":0},\"margin\":{\"t\":60},\"barmode\":\"relative\",\"title\":{\"text\":\"Count by Class\"}},                        {\"responsive\": true}                    ).then(function(){\n",
       "                            \n",
       "var gd = document.getElementById('588b379d-522b-45ce-824d-dbed3c311d8a');\n",
       "var x = new MutationObserver(function (mutations, observer) {{\n",
       "        var display = window.getComputedStyle(gd).display;\n",
       "        if (!display || display === 'none') {{\n",
       "            console.log([gd, 'removed!']);\n",
       "            Plotly.purge(gd);\n",
       "            observer.disconnect();\n",
       "        }}\n",
       "}});\n",
       "\n",
       "// Listen for the removal of the full notebook cells\n",
       "var notebookContainer = gd.closest('#notebook-container');\n",
       "if (notebookContainer) {{\n",
       "    x.observe(notebookContainer, {childList: true});\n",
       "}}\n",
       "\n",
       "// Listen for the clearing of the current output cell\n",
       "var outputEl = gd.closest('.output');\n",
       "if (outputEl) {{\n",
       "    x.observe(outputEl, {childList: true});\n",
       "}}\n",
       "\n",
       "                        })                };                });            </script>        </div>"
      ]
     },
     "metadata": {},
     "output_type": "display_data"
    }
   ],
   "source": [
    "values_count = dftrain[\"Pclass\"].value_counts()\n",
    "\n",
    "graph = px.bar(values_count, values_count.index,\\\n",
    "               values_count.values, labels={\"x\":\"Class\", \"y\":\"Counts\"})\n",
    "graph.update_layout(title=\"Count by Class\")\n",
    "graph.show();"
   ]
  },
  {
   "cell_type": "code",
   "execution_count": 24,
   "id": "abf1b40d",
   "metadata": {
    "execution": {
     "iopub.execute_input": "2023-11-04T18:20:44.385046Z",
     "iopub.status.busy": "2023-11-04T18:20:44.384717Z",
     "iopub.status.idle": "2023-11-04T18:20:44.441995Z",
     "shell.execute_reply": "2023-11-04T18:20:44.440415Z"
    },
    "papermill": {
     "duration": 0.083376,
     "end_time": "2023-11-04T18:20:44.444453",
     "exception": false,
     "start_time": "2023-11-04T18:20:44.361077",
     "status": "completed"
    },
    "tags": []
   },
   "outputs": [
    {
     "data": {
      "text/html": [
       "<div>                            <div id=\"92b9e657-157b-475e-8944-fef930dcf0d9\" class=\"plotly-graph-div\" style=\"height:525px; width:100%;\"></div>            <script type=\"text/javascript\">                require([\"plotly\"], function(Plotly) {                    window.PLOTLYENV=window.PLOTLYENV || {};                                    if (document.getElementById(\"92b9e657-157b-475e-8944-fef930dcf0d9\")) {                    Plotly.newPlot(                        \"92b9e657-157b-475e-8944-fef930dcf0d9\",                        [{\"alignmentgroup\":\"True\",\"hovertemplate\":\"Embarked=%{x}\\u003cbr\\u003eCounts=%{y}\\u003cextra\\u003e\\u003c\\u002fextra\\u003e\",\"legendgroup\":\"\",\"marker\":{\"color\":\"#636efa\",\"pattern\":{\"shape\":\"\"}},\"name\":\"\",\"offsetgroup\":\"\",\"orientation\":\"v\",\"showlegend\":false,\"textposition\":\"auto\",\"x\":[\"S\",\"C\",\"Q\"],\"xaxis\":\"x\",\"y\":[646,168,77],\"yaxis\":\"y\",\"type\":\"bar\"}],                        {\"template\":{\"data\":{\"histogram2dcontour\":[{\"type\":\"histogram2dcontour\",\"colorbar\":{\"outlinewidth\":0,\"ticks\":\"\"},\"colorscale\":[[0.0,\"#0d0887\"],[0.1111111111111111,\"#46039f\"],[0.2222222222222222,\"#7201a8\"],[0.3333333333333333,\"#9c179e\"],[0.4444444444444444,\"#bd3786\"],[0.5555555555555556,\"#d8576b\"],[0.6666666666666666,\"#ed7953\"],[0.7777777777777778,\"#fb9f3a\"],[0.8888888888888888,\"#fdca26\"],[1.0,\"#f0f921\"]]}],\"choropleth\":[{\"type\":\"choropleth\",\"colorbar\":{\"outlinewidth\":0,\"ticks\":\"\"}}],\"histogram2d\":[{\"type\":\"histogram2d\",\"colorbar\":{\"outlinewidth\":0,\"ticks\":\"\"},\"colorscale\":[[0.0,\"#0d0887\"],[0.1111111111111111,\"#46039f\"],[0.2222222222222222,\"#7201a8\"],[0.3333333333333333,\"#9c179e\"],[0.4444444444444444,\"#bd3786\"],[0.5555555555555556,\"#d8576b\"],[0.6666666666666666,\"#ed7953\"],[0.7777777777777778,\"#fb9f3a\"],[0.8888888888888888,\"#fdca26\"],[1.0,\"#f0f921\"]]}],\"heatmap\":[{\"type\":\"heatmap\",\"colorbar\":{\"outlinewidth\":0,\"ticks\":\"\"},\"colorscale\":[[0.0,\"#0d0887\"],[0.1111111111111111,\"#46039f\"],[0.2222222222222222,\"#7201a8\"],[0.3333333333333333,\"#9c179e\"],[0.4444444444444444,\"#bd3786\"],[0.5555555555555556,\"#d8576b\"],[0.6666666666666666,\"#ed7953\"],[0.7777777777777778,\"#fb9f3a\"],[0.8888888888888888,\"#fdca26\"],[1.0,\"#f0f921\"]]}],\"heatmapgl\":[{\"type\":\"heatmapgl\",\"colorbar\":{\"outlinewidth\":0,\"ticks\":\"\"},\"colorscale\":[[0.0,\"#0d0887\"],[0.1111111111111111,\"#46039f\"],[0.2222222222222222,\"#7201a8\"],[0.3333333333333333,\"#9c179e\"],[0.4444444444444444,\"#bd3786\"],[0.5555555555555556,\"#d8576b\"],[0.6666666666666666,\"#ed7953\"],[0.7777777777777778,\"#fb9f3a\"],[0.8888888888888888,\"#fdca26\"],[1.0,\"#f0f921\"]]}],\"contourcarpet\":[{\"type\":\"contourcarpet\",\"colorbar\":{\"outlinewidth\":0,\"ticks\":\"\"}}],\"contour\":[{\"type\":\"contour\",\"colorbar\":{\"outlinewidth\":0,\"ticks\":\"\"},\"colorscale\":[[0.0,\"#0d0887\"],[0.1111111111111111,\"#46039f\"],[0.2222222222222222,\"#7201a8\"],[0.3333333333333333,\"#9c179e\"],[0.4444444444444444,\"#bd3786\"],[0.5555555555555556,\"#d8576b\"],[0.6666666666666666,\"#ed7953\"],[0.7777777777777778,\"#fb9f3a\"],[0.8888888888888888,\"#fdca26\"],[1.0,\"#f0f921\"]]}],\"surface\":[{\"type\":\"surface\",\"colorbar\":{\"outlinewidth\":0,\"ticks\":\"\"},\"colorscale\":[[0.0,\"#0d0887\"],[0.1111111111111111,\"#46039f\"],[0.2222222222222222,\"#7201a8\"],[0.3333333333333333,\"#9c179e\"],[0.4444444444444444,\"#bd3786\"],[0.5555555555555556,\"#d8576b\"],[0.6666666666666666,\"#ed7953\"],[0.7777777777777778,\"#fb9f3a\"],[0.8888888888888888,\"#fdca26\"],[1.0,\"#f0f921\"]]}],\"mesh3d\":[{\"type\":\"mesh3d\",\"colorbar\":{\"outlinewidth\":0,\"ticks\":\"\"}}],\"scatter\":[{\"fillpattern\":{\"fillmode\":\"overlay\",\"size\":10,\"solidity\":0.2},\"type\":\"scatter\"}],\"parcoords\":[{\"type\":\"parcoords\",\"line\":{\"colorbar\":{\"outlinewidth\":0,\"ticks\":\"\"}}}],\"scatterpolargl\":[{\"type\":\"scatterpolargl\",\"marker\":{\"colorbar\":{\"outlinewidth\":0,\"ticks\":\"\"}}}],\"bar\":[{\"error_x\":{\"color\":\"#2a3f5f\"},\"error_y\":{\"color\":\"#2a3f5f\"},\"marker\":{\"line\":{\"color\":\"#E5ECF6\",\"width\":0.5},\"pattern\":{\"fillmode\":\"overlay\",\"size\":10,\"solidity\":0.2}},\"type\":\"bar\"}],\"scattergeo\":[{\"type\":\"scattergeo\",\"marker\":{\"colorbar\":{\"outlinewidth\":0,\"ticks\":\"\"}}}],\"scatterpolar\":[{\"type\":\"scatterpolar\",\"marker\":{\"colorbar\":{\"outlinewidth\":0,\"ticks\":\"\"}}}],\"histogram\":[{\"marker\":{\"pattern\":{\"fillmode\":\"overlay\",\"size\":10,\"solidity\":0.2}},\"type\":\"histogram\"}],\"scattergl\":[{\"type\":\"scattergl\",\"marker\":{\"colorbar\":{\"outlinewidth\":0,\"ticks\":\"\"}}}],\"scatter3d\":[{\"type\":\"scatter3d\",\"line\":{\"colorbar\":{\"outlinewidth\":0,\"ticks\":\"\"}},\"marker\":{\"colorbar\":{\"outlinewidth\":0,\"ticks\":\"\"}}}],\"scattermapbox\":[{\"type\":\"scattermapbox\",\"marker\":{\"colorbar\":{\"outlinewidth\":0,\"ticks\":\"\"}}}],\"scatterternary\":[{\"type\":\"scatterternary\",\"marker\":{\"colorbar\":{\"outlinewidth\":0,\"ticks\":\"\"}}}],\"scattercarpet\":[{\"type\":\"scattercarpet\",\"marker\":{\"colorbar\":{\"outlinewidth\":0,\"ticks\":\"\"}}}],\"carpet\":[{\"aaxis\":{\"endlinecolor\":\"#2a3f5f\",\"gridcolor\":\"white\",\"linecolor\":\"white\",\"minorgridcolor\":\"white\",\"startlinecolor\":\"#2a3f5f\"},\"baxis\":{\"endlinecolor\":\"#2a3f5f\",\"gridcolor\":\"white\",\"linecolor\":\"white\",\"minorgridcolor\":\"white\",\"startlinecolor\":\"#2a3f5f\"},\"type\":\"carpet\"}],\"table\":[{\"cells\":{\"fill\":{\"color\":\"#EBF0F8\"},\"line\":{\"color\":\"white\"}},\"header\":{\"fill\":{\"color\":\"#C8D4E3\"},\"line\":{\"color\":\"white\"}},\"type\":\"table\"}],\"barpolar\":[{\"marker\":{\"line\":{\"color\":\"#E5ECF6\",\"width\":0.5},\"pattern\":{\"fillmode\":\"overlay\",\"size\":10,\"solidity\":0.2}},\"type\":\"barpolar\"}],\"pie\":[{\"automargin\":true,\"type\":\"pie\"}]},\"layout\":{\"autotypenumbers\":\"strict\",\"colorway\":[\"#636efa\",\"#EF553B\",\"#00cc96\",\"#ab63fa\",\"#FFA15A\",\"#19d3f3\",\"#FF6692\",\"#B6E880\",\"#FF97FF\",\"#FECB52\"],\"font\":{\"color\":\"#2a3f5f\"},\"hovermode\":\"closest\",\"hoverlabel\":{\"align\":\"left\"},\"paper_bgcolor\":\"white\",\"plot_bgcolor\":\"#E5ECF6\",\"polar\":{\"bgcolor\":\"#E5ECF6\",\"angularaxis\":{\"gridcolor\":\"white\",\"linecolor\":\"white\",\"ticks\":\"\"},\"radialaxis\":{\"gridcolor\":\"white\",\"linecolor\":\"white\",\"ticks\":\"\"}},\"ternary\":{\"bgcolor\":\"#E5ECF6\",\"aaxis\":{\"gridcolor\":\"white\",\"linecolor\":\"white\",\"ticks\":\"\"},\"baxis\":{\"gridcolor\":\"white\",\"linecolor\":\"white\",\"ticks\":\"\"},\"caxis\":{\"gridcolor\":\"white\",\"linecolor\":\"white\",\"ticks\":\"\"}},\"coloraxis\":{\"colorbar\":{\"outlinewidth\":0,\"ticks\":\"\"}},\"colorscale\":{\"sequential\":[[0.0,\"#0d0887\"],[0.1111111111111111,\"#46039f\"],[0.2222222222222222,\"#7201a8\"],[0.3333333333333333,\"#9c179e\"],[0.4444444444444444,\"#bd3786\"],[0.5555555555555556,\"#d8576b\"],[0.6666666666666666,\"#ed7953\"],[0.7777777777777778,\"#fb9f3a\"],[0.8888888888888888,\"#fdca26\"],[1.0,\"#f0f921\"]],\"sequentialminus\":[[0.0,\"#0d0887\"],[0.1111111111111111,\"#46039f\"],[0.2222222222222222,\"#7201a8\"],[0.3333333333333333,\"#9c179e\"],[0.4444444444444444,\"#bd3786\"],[0.5555555555555556,\"#d8576b\"],[0.6666666666666666,\"#ed7953\"],[0.7777777777777778,\"#fb9f3a\"],[0.8888888888888888,\"#fdca26\"],[1.0,\"#f0f921\"]],\"diverging\":[[0,\"#8e0152\"],[0.1,\"#c51b7d\"],[0.2,\"#de77ae\"],[0.3,\"#f1b6da\"],[0.4,\"#fde0ef\"],[0.5,\"#f7f7f7\"],[0.6,\"#e6f5d0\"],[0.7,\"#b8e186\"],[0.8,\"#7fbc41\"],[0.9,\"#4d9221\"],[1,\"#276419\"]]},\"xaxis\":{\"gridcolor\":\"white\",\"linecolor\":\"white\",\"ticks\":\"\",\"title\":{\"standoff\":15},\"zerolinecolor\":\"white\",\"automargin\":true,\"zerolinewidth\":2},\"yaxis\":{\"gridcolor\":\"white\",\"linecolor\":\"white\",\"ticks\":\"\",\"title\":{\"standoff\":15},\"zerolinecolor\":\"white\",\"automargin\":true,\"zerolinewidth\":2},\"scene\":{\"xaxis\":{\"backgroundcolor\":\"#E5ECF6\",\"gridcolor\":\"white\",\"linecolor\":\"white\",\"showbackground\":true,\"ticks\":\"\",\"zerolinecolor\":\"white\",\"gridwidth\":2},\"yaxis\":{\"backgroundcolor\":\"#E5ECF6\",\"gridcolor\":\"white\",\"linecolor\":\"white\",\"showbackground\":true,\"ticks\":\"\",\"zerolinecolor\":\"white\",\"gridwidth\":2},\"zaxis\":{\"backgroundcolor\":\"#E5ECF6\",\"gridcolor\":\"white\",\"linecolor\":\"white\",\"showbackground\":true,\"ticks\":\"\",\"zerolinecolor\":\"white\",\"gridwidth\":2}},\"shapedefaults\":{\"line\":{\"color\":\"#2a3f5f\"}},\"annotationdefaults\":{\"arrowcolor\":\"#2a3f5f\",\"arrowhead\":0,\"arrowwidth\":1},\"geo\":{\"bgcolor\":\"white\",\"landcolor\":\"#E5ECF6\",\"subunitcolor\":\"white\",\"showland\":true,\"showlakes\":true,\"lakecolor\":\"white\"},\"title\":{\"x\":0.05},\"mapbox\":{\"style\":\"light\"}}},\"xaxis\":{\"anchor\":\"y\",\"domain\":[0.0,1.0],\"title\":{\"text\":\"Embarked\"}},\"yaxis\":{\"anchor\":\"x\",\"domain\":[0.0,1.0],\"title\":{\"text\":\"Counts\"}},\"legend\":{\"tracegroupgap\":0},\"margin\":{\"t\":60},\"barmode\":\"relative\",\"title\":{\"text\":\"Count by Embarked\"}},                        {\"responsive\": true}                    ).then(function(){\n",
       "                            \n",
       "var gd = document.getElementById('92b9e657-157b-475e-8944-fef930dcf0d9');\n",
       "var x = new MutationObserver(function (mutations, observer) {{\n",
       "        var display = window.getComputedStyle(gd).display;\n",
       "        if (!display || display === 'none') {{\n",
       "            console.log([gd, 'removed!']);\n",
       "            Plotly.purge(gd);\n",
       "            observer.disconnect();\n",
       "        }}\n",
       "}});\n",
       "\n",
       "// Listen for the removal of the full notebook cells\n",
       "var notebookContainer = gd.closest('#notebook-container');\n",
       "if (notebookContainer) {{\n",
       "    x.observe(notebookContainer, {childList: true});\n",
       "}}\n",
       "\n",
       "// Listen for the clearing of the current output cell\n",
       "var outputEl = gd.closest('.output');\n",
       "if (outputEl) {{\n",
       "    x.observe(outputEl, {childList: true});\n",
       "}}\n",
       "\n",
       "                        })                };                });            </script>        </div>"
      ]
     },
     "metadata": {},
     "output_type": "display_data"
    }
   ],
   "source": [
    "values_count = dftrain[\"Embarked\"].value_counts()\n",
    "\n",
    "graph = px.bar(values_count, values_count.index,\\\n",
    "               values_count.values, labels={\"x\":\"Embarked\", \"y\":\"Counts\"})\n",
    "graph.update_layout(title=\"Count by Embarked\")\n",
    "graph.show();"
   ]
  },
  {
   "cell_type": "code",
   "execution_count": 25,
   "id": "1d7c3193",
   "metadata": {
    "execution": {
     "iopub.execute_input": "2023-11-04T18:20:44.484305Z",
     "iopub.status.busy": "2023-11-04T18:20:44.483893Z",
     "iopub.status.idle": "2023-11-04T18:20:45.575541Z",
     "shell.execute_reply": "2023-11-04T18:20:45.573744Z"
    },
    "papermill": {
     "duration": 1.114529,
     "end_time": "2023-11-04T18:20:45.578109",
     "exception": false,
     "start_time": "2023-11-04T18:20:44.463580",
     "status": "completed"
    },
    "tags": []
   },
   "outputs": [
    {
     "name": "stderr",
     "output_type": "stream",
     "text": [
      "/opt/conda/lib/python3.10/site-packages/seaborn/axisgrid.py:118: UserWarning:\n",
      "\n",
      "The figure layout has changed to tight\n",
      "\n"
     ]
    },
    {
     "data": {
      "image/png": "[encoded data removed]",
      "text/plain": [
       "<Figure size 600x600 with 4 Axes>"
      ]
     },
     "metadata": {},
     "output_type": "display_data"
    }
   ],
   "source": [
    "g = sns.FacetGrid(dftrain, col=\"Sex\", row=\"Survived\", margin_titles=True)\n",
    "\n",
    "g.map(plt.hist, \"Age\", color=\"Teal\")\n",
    "\n",
    "g.set_axis_labels(\"Age\", \"Frequency\")\n",
    "g.set_titles(col_template=\"Sex: {col_name}\", row_template=\"Survived: {row_name}\")\n",
    "\n",
    "\n",
    "g.fig.subplots_adjust(wspace=0.2, hspace=0.2)\n",
    "\n",
    "\n",
    "plt.show()"
   ]
  },
  {
   "cell_type": "code",
   "execution_count": 26,
   "id": "2583ad42",
   "metadata": {
    "execution": {
     "iopub.execute_input": "2023-11-04T18:20:45.621939Z",
     "iopub.status.busy": "2023-11-04T18:20:45.621547Z",
     "iopub.status.idle": "2023-11-04T18:20:46.655577Z",
     "shell.execute_reply": "2023-11-04T18:20:46.654187Z"
    },
    "papermill": {
     "duration": 1.059349,
     "end_time": "2023-11-04T18:20:46.657780",
     "exception": false,
     "start_time": "2023-11-04T18:20:45.598431",
     "status": "completed"
    },
    "tags": []
   },
   "outputs": [
    {
     "name": "stderr",
     "output_type": "stream",
     "text": [
      "/opt/conda/lib/python3.10/site-packages/seaborn/axisgrid.py:118: UserWarning:\n",
      "\n",
      "The figure layout has changed to tight\n",
      "\n"
     ]
    },
    {
     "data": {
      "image/png": "[encoded data removed]",
      "text/plain": [
       "<Figure size 972.111x300 with 3 Axes>"
      ]
     },
     "metadata": {},
     "output_type": "display_data"
    }
   ],
   "source": [
    "g = sns.FacetGrid(dftrain, hue=\"Survived\", col=\"Pclass\", margin_titles=True,\n",
    "                  palette={1:\"Orange\", 0:\"Indigo\"}\n",
    ")\n",
    "                  \n",
    "g=g.map(plt.scatter, \"Fare\", \"Age\", edgecolor=\"w\").add_legend();"
   ]
  },
  {
   "cell_type": "code",
   "execution_count": 27,
   "id": "40304113",
   "metadata": {
    "execution": {
     "iopub.execute_input": "2023-11-04T18:20:46.704583Z",
     "iopub.status.busy": "2023-11-04T18:20:46.704233Z",
     "iopub.status.idle": "2023-11-04T18:20:47.310108Z",
     "shell.execute_reply": "2023-11-04T18:20:47.308716Z"
    },
    "papermill": {
     "duration": 0.629965,
     "end_time": "2023-11-04T18:20:47.313052",
     "exception": false,
     "start_time": "2023-11-04T18:20:46.683087",
     "status": "completed"
    },
    "tags": []
   },
   "outputs": [
    {
     "name": "stderr",
     "output_type": "stream",
     "text": [
      "/opt/conda/lib/python3.10/site-packages/seaborn/axisgrid.py:118: UserWarning:\n",
      "\n",
      "The figure layout has changed to tight\n",
      "\n"
     ]
    },
    {
     "data": {
      "image/png": "[encoded data removed]",
      "text/plain": [
       "<Figure size 672.111x300 with 2 Axes>"
      ]
     },
     "metadata": {},
     "output_type": "display_data"
    }
   ],
   "source": [
    "g = sns.FacetGrid(dftrain, hue=\"Survived\", col=\"Sex\", margin_titles=True,\n",
    "                palette=\"deep\", hue_kws=dict(marker=[\"^\", \"v\"])\n",
    ")\n",
    "\n",
    "g.map(plt.scatter, \"Fare\", \"Age\", edgecolor=\"w\").add_legend()\n",
    "\n",
    "plt.subplots_adjust(top=0.8)\n",
    "\n",
    "g.fig.suptitle('Survival by gender, age and rate');"
   ]
  },
  {
   "cell_type": "code",
   "execution_count": 28,
   "id": "f7978770",
   "metadata": {
    "execution": {
     "iopub.execute_input": "2023-11-04T18:20:47.357997Z",
     "iopub.status.busy": "2023-11-04T18:20:47.356655Z",
     "iopub.status.idle": "2023-11-04T18:20:47.653608Z",
     "shell.execute_reply": "2023-11-04T18:20:47.652374Z"
    },
    "papermill": {
     "duration": 0.321561,
     "end_time": "2023-11-04T18:20:47.656045",
     "exception": false,
     "start_time": "2023-11-04T18:20:47.334484",
     "status": "completed"
    },
    "tags": []
   },
   "outputs": [
    {
     "data": {
      "image/png": "[encoded data removed]",
      "text/plain": [
       "<Figure size 640x480 with 2 Axes>"
      ]
     },
     "metadata": {},
     "output_type": "display_data"
    }
   ],
   "source": [
    "g = sns.heatmap(dftrain[[\"Survived\",\"SibSp\",\"ParCh\",\"Age\",\"Fare\"]].corr(),annot=True, cmap = \"YlOrRd\")"
   ]
  },
  {
   "cell_type": "markdown",
   "id": "90762044",
   "metadata": {
    "papermill": {
     "duration": 0.022809,
     "end_time": "2023-11-04T18:20:47.702993",
     "exception": false,
     "start_time": "2023-11-04T18:20:47.680184",
     "status": "completed"
    },
    "tags": []
   },
   "source": [
    "# Engenharia de Recursos\n",
    "\n",
    "Será aplicado um dos métodos de engenharia de recursos que envolve a criação de novos recursos a partir do que temos à disposição. Vale ressaltar que este é um processo fundamental para análise de dados e para o desenvolvimento de modelos de machine learning. Assim, podemos realizar uma análise mais robusta e nossos modelos serão treinados com mais dados, o que é excelente."
   ]
  },
  {
   "cell_type": "markdown",
   "id": "b84aff84",
   "metadata": {
    "papermill": {
     "duration": 0.022592,
     "end_time": "2023-11-04T18:20:47.747613",
     "exception": false,
     "start_time": "2023-11-04T18:20:47.725021",
     "status": "completed"
    },
    "tags": []
   },
   "source": [
    "#### **Dados de treinamentos:**"
   ]
  },
  {
   "cell_type": "code",
   "execution_count": 29,
   "id": "d0dbc27a",
   "metadata": {
    "execution": {
     "iopub.execute_input": "2023-11-04T18:20:47.791217Z",
     "iopub.status.busy": "2023-11-04T18:20:47.790849Z",
     "iopub.status.idle": "2023-11-04T18:20:47.810544Z",
     "shell.execute_reply": "2023-11-04T18:20:47.809099Z"
    },
    "papermill": {
     "duration": 0.044559,
     "end_time": "2023-11-04T18:20:47.813243",
     "exception": false,
     "start_time": "2023-11-04T18:20:47.768684",
     "status": "completed"
    },
    "tags": []
   },
   "outputs": [],
   "source": [
    "dftrain['Number_Family'] = dftrain['SibSp'] + dftrain['ParCh']\n",
    "\n",
    "dftrain['IsAlone'] = (dftrain['Number_Family'] == 0).astype(int)\n",
    "\n",
    "dftrain['AgeCategory'] = pd.cut(dftrain['Age'], bins=[0, 12, 18, 30, 60, 100], labels=['Child', 'Adolescent', 'Youth', 'Adult', 'Elderly'])\n",
    "\n",
    "dftrain['FareClassification'] = pd.qcut(dftrain['Fare'], q=4, labels=['Low', 'Medium-Low', 'Medium-High', 'High'])\n",
    "\n",
    "dftrain['AgeXClass'] = dftrain['Age'] * dftrain['Pclass']\n",
    "\n",
    "dftrain['Title'] = dftrain['Name'].apply(lambda x: re.search('([A-Za-z]+)\\.', x).group(1))\n",
    "\n",
    "dftrain['Title'] = dftrain['Title'].replace(['Mlle', 'Mme', 'Lady', 'Countess', 'Capt', 'Col', 'Don', 'Dr', 'Major', 'Rev', 'Sir', 'Jonkheer', 'Dona'], 'Others')\n"
   ]
  },
  {
   "cell_type": "markdown",
   "id": "8d53e52f",
   "metadata": {
    "papermill": {
     "duration": 0.020451,
     "end_time": "2023-11-04T18:20:47.855573",
     "exception": false,
     "start_time": "2023-11-04T18:20:47.835122",
     "status": "completed"
    },
    "tags": []
   },
   "source": [
    "#### **Dados de Teste:**"
   ]
  },
  {
   "cell_type": "code",
   "execution_count": 30,
   "id": "b762969e",
   "metadata": {
    "execution": {
     "iopub.execute_input": "2023-11-04T18:20:47.899784Z",
     "iopub.status.busy": "2023-11-04T18:20:47.898622Z",
     "iopub.status.idle": "2023-11-04T18:20:47.913535Z",
     "shell.execute_reply": "2023-11-04T18:20:47.912271Z"
    },
    "papermill": {
     "duration": 0.039131,
     "end_time": "2023-11-04T18:20:47.915755",
     "exception": false,
     "start_time": "2023-11-04T18:20:47.876624",
     "status": "completed"
    },
    "tags": []
   },
   "outputs": [],
   "source": [
    "dftest['Number_Family'] = dftest['SibSp'] + dftest['ParCh']\n",
    "\n",
    "dftest['IsAlone'] = (dftest['Number_Family'] == 0).astype(int)\n",
    "\n",
    "dftest['AgeCategory'] = pd.cut(dftest['Age'], bins=[0, 12, 18, 30, 60, 100], labels=['Child', 'Adolescent', 'Youth', 'Adult', 'Elderly'])\n",
    "\n",
    "dftest['FareClassification'] = pd.qcut(dftest['Fare'], q=4, labels=['Low', 'Medium-Low', 'Medium-High', 'High'])\n",
    "\n",
    "dftest['AgeXClass'] = dftest['Age'] * dftest['Pclass']\n",
    "\n",
    "dftest['Title'] = dftest['Name'].apply(lambda x: re.search('([A-Za-z]+)\\.', x).group(1))\n",
    "\n",
    "dftest['Title'] = dftest['Title'].replace(['Mlle', 'Mme', 'Lady', 'Countess', 'Capt', 'Col', 'Don', 'Dr', 'Major', 'Rev', 'Sir', 'Jonkheer', 'Dona'], 'Others')"
   ]
  },
  {
   "cell_type": "markdown",
   "id": "53a99a29",
   "metadata": {
    "papermill": {
     "duration": 0.021347,
     "end_time": "2023-11-04T18:20:47.958882",
     "exception": false,
     "start_time": "2023-11-04T18:20:47.937535",
     "status": "completed"
    },
    "tags": []
   },
   "source": [
    "# Visualização dos Dados - Parte 2"
   ]
  },
  {
   "cell_type": "code",
   "execution_count": 31,
   "id": "9b356f28",
   "metadata": {
    "execution": {
     "iopub.execute_input": "2023-11-04T18:20:48.002621Z",
     "iopub.status.busy": "2023-11-04T18:20:48.001523Z",
     "iopub.status.idle": "2023-11-04T18:20:48.020247Z",
     "shell.execute_reply": "2023-11-04T18:20:48.019171Z"
    },
    "papermill": {
     "duration": 0.042581,
     "end_time": "2023-11-04T18:20:48.022626",
     "exception": false,
     "start_time": "2023-11-04T18:20:47.980045",
     "status": "completed"
    },
    "tags": []
   },
   "outputs": [
    {
     "data": {
      "text/html": [
       "<div>\n",
       "<style scoped>\n",
       "    .dataframe tbody tr th:only-of-type {\n",
       "        vertical-align: middle;\n",
       "    }\n",
       "\n",
       "    .dataframe tbody tr th {\n",
       "        vertical-align: top;\n",
       "    }\n",
       "\n",
       "    .dataframe thead th {\n",
       "        text-align: right;\n",
       "    }\n",
       "</style>\n",
       "<table border=\"1\" class=\"dataframe\">\n",
       "  <thead>\n",
       "    <tr style=\"text-align: right;\">\n",
       "      <th></th>\n",
       "      <th>PassengerId</th>\n",
       "      <th>Survived</th>\n",
       "      <th>Pclass</th>\n",
       "      <th>Name</th>\n",
       "      <th>Sex</th>\n",
       "      <th>Age</th>\n",
       "      <th>SibSp</th>\n",
       "      <th>ParCh</th>\n",
       "      <th>Ticket</th>\n",
       "      <th>Fare</th>\n",
       "      <th>Cabin</th>\n",
       "      <th>Embarked</th>\n",
       "      <th>Number_Family</th>\n",
       "      <th>IsAlone</th>\n",
       "      <th>AgeCategory</th>\n",
       "      <th>FareClassification</th>\n",
       "      <th>AgeXClass</th>\n",
       "      <th>Title</th>\n",
       "    </tr>\n",
       "  </thead>\n",
       "  <tbody>\n",
       "    <tr>\n",
       "      <th>0</th>\n",
       "      <td>1</td>\n",
       "      <td>0</td>\n",
       "      <td>3</td>\n",
       "      <td>Braund, Mr. Owen Harris</td>\n",
       "      <td>male</td>\n",
       "      <td>22.0</td>\n",
       "      <td>1</td>\n",
       "      <td>0</td>\n",
       "      <td>A/5 21171</td>\n",
       "      <td>7.2500</td>\n",
       "      <td>missing</td>\n",
       "      <td>S</td>\n",
       "      <td>1</td>\n",
       "      <td>0</td>\n",
       "      <td>Youth</td>\n",
       "      <td>Low</td>\n",
       "      <td>66.0</td>\n",
       "      <td>Mr</td>\n",
       "    </tr>\n",
       "    <tr>\n",
       "      <th>1</th>\n",
       "      <td>2</td>\n",
       "      <td>1</td>\n",
       "      <td>1</td>\n",
       "      <td>Cumings, Mrs. John Bradley (Florence Briggs Th...</td>\n",
       "      <td>female</td>\n",
       "      <td>38.0</td>\n",
       "      <td>1</td>\n",
       "      <td>0</td>\n",
       "      <td>PC 17599</td>\n",
       "      <td>71.2833</td>\n",
       "      <td>C85</td>\n",
       "      <td>C</td>\n",
       "      <td>1</td>\n",
       "      <td>0</td>\n",
       "      <td>Adult</td>\n",
       "      <td>High</td>\n",
       "      <td>38.0</td>\n",
       "      <td>Mrs</td>\n",
       "    </tr>\n",
       "    <tr>\n",
       "      <th>2</th>\n",
       "      <td>3</td>\n",
       "      <td>1</td>\n",
       "      <td>3</td>\n",
       "      <td>Heikkinen, Miss. Laina</td>\n",
       "      <td>female</td>\n",
       "      <td>26.0</td>\n",
       "      <td>0</td>\n",
       "      <td>0</td>\n",
       "      <td>STON/O2. 3101282</td>\n",
       "      <td>7.9250</td>\n",
       "      <td>missing</td>\n",
       "      <td>S</td>\n",
       "      <td>0</td>\n",
       "      <td>1</td>\n",
       "      <td>Youth</td>\n",
       "      <td>Medium-Low</td>\n",
       "      <td>78.0</td>\n",
       "      <td>Miss</td>\n",
       "    </tr>\n",
       "    <tr>\n",
       "      <th>3</th>\n",
       "      <td>4</td>\n",
       "      <td>1</td>\n",
       "      <td>1</td>\n",
       "      <td>Futrelle, Mrs. Jacques Heath (Lily May Peel)</td>\n",
       "      <td>female</td>\n",
       "      <td>35.0</td>\n",
       "      <td>1</td>\n",
       "      <td>0</td>\n",
       "      <td>113803</td>\n",
       "      <td>53.1000</td>\n",
       "      <td>C123</td>\n",
       "      <td>S</td>\n",
       "      <td>1</td>\n",
       "      <td>0</td>\n",
       "      <td>Adult</td>\n",
       "      <td>High</td>\n",
       "      <td>35.0</td>\n",
       "      <td>Mrs</td>\n",
       "    </tr>\n",
       "    <tr>\n",
       "      <th>4</th>\n",
       "      <td>5</td>\n",
       "      <td>0</td>\n",
       "      <td>3</td>\n",
       "      <td>Allen, Mr. William Henry</td>\n",
       "      <td>male</td>\n",
       "      <td>35.0</td>\n",
       "      <td>0</td>\n",
       "      <td>0</td>\n",
       "      <td>373450</td>\n",
       "      <td>8.0500</td>\n",
       "      <td>missing</td>\n",
       "      <td>S</td>\n",
       "      <td>0</td>\n",
       "      <td>1</td>\n",
       "      <td>Adult</td>\n",
       "      <td>Medium-Low</td>\n",
       "      <td>105.0</td>\n",
       "      <td>Mr</td>\n",
       "    </tr>\n",
       "  </tbody>\n",
       "</table>\n",
       "</div>"
      ],
      "text/plain": [
       "   PassengerId  Survived  Pclass  \\\n",
       "0            1         0       3   \n",
       "1            2         1       1   \n",
       "2            3         1       3   \n",
       "3            4         1       1   \n",
       "4            5         0       3   \n",
       "\n",
       "                                                Name     Sex   Age  SibSp  \\\n",
       "0                            Braund, Mr. Owen Harris    male  22.0      1   \n",
       "1  Cumings, Mrs. John Bradley (Florence Briggs Th...  female  38.0      1   \n",
       "2                             Heikkinen, Miss. Laina  female  26.0      0   \n",
       "3       Futrelle, Mrs. Jacques Heath (Lily May Peel)  female  35.0      1   \n",
       "4                           Allen, Mr. William Henry    male  35.0      0   \n",
       "\n",
       "   ParCh            Ticket     Fare    Cabin Embarked  Number_Family  IsAlone  \\\n",
       "0      0         A/5 21171   7.2500  missing        S              1        0   \n",
       "1      0          PC 17599  71.2833      C85        C              1        0   \n",
       "2      0  STON/O2. 3101282   7.9250  missing        S              0        1   \n",
       "3      0            113803  53.1000     C123        S              1        0   \n",
       "4      0            373450   8.0500  missing        S              0        1   \n",
       "\n",
       "  AgeCategory FareClassification  AgeXClass Title  \n",
       "0       Youth                Low       66.0    Mr  \n",
       "1       Adult               High       38.0   Mrs  \n",
       "2       Youth         Medium-Low       78.0  Miss  \n",
       "3       Adult               High       35.0   Mrs  \n",
       "4       Adult         Medium-Low      105.0    Mr  "
      ]
     },
     "execution_count": 31,
     "metadata": {},
     "output_type": "execute_result"
    }
   ],
   "source": [
    "dftrain.head()"
   ]
  },
  {
   "cell_type": "code",
   "execution_count": 32,
   "id": "de460f13",
   "metadata": {
    "execution": {
     "iopub.execute_input": "2023-11-04T18:20:48.066808Z",
     "iopub.status.busy": "2023-11-04T18:20:48.065884Z",
     "iopub.status.idle": "2023-11-04T18:20:48.097802Z",
     "shell.execute_reply": "2023-11-04T18:20:48.096241Z"
    },
    "papermill": {
     "duration": 0.05644,
     "end_time": "2023-11-04T18:20:48.100108",
     "exception": false,
     "start_time": "2023-11-04T18:20:48.043668",
     "status": "completed"
    },
    "tags": []
   },
   "outputs": [
    {
     "data": {
      "text/html": [
       "<div>\n",
       "<style scoped>\n",
       "    .dataframe tbody tr th:only-of-type {\n",
       "        vertical-align: middle;\n",
       "    }\n",
       "\n",
       "    .dataframe tbody tr th {\n",
       "        vertical-align: top;\n",
       "    }\n",
       "\n",
       "    .dataframe thead th {\n",
       "        text-align: right;\n",
       "    }\n",
       "</style>\n",
       "<table border=\"1\" class=\"dataframe\">\n",
       "  <thead>\n",
       "    <tr style=\"text-align: right;\">\n",
       "      <th></th>\n",
       "      <th>PassengerId</th>\n",
       "      <th>Survived</th>\n",
       "      <th>Pclass</th>\n",
       "      <th>Age</th>\n",
       "      <th>SibSp</th>\n",
       "      <th>ParCh</th>\n",
       "      <th>Fare</th>\n",
       "      <th>Number_Family</th>\n",
       "      <th>IsAlone</th>\n",
       "      <th>AgeXClass</th>\n",
       "    </tr>\n",
       "  </thead>\n",
       "  <tbody>\n",
       "    <tr>\n",
       "      <th>count</th>\n",
       "      <td>891.000000</td>\n",
       "      <td>891.000000</td>\n",
       "      <td>891.000000</td>\n",
       "      <td>891.000000</td>\n",
       "      <td>891.000000</td>\n",
       "      <td>891.000000</td>\n",
       "      <td>891.000000</td>\n",
       "      <td>891.000000</td>\n",
       "      <td>891.000000</td>\n",
       "      <td>891.000000</td>\n",
       "    </tr>\n",
       "    <tr>\n",
       "      <th>mean</th>\n",
       "      <td>446.000000</td>\n",
       "      <td>0.383838</td>\n",
       "      <td>2.308642</td>\n",
       "      <td>29.699118</td>\n",
       "      <td>0.523008</td>\n",
       "      <td>0.381594</td>\n",
       "      <td>32.204208</td>\n",
       "      <td>0.904602</td>\n",
       "      <td>0.602694</td>\n",
       "      <td>64.966817</td>\n",
       "    </tr>\n",
       "    <tr>\n",
       "      <th>std</th>\n",
       "      <td>257.353842</td>\n",
       "      <td>0.486592</td>\n",
       "      <td>0.836071</td>\n",
       "      <td>13.002015</td>\n",
       "      <td>1.102743</td>\n",
       "      <td>0.806057</td>\n",
       "      <td>49.693429</td>\n",
       "      <td>1.613459</td>\n",
       "      <td>0.489615</td>\n",
       "      <td>32.947541</td>\n",
       "    </tr>\n",
       "    <tr>\n",
       "      <th>min</th>\n",
       "      <td>1.000000</td>\n",
       "      <td>0.000000</td>\n",
       "      <td>1.000000</td>\n",
       "      <td>0.420000</td>\n",
       "      <td>0.000000</td>\n",
       "      <td>0.000000</td>\n",
       "      <td>0.000000</td>\n",
       "      <td>0.000000</td>\n",
       "      <td>0.000000</td>\n",
       "      <td>0.920000</td>\n",
       "    </tr>\n",
       "    <tr>\n",
       "      <th>25%</th>\n",
       "      <td>223.500000</td>\n",
       "      <td>0.000000</td>\n",
       "      <td>2.000000</td>\n",
       "      <td>22.000000</td>\n",
       "      <td>0.000000</td>\n",
       "      <td>0.000000</td>\n",
       "      <td>7.910400</td>\n",
       "      <td>0.000000</td>\n",
       "      <td>0.000000</td>\n",
       "      <td>40.000000</td>\n",
       "    </tr>\n",
       "    <tr>\n",
       "      <th>50%</th>\n",
       "      <td>446.000000</td>\n",
       "      <td>0.000000</td>\n",
       "      <td>3.000000</td>\n",
       "      <td>29.699118</td>\n",
       "      <td>0.000000</td>\n",
       "      <td>0.000000</td>\n",
       "      <td>14.454200</td>\n",
       "      <td>0.000000</td>\n",
       "      <td>1.000000</td>\n",
       "      <td>63.000000</td>\n",
       "    </tr>\n",
       "    <tr>\n",
       "      <th>75%</th>\n",
       "      <td>668.500000</td>\n",
       "      <td>1.000000</td>\n",
       "      <td>3.000000</td>\n",
       "      <td>35.000000</td>\n",
       "      <td>1.000000</td>\n",
       "      <td>0.000000</td>\n",
       "      <td>31.000000</td>\n",
       "      <td>1.000000</td>\n",
       "      <td>1.000000</td>\n",
       "      <td>89.097353</td>\n",
       "    </tr>\n",
       "    <tr>\n",
       "      <th>max</th>\n",
       "      <td>891.000000</td>\n",
       "      <td>1.000000</td>\n",
       "      <td>3.000000</td>\n",
       "      <td>80.000000</td>\n",
       "      <td>8.000000</td>\n",
       "      <td>6.000000</td>\n",
       "      <td>512.329200</td>\n",
       "      <td>10.000000</td>\n",
       "      <td>1.000000</td>\n",
       "      <td>222.000000</td>\n",
       "    </tr>\n",
       "  </tbody>\n",
       "</table>\n",
       "</div>"
      ],
      "text/plain": [
       "       PassengerId    Survived      Pclass         Age       SibSp  \\\n",
       "count   891.000000  891.000000  891.000000  891.000000  891.000000   \n",
       "mean    446.000000    0.383838    2.308642   29.699118    0.523008   \n",
       "std     257.353842    0.486592    0.836071   13.002015    1.102743   \n",
       "min       1.000000    0.000000    1.000000    0.420000    0.000000   \n",
       "25%     223.500000    0.000000    2.000000   22.000000    0.000000   \n",
       "50%     446.000000    0.000000    3.000000   29.699118    0.000000   \n",
       "75%     668.500000    1.000000    3.000000   35.000000    1.000000   \n",
       "max     891.000000    1.000000    3.000000   80.000000    8.000000   \n",
       "\n",
       "            ParCh        Fare  Number_Family     IsAlone   AgeXClass  \n",
       "count  891.000000  891.000000     891.000000  891.000000  891.000000  \n",
       "mean     0.381594   32.204208       0.904602    0.602694   64.966817  \n",
       "std      0.806057   49.693429       1.613459    0.489615   32.947541  \n",
       "min      0.000000    0.000000       0.000000    0.000000    0.920000  \n",
       "25%      0.000000    7.910400       0.000000    0.000000   40.000000  \n",
       "50%      0.000000   14.454200       0.000000    1.000000   63.000000  \n",
       "75%      0.000000   31.000000       1.000000    1.000000   89.097353  \n",
       "max      6.000000  512.329200      10.000000    1.000000  222.000000  "
      ]
     },
     "execution_count": 32,
     "metadata": {},
     "output_type": "execute_result"
    }
   ],
   "source": [
    "dftrain.describe()"
   ]
  },
  {
   "cell_type": "code",
   "execution_count": 33,
   "id": "8201f8f9",
   "metadata": {
    "execution": {
     "iopub.execute_input": "2023-11-04T18:20:48.145638Z",
     "iopub.status.busy": "2023-11-04T18:20:48.145240Z",
     "iopub.status.idle": "2023-11-04T18:20:48.163178Z",
     "shell.execute_reply": "2023-11-04T18:20:48.161464Z"
    },
    "papermill": {
     "duration": 0.043176,
     "end_time": "2023-11-04T18:20:48.165837",
     "exception": false,
     "start_time": "2023-11-04T18:20:48.122661",
     "status": "completed"
    },
    "tags": []
   },
   "outputs": [
    {
     "data": {
      "text/plain": [
       "<bound method DataFrame.info of      PassengerId  Survived  Pclass  \\\n",
       "0              1         0       3   \n",
       "1              2         1       1   \n",
       "2              3         1       3   \n",
       "3              4         1       1   \n",
       "4              5         0       3   \n",
       "..           ...       ...     ...   \n",
       "886          887         0       2   \n",
       "887          888         1       1   \n",
       "888          889         0       3   \n",
       "889          890         1       1   \n",
       "890          891         0       3   \n",
       "\n",
       "                                                  Name     Sex        Age  \\\n",
       "0                              Braund, Mr. Owen Harris    male  22.000000   \n",
       "1    Cumings, Mrs. John Bradley (Florence Briggs Th...  female  38.000000   \n",
       "2                               Heikkinen, Miss. Laina  female  26.000000   \n",
       "3         Futrelle, Mrs. Jacques Heath (Lily May Peel)  female  35.000000   \n",
       "4                             Allen, Mr. William Henry    male  35.000000   \n",
       "..                                                 ...     ...        ...   \n",
       "886                              Montvila, Rev. Juozas    male  27.000000   \n",
       "887                       Graham, Miss. Margaret Edith  female  19.000000   \n",
       "888           Johnston, Miss. Catherine Helen \"Carrie\"  female  29.699118   \n",
       "889                              Behr, Mr. Karl Howell    male  26.000000   \n",
       "890                                Dooley, Mr. Patrick    male  32.000000   \n",
       "\n",
       "     SibSp  ParCh            Ticket     Fare    Cabin Embarked  Number_Family  \\\n",
       "0        1      0         A/5 21171   7.2500  missing        S              1   \n",
       "1        1      0          PC 17599  71.2833      C85        C              1   \n",
       "2        0      0  STON/O2. 3101282   7.9250  missing        S              0   \n",
       "3        1      0            113803  53.1000     C123        S              1   \n",
       "4        0      0            373450   8.0500  missing        S              0   \n",
       "..     ...    ...               ...      ...      ...      ...            ...   \n",
       "886      0      0            211536  13.0000  missing        S              0   \n",
       "887      0      0            112053  30.0000      B42        S              0   \n",
       "888      1      2        W./C. 6607  23.4500  missing        S              3   \n",
       "889      0      0            111369  30.0000     C148        C              0   \n",
       "890      0      0            370376   7.7500  missing        Q              0   \n",
       "\n",
       "     IsAlone AgeCategory FareClassification   AgeXClass   Title  \n",
       "0          0       Youth                Low   66.000000      Mr  \n",
       "1          0       Adult               High   38.000000     Mrs  \n",
       "2          1       Youth         Medium-Low   78.000000    Miss  \n",
       "3          0       Adult               High   35.000000     Mrs  \n",
       "4          1       Adult         Medium-Low  105.000000      Mr  \n",
       "..       ...         ...                ...         ...     ...  \n",
       "886        1       Youth         Medium-Low   54.000000  Others  \n",
       "887        1       Youth        Medium-High   19.000000    Miss  \n",
       "888        0       Youth        Medium-High   89.097353    Miss  \n",
       "889        1       Youth        Medium-High   26.000000      Mr  \n",
       "890        1       Adult                Low   96.000000      Mr  \n",
       "\n",
       "[891 rows x 18 columns]>"
      ]
     },
     "execution_count": 33,
     "metadata": {},
     "output_type": "execute_result"
    }
   ],
   "source": [
    "dftrain.info"
   ]
  },
  {
   "cell_type": "code",
   "execution_count": 34,
   "id": "1eec2d11",
   "metadata": {
    "execution": {
     "iopub.execute_input": "2023-11-04T18:20:48.210650Z",
     "iopub.status.busy": "2023-11-04T18:20:48.210284Z",
     "iopub.status.idle": "2023-11-04T18:20:48.381459Z",
     "shell.execute_reply": "2023-11-04T18:20:48.380124Z"
    },
    "papermill": {
     "duration": 0.196401,
     "end_time": "2023-11-04T18:20:48.383767",
     "exception": false,
     "start_time": "2023-11-04T18:20:48.187366",
     "status": "completed"
    },
    "tags": []
   },
   "outputs": [
    {
     "data": {
      "text/plain": [
       "<Axes: xlabel='Survived', ylabel='Number_Family'>"
      ]
     },
     "execution_count": 34,
     "metadata": {},
     "output_type": "execute_result"
    },
    {
     "data": {
      "image/png": "[encoded data removed]",
      "text/plain": [
       "<Figure size 640x480 with 1 Axes>"
      ]
     },
     "metadata": {},
     "output_type": "display_data"
    }
   ],
   "source": [
    "sns.boxplot(data=dftrain, x= \"Survived\", y= \"Number_Family\")"
   ]
  },
  {
   "cell_type": "markdown",
   "id": "18c87733",
   "metadata": {
    "papermill": {
     "duration": 0.021589,
     "end_time": "2023-11-04T18:20:48.427252",
     "exception": false,
     "start_time": "2023-11-04T18:20:48.405663",
     "status": "completed"
    },
    "tags": []
   },
   "source": [
    "# Tratamento de Dados Não Numéricos\n",
    "\n",
    "Embora os modelos possam ser treinados com dados não numéricos, é importante ressaltar que, para obter maior precisão nas inferências feitas pelos modelos, é crucial que os dados sejam numéricos, visto que os algoritmos dos modelos processam os dados através de diversos cálculos matemáticos."
   ]
  },
  {
   "cell_type": "markdown",
   "id": "c15511ee",
   "metadata": {
    "papermill": {
     "duration": 0.021711,
     "end_time": "2023-11-04T18:20:48.471877",
     "exception": false,
     "start_time": "2023-11-04T18:20:48.450166",
     "status": "completed"
    },
    "tags": []
   },
   "source": [
    "#### Convertendo para Dados Númericos:"
   ]
  },
  {
   "cell_type": "code",
   "execution_count": 35,
   "id": "c5aaf1ca",
   "metadata": {
    "execution": {
     "iopub.execute_input": "2023-11-04T18:20:48.517896Z",
     "iopub.status.busy": "2023-11-04T18:20:48.517505Z",
     "iopub.status.idle": "2023-11-04T18:20:48.525924Z",
     "shell.execute_reply": "2023-11-04T18:20:48.524006Z"
    },
    "papermill": {
     "duration": 0.03434,
     "end_time": "2023-11-04T18:20:48.528076",
     "exception": true,
     "start_time": "2023-11-04T18:20:48.493736",
     "status": "failed"
    },
    "tags": []
   },
   "outputs": [
    {
     "ename": "SyntaxError",
     "evalue": "invalid decimal literal (1089691802.py, line 1)",
     "output_type": "error",
     "traceback": [
      "\u001b[0;36m  Cell \u001b[0;32mIn[35], line 1\u001b[0;36m\u001b[0m\n\u001b[0;31m    344243dftrain['Title'] = dftrain['Title'].replace('Master', 1).replace('Miss', 2).replace('Mr', 3).replace('Mrs', 4).replace('Ms', 5).replace('Others', 6).astype(int)\u001b[0m\n\u001b[0m         ^\u001b[0m\n\u001b[0;31mSyntaxError\u001b[0m\u001b[0;31m:\u001b[0m invalid decimal literal\n"
     ]
    }
   ],
   "source": [
    "344243dftrain['Title'] = dftrain['Title'].replace('Master', 1).replace('Miss', 2).replace('Mr', 3).replace('Mrs', 4).replace('Ms', 5).replace('Others', 6).astype(int)\n",
    "dftest['Title'] = dftest['Title'].replace('Master', 1).replace('Miss', 2).replace('Mr', 3).replace('Mrs', 4).replace('Ms', 5).replace('Others', 6).astype(int)"
   ]
  },
  {
   "cell_type": "code",
   "execution_count": null,
   "id": "5298141d",
   "metadata": {
    "execution": {
     "iopub.status.busy": "2023-11-04T18:02:19.072030Z",
     "iopub.status.idle": "2023-11-04T18:02:19.072425Z",
     "shell.execute_reply": "2023-11-04T18:02:19.072260Z",
     "shell.execute_reply.started": "2023-11-04T18:02:19.072241Z"
    },
    "papermill": {
     "duration": null,
     "end_time": null,
     "exception": null,
     "start_time": null,
     "status": "pending"
    },
    "tags": []
   },
   "outputs": [],
   "source": [
    "dftrain['Sex'] = dftrain['Sex'].replace(['male', 'female'], [0, 1]).astype(int)\n",
    "dftest['Sex'] = dftest['Sex'].replace(['male', 'female'], [0, 1]).astype(int)"
   ]
  },
  {
   "cell_type": "code",
   "execution_count": null,
   "id": "c952e347",
   "metadata": {
    "execution": {
     "iopub.status.busy": "2023-11-04T18:02:19.073788Z",
     "iopub.status.idle": "2023-11-04T18:02:19.074178Z",
     "shell.execute_reply": "2023-11-04T18:02:19.074006Z",
     "shell.execute_reply.started": "2023-11-04T18:02:19.073989Z"
    },
    "papermill": {
     "duration": null,
     "end_time": null,
     "exception": null,
     "start_time": null,
     "status": "pending"
    },
    "tags": []
   },
   "outputs": [],
   "source": [
    "dftrain['Embarked'] = dftrain['Embarked'].replace(['S', 'C', 'Q'], [0, 1, 2]).astype(int)\n",
    "dftest['Embarked'] = dftest['Embarked'].replace(['S', 'C', 'Q'], [0, 1, 2]).astype(int)"
   ]
  },
  {
   "cell_type": "markdown",
   "id": "dfb04d51",
   "metadata": {
    "papermill": {
     "duration": null,
     "end_time": null,
     "exception": null,
     "start_time": null,
     "status": "pending"
    },
    "tags": []
   },
   "source": [
    "#### Aplicando o One-Hot nos Dados de Teste e Treinamento:"
   ]
  },
  {
   "cell_type": "code",
   "execution_count": null,
   "id": "bf8021c6",
   "metadata": {
    "execution": {
     "iopub.status.busy": "2023-11-04T18:02:19.075158Z",
     "iopub.status.idle": "2023-11-04T18:02:19.075499Z",
     "shell.execute_reply": "2023-11-04T18:02:19.075352Z",
     "shell.execute_reply.started": "2023-11-04T18:02:19.075336Z"
    },
    "papermill": {
     "duration": null,
     "end_time": null,
     "exception": null,
     "start_time": null,
     "status": "pending"
    },
    "tags": []
   },
   "outputs": [],
   "source": [
    "dftrain = pd.get_dummies(dftrain, columns=['AgeCategory', 'FareClassification'], dtype=int)\n",
    "dftest = pd.get_dummies(dftest, columns=['AgeCategory', 'FareClassification'], dtype=int)"
   ]
  },
  {
   "cell_type": "markdown",
   "id": "aa3eacc3",
   "metadata": {
    "papermill": {
     "duration": null,
     "end_time": null,
     "exception": null,
     "start_time": null,
     "status": "pending"
    },
    "tags": []
   },
   "source": [
    "#### Deletandos as colunas que não serão relevantes para classificação:"
   ]
  },
  {
   "cell_type": "code",
   "execution_count": null,
   "id": "6110e17b",
   "metadata": {
    "execution": {
     "iopub.status.busy": "2023-11-04T18:02:19.076467Z",
     "iopub.status.idle": "2023-11-04T18:02:19.076847Z",
     "shell.execute_reply": "2023-11-04T18:02:19.076684Z",
     "shell.execute_reply.started": "2023-11-04T18:02:19.076664Z"
    },
    "papermill": {
     "duration": null,
     "end_time": null,
     "exception": null,
     "start_time": null,
     "status": "pending"
    },
    "tags": []
   },
   "outputs": [],
   "source": [
    "del dftrain['PassengerId']\n",
    "del dftrain['Name']\n",
    "del dftrain['Ticket']\n",
    "del dftrain['Cabin']\n",
    "\n",
    "del dftest['PassengerId']\n",
    "del dftest['Name']\n",
    "del dftest['Ticket']\n",
    "del dftest['Cabin']"
   ]
  },
  {
   "cell_type": "code",
   "execution_count": null,
   "id": "0e9ae027",
   "metadata": {
    "execution": {
     "iopub.status.busy": "2023-11-04T18:02:19.078260Z",
     "iopub.status.idle": "2023-11-04T18:02:19.079585Z",
     "shell.execute_reply": "2023-11-04T18:02:19.079327Z",
     "shell.execute_reply.started": "2023-11-04T18:02:19.079300Z"
    },
    "papermill": {
     "duration": null,
     "end_time": null,
     "exception": null,
     "start_time": null,
     "status": "pending"
    },
    "tags": []
   },
   "outputs": [],
   "source": [
    "dftrain.shape"
   ]
  },
  {
   "cell_type": "markdown",
   "id": "6b39be0c",
   "metadata": {
    "papermill": {
     "duration": null,
     "end_time": null,
     "exception": null,
     "start_time": null,
     "status": "pending"
    },
    "tags": []
   },
   "source": [
    "# Divisão entre Classificadores e Previsores\n",
    "\n",
    "Agora é o momento de dividir nossa base de dados entre classificadores e previsores. Os previsores são os dados que serão usados para treinar o modelo, e os classificadores são os rótulos que queremos prever com base nesses dados. Essa divisão é fundamental para o processo de treinamento e avaliação de modelos de machine learning. Com os previsores e classificadores claramente definidos, podemos prosseguir com a construção e ajuste dos modelos para atingir os objetivos do projeto."
   ]
  },
  {
   "cell_type": "markdown",
   "id": "5242a470",
   "metadata": {
    "papermill": {
     "duration": null,
     "end_time": null,
     "exception": null,
     "start_time": null,
     "status": "pending"
    },
    "tags": []
   },
   "source": [
    "#### **Definindo as variáveis previsores:**"
   ]
  },
  {
   "cell_type": "code",
   "execution_count": null,
   "id": "3fa6af13",
   "metadata": {
    "execution": {
     "iopub.status.busy": "2023-11-04T18:02:19.081104Z",
     "iopub.status.idle": "2023-11-04T18:02:19.081687Z",
     "shell.execute_reply": "2023-11-04T18:02:19.081426Z",
     "shell.execute_reply.started": "2023-11-04T18:02:19.081400Z"
    },
    "papermill": {
     "duration": null,
     "end_time": null,
     "exception": null,
     "start_time": null,
     "status": "pending"
    },
    "tags": []
   },
   "outputs": [],
   "source": [
    "xPredictors = dftrain.drop([\"Survived\"], axis=1)\n",
    "x_train = xPredictors.values"
   ]
  },
  {
   "cell_type": "markdown",
   "id": "da2b8434",
   "metadata": {
    "papermill": {
     "duration": null,
     "end_time": null,
     "exception": null,
     "start_time": null,
     "status": "pending"
    },
    "tags": []
   },
   "source": [
    "#### **Definindo a variável de classificação:**"
   ]
  },
  {
   "cell_type": "code",
   "execution_count": null,
   "id": "3dc8199f",
   "metadata": {
    "execution": {
     "iopub.status.busy": "2023-11-04T18:02:19.083205Z",
     "iopub.status.idle": "2023-11-04T18:02:19.083626Z",
     "shell.execute_reply": "2023-11-04T18:02:19.083427Z",
     "shell.execute_reply.started": "2023-11-04T18:02:19.083408Z"
    },
    "papermill": {
     "duration": null,
     "end_time": null,
     "exception": null,
     "start_time": null,
     "status": "pending"
    },
    "tags": []
   },
   "outputs": [],
   "source": [
    "y_train = dftrain.iloc[:, 0].values"
   ]
  },
  {
   "cell_type": "markdown",
   "id": "40c44a95",
   "metadata": {
    "papermill": {
     "duration": null,
     "end_time": null,
     "exception": null,
     "start_time": null,
     "status": "pending"
    },
    "tags": []
   },
   "source": [
    "# Escalonamento de Valores\n",
    "\n",
    "O escalonamento de valores é uma etapa crítica no pré-processamento de dados para muitos algoritmos de machine learning. Essa técnica visa normalizar ou padronizar os valores das variáveis para que estejam em uma faixa comparável. Isso é importante porque muitos algoritmos são sensíveis à escala dos dados, e valores em escalas diferentes podem afetar negativamente o desempenho do modelo.\n",
    "\n",
    "Para este nosso desafio, será aplicado a técnica da normalização que dimensiona os dados para um intervalo fixo, geralmente de 0 a 1, tornando os dados comparáveis e mantendo as relações de ordem entre os valores originais."
   ]
  },
  {
   "cell_type": "code",
   "execution_count": null,
   "id": "3a70bfde",
   "metadata": {
    "execution": {
     "iopub.status.busy": "2023-11-04T18:02:19.085999Z",
     "iopub.status.idle": "2023-11-04T18:02:19.086885Z",
     "shell.execute_reply": "2023-11-04T18:02:19.086698Z",
     "shell.execute_reply.started": "2023-11-04T18:02:19.086670Z"
    },
    "papermill": {
     "duration": null,
     "end_time": null,
     "exception": null,
     "start_time": null,
     "status": "pending"
    },
    "tags": []
   },
   "outputs": [],
   "source": [
    "scaler_train = StandardScaler()\n",
    "scaler_test = StandardScaler()\n",
    "\n",
    "\n",
    "x_train_std = scaler_train.fit_transform(x_train)\n",
    "x_test_std = scaler_test.fit_transform(dftest)"
   ]
  },
  {
   "cell_type": "markdown",
   "id": "ffbe0b8b",
   "metadata": {
    "papermill": {
     "duration": null,
     "end_time": null,
     "exception": null,
     "start_time": null,
     "status": "pending"
    },
    "tags": []
   },
   "source": [
    "# **Salvandos o dados:**\n",
    "\n",
    "Os dados estão pronto e podem ser salvos se necessário."
   ]
  },
  {
   "cell_type": "code",
   "execution_count": null,
   "id": "680a3783",
   "metadata": {
    "execution": {
     "iopub.status.busy": "2023-11-04T18:02:19.088344Z",
     "iopub.status.idle": "2023-11-04T18:02:19.089175Z",
     "shell.execute_reply": "2023-11-04T18:02:19.088956Z",
     "shell.execute_reply.started": "2023-11-04T18:02:19.088931Z"
    },
    "papermill": {
     "duration": null,
     "end_time": null,
     "exception": null,
     "start_time": null,
     "status": "pending"
    },
    "tags": []
   },
   "outputs": [],
   "source": [
    "import pickle\n",
    "\n",
    "with open('x_train_std.pkl', mode = 'wb') as file:\n",
    "    pickle.dump([x_train_std, y_train], file)"
   ]
  },
  {
   "cell_type": "markdown",
   "id": "5d63c483",
   "metadata": {
    "papermill": {
     "duration": null,
     "end_time": null,
     "exception": null,
     "start_time": null,
     "status": "pending"
    },
    "tags": []
   },
   "source": [
    "# Aplicação de Modelos\n",
    "\n",
    "Os modelos que serão utilizados para prever quais serão os sobreviventes são modelos de classificação de machine learning amplamente conhecidos e utilizados em tarefas de classificação e previsão, nas quais as inferências resultantes devem ser precisas e confiáveis. O objetivo é treinar esses modelos com os dados que foram preparados até o momento, testá-los com os dados de teste que também foram preparados e, por fim, classificar os sobreviventes com base nas previsões de cada modelo, determinando o melhor modelo para esta tarefa.\n",
    "\n",
    "Segue a lista dos modelos que serão implementados:\n",
    "\n",
    "1. Gaussian Naive Bayes\n",
    "2. Decision Tree\n",
    "3. Random Forest\n",
    "4. k-Nearest Neighbors\n",
    "5. Logistic Regression\n",
    "6. Support Vector Classifier\n",
    "7. Multi-Layer Perceptron Classifier\n",
    "\n",
    "**Atenção**: \n",
    "\n",
    "Uma vez que não temos acesso às classificações reais dos sobreviventes no conjunto de dados de teste para comparar as previsões dos modelos, usaremos a acurácia como métrica de desempenho de cada modelo durante o treinamento, além da média do desempenho do modelo em 10 dobras de validação cruzada.\n"
   ]
  },
  {
   "cell_type": "markdown",
   "id": "74c6f8d1",
   "metadata": {
    "papermill": {
     "duration": null,
     "end_time": null,
     "exception": null,
     "start_time": null,
     "status": "pending"
    },
    "tags": []
   },
   "source": [
    "### **Gaussian Naive Bayes**"
   ]
  },
  {
   "cell_type": "code",
   "execution_count": null,
   "id": "8913bfe2",
   "metadata": {
    "execution": {
     "iopub.status.busy": "2023-11-04T18:02:19.090413Z",
     "iopub.status.idle": "2023-11-04T18:02:19.090840Z",
     "shell.execute_reply": "2023-11-04T18:02:19.090658Z",
     "shell.execute_reply.started": "2023-11-04T18:02:19.090638Z"
    },
    "papermill": {
     "duration": null,
     "end_time": null,
     "exception": null,
     "start_time": null,
     "status": "pending"
    },
    "tags": []
   },
   "outputs": [],
   "source": [
    "gaussian_titanic = GaussianNB()\n",
    "\n",
    "gaussian_titanic.fit(x_train_std, y_train)\n",
    "\n",
    "naive_predictions = gaussian_titanic.predict(x_test_std)\n",
    "\n",
    "accuracy_gaussian = round(gaussian_titanic.score(x_train_std, y_train) * 100, 2)\n",
    "score_gaussian = cross_val_score(gaussian_titanic, x_train_std, y_train, cv=10).mean()\n",
    "\n",
    "print('------------------- Gaussian Naive Bayes -------------------')\n",
    "print()\n",
    "print('Model Accuracy: ', accuracy_gaussian)\n",
    "print('Cross validation mean:', score_gaussian)"
   ]
  },
  {
   "cell_type": "markdown",
   "id": "0c5fc159",
   "metadata": {
    "papermill": {
     "duration": null,
     "end_time": null,
     "exception": null,
     "start_time": null,
     "status": "pending"
    },
    "tags": []
   },
   "source": [
    "### **Decision Tree**"
   ]
  },
  {
   "cell_type": "code",
   "execution_count": null,
   "id": "7a2c5053",
   "metadata": {
    "execution": {
     "iopub.status.busy": "2023-11-04T18:02:19.092027Z",
     "iopub.status.idle": "2023-11-04T18:02:19.092629Z",
     "shell.execute_reply": "2023-11-04T18:02:19.092386Z",
     "shell.execute_reply.started": "2023-11-04T18:02:19.092362Z"
    },
    "papermill": {
     "duration": null,
     "end_time": null,
     "exception": null,
     "start_time": null,
     "status": "pending"
    },
    "tags": []
   },
   "outputs": [],
   "source": [
    "dicisiontree_titanic = DecisionTreeClassifier(criterion='entropy', random_state=0)\n",
    "dicisiontree_titanic.fit(x_train_std, y_train)\n",
    "\n",
    "predictions_dicisiontree = dicisiontree_titanic.predict(x_test_std)\n",
    "\n",
    "accuracy_decisiontree = round(dicisiontree_titanic.score(x_train_std, y_train) * 100, 2)\n",
    "score_decisiontree = cross_val_score(dicisiontree_titanic, x_train_std, y_train, cv=10).mean()\n",
    "\n",
    "print('------------------- Decision Tree Classifier -------------------')\n",
    "print()\n",
    "print('Model Accuracy: ', accuracy_decisiontree)\n",
    "print('Cross validation mean:', score_decisiontree)"
   ]
  },
  {
   "cell_type": "markdown",
   "id": "55bf3810",
   "metadata": {
    "papermill": {
     "duration": null,
     "end_time": null,
     "exception": null,
     "start_time": null,
     "status": "pending"
    },
    "tags": []
   },
   "source": [
    "### **Random Forest Classifier**"
   ]
  },
  {
   "cell_type": "code",
   "execution_count": null,
   "id": "4711e964",
   "metadata": {
    "execution": {
     "iopub.status.busy": "2023-11-04T18:02:19.093947Z",
     "iopub.status.idle": "2023-11-04T18:02:19.094333Z",
     "shell.execute_reply": "2023-11-04T18:02:19.094165Z",
     "shell.execute_reply.started": "2023-11-04T18:02:19.094146Z"
    },
    "papermill": {
     "duration": null,
     "end_time": null,
     "exception": null,
     "start_time": null,
     "status": "pending"
    },
    "tags": []
   },
   "outputs": [],
   "source": [
    "randomforest_titanic  = RandomForestClassifier(n_estimators=50, criterion='entropy', random_state=0)\n",
    "\n",
    "randomforest_titanic.fit(x_train_std, y_train)\n",
    "\n",
    "predictions_randomforest = randomforest_titanic.predict(x_test_std)\n",
    "\n",
    "accuracy_randomforest = round(randomforest_titanic.score(x_train_std, y_train) * 100, 2)\n",
    "score_randomforest = cross_val_score(randomforest_titanic, x_train_std, y_train, cv=10).mean()\n",
    "\n",
    "print('------------------- Random Forest Classifier -------------------')\n",
    "print()\n",
    "print('Model Accuracy: ', accuracy_randomforest)\n",
    "print('Cross validation mean:', score_randomforest)"
   ]
  },
  {
   "cell_type": "markdown",
   "id": "12dc66c8",
   "metadata": {
    "papermill": {
     "duration": null,
     "end_time": null,
     "exception": null,
     "start_time": null,
     "status": "pending"
    },
    "tags": []
   },
   "source": [
    "### **k-Nearest Neighbors Classifier**"
   ]
  },
  {
   "cell_type": "code",
   "execution_count": null,
   "id": "b9413343",
   "metadata": {
    "execution": {
     "iopub.status.busy": "2023-11-04T18:02:19.096360Z",
     "iopub.status.idle": "2023-11-04T18:02:19.097149Z",
     "shell.execute_reply": "2023-11-04T18:02:19.096962Z",
     "shell.execute_reply.started": "2023-11-04T18:02:19.096942Z"
    },
    "papermill": {
     "duration": null,
     "end_time": null,
     "exception": null,
     "start_time": null,
     "status": "pending"
    },
    "tags": []
   },
   "outputs": [],
   "source": [
    "knn_titanic = KNeighborsClassifier(n_neighbors=1)\n",
    "knn_titanic.fit(x_train_std, y_train)\n",
    "\n",
    "prediction_knn = knn_titanic.predict(x_test_std)\n",
    "\n",
    "accuracy_knn = round(knn_titanic.score(x_train_std, y_train) * 100, 2)\n",
    "score_knn = cross_val_score(knn_titanic, x_train_std, y_train, cv=15).mean()\n",
    "\n",
    "print('------------------- k-Nearest Neighbors -------------------')\n",
    "print()\n",
    "print('Model Accuracy: ', accuracy_knn)\n",
    "print('Cross validation mean:', score_knn)"
   ]
  },
  {
   "cell_type": "markdown",
   "id": "be7d4549",
   "metadata": {
    "papermill": {
     "duration": null,
     "end_time": null,
     "exception": null,
     "start_time": null,
     "status": "pending"
    },
    "tags": []
   },
   "source": [
    "### **Logistic Regression**"
   ]
  },
  {
   "cell_type": "code",
   "execution_count": null,
   "id": "fe9c57c3",
   "metadata": {
    "execution": {
     "iopub.status.busy": "2023-11-04T18:02:19.098380Z",
     "iopub.status.idle": "2023-11-04T18:02:19.099248Z",
     "shell.execute_reply": "2023-11-04T18:02:19.098995Z",
     "shell.execute_reply.started": "2023-11-04T18:02:19.098960Z"
    },
    "papermill": {
     "duration": null,
     "end_time": null,
     "exception": null,
     "start_time": null,
     "status": "pending"
    },
    "tags": []
   },
   "outputs": [],
   "source": [
    "lregression = LogisticRegression(random_state=0,  C=5)\n",
    "lregression.fit(x_train_std, y_train)\n",
    "\n",
    "predictions_lregression =  lregression.predict(x_test_std)\n",
    "\n",
    "accuracy_lregression = round(lregression.score(x_train_std, y_train) * 100, 2)\n",
    "score_lregression = cross_val_score(lregression, x_train_std, y_train, cv=5).mean()\n",
    "\n",
    "print('------------------- Logistic Regression -------------------')\n",
    "\n",
    "print()\n",
    "print('Model Accuracy: ', accuracy_lregression)\n",
    "print('Cross validation mean:', score_lregression)"
   ]
  },
  {
   "cell_type": "markdown",
   "id": "85ea58db",
   "metadata": {
    "papermill": {
     "duration": null,
     "end_time": null,
     "exception": null,
     "start_time": null,
     "status": "pending"
    },
    "tags": []
   },
   "source": [
    "### **Support Vector Classification**"
   ]
  },
  {
   "cell_type": "code",
   "execution_count": null,
   "id": "1480a50c",
   "metadata": {
    "execution": {
     "iopub.status.busy": "2023-11-04T18:02:19.100842Z",
     "iopub.status.idle": "2023-11-04T18:02:19.101555Z",
     "shell.execute_reply": "2023-11-04T18:02:19.101334Z",
     "shell.execute_reply.started": "2023-11-04T18:02:19.101307Z"
    },
    "papermill": {
     "duration": null,
     "end_time": null,
     "exception": null,
     "start_time": null,
     "status": "pending"
    },
    "tags": []
   },
   "outputs": [],
   "source": [
    "SVC_titanic = SVC(kernel='linear', random_state=1, C=1.0)\n",
    "SVC_titanic.fit(x_train_std, y_train)\n",
    "\n",
    "predictions_SVC = SVC_titanic.predict(x_test_std)\n",
    "\n",
    "accuracy_SVC = round(SVC_titanic.score(x_train_std, y_train) * 100, 2)\n",
    "score_SVC = cross_val_score(SVC_titanic, x_train_std, y_train, cv=5).mean()\n",
    "\n",
    "print('------------------- Support Vector Classification -------------------')\n",
    "\n",
    "print()\n",
    "print('Model Accuracy: ', accuracy_SVC)\n",
    "print('Cross validation mean:', score_SVC)"
   ]
  },
  {
   "cell_type": "markdown",
   "id": "6456ffcc",
   "metadata": {
    "papermill": {
     "duration": null,
     "end_time": null,
     "exception": null,
     "start_time": null,
     "status": "pending"
    },
    "tags": []
   },
   "source": [
    "### **Multi Layer Perceptron Classifier - Artificial Neural Networks**"
   ]
  },
  {
   "cell_type": "code",
   "execution_count": null,
   "id": "d7e58e72",
   "metadata": {
    "execution": {
     "iopub.status.busy": "2023-11-04T18:02:19.103198Z",
     "iopub.status.idle": "2023-11-04T18:02:19.104342Z",
     "shell.execute_reply": "2023-11-04T18:02:19.104157Z",
     "shell.execute_reply.started": "2023-11-04T18:02:19.104134Z"
    },
    "papermill": {
     "duration": null,
     "end_time": null,
     "exception": null,
     "start_time": null,
     "status": "pending"
    },
    "tags": []
   },
   "outputs": [],
   "source": [
    "MLPC_titanic = MLPClassifier(max_iter=5000, verbose=0, tol=0.0000100,\n",
    "                                   solver = 'adam', activation = 'identity',\n",
    "                                   hidden_layer_sizes = (60,60))\n",
    "\n",
    "MLPC_titanic.fit(x_train, y_train);\n",
    "\n",
    "accuracy_MLPC = round(MLPC_titanic.score(x_train_std, y_train) * 100, 2)\n",
    "score_MLPC = cross_val_score(MLPC_titanic, x_train_std, y_train, cv=15).mean()\n",
    "\n",
    "print('------------------- Multi Layer Perceptron Classifier -------------------')\n",
    "print()\n",
    "print('Model Accuracy: ', accuracy_MLPC)\n",
    "print('Cross validation mean:', score_MLPC)"
   ]
  },
  {
   "cell_type": "markdown",
   "id": "ffc00e3c",
   "metadata": {
    "papermill": {
     "duration": null,
     "end_time": null,
     "exception": null,
     "start_time": null,
     "status": "pending"
    },
    "tags": []
   },
   "source": [
    "# Curva de Aprendizado\n",
    "\n",
    "Também será utilizado o gráfico de curva de aprendizado para análise do desempenho do modelo à medida que mais dados de treinamento são usados. Nesse gráfico, será medida a relação entre o tamanho do conjunto de treinamento e o desempenho do modelo, que é medido pela acurácia. Além disso, poderemos identificar se o modelo está sofrendo de overfitting ou underfitting."
   ]
  },
  {
   "cell_type": "markdown",
   "id": "81ef9688",
   "metadata": {
    "papermill": {
     "duration": null,
     "end_time": null,
     "exception": null,
     "start_time": null,
     "status": "pending"
    },
    "tags": []
   },
   "source": [
    "### Gaussian Naive Bayes e Decision Tree"
   ]
  },
  {
   "cell_type": "code",
   "execution_count": null,
   "id": "e8e64e4a",
   "metadata": {
    "execution": {
     "iopub.status.busy": "2023-11-04T18:02:19.105686Z",
     "iopub.status.idle": "2023-11-04T18:02:19.106082Z",
     "shell.execute_reply": "2023-11-04T18:02:19.105913Z",
     "shell.execute_reply.started": "2023-11-04T18:02:19.105895Z"
    },
    "papermill": {
     "duration": null,
     "end_time": null,
     "exception": null,
     "start_time": null,
     "status": "pending"
    },
    "tags": []
   },
   "outputs": [],
   "source": [
    "fig, ax = plt.subplots(nrows=1, ncols=2, figsize=(10, 6), sharey=True)\n",
    "\n",
    "common_params = {\n",
    "    \"X\": x_train_std,\n",
    "    \"y\": y_train,\n",
    "    \"train_sizes\": np.linspace(0.1, 1.0, 5),\n",
    "    \"cv\": ShuffleSplit(n_splits=50, test_size=0.2, random_state=0),\n",
    "    \"score_type\": \"both\",\n",
    "    \"n_jobs\": 4,\n",
    "    \"line_kw\": {\"marker\": \"o\"},\n",
    "    \"std_display_style\": \"fill_between\",\n",
    "    \"score_name\": \"Accuracy\",\n",
    "}\n",
    "\n",
    "for ax_idx, estimator in enumerate([gaussian_titanic, dicisiontree_titanic]):\n",
    "    LearningCurveDisplay.from_estimator(estimator, **common_params, ax=ax[ax_idx])\n",
    "    handles, label = ax[ax_idx].get_legend_handles_labels()\n",
    "    ax[ax_idx].legend(handles[:2], [\"Training Score\", \"Test Score\"])\n",
    "    ax[ax_idx].set_title(f\"Learning Curve for {estimator.__class__.__name__}\")"
   ]
  },
  {
   "cell_type": "markdown",
   "id": "03d6a92d",
   "metadata": {
    "papermill": {
     "duration": null,
     "end_time": null,
     "exception": null,
     "start_time": null,
     "status": "pending"
    },
    "tags": []
   },
   "source": [
    "### Random Forest e k-Nearest Neighbors"
   ]
  },
  {
   "cell_type": "code",
   "execution_count": null,
   "id": "233af9c9",
   "metadata": {
    "execution": {
     "iopub.status.busy": "2023-11-04T18:02:19.107123Z",
     "iopub.status.idle": "2023-11-04T18:02:19.107493Z",
     "shell.execute_reply": "2023-11-04T18:02:19.107335Z",
     "shell.execute_reply.started": "2023-11-04T18:02:19.107315Z"
    },
    "papermill": {
     "duration": null,
     "end_time": null,
     "exception": null,
     "start_time": null,
     "status": "pending"
    },
    "tags": []
   },
   "outputs": [],
   "source": [
    "fig, ax = plt.subplots(nrows=1, ncols=2, figsize=(15, 6), sharey=True)\n",
    "\n",
    "common_params = {\n",
    "    \"X\": x_train_std,\n",
    "    \"y\": y_train,\n",
    "    \"train_sizes\": np.linspace(0.1, 1.0, 5),\n",
    "    \"cv\": ShuffleSplit(n_splits=50, test_size=0.2, random_state=0),\n",
    "    \"score_type\": \"both\",\n",
    "    \"n_jobs\": 4,\n",
    "    \"line_kw\": {\"marker\": \"o\"},\n",
    "    \"std_display_style\": \"fill_between\",\n",
    "    \"score_name\": \"Accuracy\",\n",
    "}\n",
    "\n",
    "estimators = [randomforest_titanic, knn_titanic]\n",
    "\n",
    "for ax_idx, estimator in enumerate(estimators):\n",
    "    LearningCurveDisplay.from_estimator(estimator, **common_params, ax=ax[ax_idx])\n",
    "    handles, label = ax[ax_idx].get_legend_handles_labels()\n",
    "    ax[ax_idx].legend(handles[:2], [\"Training Score\", \"Test Score\"])\n",
    "    ax[ax_idx].set_title(f\"Learning Curve for {estimator.__class__.__name__}\")\n"
   ]
  },
  {
   "cell_type": "markdown",
   "id": "a14f585a",
   "metadata": {
    "papermill": {
     "duration": null,
     "end_time": null,
     "exception": null,
     "start_time": null,
     "status": "pending"
    },
    "tags": []
   },
   "source": [
    "### Logistic Regression e Suport Vector Classifier"
   ]
  },
  {
   "cell_type": "code",
   "execution_count": null,
   "id": "6ac334d4",
   "metadata": {
    "execution": {
     "iopub.status.busy": "2023-11-04T18:02:19.108378Z",
     "iopub.status.idle": "2023-11-04T18:02:19.108769Z",
     "shell.execute_reply": "2023-11-04T18:02:19.108578Z",
     "shell.execute_reply.started": "2023-11-04T18:02:19.108560Z"
    },
    "papermill": {
     "duration": null,
     "end_time": null,
     "exception": null,
     "start_time": null,
     "status": "pending"
    },
    "tags": []
   },
   "outputs": [],
   "source": [
    "fig, ax = plt.subplots(nrows=1, ncols=2, figsize=(10, 6), sharey=True)\n",
    "\n",
    "common_params = {\n",
    "    \"X\": x_train_std,\n",
    "    \"y\": y_train,\n",
    "    \"train_sizes\": np.linspace(0.1, 1.0, 5),\n",
    "    \"cv\": ShuffleSplit(n_splits=50, test_size=0.2, random_state=0),\n",
    "    \"score_type\": \"both\",\n",
    "    \"n_jobs\": 4,\n",
    "    \"line_kw\": {\"marker\": \"o\"},\n",
    "    \"std_display_style\": \"fill_between\",\n",
    "    \"score_name\": \"Accuracy\",\n",
    "}\n",
    "\n",
    "for ax_idx, estimator in enumerate([lregression, SVC_titanic]):\n",
    "    LearningCurveDisplay.from_estimator(estimator, **common_params, ax=ax[ax_idx])\n",
    "    handles, label = ax[ax_idx].get_legend_handles_labels()\n",
    "    ax[ax_idx].legend(handles[:2], [\"Training Score\", \"Test Score\"])\n",
    "    ax[ax_idx].set_title(f\"Learning Curve for {estimator.__class__.__name__}\")"
   ]
  },
  {
   "cell_type": "markdown",
   "id": "6cd277ad",
   "metadata": {
    "papermill": {
     "duration": null,
     "end_time": null,
     "exception": null,
     "start_time": null,
     "status": "pending"
    },
    "tags": []
   },
   "source": [
    "### Gaussian Naive Bayes e Multi Layer Perceptron"
   ]
  },
  {
   "cell_type": "code",
   "execution_count": null,
   "id": "51acac36",
   "metadata": {
    "execution": {
     "iopub.status.busy": "2023-11-04T18:02:19.110084Z",
     "iopub.status.idle": "2023-11-04T18:02:19.110888Z",
     "shell.execute_reply": "2023-11-04T18:02:19.110676Z",
     "shell.execute_reply.started": "2023-11-04T18:02:19.110648Z"
    },
    "papermill": {
     "duration": null,
     "end_time": null,
     "exception": null,
     "start_time": null,
     "status": "pending"
    },
    "tags": []
   },
   "outputs": [],
   "source": [
    "fig, ax = plt.subplots(nrows=1, ncols=2, figsize=(10, 6), sharey=True)\n",
    "\n",
    "common_params = {\n",
    "    \"X\": x_train_std,\n",
    "    \"y\": y_train,\n",
    "    \"train_sizes\": np.linspace(0.1, 1.0, 5),\n",
    "    \"cv\": ShuffleSplit(n_splits=50, test_size=0.2, random_state=0),\n",
    "    \"score_type\": \"both\",\n",
    "    \"n_jobs\": 4,\n",
    "    \"line_kw\": {\"marker\": \"o\"},\n",
    "    \"std_display_style\": \"fill_between\",\n",
    "    \"score_name\": \"Accuracy\",\n",
    "}\n",
    "\n",
    "for ax_idx, estimator in enumerate([gaussian_titanic, MLPC_titanic]):\n",
    "    LearningCurveDisplay.from_estimator(estimator, **common_params, ax=ax[ax_idx])\n",
    "    handles, label = ax[ax_idx].get_legend_handles_labels()\n",
    "    ax[ax_idx].legend(handles[:2], [\"Training Score\", \"Test Score\"])\n",
    "    ax[ax_idx].set_title(f\"Learning Curve for {estimator.__class__.__name__}\")"
   ]
  },
  {
   "cell_type": "markdown",
   "id": "611e1ca0",
   "metadata": {
    "papermill": {
     "duration": null,
     "end_time": null,
     "exception": null,
     "start_time": null,
     "status": "pending"
    },
    "tags": []
   },
   "source": [
    "# Resultado dos modelos\n",
    "\n",
    "**Gaussian Naive Bayes:** Accuracy 77.33\n",
    "\n",
    "**Decision Tree:** Accuracy 98.43\n",
    "\n",
    "**Random Forest Classifier:** Accuracy 98.43\n",
    "\n",
    "**k-Nearest Neighbors Classifier:** Accuracy 97.87\n",
    "\n",
    "**Logistic Regression:** Accuracy 81.82\n",
    "\n",
    "**Support Vector Classification:** Accuracy 81.59\n",
    "\n",
    "**Multi Layer Perceptron Classifier:** Accuracy 79.12\n",
    "\n",
    "\n",
    "# Conclusão:\n",
    "\n",
    "Com base nos resultados apresentados, podemos tirar as seguintes conclusões:\n",
    "\n",
    "Os modelos \"Decision Tree\" e \"Random Forest Classifier\" demonstraram um desempenho excepcional, alcançando as maiores acurácias. Isso sugere que esses modelos são altamente eficazes na tarefa de classificação e podem ser opções viáveis para prever os sobreviventes.\n",
    "\n",
    "O modelo \"k-Nearest Neighbors Classifier\" também obteve uma acurácia bastante alta, indicando sua capacidade de classificação precisa.\n",
    "\n",
    "Embora o \"Gaussian Naive Bayes\" e o \"Multi Layer Perceptron Classifier\" tenham acurácias um pouco mais baixas, eles ainda mostram um desempenho aceitável e podem ser considerados como opções alternativas.\n",
    "\n",
    "Os modelos \"Logistic Regression\" e \"Support Vector Classification\" apresentaram as acurácias mais baixas entre os modelos testados. Isso pode sugerir que esses modelos não se ajustaram tão bem aos dados ou que a escolha das características pode precisar ser revisitada."
   ]
  }
 ],
 "metadata": {
  "kernelspec": {
   "display_name": "Python 3",
   "language": "python",
   "name": "python3"
  },
  "language_info": {
   "codemirror_mode": {
    "name": "ipython",
    "version": 3
   },
   "file_extension": ".py",
   "mimetype": "text/x-python",
   "name": "python",
   "nbconvert_exporter": "python",
   "pygments_lexer": "ipython3",
   "version": "3.10.12"
  },
  "papermill": {
   "default_parameters": {},
   "duration": 14.913954,
   "end_time": "2023-11-04T18:20:49.371786",
   "environment_variables": {},
   "exception": true,
   "input_path": "__notebook__.ipynb",
   "output_path": "__notebook__.ipynb",
   "parameters": {},
   "start_time": "2023-11-04T18:20:34.457832",
   "version": "2.4.0"
  }
 },
 "nbformat": 4,
 "nbformat_minor": 5
}
